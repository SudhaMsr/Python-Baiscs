{
 "cells": [
  {
   "cell_type": "markdown",
   "metadata": {},
   "source": [
    "###\n"
   ]
  },
  {
   "cell_type": "markdown",
   "metadata": {},
   "source": [
    "\n",
    "Here’s a neat version you can use:\n",
    "\n",
    "---\n",
    "\n",
    "# **Comparison of List, Tuple, Set, and Dictionary in Python**\n",
    "\n",
    "| Feature                   | **List**                              | **Tuple**                         | **Set**                                        | **Dictionary**                                          |\n",
    "| ------------------------- | ------------------------------------- | --------------------------------- | ---------------------------------------------- | ------------------------------------------------------- |\n",
    "| **Syntax**                | `[ ]`                                 | `( )`                             | `{ }` or `set()`                               | `{key: value}`                                          |\n",
    "| **Ordered**               | ✅ Yes (maintains insertion order)     | ✅ Yes (maintains insertion order) | ❌ No (unordered collection)                    | ✅ Yes (in Python 3.7+, insertion order preserved)       |\n",
    "| **Mutable**               | ✅ Yes                                 | ❌ No (immutable)                  | ✅ Yes                                          | ✅ Yes                                                   |\n",
    "| **Duplicates Allowed**    | ✅ Yes                                 | ✅ Yes                             | ❌ No (unique items only)                       | ❌ Keys must be unique (values can repeat)               |\n",
    "| **Indexing / Slicing**    | ✅ Yes                                 | ✅ Yes                             | ❌ Not supported                                | ❌ Keys used instead of indexes                          |\n",
    "| **Data Type of Elements** | Any                                   | Any                               | Any (must be hashable/immutable)               | Keys → Immutable, Values → Any                          |\n",
    "| **Best Use Case**         | Dynamic collections, frequent updates | Fixed collections, read-only data | Mathematical set operations, uniqueness checks | Key-value mappings (e.g., JSON, configs, lookup tables) |\n"
   ]
  },
  {
   "cell_type": "markdown",
   "metadata": {},
   "source": [
    "\n",
    "### 🔹 1. **Real-Life Examples**\n",
    "\n",
    "Show how each data type is commonly used:\n",
    "\n",
    "* **List** → storing student names\n",
    "* **Tuple** → storing GPS coordinates (fixed values)\n",
    "* **Set** → finding unique email addresses\n",
    "* **Dictionary** → mapping usernames to passwords\n",
    "\n",
    "This helps beginners connect concepts with real-world use.\n",
    "\n",
    "---\n",
    "\n",
    "### 🔹 2. **Performance Aspect**\n",
    "\n",
    "Mention that:\n",
    "\n",
    "* Lists are slower for lookups (O(n)) but fast for iteration.\n",
    "* Dictionaries and Sets have **average O(1) lookup** because of hashing.\n",
    "* Tuples are faster than lists for read-only data because they are immutable.\n",
    "\n",
    "This gives a practical edge.\n",
    "\n",
    "---\n",
    "\n",
    "### 🔹 3. **When to Use What** (Best Practices)\n",
    "\n",
    "A short **decision guide**:\n",
    "\n",
    "* Use **List** if order matters and data changes often.\n",
    "* Use **Tuple** for fixed, read-only collections.\n",
    "* Use **Set** when uniqueness or mathematical operations are needed.\n",
    "* Use **Dictionary** when you need a mapping between keys and values.\n",
    "\n",
    "---"
   ]
  },
  {
   "cell_type": "markdown",
   "metadata": {},
   "source": [
    "######"
   ]
  },
  {
   "cell_type": "markdown",
   "metadata": {},
   "source": [
    "---\n",
    "\n",
    "## ✅ **Quick Takeaways**\n",
    "\n",
    "* **Lists** → Ordered, mutable, allow duplicates → great for dynamic data.\n",
    "* **Tuples** → Ordered, immutable, allow duplicates → good for fixed data.\n",
    "* **Sets** → Unordered, mutable, no duplicates → great for uniqueness & set operations.\n",
    "* **Dictionaries** → Ordered (3.7+), mutable, unique keys → perfect for key-value data.\n",
    "\n",
    "---"
   ]
  },
  {
   "cell_type": "markdown",
   "metadata": {},
   "source": [
    "####"
   ]
  }
 ],
 "metadata": {
  "kernelspec": {
   "display_name": "Python 3 (ipykernel)",
   "language": "python",
   "name": "python3"
  },
  "language_info": {
   "codemirror_mode": {
    "name": "ipython",
    "version": 3
   },
   "file_extension": ".py",
   "mimetype": "text/x-python",
   "name": "python",
   "nbconvert_exporter": "python",
   "pygments_lexer": "ipython3",
   "version": "3.12.7"
  }
 },
 "nbformat": 4,
 "nbformat_minor": 4
}
