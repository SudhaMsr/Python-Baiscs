{
 "cells": [
  {
   "cell_type": "markdown",
   "id": "b56f41da",
   "metadata": {},
   "source": [
    "\n",
    "\n",
    "# **Lists in Python**\n",
    "\n",
    "A **List** in Python is an **ordered, mutable collection** used to store multiple items in a single variable.\n",
    "\n",
    "* Defined using **square brackets `[ ]`**.\n",
    "* Items can be of **different data types** (int, float, string, even other lists).\n",
    "* Lists allow **duplicate values**.\n",
    "\n",
    "---\n",
    "\n",
    "## ✅ **Characteristics of Lists**\n",
    "\n",
    "* **Ordered**: Items have an index (starting from `0`).\n",
    "* **Mutable**: You can change, add, or remove elements.\n",
    "* **Heterogeneous**: Can contain different data types.\n",
    "* **Nested**: Lists can hold other lists.\n"
   ]
  },
  {
   "cell_type": "markdown",
   "id": "ab553eb7",
   "metadata": {},
   "source": [
    "### Creating list "
   ]
  },
  {
   "cell_type": "code",
   "execution_count": 1,
   "id": "fbdde064",
   "metadata": {},
   "outputs": [
    {
     "name": "stdout",
     "output_type": "stream",
     "text": [
      "['apple', 'banana', 7, 3.2]\n"
     ]
    }
   ],
   "source": [
    "list1=[\"apple\",\"banana\",7,3.2]\n",
    "print(list1)"
   ]
  },
  {
   "cell_type": "markdown",
   "id": "925c7592",
   "metadata": {},
   "source": [
    "### Indexing list"
   ]
  },
  {
   "cell_type": "code",
   "execution_count": 2,
   "id": "888e6869",
   "metadata": {},
   "outputs": [
    {
     "data": {
      "text/plain": [
       "'apple'"
      ]
     },
     "execution_count": 2,
     "metadata": {},
     "output_type": "execute_result"
    }
   ],
   "source": [
    "list1[0]  "
   ]
  },
  {
   "cell_type": "markdown",
   "id": "ca420451",
   "metadata": {},
   "source": [
    "### Accessing List Elements"
   ]
  },
  {
   "cell_type": "code",
   "execution_count": 3,
   "id": "a0aac72e",
   "metadata": {},
   "outputs": [
    {
     "name": "stdout",
     "output_type": "stream",
     "text": [
      "apple\n",
      "mango\n",
      "['banana', 'cherry']\n"
     ]
    }
   ],
   "source": [
    "fruits = [\"apple\", \"banana\", \"cherry\", \"mango\"]\n",
    "\n",
    "print(fruits[0])   # apple\n",
    "print(fruits[-1])  # mango\n",
    "print(fruits[1:3]) # ['banana', 'cherry']\n"
   ]
  },
  {
   "cell_type": "markdown",
   "id": "bc17158a",
   "metadata": {},
   "source": [
    "### Range of indexing "
   ]
  },
  {
   "cell_type": "code",
   "execution_count": 4,
   "id": "cbd55fd0",
   "metadata": {},
   "outputs": [
    {
     "data": {
      "text/plain": [
       "['banana', 7]"
      ]
     },
     "execution_count": 4,
     "metadata": {},
     "output_type": "execute_result"
    }
   ],
   "source": [
    "list1[1:3]"
   ]
  },
  {
   "cell_type": "code",
   "execution_count": 5,
   "id": "1057bc66",
   "metadata": {},
   "outputs": [
    {
     "data": {
      "text/plain": [
       "['apple', 'banana']"
      ]
     },
     "execution_count": 5,
     "metadata": {},
     "output_type": "execute_result"
    }
   ],
   "source": [
    "list1[-4:-2]"
   ]
  },
  {
   "cell_type": "markdown",
   "id": "58276bc9",
   "metadata": {},
   "source": [
    "### Type of data types "
   ]
  },
  {
   "cell_type": "code",
   "execution_count": 6,
   "id": "e3491b63",
   "metadata": {},
   "outputs": [
    {
     "name": "stdout",
     "output_type": "stream",
     "text": [
      "<class 'list'>\n"
     ]
    }
   ],
   "source": [
    "print(type(list1))"
   ]
  },
  {
   "cell_type": "markdown",
   "id": "db8c3671-c5e5-4541-81eb-e5818d0c9d18",
   "metadata": {},
   "source": [
    "### Common List Operations"
   ]
  },
  {
   "cell_type": "code",
   "execution_count": 4,
   "id": "3d66a7b6-bb21-4082-b520-8cb981119b7e",
   "metadata": {},
   "outputs": [
    {
     "name": "stdout",
     "output_type": "stream",
     "text": [
      "5\n",
      "[10, 20, 30, 40, 50, 60]\n",
      "[10, 20, 30, 40, 50, 10, 20, 30, 40, 50]\n",
      "True\n"
     ]
    }
   ],
   "source": [
    "numbers = [10, 20, 30, 40, 50]\n",
    "\n",
    "print(len(numbers))     # Length → 5\n",
    "print(numbers + [60])   # Concatenation\n",
    "print(numbers * 2)      # Repetition\n",
    "print(30 in numbers)    # Membership → True"
   ]
  },
  {
   "cell_type": "markdown",
   "id": "423e184f",
   "metadata": {},
   "source": [
    "### Mutable "
   ]
  },
  {
   "cell_type": "code",
   "execution_count": 7,
   "id": "4a33b04b",
   "metadata": {},
   "outputs": [
    {
     "name": "stdout",
     "output_type": "stream",
     "text": [
      "['apple', 'banana', 'cherry', 3.2]\n"
     ]
    }
   ],
   "source": [
    "list1[2]=\"cherry\"\n",
    "print(list1)"
   ]
  },
  {
   "cell_type": "markdown",
   "id": "2c61d53e-59da-4815-8945-3ea3c15eb51c",
   "metadata": {},
   "source": [
    "\n",
    "## ✅ **Useful List Methods**\n",
    "\n",
    "### 🔹 Adding Items"
   ]
  },
  {
   "cell_type": "code",
   "execution_count": 5,
   "id": "2ca23cc2",
   "metadata": {},
   "outputs": [
    {
     "name": "stdout",
     "output_type": "stream",
     "text": [
      "['apple', 'mango', 'banana', 'cherry', 'grape', 'kiwi']\n"
     ]
    }
   ],
   "source": [
    "fruits = [\"apple\", \"banana\"]\n",
    "fruits.append(\"cherry\")      # Add at end\n",
    "fruits.insert(1, \"mango\")    # Insert at index\n",
    "fruits.extend([\"grape\", \"kiwi\"])  # Add multiple\n",
    "print(fruits)"
   ]
  },
  {
   "cell_type": "markdown",
   "id": "c319d1c6",
   "metadata": {},
   "source": [
    "### 🔹 Removing Items"
   ]
  },
  {
   "cell_type": "code",
   "execution_count": 6,
   "id": "4eedcbc5",
   "metadata": {},
   "outputs": [
    {
     "name": "stdout",
     "output_type": "stream",
     "text": [
      "[]\n"
     ]
    }
   ],
   "source": [
    "fruits = [\"apple\", \"banana\", \"cherry\", \"mango\"]\n",
    "\n",
    "fruits.remove(\"banana\")  # Remove by value\n",
    "fruits.pop(2)            # Remove by index\n",
    "fruits.pop()             # Remove last element\n",
    "del fruits[0]            # Delete by index\n",
    "fruits.clear()           # Empty the list\n",
    "print(fruits)"
   ]
  },
  {
   "cell_type": "markdown",
   "id": "cfa425ff",
   "metadata": {},
   "source": [
    "### Len()- To get the length of elements"
   ]
  },
  {
   "cell_type": "code",
   "execution_count": 7,
   "id": "eb946f6c",
   "metadata": {},
   "outputs": [
    {
     "data": {
      "text/plain": [
       "0"
      ]
     },
     "execution_count": 7,
     "metadata": {},
     "output_type": "execute_result"
    }
   ],
   "source": [
    "\n",
    "len(fruits)"
   ]
  },
  {
   "cell_type": "markdown",
   "id": "4bc938f2",
   "metadata": {},
   "source": [
    "\n",
    "### 🔹 Sorting & Reversing\n"
   ]
  },
  {
   "cell_type": "code",
   "execution_count": 12,
   "id": "b9eca519",
   "metadata": {},
   "outputs": [
    {
     "name": "stdout",
     "output_type": "stream",
     "text": [
      "[1, 2, 3, 4, 5]\n",
      "[5, 4, 3, 2, 1]\n",
      "[1, 2, 3, 4, 5]\n"
     ]
    }
   ],
   "source": [
    "nums = [3, 1, 4, 2, 5]\n",
    "\n",
    "nums.sort()        # Ascending\n",
    "print(nums)\n",
    "\n",
    "nums.sort(reverse=True)  # Descending\n",
    "print(nums)\n",
    "\n",
    "nums.reverse()     # Reverse order\n",
    "print(nums)"
   ]
  },
  {
   "cell_type": "markdown",
   "id": "c2a48255",
   "metadata": {},
   "source": [
    "### Inserting- To add an element at specific index "
   ]
  },
  {
   "cell_type": "code",
   "execution_count": 14,
   "id": "94ef7335",
   "metadata": {},
   "outputs": [
    {
     "name": "stdout",
     "output_type": "stream",
     "text": [
      "[1, 9, 2, 3, 4, 5, 9]\n"
     ]
    }
   ],
   "source": [
    "nums.insert(1,9)\n",
    "print(nums)"
   ]
  },
  {
   "cell_type": "markdown",
   "id": "02cc4705",
   "metadata": {},
   "source": [
    "\n",
    "### 🔹 Other Useful Methods"
   ]
  },
  {
   "cell_type": "code",
   "execution_count": 16,
   "id": "b0de44fb",
   "metadata": {},
   "outputs": [
    {
     "name": "stdout",
     "output_type": "stream",
     "text": [
      "1\n",
      "2\n",
      "[10, 20, 30, 20, 40]\n"
     ]
    }
   ],
   "source": [
    "data = [10, 20, 30, 20, 40]\n",
    "\n",
    "print(data.index(20))   # 1 (first occurrence)\n",
    "print(data.count(20))   # 2\n",
    "copy_data = data.copy() # Shallow copy\n",
    "print(copy_data)"
   ]
  },
  {
   "cell_type": "markdown",
   "id": "1ffde513",
   "metadata": {},
   "source": [
    "## ✅ **List Comprehensions**\n",
    "\n",
    "A **short way** to create lists."
   ]
  },
  {
   "cell_type": "code",
   "execution_count": 15,
   "id": "a34fef00",
   "metadata": {},
   "outputs": [
    {
     "name": "stdout",
     "output_type": "stream",
     "text": [
      "[0, 1, 4, 9, 16]\n",
      "[0, 2, 4, 6, 8]\n"
     ]
    }
   ],
   "source": [
    "squares = [x**2 for x in range(5)]\n",
    "print(squares)   # [0, 1, 4, 9, 16]\n",
    "\n",
    "even_nums = [x for x in range(10) if x % 2 == 0]\n",
    "print(even_nums) # [0, 2, 4, 6, 8]"
   ]
  },
  {
   "cell_type": "markdown",
   "id": "1974a568",
   "metadata": {},
   "source": [
    "### Delete- It will delet the entire list and you will  get error "
   ]
  },
  {
   "cell_type": "code",
   "execution_count": 17,
   "id": "afcfb1cb",
   "metadata": {},
   "outputs": [],
   "source": [
    "l3=[\"pineapple\",\"grapes\",\"honey\"] \n",
    "del l3"
   ]
  },
  {
   "cell_type": "markdown",
   "id": "c6b9647a",
   "metadata": {},
   "source": [
    "# Looping through list:"
   ]
  },
  {
   "cell_type": "code",
   "execution_count": 20,
   "id": "6fc1ae71",
   "metadata": {},
   "outputs": [
    {
     "name": "stdout",
     "output_type": "stream",
     "text": [
      "pineapple\n",
      "grapes\n",
      "honey\n"
     ]
    }
   ],
   "source": [
    "l3=[\"pineapple\",\"grapes\",\"honey\"] \n",
    "for x in l3:\n",
    "    print(x)"
   ]
  },
  {
   "cell_type": "markdown",
   "id": "5bd7f2f1",
   "metadata": {},
   "source": [
    "## Joining lists "
   ]
  },
  {
   "cell_type": "code",
   "execution_count": 21,
   "id": "2b000e2e",
   "metadata": {},
   "outputs": [
    {
     "name": "stdout",
     "output_type": "stream",
     "text": [
      "['pineapple', 'grapes', 'honey', 'banana', 'cherry']\n"
     ]
    }
   ],
   "source": [
    " l3=[\"pineapple\",\"grapes\",\"honey\"]\n",
    " l4=[\"banana\",\"cherry\"]\n",
    " l5=l3+l4\n",
    " print(l5)"
   ]
  },
  {
   "cell_type": "markdown",
   "id": "9ebe7714-68da-4ead-8872-7c86d12aa092",
   "metadata": {},
   "source": [
    "## 📌 **Quick Recap**\n",
    "\n",
    "* Lists are **ordered, mutable, and versatile**.\n",
    "* Provide many methods for adding, removing, sorting, and searching.\n",
    "* **List comprehensions** offer concise ways to generate lists.\n",
    "\n",
    "---"
   ]
  },
  {
   "cell_type": "markdown",
   "id": "14a28c33-864d-4bf8-bb6b-a6d664ae81e8",
   "metadata": {},
   "source": [
    "##"
   ]
  }
 ],
 "metadata": {
  "kernelspec": {
   "display_name": "Python 3 (ipykernel)",
   "language": "python",
   "name": "python3"
  },
  "language_info": {
   "codemirror_mode": {
    "name": "ipython",
    "version": 3
   },
   "file_extension": ".py",
   "mimetype": "text/x-python",
   "name": "python",
   "nbconvert_exporter": "python",
   "pygments_lexer": "ipython3",
   "version": "3.12.7"
  }
 },
 "nbformat": 4,
 "nbformat_minor": 5
}
