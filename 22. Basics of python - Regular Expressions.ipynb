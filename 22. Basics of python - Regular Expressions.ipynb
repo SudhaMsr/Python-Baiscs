{
 "cells": [
  {
   "cell_type": "markdown",
   "id": "7078f3ef-42ce-4ec7-9331-4cad3420c805",
   "metadata": {},
   "source": [
    "####"
   ]
  },
  {
   "cell_type": "markdown",
   "id": "e1c4368c-de7d-4026-bf6b-1d2814a3a6a8",
   "metadata": {},
   "source": [
    "\n",
    "# 🌟 Beginner’s Guide to Regular Expressions in Python\n",
    "\n",
    "When you start learning Python, you’ll often come across two things that may look a little scary at first:\n",
    "\n",
    "1. **Regular Expressions (Regex)** – a way to find patterns in text.\n",
    "2. **The Math Module** – a collection of math functions that make calculations easier.\n",
    "\n",
    "Don’t worry — in this blog, we’ll explain **Regular Expresions** step by step, with simple examples you can try yourself.\n",
    "\n",
    "---\n",
    "\n",
    "## 🔎 Regular Expressions (Regex)\n",
    "\n",
    "### What is Regex?\n",
    "\n",
    "Regular Expressions (often shortened to **regex**) are like a **search language**.\n",
    "\n",
    "👉 Imagine you want to check if a phone number is written correctly, or find all the words in a sentence that start with a capital letter. Regex lets you do that in a few lines of code.\n",
    "\n",
    "In Python, we use the **`re` module** for regex:"
   ]
  },
  {
   "cell_type": "code",
   "execution_count": 1,
   "id": "b23ca9cb-f2ac-42cc-8c55-fe17734e2410",
   "metadata": {},
   "outputs": [],
   "source": [
    "import re"
   ]
  },
  {
   "cell_type": "markdown",
   "id": "8b969ce4-2f8f-4913-8a5a-aaf331d2fef3",
   "metadata": {},
   "source": [
    "### Common Regex Functions\n",
    "\n",
    "1. **`re.match()`** – Checks only at the start of a string.\n",
    "2. **`re.search()`** – Finds the first occurrence anywhere in the string.\n",
    "3. **`re.findall()`** – Returns all matches as a list.\n",
    "4. **`re.sub()`** – Replaces text with something else."
   ]
  },
  {
   "cell_type": "markdown",
   "id": "abd4a9ad-6729-4bfa-8660-afb25359058c",
   "metadata": {},
   "source": [
    "### ✨ Regex Functions (with explanations)\n",
    "\n",
    "1. **`re.match()` – Check at the start**\n",
    "This function looks at the **beginning** of a string only."
   ]
  },
  {
   "cell_type": "code",
   "execution_count": 2,
   "id": "47e7cf8b-2541-45a2-878c-c1f821e0abe6",
   "metadata": {},
   "outputs": [
    {
     "name": "stdout",
     "output_type": "stream",
     "text": [
      "<re.Match object; span=(0, 5), match='hello'>\n"
     ]
    }
   ],
   "source": [
    "text = \"hello world\"\n",
    "result = re.match(\"hello\", text)  # checks if \"hello\" is at the start\n",
    "print(result)  # Found a match"
   ]
  },
  {
   "cell_type": "markdown",
   "id": "0bdad9df-0f6e-4d75-b5d3-de6f7b8b5e57",
   "metadata": {},
   "source": [
    "2. **`re.search()` – Search anywhere**\n",
    "Looks for the pattern **anywhere in the string**."
   ]
  },
  {
   "cell_type": "code",
   "execution_count": 3,
   "id": "51e51437-cc03-4f49-83a5-72b63889f4f7",
   "metadata": {},
   "outputs": [
    {
     "name": "stdout",
     "output_type": "stream",
     "text": [
      "<re.Match object; span=(7, 13), match='python'>\n"
     ]
    }
   ],
   "source": [
    "text = \"I love python\"\n",
    "result = re.search(\"python\", text)\n",
    "print(result)  # Found \"python\""
   ]
  },
  {
   "cell_type": "markdown",
   "id": "58a84c33-1297-42b6-931e-d57e03247f20",
   "metadata": {},
   "source": [
    "3. **`re.findall()` – Find all matches**\n",
    "Returns a **list** of all places where the pattern appears.\n"
   ]
  },
  {
   "cell_type": "code",
   "execution_count": 4,
   "id": "1d70e78d-ab70-4cf1-aae7-5e277a58b8a8",
   "metadata": {},
   "outputs": [
    {
     "name": "stdout",
     "output_type": "stream",
     "text": [
      "['at', 'at', 'at', 'at']\n"
     ]
    }
   ],
   "source": [
    "text = \"cat bat rat mat\"\n",
    "result = re.findall(\"at\", text)\n",
    "print(result)"
   ]
  },
  {
   "cell_type": "markdown",
   "id": "d51e9a04-4b77-49f3-af8a-59d1eea62907",
   "metadata": {},
   "source": [
    "4. **`re.sub()` – Replace text**\n",
    "   Replaces parts of the string with something else.\n"
   ]
  },
  {
   "cell_type": "code",
   "execution_count": 5,
   "id": "76848c62-eadd-422b-9670-50c654d505c4",
   "metadata": {},
   "outputs": [
    {
     "name": "stdout",
     "output_type": "stream",
     "text": [
      "I like dogs\n"
     ]
    }
   ],
   "source": [
    "text = \"I like cats\"\n",
    "result = re.sub(\"cats\", \"dogs\", text)\n",
    "print(result)"
   ]
  },
  {
   "cell_type": "markdown",
   "id": "38708ec4-3604-49ef-bd70-ef4d5035cb67",
   "metadata": {},
   "source": [
    "\n",
    "### 🧩 Common Regex Patterns\n",
    "\n",
    "These are like **special symbols** with meaning:\n",
    "\n",
    "* `\\d` → Any number (0–9)\n",
    "* `\\w` → Any letter, digit, or underscore\n",
    "* `\\s` → Space or tab\n",
    "* `.` → Any character except newline\n",
    "* `^` → Start of string\n",
    "* `$` → End of string\n",
    "* `+` → One or more times\n",
    "* `*` → Zero or more times"
   ]
  },
  {
   "cell_type": "markdown",
   "id": "637afd41-8407-4a8a-862b-8bcf5bef4a43",
   "metadata": {},
   "source": [
    "### 📧 Example: Email Validation"
   ]
  },
  {
   "cell_type": "code",
   "execution_count": 6,
   "id": "6401b5c3-33f4-4d79-ae73-933e5004c062",
   "metadata": {},
   "outputs": [
    {
     "name": "stdout",
     "output_type": "stream",
     "text": [
      "Valid email ✅\n"
     ]
    }
   ],
   "source": [
    "email = \"test123@gmail.com\"\n",
    "pattern = r\"^[\\w\\.-]+@[\\w\\.-]+\\.\\w+$\"\n",
    "\n",
    "if re.match(pattern, email):\n",
    "    print(\"Valid email ✅\")\n",
    "else:\n",
    "    print(\"Invalid email ❌\")"
   ]
  },
  {
   "cell_type": "markdown",
   "id": "6e6a8d83-bead-4d1f-8c20-b078890163a1",
   "metadata": {},
   "source": [
    "Here’s what’s happening:\n",
    "\n",
    "* `^` → Start of string\n",
    "* `[\\w\\.-]+` → One or more letters, digits, dots, or hyphens\n",
    "* `@` → The @ symbol\n",
    "* `[\\w\\.-]+` → Domain name (like gmail)\n",
    "* `\\.\\w+` → Dot followed by letters (like .com)\n",
    "* `$` → End of string\n",
    "\n",
    "---"
   ]
  },
  {
   "cell_type": "markdown",
   "id": "f2975bb8-299a-43b1-b888-0323a954ae4f",
   "metadata": {},
   "source": [
    "---\n",
    "\n",
    "## 🎯 Final Thoughts\n",
    "\n",
    "* **Regex** helps you work with text and patterns (emails, phone numbers, cleaning messy data).\n",
    "\n"
   ]
  },
  {
   "cell_type": "markdown",
   "id": "aae250e2-5769-425d-8b62-6300ed6b74a7",
   "metadata": {},
   "source": [
    "###"
   ]
  }
 ],
 "metadata": {
  "kernelspec": {
   "display_name": "Python 3 (ipykernel)",
   "language": "python",
   "name": "python3"
  },
  "language_info": {
   "codemirror_mode": {
    "name": "ipython",
    "version": 3
   },
   "file_extension": ".py",
   "mimetype": "text/x-python",
   "name": "python",
   "nbconvert_exporter": "python",
   "pygments_lexer": "ipython3",
   "version": "3.12.7"
  }
 },
 "nbformat": 4,
 "nbformat_minor": 5
}
