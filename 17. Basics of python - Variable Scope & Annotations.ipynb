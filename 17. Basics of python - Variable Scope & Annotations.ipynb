{
 "cells": [
  {
   "cell_type": "markdown",
   "id": "9a94fdb8-1ad5-41b7-923e-5dfe08341204",
   "metadata": {},
   "source": [
    "####"
   ]
  },
  {
   "cell_type": "markdown",
   "id": "f14429cc-b62e-4b58-baae-cc5473e5fafd",
   "metadata": {},
   "source": [
    "\n",
    "\n",
    "# **Variable Scope in Python**\n",
    "\n",
    "A **variable’s scope** determines **where it can be accessed** in your program. Python has three main types of variable scopes:\n",
    "\n",
    "1. **Local Scope**\n",
    "2. **Global Scope**\n",
    "3. **Nonlocal Scope**\n",
    "\n",
    "---\n",
    "\n",
    "## **1️⃣ Local Variables**\n",
    "\n",
    "* **Defined inside a function**\n",
    "* Accessible **only within that function**\n",
    "* Disappear when the function ends\n"
   ]
  },
  {
   "cell_type": "code",
   "execution_count": 1,
   "id": "57de3512-686b-4575-9929-f518c25cd958",
   "metadata": {},
   "outputs": [
    {
     "name": "stdout",
     "output_type": "stream",
     "text": [
      "Inside function: 10\n"
     ]
    }
   ],
   "source": [
    "def my_function():\n",
    "    x = 10  # local variable\n",
    "    print(\"Inside function:\", x)\n",
    "\n",
    "my_function()\n",
    "# print(x)  # Error! x is local"
   ]
  },
  {
   "cell_type": "markdown",
   "id": "67e7803d-23fe-4765-9a2a-93138e161170",
   "metadata": {},
   "source": [
    "## **2️⃣ Global Variables**\n",
    "\n",
    "* **Defined outside any function**\n",
    "* Accessible **inside and outside functions**\n",
    "* Can be modified inside a function using the `global` keyword\n"
   ]
  },
  {
   "cell_type": "code",
   "execution_count": 2,
   "id": "7f3801ce-905c-4b13-a18f-107b515e4daf",
   "metadata": {},
   "outputs": [
    {
     "name": "stdout",
     "output_type": "stream",
     "text": [
      "Inside function: 100\n",
      "Outside function: 100\n"
     ]
    }
   ],
   "source": [
    "\n",
    "x = 100  # global variable\n",
    "\n",
    "def my_function():\n",
    "    print(\"Inside function:\", x)  # accessing global variable\n",
    "\n",
    "my_function()\n",
    "print(\"Outside function:\", x)"
   ]
  },
  {
   "cell_type": "markdown",
   "id": "5df41ede-94a3-4ee5-a38b-d4f378cf63c5",
   "metadata": {},
   "source": [
    "### **Modifying a Global Variable**\n"
   ]
  },
  {
   "cell_type": "code",
   "execution_count": 3,
   "id": "c2c9e99a-d644-4190-be7d-dd83e3211199",
   "metadata": {},
   "outputs": [
    {
     "name": "stdout",
     "output_type": "stream",
     "text": [
      "150\n"
     ]
    }
   ],
   "source": [
    "x = 100\n",
    "\n",
    "def modify_global():\n",
    "    global x\n",
    "    x += 50  # modifies the global variable\n",
    "\n",
    "modify_global()\n",
    "print(x)"
   ]
  },
  {
   "cell_type": "markdown",
   "id": "f620e2e8-55a6-4626-ad27-2f8bb575ef4d",
   "metadata": {},
   "source": [
    "## **3️⃣ Nonlocal Variables**\n",
    "\n",
    "* Used in **nested functions**\n",
    "* Refers to a variable **in the nearest enclosing scope** (not global)\n",
    "* Allows **inner function to modify outer function variables**"
   ]
  },
  {
   "cell_type": "code",
   "execution_count": 4,
   "id": "3c5cb977-7680-4f20-adbc-7b637e1e000c",
   "metadata": {},
   "outputs": [
    {
     "name": "stdout",
     "output_type": "stream",
     "text": [
      "Inside inner: 15\n",
      "Inside outer: 15\n"
     ]
    }
   ],
   "source": [
    "def outer():\n",
    "    x = 10  # outer variable\n",
    "    def inner():\n",
    "        nonlocal x\n",
    "        x += 5\n",
    "        print(\"Inside inner:\", x)\n",
    "    inner()\n",
    "    print(\"Inside outer:\", x)\n",
    "\n",
    "outer()"
   ]
  },
  {
   "cell_type": "markdown",
   "id": "a471a37a-fb95-46cc-8c9c-60e7290344e5",
   "metadata": {},
   "source": [
    "**Explanation:**\n",
    "\n",
    "* Without `nonlocal`, `x` inside `inner()` would be treated as a **new local variable**.\n",
    "* `nonlocal` allows the inner function to modify the **outer function variable**.\n",
    "\n",
    "---"
   ]
  },
  {
   "cell_type": "markdown",
   "id": "06893dc2-b5cf-4ce2-8dbd-312ef6ba84bd",
   "metadata": {},
   "source": [
    "## **📌 Scope Summary**\n",
    "\n",
    "| Scope    | Defined Where     | Accessible Where      | Modifiable                   |\n",
    "| -------- | ----------------- | --------------------- | ---------------------------- |\n",
    "| Local    | Inside function   | Inside that function  | No (unless using `nonlocal`) |\n",
    "| Global   | Outside functions | Anywhere              | Yes (with `global`)          |\n",
    "| Nonlocal | Outer function    | Inner nested function | Yes                          |\n",
    "\n",
    "---\n",
    "\n",
    "## **💡 Tips**\n",
    "\n",
    "* **Use local variables** to avoid accidental modification of global state.\n",
    "* **Use global variables** sparingly; they can make debugging harder.\n",
    "* **Use nonlocal** when working with nested functions and closures.\n",
    "\n"
   ]
  },
  {
   "cell_type": "markdown",
   "id": "40ecacf3-c44d-4d68-a8cb-03acb3a7c435",
   "metadata": {},
   "source": [
    "####"
   ]
  },
  {
   "cell_type": "code",
   "execution_count": null,
   "id": "5782164e-e774-4d6e-b5a0-a70ab85bc6d7",
   "metadata": {},
   "outputs": [],
   "source": []
  },
  {
   "cell_type": "markdown",
   "id": "952ba7c7-56b4-478a-921e-3397816889c7",
   "metadata": {},
   "source": [
    "\n",
    "# **Function Annotations in Python**\n",
    "Function annotations allow you to **add extra information about parameters and return values**. They are **optional** and **do not affect code execution**, but they help with **documentation and type hints**.\n",
    "\n",
    "* Documentation\n",
    "* Type hints\n",
    "* Static analysis tools (like mypy or PyCharm)\n",
    "\n",
    "---\n",
    "\n",
    "## **1️⃣ Syntax of Function Annotations**"
   ]
  },
  {
   "cell_type": "markdown",
   "id": "be30befb-6eeb-49a2-ba52-8119cbb60b51",
   "metadata": {},
   "source": [
    "```python\n",
    "def function_name(parameter: annotation) -> return_annotation:\n",
    "    pass\n",
    "```\n",
    "\n",
    "```python\n",
    "def function_name(parameter: type_or_description) -> return_type_or_description:\n",
    "    # function body\n",
    "    pass\n",
    "```\n",
    "\n",
    "**Important:**\n",
    "\n",
    "* Replace `type_or_description` with an **actual type** (`int`, `str`, `float`) **or a string** `\"description\"`.\n",
    "* Replace `return_type_or_description` with a **type** or **string**.\n",
    "\n",
    "> **Do not leave placeholders like `annotation` or `return_annotation` in runnable code**, because Python will throw a `NameError`.\n",
    "\n",
    "---\n",
    "\n"
   ]
  },
  {
   "cell_type": "markdown",
   "id": "4b936486-9644-468f-a97c-087349f24e0e",
   "metadata": {},
   "source": [
    "## **2️⃣ Example: Using Actual Types**"
   ]
  },
  {
   "cell_type": "code",
   "execution_count": 5,
   "id": "5e45ed58-5a05-4486-ad59-4cfa07dc63e2",
   "metadata": {},
   "outputs": [
    {
     "name": "stdout",
     "output_type": "stream",
     "text": [
      "8\n"
     ]
    }
   ],
   "source": [
    "def add(a: int, b: int) -> int:\n",
    "    return a + b\n",
    "\n",
    "print(add(5, 3))  ###  Here, `a` and `b` are integers, and the function returns an integer"
   ]
  },
  {
   "cell_type": "markdown",
   "id": "e032c5a5-29c3-4e08-b9a0-5b009257a8e5",
   "metadata": {},
   "source": [
    "## **3️⃣ Example: Using Strings as Descriptions**"
   ]
  },
  {
   "cell_type": "code",
   "execution_count": 6,
   "id": "6de0fb68-34d0-4aee-aa06-12b5e602f2f0",
   "metadata": {},
   "outputs": [
    {
     "name": "stdout",
     "output_type": "stream",
     "text": [
      "Hello Sudha\n"
     ]
    }
   ],
   "source": [
    "def greet(name: \"person's name\") -> \"greeting message\":\n",
    "    return f\"Hello {name}\"\n",
    "\n",
    "print(greet(\"Sudha\"))  ## Strings can be used to **describe the purpose** of parameters and return values."
   ]
  },
  {
   "cell_type": "markdown",
   "id": "8f0c4226-d45a-4e77-988d-82243d18e035",
   "metadata": {},
   "source": [
    "## **4️⃣ Multiple Parameters with Annotations**"
   ]
  },
  {
   "cell_type": "code",
   "execution_count": 7,
   "id": "4c11f973-9931-46f4-9e89-9859ee639134",
   "metadata": {},
   "outputs": [
    {
     "name": "stdout",
     "output_type": "stream",
     "text": [
      "17.6\n"
     ]
    }
   ],
   "source": [
    "def calculate_area(length: float, width: float) -> float:\n",
    "    return length * width\n",
    "\n",
    "print(calculate_area(5.5, 3.2))"
   ]
  },
  {
   "cell_type": "markdown",
   "id": "d60cf80d-a41c-4043-a19b-2fb2a9b302e1",
   "metadata": {},
   "source": [
    "## **5️⃣ Accessing Annotations**\n",
    "You can see annotations using the `__annotations__` attribute:"
   ]
  },
  {
   "cell_type": "code",
   "execution_count": 8,
   "id": "0a048516-e848-4e00-bec9-74dd41717aa0",
   "metadata": {},
   "outputs": [
    {
     "name": "stdout",
     "output_type": "stream",
     "text": [
      "{'a': <class 'int'>, 'b': <class 'int'>, 'return': <class 'int'>}\n"
     ]
    }
   ],
   "source": [
    "\n",
    "def add(a: int, b: int) -> int:\n",
    "    return a + b\n",
    "\n",
    "print(add.__annotations__)"
   ]
  },
  {
   "cell_type": "markdown",
   "id": "35b29a77-c41f-42ea-81bc-f488ed21ae67",
   "metadata": {},
   "source": [
    "## **6️⃣ Using Annotations with Any Type**\n",
    "\n",
    "You can annotate with any object, not just type hints:"
   ]
  },
  {
   "cell_type": "code",
   "execution_count": 9,
   "id": "63ece45d-19e9-46ed-9f8f-6cab7ef260bb",
   "metadata": {},
   "outputs": [
    {
     "name": "stdout",
     "output_type": "stream",
     "text": [
      "{'name': \"person's name\", 'age': \"person's age\", 'return': 'greeting message'}\n"
     ]
    }
   ],
   "source": [
    "def greet(name: \"person's name\", age: \"person's age\") -> \"greeting message\":\n",
    "    return f\"Hello {name}, you are {age} years old\"\n",
    "\n",
    "print(greet.__annotations__)"
   ]
  },
  {
   "cell_type": "markdown",
   "id": "eb06b172-6d89-4c1c-a29d-0a4c68304790",
   "metadata": {},
   "source": [
    "---\n",
    "\n",
    "## **📌 Key Points**\n",
    "\n",
    "* Function annotations are **optional**\n",
    "* They do **not enforce type checking**\n",
    "* Useful for **documentation and static type checking**\n",
    "* Accessible via the **`__annotations__` attribute**\n",
    "\n",
    "---"
   ]
  },
  {
   "cell_type": "markdown",
   "id": "adc40799-11ef-426d-8b06-da09123876dd",
   "metadata": {},
   "source": [
    "###"
   ]
  }
 ],
 "metadata": {
  "kernelspec": {
   "display_name": "Python 3 (ipykernel)",
   "language": "python",
   "name": "python3"
  },
  "language_info": {
   "codemirror_mode": {
    "name": "ipython",
    "version": 3
   },
   "file_extension": ".py",
   "mimetype": "text/x-python",
   "name": "python",
   "nbconvert_exporter": "python",
   "pygments_lexer": "ipython3",
   "version": "3.12.7"
  }
 },
 "nbformat": 4,
 "nbformat_minor": 5
}
