{
 "cells": [
  {
   "cell_type": "markdown",
   "id": "e83ef6a4",
   "metadata": {},
   "source": [
    "#####"
   ]
  },
  {
   "cell_type": "markdown",
   "id": "f037375d-ce4c-4bbc-92c6-de5c033d4912",
   "metadata": {},
   "source": [
    "\n",
    "# **Functions in Python: The Complete Guide**\n",
    "\n",
    "A **function** is a **block of reusable code** that performs a **specific task**. Functions make your code **modular, clean, and reusable**.\n",
    "\n",
    "---\n",
    "\n",
    "## **1️⃣ Creating Functions**\n",
    "\n",
    "### **Non-parameterized Function**"
   ]
  },
  {
   "cell_type": "code",
   "execution_count": 1,
   "id": "b8ee2068",
   "metadata": {},
   "outputs": [
    {
     "name": "stdout",
     "output_type": "stream",
     "text": [
      "Hello World\n"
     ]
    }
   ],
   "source": [
    "def my_function(): #non-parameterised function\n",
    "    print(\"Hello World\")\n",
    "my_function()"
   ]
  },
  {
   "cell_type": "markdown",
   "id": "56a34352-c3ce-4d72-a5a8-2133460cb0f8",
   "metadata": {},
   "source": [
    "### **Parameterized Function**"
   ]
  },
  {
   "cell_type": "code",
   "execution_count": 2,
   "id": "6295a1dc",
   "metadata": {},
   "outputs": [
    {
     "name": "stdout",
     "output_type": "stream",
     "text": [
      "Hello Alaric\n"
     ]
    }
   ],
   "source": [
    "def my_function1(name):\n",
    "    print(\"Hello\",name)\n",
    "my_function1(\"Alaric\")"
   ]
  },
  {
   "cell_type": "markdown",
   "id": "4705d9a6",
   "metadata": {},
   "source": [
    "## **2️⃣ Taking Input from Users**"
   ]
  },
  {
   "cell_type": "code",
   "execution_count": 3,
   "id": "40f6103d",
   "metadata": {},
   "outputs": [
    {
     "name": "stdin",
     "output_type": "stream",
     "text": [
      "enter the value of a: 1\n",
      "enter the value of b: 2\n",
      "enter the value of c: 3\n"
     ]
    },
    {
     "data": {
      "text/plain": [
       "str"
      ]
     },
     "execution_count": 3,
     "metadata": {},
     "output_type": "execute_result"
    }
   ],
   "source": [
    "a= (input(\"enter the value of a:\"))\n",
    "b= (input(\"enter the value of b:\"))\n",
    "c= (input(\"enter the value of c:\"))\n",
    "type(a)\n",
    "#cal(a,b,c)"
   ]
  },
  {
   "cell_type": "code",
   "execution_count": 4,
   "id": "1ed5ec8a-12f2-4cb0-a5b7-06c3a9c443f9",
   "metadata": {},
   "outputs": [
    {
     "name": "stdin",
     "output_type": "stream",
     "text": [
      "Enter the value of a:  1\n",
      "Enter the value of b:  2\n",
      "Enter the value of c:  3\n"
     ]
    },
    {
     "name": "stdout",
     "output_type": "stream",
     "text": [
      "Values entered: 1 2 3\n"
     ]
    },
    {
     "data": {
      "text/plain": [
       "int"
      ]
     },
     "execution_count": 4,
     "metadata": {},
     "output_type": "execute_result"
    }
   ],
   "source": [
    "a = int(input(\"Enter the value of a: \"))\n",
    "b = int(input(\"Enter the value of b: \"))\n",
    "c = int(input(\"Enter the value of c: \"))\n",
    "\n",
    "print(\"Values entered:\", a, b, c)\n",
    "type(a)"
   ]
  },
  {
   "cell_type": "markdown",
   "id": "da249c4a-5233-4be1-bab0-f9fdd008cf2d",
   "metadata": {},
   "source": [
    "## **3️⃣ Functions with Multiple Parameters**"
   ]
  },
  {
   "cell_type": "code",
   "execution_count": 5,
   "id": "e68b61d3",
   "metadata": {},
   "outputs": [
    {
     "name": "stdout",
     "output_type": "stream",
     "text": [
      "Addition of a, b, c is: 30\n"
     ]
    }
   ],
   "source": [
    "def add_numbers(a, b, c):\n",
    "    total = a + b + c\n",
    "    print(\"Addition of a, b, c is:\", total)\n",
    "\n",
    "add_numbers(10, 10, 10)"
   ]
  },
  {
   "cell_type": "markdown",
   "id": "083db49e-36d4-46bc-9659-1643ab030a54",
   "metadata": {},
   "source": [
    "## **4️⃣ Default Parameters**"
   ]
  },
  {
   "cell_type": "code",
   "execution_count": 6,
   "id": "741a2d6b-9681-41ab-a8b3-7616d46a8e80",
   "metadata": {},
   "outputs": [
    {
     "name": "stdout",
     "output_type": "stream",
     "text": [
      "Addition of a, b, c is: 40\n"
     ]
    }
   ],
   "source": [
    "def add_numbers(a, b, c=20):\n",
    "    total = a + b + c\n",
    "    print(\"Addition of a, b, c is:\", total)\n",
    "\n",
    "add_numbers(10, 10)  # c uses default value"
   ]
  },
  {
   "cell_type": "markdown",
   "id": "6d979b9d-7ea7-4e1d-a7e7-34b426f60b6b",
   "metadata": {},
   "source": [
    "## **5️⃣ Return Values**\n",
    "\n",
    "The `return` keyword allows a function to **send a value back**:"
   ]
  },
  {
   "cell_type": "code",
   "execution_count": 7,
   "id": "75b23f47-b006-4e0b-a1e3-c015dafb9c0a",
   "metadata": {},
   "outputs": [
    {
     "data": {
      "text/plain": [
       "36"
      ]
     },
     "execution_count": 7,
     "metadata": {},
     "output_type": "execute_result"
    }
   ],
   "source": [
    "def cal1(a,b):             ## return keyword\n",
    "    sum1=a+b\n",
    "    return sum1\n",
    "cal1(10,26)"
   ]
  },
  {
   "cell_type": "code",
   "execution_count": 8,
   "id": "8419f153-b335-4d3a-ae5a-1da7da6980ad",
   "metadata": {},
   "outputs": [
    {
     "name": "stdout",
     "output_type": "stream",
     "text": [
      "36\n"
     ]
    }
   ],
   "source": [
    "def add(a, b):\n",
    "    return a + b\n",
    "\n",
    "result = add(10, 26)\n",
    "print(result)"
   ]
  },
  {
   "cell_type": "markdown",
   "id": "3dc1f87b-7e46-4e23-b73d-f7179edf997a",
   "metadata": {},
   "source": [
    "## **6️⃣ Calling a Function Multiple Times**"
   ]
  },
  {
   "cell_type": "code",
   "execution_count": 9,
   "id": "33ce0e1f-d8df-431b-8e80-117bc83da226",
   "metadata": {},
   "outputs": [
    {
     "name": "stdout",
     "output_type": "stream",
     "text": [
      "Emil Refsnes\n",
      "Tobias Refsnes\n",
      "Linus Refsnes\n"
     ]
    }
   ],
   "source": [
    "def my_function(fname):\n",
    "    print(fname + \" Refsnes\")\n",
    "\n",
    "my_function(\"Emil\")\n",
    "my_function(\"Tobias\")\n",
    "my_function(\"Linus\")"
   ]
  },
  {
   "cell_type": "markdown",
   "id": "a5627f2a",
   "metadata": {},
   "source": [
    "## **7️⃣ Positional and Keyword Arguments**\n",
    "\n",
    "### **Positional Arguments**\n",
    "\n",
    "Passed in the **same order** as defined:"
   ]
  },
  {
   "cell_type": "code",
   "execution_count": 10,
   "id": "a9c907ed",
   "metadata": {},
   "outputs": [
    {
     "name": "stdout",
     "output_type": "stream",
     "text": [
      "My name is Sudha and I am 25 years old.\n"
     ]
    }
   ],
   "source": [
    "def introduce(name, age):\n",
    "    print(f\"My name is {name} and I am {age} years old.\")\n",
    "\n",
    "introduce(\"Sudha\", 25)"
   ]
  },
  {
   "cell_type": "markdown",
   "id": "bf160828-5250-4c8f-8097-511d9c61e45c",
   "metadata": {},
   "source": [
    "\n",
    "### **Keyword Arguments**\n",
    "\n",
    "Passed **by name**, order doesn’t matter:"
   ]
  },
  {
   "cell_type": "code",
   "execution_count": 11,
   "id": "3d4b0591-5146-4630-a988-b3212c46b192",
   "metadata": {},
   "outputs": [
    {
     "name": "stdout",
     "output_type": "stream",
     "text": [
      "My name is Sudha and I am 25 years old.\n"
     ]
    }
   ],
   "source": [
    "introduce(age=25, name=\"Sudha\")"
   ]
  },
  {
   "cell_type": "markdown",
   "id": "ee7a158d-81e5-4b10-897d-7ea0d5dc9466",
   "metadata": {},
   "source": [
    "\n",
    "## **8️⃣ Positional-Only and Keyword-Only Arguments (Python 3.8+)**\n",
    "\n",
    "* `a, b /` → Positional-only\n",
    "* `*` → All after must be keyword-only\n",
    "* `c, d` → Positional or keyword\n",
    "* `e, f` → Keyword-only\n",
    "\n",
    "---\n"
   ]
  },
  {
   "cell_type": "code",
   "execution_count": 12,
   "id": "9bdbdf3e-e5e4-46b4-a72b-dca00ea0fd41",
   "metadata": {},
   "outputs": [
    {
     "name": "stdout",
     "output_type": "stream",
     "text": [
      "1 2 3 4 5 6\n"
     ]
    }
   ],
   "source": [
    "def func(a, b, /, c, d, *, e, f):\n",
    "    print(a, b, c, d, e, f)\n",
    "\n",
    "func(1, 2, 3, 4, e=5, f=6)"
   ]
  },
  {
   "cell_type": "markdown",
   "id": "0f47f4d6-98ca-411b-88ff-d681e1b31288",
   "metadata": {},
   "source": [
    "## **9️⃣ Variable-Length Arguments**\n",
    "\n",
    "* `*args` → Multiple **positional arguments**\n",
    "* `**kwargs` → Multiple **keyword arguments**"
   ]
  },
  {
   "cell_type": "code",
   "execution_count": 13,
   "id": "73135f35-d3d9-4b94-8fee-d9c500190b81",
   "metadata": {},
   "outputs": [
    {
     "name": "stdout",
     "output_type": "stream",
     "text": [
      "10\n"
     ]
    }
   ],
   "source": [
    "def sum_numbers(*args):\n",
    "    return sum(args)\n",
    "\n",
    "print(sum_numbers(1, 2, 3, 4))  # 10"
   ]
  },
  {
   "cell_type": "code",
   "execution_count": 14,
   "id": "fb756f03-fd9a-463b-8fee-74871b2f4bdc",
   "metadata": {},
   "outputs": [
    {
     "name": "stdout",
     "output_type": "stream",
     "text": [
      "name: Sudha\n",
      "age: 25\n"
     ]
    }
   ],
   "source": [
    "def print_info(**kwargs):\n",
    "    for key, value in kwargs.items():\n",
    "        print(f\"{key}: {value}\")\n",
    "\n",
    "print_info(name=\"Sudha\", age=25)"
   ]
  },
  {
   "cell_type": "markdown",
   "id": "7752cf53-8a6a-4d74-8984-dd2dab9afce0",
   "metadata": {},
   "source": [
    "## **🔟 Lambda Functions (Anonymous Functions)**\n",
    "\n",
    "Short, single-line functions without a name:"
   ]
  },
  {
   "cell_type": "code",
   "execution_count": 15,
   "id": "b0e06199-cbb4-40d9-8206-9cdde7467c23",
   "metadata": {},
   "outputs": [
    {
     "name": "stdout",
     "output_type": "stream",
     "text": [
      "25\n"
     ]
    }
   ],
   "source": [
    "square = lambda x: x**2\n",
    "print(square(5))"
   ]
  },
  {
   "cell_type": "markdown",
   "id": "799b4d0f-d2c1-43ee-a620-736d571288d9",
   "metadata": {},
   "source": [
    "## **1️⃣1️⃣ `pass` Statement**\n",
    "\n",
    "`pass` is a **placeholder** when syntax requires a statement:"
   ]
  },
  {
   "cell_type": "code",
   "execution_count": 16,
   "id": "f4ad924c-6e02-4443-8346-ab9dd474536e",
   "metadata": {},
   "outputs": [],
   "source": [
    "def myfunction():\n",
    "    pass"
   ]
  },
  {
   "cell_type": "markdown",
   "id": "c4325359",
   "metadata": {},
   "source": [
    "## **1️⃣2️⃣ Recursion**\n",
    "\n",
    "Recursion is when a function **calls itself**, often used in math problems:"
   ]
  },
  {
   "cell_type": "code",
   "execution_count": 17,
   "id": "ae17c358",
   "metadata": {},
   "outputs": [
    {
     "name": "stdout",
     "output_type": "stream",
     "text": [
      "\n",
      "Recursion Example Results\n",
      "1\n",
      "3\n",
      "6\n",
      "10\n",
      "15\n",
      "21\n"
     ]
    },
    {
     "data": {
      "text/plain": [
       "21"
      ]
     },
     "execution_count": 17,
     "metadata": {},
     "output_type": "execute_result"
    }
   ],
   "source": [
    "def tri_recursion(k):\n",
    "    if k > 0:\n",
    "        result = k + tri_recursion(k - 1)\n",
    "        print(result)\n",
    "    else:\n",
    "        result = 0\n",
    "    return result\n",
    "\n",
    "print(\"\\nRecursion Example Results\")\n",
    "tri_recursion(6)"
   ]
  },
  {
   "cell_type": "markdown",
   "id": "299dfa1e-47c2-4c54-ab48-d1b8944fd7b1",
   "metadata": {},
   "source": [
    "---\n",
    "\n",
    "## **📌 Quick Recap of Functions**\n",
    "\n",
    "| Type                         | Description                   | Example                 |\n",
    "| ---------------------------- | ----------------------------- | ----------------------- |\n",
    "| Non-parameterized            | No input                      | `greet()`               |\n",
    "| Parameterized                | Takes input values            | `greet_person(\"Sudha\")` |\n",
    "| Default Arguments            | Uses default if no input      | `add_numbers(10,10)`    |\n",
    "| Positional Arguments         | Order matters                 | `func(1,2)`             |\n",
    "| Keyword Arguments            | Pass by name                  | `func(a=1,b=2)`         |\n",
    "| Positional-Only              | Must pass by position (`/`)   | `func(1,2,/)`           |\n",
    "| Keyword-Only                 | Must pass by keyword (`*`)    | `func(*,a=1)`           |\n",
    "| Variable-Length (\\*args)     | Multiple positional arguments | `func(1,2,3)`           |\n",
    "| Variable-Length (\\*\\*kwargs) | Multiple keyword arguments    | `func(a=1,b=2)`         |\n",
    "| Return Values                | Sends value back              | `return x+y`            |\n",
    "| Lambda Functions             | Anonymous, short functions    | `lambda x: x**2`        |\n",
    "| Recursion                    | Function calls itself         | `tri_recursion(6)`      |\n",
    "| Pass                         | Placeholder                   | `pass`                  |\n",
    "\n",
    "---\n",
    "\n",
    "Functions are **essential in Python** for **reusable, clean, and modular code**. Understanding all types of arguments, return values, and recursion ensures **flexible and powerful programs**."
   ]
  },
  {
   "cell_type": "markdown",
   "id": "748d4ee4-32c0-4f10-ae0f-3e93c8de0fbf",
   "metadata": {},
   "source": []
  }
 ],
 "metadata": {
  "kernelspec": {
   "display_name": "Python 3 (ipykernel)",
   "language": "python",
   "name": "python3"
  },
  "language_info": {
   "codemirror_mode": {
    "name": "ipython",
    "version": 3
   },
   "file_extension": ".py",
   "mimetype": "text/x-python",
   "name": "python",
   "nbconvert_exporter": "python",
   "pygments_lexer": "ipython3",
   "version": "3.12.7"
  }
 },
 "nbformat": 4,
 "nbformat_minor": 5
}
