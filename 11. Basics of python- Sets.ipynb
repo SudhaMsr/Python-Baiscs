{
 "cells": [
  {
   "cell_type": "markdown",
   "id": "db6a6cdb",
   "metadata": {},
   "source": [
    "\n",
    "\n",
    "# **Sets in Python**\n",
    "\n",
    "A **Set** in Python is an **unordered, mutable collection** of unique items.\n",
    "\n",
    "* Defined using **curly braces `{ }`** or the `set()` function.\n",
    "* **Duplicates are not allowed**.\n",
    "* Sets are mostly used for **mathematical operations** like union, intersection, and difference.\n",
    "\n",
    "---\n",
    "\n",
    "## ✅ **Characteristics of Sets**\n",
    "\n",
    "* **Unordered** → No fixed position or index.\n",
    "* **Mutable** → Can add or remove elements.\n",
    "* **Unique elements** → Duplicates are automatically removed.\n",
    "* **Heterogeneous** → Can store different data types.\n",
    "* **Not indexable** → You can’t access items with `[ ]` like lists/tuples."
   ]
  },
  {
   "cell_type": "markdown",
   "id": "16d12456",
   "metadata": {},
   "source": [
    "### Creating Sets"
   ]
  },
  {
   "cell_type": "code",
   "execution_count": 1,
   "id": "ed464616",
   "metadata": {},
   "outputs": [],
   "source": [
    "# Creating sets\n",
    "fruits = {\"apple\", \"banana\", \"cherry\"}\n",
    "numbers = {1, 2, 3, 4, 5}\n",
    "mixed = {1, \"hello\", 3.14, True}"
   ]
  },
  {
   "cell_type": "code",
   "execution_count": 4,
   "id": "0f58a15c-46b1-41d4-8c61-7ca1d66d8f45",
   "metadata": {},
   "outputs": [],
   "source": [
    "\n",
    "# Using {}\n",
    "animals = {\"dog\", \"cat\", \"tiger\"}\n",
    "\n",
    "# Using set() function\n",
    "empty_set = set()   # Correct way\n",
    "wrong_set = {}      # This creates an empty dictionary, not a set\n"
   ]
  },
  {
   "cell_type": "markdown",
   "id": "3127338b",
   "metadata": {},
   "source": [
    "### Type "
   ]
  },
  {
   "cell_type": "code",
   "execution_count": 2,
   "id": "b1aec8d6",
   "metadata": {},
   "outputs": [
    {
     "name": "stdout",
     "output_type": "stream",
     "text": [
      "<class 'set'>\n"
     ]
    }
   ],
   "source": [
    "print(type(fruits))"
   ]
  },
  {
   "cell_type": "code",
   "execution_count": 3,
   "id": "aeb811bd-4aa6-4d24-a4a0-5fd8625483c8",
   "metadata": {},
   "outputs": [
    {
     "name": "stdout",
     "output_type": "stream",
     "text": [
      "{1, 2, 3, 4}\n"
     ]
    }
   ],
   "source": [
    "myset = {1, 2, 2, 3, 4}\n",
    "print(myset)  # {1, 2, 3, 4} (duplicate removed)"
   ]
  },
  {
   "cell_type": "markdown",
   "id": "b5d1242a",
   "metadata": {},
   "source": [
    "\n",
    "## ✅ **Adding and Removing Items**"
   ]
  },
  {
   "cell_type": "code",
   "execution_count": 5,
   "id": "e4df025a",
   "metadata": {},
   "outputs": [
    {
     "name": "stdout",
     "output_type": "stream",
     "text": [
      "{1, 2, 3, 4, 5, 6}\n"
     ]
    }
   ],
   "source": [
    "s = {1, 2, 3}\n",
    "\n",
    "s.add(4)         # Add one element\n",
    "s.update([5, 6]) # Add multiple elements\n",
    "print(s)"
   ]
  },
  {
   "cell_type": "code",
   "execution_count": 6,
   "id": "fa7d25e8",
   "metadata": {},
   "outputs": [],
   "source": [
    "s.remove(2)      # Remove (error if not found)\n",
    "s.discard(10)    # Remove (no error if not found)\n",
    "s.pop()          # Remove a random item\n",
    "s.clear()        # Empty the set"
   ]
  },
  {
   "cell_type": "markdown",
   "id": "cc3eb5be",
   "metadata": {},
   "source": [
    "### Update \n",
    "* Update the set with the union of this set and others"
   ]
  },
  {
   "cell_type": "code",
   "execution_count": 8,
   "id": "e1db968f",
   "metadata": {},
   "outputs": [
    {
     "name": "stdout",
     "output_type": "stream",
     "text": [
      "{1, 2, 3, 4, 5, 6, 42, 20, 58, 30}\n"
     ]
    }
   ],
   "source": [
    "s2={30,42,58}\n",
    "s1.update(s2)\n",
    "print(s1)"
   ]
  },
  {
   "cell_type": "code",
   "execution_count": 9,
   "id": "dceb0f25",
   "metadata": {},
   "outputs": [
    {
     "data": {
      "text/plain": [
       "[1, 2, 3, 4, 5, 6, 42, 20, 58, 30]"
      ]
     },
     "execution_count": 9,
     "metadata": {},
     "output_type": "execute_result"
    }
   ],
   "source": [
    "list(s1)"
   ]
  },
  {
   "cell_type": "code",
   "execution_count": null,
   "id": "040424f5-84b7-43fb-9cbc-096381d3f508",
   "metadata": {},
   "outputs": [],
   "source": []
  },
  {
   "cell_type": "markdown",
   "id": "6b5ec526",
   "metadata": {},
   "source": [
    "### Sorting- sort() "
   ]
  },
  {
   "cell_type": "code",
   "execution_count": 10,
   "id": "4dc0da1c",
   "metadata": {},
   "outputs": [
    {
     "name": "stdout",
     "output_type": "stream",
     "text": [
      "[1, 2, 3, 4, 5, 6, 20, 30, 42, 58]\n"
     ]
    }
   ],
   "source": [
    "l1=list(s1)\n",
    "l1.sort()\n",
    "print(l1)"
   ]
  },
  {
   "cell_type": "markdown",
   "id": "39f581c9",
   "metadata": {},
   "source": [
    "### Looping through sets"
   ]
  },
  {
   "cell_type": "code",
   "execution_count": 11,
   "id": "8a25e555",
   "metadata": {},
   "outputs": [
    {
     "name": "stdout",
     "output_type": "stream",
     "text": [
      "1\n",
      "2\n",
      "3\n",
      "4\n",
      "5\n",
      "6\n",
      "42\n",
      "20\n",
      "58\n",
      "30\n"
     ]
    }
   ],
   "source": [
    "for x in s1:\n",
    "    print(x)"
   ]
  },
  {
   "cell_type": "markdown",
   "id": "acacd0b1-5f82-4ad8-8467-1a7886cd9bdd",
   "metadata": {},
   "source": [
    "## ✅ **Set Operations (Mathematical)**"
   ]
  },
  {
   "cell_type": "markdown",
   "id": "1fee24f3",
   "metadata": {},
   "source": [
    "### Union \n",
    "* Joining sets"
   ]
  },
  {
   "cell_type": "code",
   "execution_count": 1,
   "id": "6620418b",
   "metadata": {},
   "outputs": [
    {
     "name": "stdout",
     "output_type": "stream",
     "text": [
      "{1, 4, 42, 20, 58, 30}\n",
      "{1, 58, 4, 30}\n",
      "{42, 20, 30}\n"
     ]
    }
   ],
   "source": [
    "s3={1,30,4,58}\n",
    "s4={20,42,30}\n",
    "print(s3.union(s4))\n",
    "print(s3)\n",
    "print(s4)"
   ]
  },
  {
   "cell_type": "markdown",
   "id": "049a26aa",
   "metadata": {},
   "source": [
    "### Intersection \n",
    "* Intersection of two other sets"
   ]
  },
  {
   "cell_type": "code",
   "execution_count": 2,
   "id": "9c4ae0d6",
   "metadata": {},
   "outputs": [
    {
     "name": "stdout",
     "output_type": "stream",
     "text": [
      "{30}\n"
     ]
    }
   ],
   "source": [
    "print(s3.intersection(s4))"
   ]
  },
  {
   "cell_type": "code",
   "execution_count": 3,
   "id": "bb998593",
   "metadata": {},
   "outputs": [
    {
     "name": "stdout",
     "output_type": "stream",
     "text": [
      "elements in s3 before union: {1, 58, 4, 30}\n",
      "None\n",
      "elements in s3 after intersection_upddate: {4, 30}\n"
     ]
    }
   ],
   "source": [
    "s3={1,30,4,58}\n",
    "s4={20,42,30,4}\n",
    "print(\"elements in s3 before union:\",s3)\n",
    "print(s3.intersection_update(s4))\n",
    "print(\"elements in s3 after intersection_upddate:\",s3)"
   ]
  },
  {
   "cell_type": "code",
   "execution_count": 4,
   "id": "d21e921b",
   "metadata": {},
   "outputs": [
    {
     "name": "stdout",
     "output_type": "stream",
     "text": [
      "elements in s3 intersection: {1, 58, 4, 30}\n",
      "{4, 30}\n",
      "elements in s3 after intersection: {1, 58, 4, 30}\n"
     ]
    }
   ],
   "source": [
    "s3={1,30,4,58}\n",
    "s4={20,42,30,4}\n",
    "print(\"elements in s3 intersection:\",s3)\n",
    "print(s3.intersection(s4))\n",
    "print(\"elements in s3 after intersection:\",s3)"
   ]
  },
  {
   "cell_type": "markdown",
   "id": "2274213c",
   "metadata": {},
   "source": [
    "### Difference \n",
    "* Difference between two or more sets"
   ]
  },
  {
   "cell_type": "code",
   "execution_count": 5,
   "id": "6410905c",
   "metadata": {},
   "outputs": [
    {
     "data": {
      "text/plain": [
       "{1, 5}"
      ]
     },
     "execution_count": 5,
     "metadata": {},
     "output_type": "execute_result"
    }
   ],
   "source": [
    "set3={1,2,3,4,5,6}\n",
    "set4={2,3,4,6,7,8}\n",
    "set3-set4"
   ]
  },
  {
   "cell_type": "code",
   "execution_count": 6,
   "id": "1ea0183d",
   "metadata": {},
   "outputs": [
    {
     "name": "stdout",
     "output_type": "stream",
     "text": [
      "elements of set3 before difference: {1, 2, 3, 4, 5, 6}\n",
      "elements of set3 after difference: {1, 2, 3, 4, 5, 6}\n"
     ]
    }
   ],
   "source": [
    "set3={1,2,3,4,5,6}\n",
    "set4={2,3,4,6,7,8}\n",
    "print(\"elements of set3 before difference:\",set3)\n",
    "set3.difference(set4)\n",
    "print(\"elements of set3 after difference:\",set3)"
   ]
  },
  {
   "cell_type": "code",
   "execution_count": 7,
   "id": "5779c179",
   "metadata": {},
   "outputs": [
    {
     "name": "stdout",
     "output_type": "stream",
     "text": [
      "elements of set3 before difference: {1, 2, 3, 4, 5, 6}\n",
      "{1, 5}\n",
      "elements of set3 after difference: {1, 2, 3, 4, 5, 6}\n"
     ]
    }
   ],
   "source": [
    "set3={1,2,3,4,5,6}\n",
    "set4={2,3,4,6,7,8}\n",
    "print(\"elements of set3 before difference:\",set3)\n",
    "print((set3.difference(set4)))\n",
    "print(\"elements of set3 after difference:\",set3)"
   ]
  },
  {
   "cell_type": "code",
   "execution_count": 8,
   "id": "262a0cab",
   "metadata": {},
   "outputs": [
    {
     "name": "stdout",
     "output_type": "stream",
     "text": [
      "elements of set3 before difference_update: {1, 2, 3, 4, 5, 6}\n",
      "elements of set3 after difference_update: {1, 5}\n"
     ]
    }
   ],
   "source": [
    "set3={1,2,3,4,5,6}\n",
    "set4={2,3,4,6,7,8}\n",
    "print(\"elements of set3 before difference_update:\",set3)\n",
    "set3.difference_update(set4)\n",
    "print(\"elements of set3 after difference_update:\",set3)"
   ]
  },
  {
   "cell_type": "code",
   "execution_count": null,
   "id": "c7d24386-805b-4cee-b342-db5bed883437",
   "metadata": {},
   "outputs": [],
   "source": []
  },
  {
   "cell_type": "code",
   "execution_count": 8,
   "id": "e4492a1d-c237-4ef3-bcac-6f4113740b95",
   "metadata": {},
   "outputs": [
    {
     "name": "stdout",
     "output_type": "stream",
     "text": [
      "{1, 2, 3, 4, 5, 6}\n",
      "{3, 4}\n",
      "{1, 2}\n",
      "{1, 2, 5, 6}\n"
     ]
    }
   ],
   "source": [
    "a = {1, 2, 3, 4}\n",
    "b = {3, 4, 5, 6}\n",
    "\n",
    "print(a.union(b))        # {1, 2, 3, 4, 5, 6}\n",
    "print(a.intersection(b)) # {3, 4}\n",
    "print(a.difference(b))   # {1, 2}\n",
    "print(a.symmetric_difference(b)) # {1, 2, 5, 6}"
   ]
  },
  {
   "cell_type": "markdown",
   "id": "56f753b0",
   "metadata": {},
   "source": [
    "### Disjoint set\n",
    "* Two sets having no common element between them.\n",
    "* Disjoint → Just checks if sets have no overlap (True/False).\n",
    "* Symmetric Difference → Returns a new set with elements that are not shared."
   ]
  },
  {
   "cell_type": "code",
   "execution_count": 9,
   "id": "c93cc7c4",
   "metadata": {},
   "outputs": [
    {
     "data": {
      "text/plain": [
       "False"
      ]
     },
     "execution_count": 9,
     "metadata": {},
     "output_type": "execute_result"
    }
   ],
   "source": [
    "set3={1,2,3,4,5,6}\n",
    "set4={2,3,4,6,7,8}\n",
    "set3.isdisjoint(set4)"
   ]
  },
  {
   "cell_type": "code",
   "execution_count": 10,
   "id": "168b8bc0",
   "metadata": {},
   "outputs": [
    {
     "data": {
      "text/plain": [
       "True"
      ]
     },
     "execution_count": 10,
     "metadata": {},
     "output_type": "execute_result"
    }
   ],
   "source": [
    "s5={10,20,30,40}\n",
    "s6={11,12,1,3,14}\n",
    "s5.isdisjoint(s6)"
   ]
  },
  {
   "cell_type": "markdown",
   "id": "f692380a-0bf4-4f3f-b1f6-389e3ac6c3b1",
   "metadata": {},
   "source": [
    "### Shortcut operators:\n",
    "\n",
    "* `a | b` → Union\n",
    "* `a & b` → Intersection\n",
    "* `a - b` → Difference\n",
    "* `a ^ b` → Symmetric Difference"
   ]
  },
  {
   "cell_type": "markdown",
   "id": "565ce2db-2edc-4061-a5ba-df14c1b43e25",
   "metadata": {},
   "source": [
    "#####"
   ]
  },
  {
   "cell_type": "markdown",
   "id": "5696e357",
   "metadata": {},
   "source": [
    "### Remove \n",
    "* REmoves the element from set"
   ]
  },
  {
   "cell_type": "code",
   "execution_count": 12,
   "id": "24605d89",
   "metadata": {},
   "outputs": [
    {
     "name": "stdout",
     "output_type": "stream",
     "text": [
      "{1, 3, 4, 5, 6}\n"
     ]
    }
   ],
   "source": [
    "set3={1,2,3,4,5,6}\n",
    "set3.remove(2)\n",
    "print(set3)"
   ]
  },
  {
   "cell_type": "code",
   "execution_count": 14,
   "id": "14acc494",
   "metadata": {},
   "outputs": [
    {
     "name": "stdout",
     "output_type": "stream",
     "text": [
      "{1, 2, 3, 4, 6}\n"
     ]
    }
   ],
   "source": [
    "set3={1,2,3,4,5,6}\n",
    "set3.discard(5)\n",
    "print(set3)"
   ]
  },
  {
   "cell_type": "markdown",
   "id": "6aa58f88",
   "metadata": {},
   "source": [
    "### Pop()\n",
    "* Removes the last element of set"
   ]
  },
  {
   "cell_type": "code",
   "execution_count": 17,
   "id": "e5087415",
   "metadata": {},
   "outputs": [
    {
     "name": "stdout",
     "output_type": "stream",
     "text": [
      "{2, 3, 4, 5, 6}\n"
     ]
    }
   ],
   "source": [
    "set3={1,2,3,4,5,6}\n",
    "set3.pop()\n",
    "print(set3)"
   ]
  },
  {
   "cell_type": "code",
   "execution_count": 18,
   "id": "e3c5a8dc",
   "metadata": {},
   "outputs": [
    {
     "name": "stdout",
     "output_type": "stream",
     "text": [
      "banana\n",
      "{'cherry', 'apple'}\n"
     ]
    }
   ],
   "source": [
    "thisset = {\"apple\", \"banana\", \"cherry\"}\n",
    "x = thisset.pop()\n",
    "print(x)\n",
    "print(thisset)"
   ]
  },
  {
   "cell_type": "markdown",
   "id": "9ce10b4b",
   "metadata": {},
   "source": [
    "### Clear\n",
    "* Clears the elements in set"
   ]
  },
  {
   "cell_type": "code",
   "execution_count": 20,
   "id": "fdc02623",
   "metadata": {},
   "outputs": [
    {
     "data": {
      "text/plain": [
       "set()"
      ]
     },
     "execution_count": 20,
     "metadata": {},
     "output_type": "execute_result"
    }
   ],
   "source": [
    "set3={1,2,3,4,5,6}\n",
    "set3.clear()\n",
    "set3"
   ]
  },
  {
   "cell_type": "markdown",
   "id": "fcb9012d",
   "metadata": {},
   "source": [
    "### Delete\n",
    "* Deletes the entire set"
   ]
  },
  {
   "cell_type": "code",
   "execution_count": 22,
   "id": "d2893603",
   "metadata": {},
   "outputs": [],
   "source": [
    "del set3"
   ]
  },
  {
   "cell_type": "markdown",
   "id": "bfe4beea-574c-455d-b2f7-8dbee07288ab",
   "metadata": {},
   "source": [
    "---\n",
    "## ✅ **Set Membership**"
   ]
  },
  {
   "cell_type": "code",
   "execution_count": 9,
   "id": "9c40b1ed-cbe7-428c-b3db-c6fd9c0fb4fa",
   "metadata": {},
   "outputs": [
    {
     "name": "stdout",
     "output_type": "stream",
     "text": [
      "True\n",
      "True\n"
     ]
    }
   ],
   "source": [
    "fruits = {\"apple\", \"banana\", \"cherry\"}\n",
    "\n",
    "print(\"apple\" in fruits)   # True\n",
    "print(\"grape\" not in fruits) # True"
   ]
  },
  {
   "cell_type": "markdown",
   "id": "86f3c135-7a0b-46e2-a4d0-14f1b1253953",
   "metadata": {},
   "source": [
    "---\n",
    "## ✅ **Frozen Set (Immutable Set)**\n",
    "\n",
    "* A **frozenset** is like a set, but **immutable** (cannot be changed).\n",
    "* Useful as **dictionary keys** or when immutability is required."
   ]
  },
  {
   "cell_type": "code",
   "execution_count": 13,
   "id": "458d17e6-2989-4dce-ae88-ac1e5756fa06",
   "metadata": {},
   "outputs": [
    {
     "name": "stdout",
     "output_type": "stream",
     "text": [
      "frozenset({1, 2, 3, 4})\n"
     ]
    }
   ],
   "source": [
    "fs = frozenset([1, 2, 3, 4])\n",
    "print(fs)\n",
    "\n",
    "# fs.add(5) → ❌ Error (not allowed)"
   ]
  },
  {
   "cell_type": "markdown",
   "id": "54676841",
   "metadata": {},
   "source": [
    "### Looping through Sets "
   ]
  },
  {
   "cell_type": "code",
   "execution_count": 24,
   "id": "5b1ba912",
   "metadata": {},
   "outputs": [
    {
     "name": "stdout",
     "output_type": "stream",
     "text": [
      "1\n",
      "2\n",
      "3\n",
      "4\n",
      "5\n",
      "6\n"
     ]
    }
   ],
   "source": [
    "set3={1,2,3,4,5,6}\n",
    "for x in set3:\n",
    "    print(x)"
   ]
  },
  {
   "cell_type": "markdown",
   "id": "df866242-d253-40d9-9520-b7473a1076d2",
   "metadata": {},
   "source": [
    "---\n",
    "\n",
    "## 📌 **Quick Recap**\n",
    "\n",
    "* **Set** → unordered, mutable, unique items.\n",
    "* Supports **union, intersection, difference** operations.\n",
    "* Cannot be indexed or sliced.\n",
    "* **Frozenset** → immutable version of a set.\n",
    "\n",
    "---"
   ]
  },
  {
   "cell_type": "markdown",
   "id": "5428176d-3998-4962-9425-6a424b170d14",
   "metadata": {},
   "source": [
    "##"
   ]
  }
 ],
 "metadata": {
  "kernelspec": {
   "display_name": "Python 3 (ipykernel)",
   "language": "python",
   "name": "python3"
  },
  "language_info": {
   "codemirror_mode": {
    "name": "ipython",
    "version": 3
   },
   "file_extension": ".py",
   "mimetype": "text/x-python",
   "name": "python",
   "nbconvert_exporter": "python",
   "pygments_lexer": "ipython3",
   "version": "3.12.7"
  }
 },
 "nbformat": 4,
 "nbformat_minor": 5
}
