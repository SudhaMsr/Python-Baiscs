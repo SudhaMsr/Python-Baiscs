{
 "cells": [
  {
   "cell_type": "markdown",
   "id": "7078f3ef-42ce-4ec7-9331-4cad3420c805",
   "metadata": {},
   "source": [
    "####"
   ]
  },
  {
   "cell_type": "markdown",
   "id": "e1c4368c-de7d-4026-bf6b-1d2814a3a6a8",
   "metadata": {},
   "source": [
    "\n",
    "# 🌟 Beginner’s Guide to Math in Python\n",
    "\n",
    "When you start learning Python, you’ll often come across two things that may look a little scary at first:\n",
    "\n",
    "1. **Regular Expressions (Regex)** – a way to find patterns in text.\n",
    "2. **The Math Module** – a collection of math functions that make calculations easier.\n",
    "\n",
    "We already covered **Regular Expressions (Regex)** in 21st blog.\n",
    "\n",
    "Don’t worry — in this blog, we’ll explain **The Math Module** step by step, with simple examples you can try yourself.\n"
   ]
  },
  {
   "cell_type": "markdown",
   "id": "a59bc445-bda1-4cca-a2c1-7a9765fe5168",
   "metadata": {},
   "source": [
    "## ➕ The Math Module\n",
    "\n",
    "### What is the Math Module?\n",
    "\n",
    "The **`math` module** in Python is like a **calculator with superpowers**. It has functions for square roots, powers, trigonometry, logs, and much more.\n",
    "\n",
    "👉 Import it like this:"
   ]
  },
  {
   "cell_type": "code",
   "execution_count": 7,
   "id": "b93f9367-bdaf-4230-8f84-1a42079feb01",
   "metadata": {},
   "outputs": [],
   "source": [
    "import math"
   ]
  },
  {
   "cell_type": "markdown",
   "id": "047cae68-d5fa-4cc8-9651-bf036d08688c",
   "metadata": {},
   "source": [
    "---\n",
    "\n",
    "### Useful Math Functions\n",
    "\n",
    "1. **Square Root** → `math.sqrt(16)` → `4.0`\n",
    "2. **Power** → `math.pow(2, 3)` → `8.0`\n",
    "3. **Factorial** → `math.factorial(5)` → `120`\n",
    "4. **Trigonometry** → `math.sin(math.pi/2)` → `1.0`\n",
    "5. **Logarithm** → `math.log10(100)` → `2.0`\n",
    "6. **Rounding** → `math.ceil(4.2)` → `5`, `math.floor(4.9)` → `4`\n",
    "7. **Constants** → `math.pi`, `math.e`\n",
    "\n",
    "---\n"
   ]
  },
  {
   "cell_type": "markdown",
   "id": "5382c9b5-1d2e-44a9-94ba-2ea826466c5d",
   "metadata": {},
   "source": [
    "### ✨ Useful Math Functions\n",
    "\n",
    "1. **Square Root**"
   ]
  },
  {
   "cell_type": "code",
   "execution_count": 8,
   "id": "378ff2dd-cf80-4c63-8229-8d62e57dadc9",
   "metadata": {},
   "outputs": [
    {
     "name": "stdout",
     "output_type": "stream",
     "text": [
      "4.0\n",
      "8.0\n"
     ]
    }
   ],
   "source": [
    "print(math.sqrt(16))  \n",
    "print(math.pow(2, 3))  "
   ]
  },
  {
   "cell_type": "markdown",
   "id": "3714e203-3925-4997-bcd6-4a81f1f2c7c1",
   "metadata": {},
   "source": [
    "2. **Power (x raised to y)**"
   ]
  },
  {
   "cell_type": "code",
   "execution_count": 9,
   "id": "9142e55a-6be9-45fe-974d-57a5b64aced2",
   "metadata": {},
   "outputs": [
    {
     "name": "stdout",
     "output_type": "stream",
     "text": [
      "8.0\n"
     ]
    }
   ],
   "source": [
    "print(math.pow(2, 3))  "
   ]
  },
  {
   "cell_type": "markdown",
   "id": "29a0a1e6-1ca8-496f-8b9b-f326764ee00a",
   "metadata": {},
   "source": [
    "3. **Factorial** (n × (n-1) × … × 1)"
   ]
  },
  {
   "cell_type": "code",
   "execution_count": 10,
   "id": "b68e4444-2bc2-44a7-a98a-38ea89ae63a3",
   "metadata": {},
   "outputs": [
    {
     "name": "stdout",
     "output_type": "stream",
     "text": [
      "120\n"
     ]
    }
   ],
   "source": [
    "print(math.factorial(5)) "
   ]
  },
  {
   "cell_type": "markdown",
   "id": "47260d06-d08b-434a-b96c-f6a792f08f91",
   "metadata": {},
   "source": [
    "4. **Trigonometry** (angles in radians)"
   ]
  },
  {
   "cell_type": "code",
   "execution_count": 11,
   "id": "a842778c-f7a9-4234-b7b2-716827ce5111",
   "metadata": {},
   "outputs": [
    {
     "name": "stdout",
     "output_type": "stream",
     "text": [
      "1.0\n",
      "1.0\n"
     ]
    }
   ],
   "source": [
    "print(math.sin(math.pi/2))  # sin(90°)\n",
    "print(math.cos(0))          # cos(0°)"
   ]
  },
  {
   "cell_type": "markdown",
   "id": "4f596c54-2708-41de-8d68-09825419c959",
   "metadata": {},
   "source": [
    "5. **Logarithms**"
   ]
  },
  {
   "cell_type": "code",
   "execution_count": 12,
   "id": "51ae2262-0452-4ca1-a272-46c78d50dd3c",
   "metadata": {},
   "outputs": [
    {
     "name": "stdout",
     "output_type": "stream",
     "text": [
      "2.302585092994046\n",
      "2.0\n"
     ]
    }
   ],
   "source": [
    "print(math.log(10))      # Natural log (base e)\n",
    "print(math.log10(100))   # Log base 10"
   ]
  },
  {
   "cell_type": "markdown",
   "id": "3ad3b626-21c8-4505-add1-7348aaf0b8b8",
   "metadata": {},
   "source": [
    "6. **Rounding and Constants**\n"
   ]
  },
  {
   "cell_type": "code",
   "execution_count": 13,
   "id": "8533ddcd-a5c3-44d2-8ee2-09f71e264d11",
   "metadata": {},
   "outputs": [
    {
     "name": "stdout",
     "output_type": "stream",
     "text": [
      "5\n",
      "4\n",
      "3.141592653589793\n",
      "2.718281828459045\n"
     ]
    }
   ],
   "source": [
    "print(math.ceil(4.2))   # Round up → 5\n",
    "print(math.floor(4.9))  # Round down → 4\n",
    "print(math.pi)          # 3.14159...\n",
    "print(math.e)           # 2.71828..."
   ]
  },
  {
   "cell_type": "markdown",
   "id": "b1ab82da-b7fa-4550-84af-2df59b229578",
   "metadata": {},
   "source": [
    "## 🛠 Mini Project: Combine Regex + Math\n",
    "\n",
    "👉 Example: Find all numbers in a text and calculate their sum."
   ]
  },
  {
   "cell_type": "code",
   "execution_count": 14,
   "id": "01df8b13-c6e1-472d-ab85-50b74226658e",
   "metadata": {},
   "outputs": [
    {
     "name": "stdout",
     "output_type": "stream",
     "text": [
      "Numbers found: [12, 3]\n",
      "Sum: 15\n",
      "Square root of sum: 3.872983346207417\n"
     ]
    }
   ],
   "source": [
    "import re\n",
    "import math\n",
    "\n",
    "text = \"The bill is 12 dollars and the tip is 3 dollars.\"\n",
    "numbers = re.findall(r\"\\d+\", text)   # Find all numbers\n",
    "numbers = [int(num) for num in numbers]  # Convert to integers\n",
    "\n",
    "print(\"Numbers found:\", numbers)  \n",
    "print(\"Sum:\", sum(numbers))  \n",
    "print(\"Square root of sum:\", math.sqrt(sum(numbers)))"
   ]
  },
  {
   "cell_type": "markdown",
   "id": "f2975bb8-299a-43b1-b888-0323a954ae4f",
   "metadata": {},
   "source": [
    "---\n",
    "\n",
    "## 🎯 Final Thoughts\n",
    "\n",
    "* **Regex** helps you work with text and patterns (emails, phone numbers, cleaning messy data).\n",
    "* **Math module** helps with calculations that go beyond simple `+ - * /`.\n",
    "* When combined, they can solve real-world problems like analyzing text and applying math to extracted data.\n",
    "\n",
    "👉 Start with simple examples, then gradually try more complex ones. The more you practice, the easier regex and math functions will feel!\n",
    "\n",
    "---\n"
   ]
  },
  {
   "cell_type": "markdown",
   "id": "aae250e2-5769-425d-8b62-6300ed6b74a7",
   "metadata": {},
   "source": [
    "###"
   ]
  }
 ],
 "metadata": {
  "kernelspec": {
   "display_name": "Python 3 (ipykernel)",
   "language": "python",
   "name": "python3"
  },
  "language_info": {
   "codemirror_mode": {
    "name": "ipython",
    "version": 3
   },
   "file_extension": ".py",
   "mimetype": "text/x-python",
   "name": "python",
   "nbconvert_exporter": "python",
   "pygments_lexer": "ipython3",
   "version": "3.12.7"
  }
 },
 "nbformat": 4,
 "nbformat_minor": 5
}
