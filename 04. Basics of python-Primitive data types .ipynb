{
 "cells": [
  {
   "cell_type": "markdown",
   "id": "a9d87049-97a0-4b3c-beba-fba6e9eeca83",
   "metadata": {},
   "source": [
    "##"
   ]
  },
  {
   "cell_type": "markdown",
   "id": "04f73eea-1d11-44e5-b3d5-9e55fe554a2b",
   "metadata": {},
   "source": [
    "\n",
    "\n",
    "# **Python Data Types**\n",
    "\n",
    "In Python, **everything is an object**, and every object has a **data type**. A data type defines what kind of value is stored and how it can be used in operations.\n",
    "\n",
    "Python data types can be divided into **two main groups**:\n",
    "\n",
    "* **Primitive Data Types** → Basic building blocks (single values).\n",
    "* **Non-Primitive Data Types** → More advanced collections that can hold multiple values.\n",
    "\n",
    "---\n",
    "\n",
    "## ✅ **Primitive Data Types**\n",
    "\n",
    "These are the simplest and most fundamental data types.\n",
    "\n",
    "1. **Numeric Data Types**\n",
    "\n",
    "   * **Integer (`int`)** → Whole numbers, positive or negative. Example: `10, -5`.\n",
    "   * **Float (`float`)** → Numbers with decimals. Example: `3.14, -2.5`.\n",
    "   * **Complex (`complex`)** → Numbers with real and imaginary parts, written as `a+bj`. Example: `2+3j`.\n",
    "\n",
    "2. **Text Data Type**\n",
    "\n",
    "   * **String (`str`)** → A sequence of characters used to store text. Example: `\"Hello World\"`.\n",
    "\n",
    "3. **Boolean Type**\n",
    "\n",
    "   * **Boolean (`bool`)** → Represents logical values: **True** or **False**.\n",
    "\n",
    "4. **Special Type**\n",
    "\n",
    "   * **NoneType (`None`)** → Represents the absence of a value or a null state.\n",
    "\n",
    "---\n",
    "\n",
    "## ✅ **Non-Primitive Data Types**\n",
    "\n",
    "These are more advanced and allow grouping or structuring of multiple values.\n",
    "\n",
    "1. **Sequence Data Types**\n",
    "\n",
    "   * **List (`list`)** → Ordered, changeable collection of items.\n",
    "   * **Tuple (`tuple`)** → Ordered, but immutable (cannot be changed).\n",
    "   * **Range (`range`)** → Represents a sequence of numbers, often used in loops.\n",
    "\n",
    "2. **Set Data Types**\n",
    "\n",
    "   * **Set (`set`)** → Unordered collection of unique items.\n",
    "   * **Frozen Set (`frozenset`)** → Similar to a set, but immutable (cannot be modified).\n",
    "\n",
    "3. **Mapping Data Type**\n",
    "\n",
    "   * **Dictionary (`dict`)** → Stores data as key-value pairs. Keys must be unique. Example: a student record with `{\"name\": \"Sudha\", \"age\": 25}`.\n",
    "\n",
    "---\n",
    "\n",
    "## 📌 **Quick Recap of Categories**\n",
    "\n",
    "* **Numeric Data Types:** `int`, `float`, `complex`\n",
    "* **Text Data Type:** `str`\n",
    "* **Sequence Data Types:** `list`, `tuple`, `range`\n",
    "* **Mapping Data Type:** `dict`\n",
    "* **Boolean Type:** `bool`\n",
    "* **Set Types:** `set`, `frozenset`\n",
    "\n",
    "---\n",
    "\n",
    "👉 **Key Difference**:\n",
    "\n",
    "* **Primitive Data Types** → Deal with single values like numbers, text, or True/False.\n",
    "* **Non-Primitive Data Types** → Deal with collections of values like lists, sets, or dictionaries.\n",
    "\n",
    "---\n"
   ]
  },
  {
   "cell_type": "markdown",
   "id": "a4e0d815",
   "metadata": {},
   "source": [
    "## Numeric data types:"
   ]
  },
  {
   "cell_type": "code",
   "execution_count": 1,
   "id": "bf5dbc6f",
   "metadata": {},
   "outputs": [
    {
     "name": "stdout",
     "output_type": "stream",
     "text": [
      "value of i: 10\n",
      "type of i is: <class 'int'>\n",
      "**************************************************\n",
      "value of f: 10.5\n",
      "type of f is: <class 'float'>\n",
      "**************************************************\n",
      "value of c: (10+5j)\n",
      "type of c is: <class 'complex'>\n",
      "**************************************************\n"
     ]
    }
   ],
   "source": [
    "#int data type\n",
    "i=10\n",
    "print(\"value of i:\",i)\n",
    "print(\"type of i is:\",type(i))\n",
    "print('*'*50)\n",
    "\n",
    "#Float data type\n",
    "f=10.5\n",
    "print(\"value of f:\",f)\n",
    "print(\"type of f is:\",type(f))\n",
    "print('*'*50)\n",
    "\n",
    "#Complex data type\n",
    "c=10+5j\n",
    "print(\"value of c:\",c)\n",
    "print(\"type of c is:\",type(c))\n",
    "print('*'*50)"
   ]
  },
  {
   "cell_type": "markdown",
   "id": "ff0988cd",
   "metadata": {},
   "source": [
    "## Text dats types:"
   ]
  },
  {
   "cell_type": "code",
   "execution_count": 1,
   "id": "a2b3a957",
   "metadata": {},
   "outputs": [
    {
     "name": "stdout",
     "output_type": "stream",
     "text": [
      "Hello,Alaric!\n",
      "<class 'str'>\n"
     ]
    }
   ],
   "source": [
    "a=\"Hello,Alaric!\"\n",
    "print(a)\n",
    "print(type(a))"
   ]
  },
  {
   "cell_type": "markdown",
   "id": "cf5c6540",
   "metadata": {},
   "source": [
    "## Sequence data types:"
   ]
  },
  {
   "cell_type": "code",
   "execution_count": 2,
   "id": "baed45a3",
   "metadata": {},
   "outputs": [
    {
     "name": "stdout",
     "output_type": "stream",
     "text": [
      "['orange', 'apple', 'mango']\n",
      "<class 'list'>\n",
      "**************************************************\n",
      "(11, 11, 2, 3, 6, 2)\n",
      "<class 'tuple'>\n",
      "**************************************************\n",
      "{1, 2, 3, 4, 5, 6}\n",
      "<class 'set'>\n",
      "**************************************************\n"
     ]
    }
   ],
   "source": [
    "#List\n",
    "l1=[\"orange\",\"apple\",\"mango\"]\n",
    "print(l1)\n",
    "print(type(l1))\n",
    "print('*'*50)\n",
    "\n",
    "#Tuple\n",
    "t1=(11,11,2,3,6,2)\n",
    "print(t1)\n",
    "print(type(t1))\n",
    "print('*'*50)\n",
    "\n",
    "#Set\n",
    "s1={1,2,3,4,5,6}\n",
    "print(s1)\n",
    "print(type(s1))\n",
    "print('*'*50)"
   ]
  },
  {
   "cell_type": "markdown",
   "id": "65450096",
   "metadata": {},
   "source": [
    "## Mapping data types:"
   ]
  },
  {
   "cell_type": "code",
   "execution_count": 4,
   "id": "3e2dd1ae",
   "metadata": {},
   "outputs": [
    {
     "name": "stdout",
     "output_type": "stream",
     "text": [
      "{1: 'abc', 2: 'bbc', 3: 'acc', 4: 'acc'}\n",
      "<class 'dict'>\n"
     ]
    }
   ],
   "source": [
    "#Dictionary-dict\n",
    "dict1={1:\"abc\",2:\"bbc\",3:\"acc\",4:\"acc\"}\n",
    "print(dict1)\n",
    "print(type(dict1))"
   ]
  },
  {
   "cell_type": "markdown",
   "id": "dce4dbea",
   "metadata": {},
   "source": [
    "## Boolean data types:"
   ]
  },
  {
   "cell_type": "code",
   "execution_count": 5,
   "id": "a2a11687",
   "metadata": {},
   "outputs": [
    {
     "name": "stdout",
     "output_type": "stream",
     "text": [
      "True\n",
      "<class 'bool'>\n",
      "**************************************************\n",
      "False\n",
      "<class 'bool'>\n"
     ]
    }
   ],
   "source": [
    "#Boolean-bool\n",
    "a= True\n",
    "print(a)\n",
    "print(type(a))\n",
    "\n",
    "print('*'*50)\n",
    "a= False\n",
    "print(a)\n",
    "print(type(a))"
   ]
  },
  {
   "cell_type": "markdown",
   "id": "0638d1be",
   "metadata": {},
   "source": [
    "## Set types:"
   ]
  },
  {
   "cell_type": "code",
   "execution_count": 6,
   "id": "4c48506d",
   "metadata": {},
   "outputs": [
    {
     "name": "stdout",
     "output_type": "stream",
     "text": [
      "frozenset({'cherry', 'banana', 'apple'})\n",
      "<class 'frozenset'>\n"
     ]
    }
   ],
   "source": [
    "#frozen set\n",
    "a = frozenset({\"apple\", \"banana\", \"cherry\"})\n",
    "print(a)\n",
    "print(type(a))"
   ]
  },
  {
   "cell_type": "markdown",
   "id": "d13af4fb",
   "metadata": {},
   "source": [
    "### For Reference: "
   ]
  },
  {
   "cell_type": "code",
   "execution_count": 7,
   "id": "c09fe476",
   "metadata": {},
   "outputs": [
    {
     "data": {
      "text/plain": [
       "int"
      ]
     },
     "execution_count": 7,
     "metadata": {},
     "output_type": "execute_result"
    }
   ],
   "source": [
    "type(2)"
   ]
  },
  {
   "cell_type": "code",
   "execution_count": 8,
   "id": "65e00ea2",
   "metadata": {},
   "outputs": [
    {
     "data": {
      "text/plain": [
       "float"
      ]
     },
     "execution_count": 8,
     "metadata": {},
     "output_type": "execute_result"
    }
   ],
   "source": [
    "type(2.0)"
   ]
  },
  {
   "cell_type": "code",
   "execution_count": 9,
   "id": "10175999",
   "metadata": {},
   "outputs": [
    {
     "data": {
      "text/plain": [
       "str"
      ]
     },
     "execution_count": 9,
     "metadata": {},
     "output_type": "execute_result"
    }
   ],
   "source": [
    "type('two')"
   ]
  },
  {
   "cell_type": "code",
   "execution_count": 10,
   "id": "a348b6c2",
   "metadata": {},
   "outputs": [
    {
     "data": {
      "text/plain": [
       "bool"
      ]
     },
     "execution_count": 10,
     "metadata": {},
     "output_type": "execute_result"
    }
   ],
   "source": [
    "type(True)"
   ]
  },
  {
   "cell_type": "code",
   "execution_count": 14,
   "id": "cc306cb8",
   "metadata": {},
   "outputs": [
    {
     "data": {
      "text/plain": [
       "complex"
      ]
     },
     "execution_count": 14,
     "metadata": {},
     "output_type": "execute_result"
    }
   ],
   "source": [
    "type(1+2j)"
   ]
  },
  {
   "cell_type": "code",
   "execution_count": 15,
   "id": "8a1ce8d4",
   "metadata": {},
   "outputs": [
    {
     "data": {
      "text/plain": [
       "NoneType"
      ]
     },
     "execution_count": 15,
     "metadata": {},
     "output_type": "execute_result"
    }
   ],
   "source": [
    "type(None)"
   ]
  }
 ],
 "metadata": {
  "kernelspec": {
   "display_name": "Python 3 (ipykernel)",
   "language": "python",
   "name": "python3"
  },
  "language_info": {
   "codemirror_mode": {
    "name": "ipython",
    "version": 3
   },
   "file_extension": ".py",
   "mimetype": "text/x-python",
   "name": "python",
   "nbconvert_exporter": "python",
   "pygments_lexer": "ipython3",
   "version": "3.12.7"
  }
 },
 "nbformat": 4,
 "nbformat_minor": 5
}
