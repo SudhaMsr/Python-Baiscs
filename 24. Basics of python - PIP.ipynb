{
 "cells": [
  {
   "cell_type": "markdown",
   "id": "b8736172-4358-46f7-8f7a-da6f8645eb7f",
   "metadata": {},
   "source": [
    "###"
   ]
  },
  {
   "cell_type": "markdown",
   "id": "97cd2e50-da8e-44bb-bb73-e8732129a1fa",
   "metadata": {},
   "source": [
    "# 📦 Beginner’s Guide to `pip` in Python\n",
    "\n",
    "When you first start learning Python, you might wonder: *How do I add extra tools or libraries to my code?*\n",
    "\n",
    "That’s where **`pip`** comes in.\n",
    "\n",
    "---\n",
    "\n",
    "## 🧐 What is `pip`?\n",
    "\n",
    "* `pip` stands for **“Pip Installs Packages”**.\n",
    "* It is Python’s **package manager** — a tool that lets you **download, install, and manage** external libraries (also called *packages*).\n",
    "\n",
    "👉 Example: Python comes with a standard library, but if you want to use **NumPy** for scientific computing or **pandas** for data analysis, you need `pip` to install them.\n",
    "\n",
    "---\n",
    "\n",
    "## ⚙️ Checking if You Have pip\n",
    "\n",
    "Run this command in your terminal or command prompt:\n"
   ]
  },
  {
   "cell_type": "code",
   "execution_count": 1,
   "id": "3d71f924-ce87-4afd-921f-1401b40f369d",
   "metadata": {},
   "outputs": [
    {
     "name": "stdout",
     "output_type": "stream",
     "text": [
      "pip 24.2 from C:\\Users\\sudha\\anaconda3\\Lib\\site-packages\\pip (python 3.12)\n",
      "\n",
      "Note: you may need to restart the kernel to use updated packages.\n"
     ]
    }
   ],
   "source": [
    "pip --version"
   ]
  },
  {
   "cell_type": "markdown",
   "id": "8cd0c6ef-5336-482e-b363-dc1863b32d1e",
   "metadata": {},
   "source": [
    "\n",
    "\n",
    "✅ If installed, you’ll see something like:\n",
    "\n",
    "```\n",
    "pip 24.0 from ... (python 3.12)\n",
    "```\n",
    "\n",
    "If not installed, download it from [pip’s official page](https://pip.pypa.io/en/stable/) or install it using:\n",
    "\n",
    "```bash\n",
    "python -m ensurepip --upgrade\n",
    "```"
   ]
  },
  {
   "cell_type": "markdown",
   "id": "6b4a009e-7666-4d5f-9b01-d66a8188a47f",
   "metadata": {},
   "source": [
    "\n",
    "---\n",
    "\n",
    "## 📥 Installing Packages with pip\n",
    "\n",
    "The most common command is:"
   ]
  },
  {
   "cell_type": "code",
   "execution_count": 3,
   "id": "c6ae6d67-b55c-46d3-945f-05ee7eebd9a3",
   "metadata": {},
   "outputs": [],
   "source": [
    "# pip install package_name"
   ]
  },
  {
   "cell_type": "markdown",
   "id": "4b298976-e3ce-4a1f-b798-0746176fc98a",
   "metadata": {},
   "source": [
    "```bash\n",
    "pip install package_name\n",
    "```"
   ]
  },
  {
   "cell_type": "markdown",
   "id": "549f8bb9-7897-4ac1-9a94-42b9b4e87ce8",
   "metadata": {},
   "source": [
    "### Example: Installing NumPy\n",
    "\n",
    "```bash\n",
    "pip install numpy\n",
    "```\n",
    "\n",
    "✅ This will download NumPy and install it in your Python environment.\n"
   ]
  },
  {
   "cell_type": "code",
   "execution_count": 4,
   "id": "5df70271-5054-405b-a82e-89a185e2688a",
   "metadata": {},
   "outputs": [],
   "source": [
    "#pip install numpy"
   ]
  },
  {
   "cell_type": "markdown",
   "id": "b8cb15c4-a010-4888-9c7b-5cd1712ba07d",
   "metadata": {},
   "source": [
    "---\n",
    "\n",
    "## 🔄 Upgrading Packages\n",
    "\n",
    "Sometimes packages update with bug fixes or new features. To upgrade:\n",
    "\n",
    "```bash\n",
    "pip install --upgrade package_name\n",
    "```\n",
    "\n",
    "👉 Example:"
   ]
  },
  {
   "cell_type": "code",
   "execution_count": null,
   "id": "2849a0c5-fbf1-4061-828c-26023cedf7c3",
   "metadata": {},
   "outputs": [],
   "source": [
    "#pip install --upgrade pandas"
   ]
  },
  {
   "cell_type": "markdown",
   "id": "30889fee-2765-4a9a-b37b-63a60436380d",
   "metadata": {},
   "source": [
    "\n",
    "## ❌ Uninstalling Packages\n",
    "\n",
    "If you don’t need a package anymore:\n",
    "\n",
    "```bash\n",
    "pip uninstall package_name\n",
    "```\n",
    "\n",
    "👉 Example:"
   ]
  },
  {
   "cell_type": "code",
   "execution_count": 5,
   "id": "e0bfac19-0fa4-4410-aa12-1fbda34ada76",
   "metadata": {},
   "outputs": [],
   "source": [
    "#pip uninstall numpy"
   ]
  },
  {
   "cell_type": "markdown",
   "id": "74d8f886-6a9c-42b4-a325-0c7c2ed838e1",
   "metadata": {},
   "source": [
    "## 🔍 Searching for Packages\n",
    "\n",
    "To find available packages:\n",
    "\n",
    "```bash\n",
    "pip search keyword\n",
    "```\n",
    "\n",
    "👉 Example:"
   ]
  },
  {
   "cell_type": "code",
   "execution_count": 6,
   "id": "d8731dc7-baf3-43b3-aa00-c01047af1e05",
   "metadata": {},
   "outputs": [],
   "source": [
    "#pip search requests"
   ]
  },
  {
   "cell_type": "markdown",
   "id": "1ad698f3-09df-40b3-98fd-6c0d994f2d9e",
   "metadata": {},
   "source": [
    "(It will show packages related to “requests”.)\n",
    "\n",
    "---\n",
    "\n",
    "## 📃 Listing Installed Packages\n",
    "\n",
    "To see all packages you’ve installed:\n",
    "\n",
    "```bash\n",
    "pip list\n",
    "```\n",
    "\n",
    "✅ Output looks like:\n",
    "\n",
    "```\n",
    "numpy       1.26.4\n",
    "pandas      2.2.2\n",
    "requests    2.32.3\n",
    "```"
   ]
  },
  {
   "cell_type": "markdown",
   "id": "c7f395cd-d933-438f-a0d0-49feca790907",
   "metadata": {},
   "source": [
    "\n",
    "## 📂 Requirements File (Pro tip 🚀)\n",
    "\n",
    "If you’re working on a project and want to **share your environment** with someone else, you can save all installed packages into a file:"
   ]
  },
  {
   "cell_type": "markdown",
   "id": "e5b6c99e-fbe7-46c8-9f02-fee9bc404f58",
   "metadata": {},
   "source": [
    "\n",
    "```bash\n",
    "pip freeze > requirements.txt\n",
    "```\n",
    "\n",
    "This creates a text file like:\n",
    "\n",
    "```\n",
    "numpy==1.26.4\n",
    "pandas==2.2.2\n",
    "requests==2.32.3\n",
    "```\n",
    "\n",
    "Anyone else can install the same setup by running:\n",
    "\n",
    "```bash\n",
    "pip install -r requirements.txt\n",
    "```\n",
    "\n"
   ]
  },
  {
   "cell_type": "markdown",
   "id": "b16d2032-802b-454b-9dfd-d35c25b66bc4",
   "metadata": {},
   "source": [
    "---\n",
    "\n",
    "## 💡 When to Use pip\n",
    "\n",
    "* Installing libraries (NumPy, pandas, matplotlib, scikit-learn, etc.)\n",
    "* Keeping packages up to date\n",
    "* Sharing project dependencies with teammates\n",
    "\n",
    "In short: if Python is the car 🚗, then `pip` is the **fuel station** ⛽ — it gives you everything extra you need to keep moving.\n",
    "\n",
    "---\n",
    "\n",
    "## 🎯 Final Thoughts\n",
    "\n",
    "* `pip` is one of the **first tools every Python programmer should learn**.\n",
    "* It makes adding libraries super simple.\n",
    "* Practice installing, upgrading, and uninstalling packages — soon it’ll become second nature.\n",
    "\n",
    "---\n",
    "\n",
    "👉 Next step: Try `pip install requests` and write a small program to fetch data from a website!\n",
    "\n",
    "---\n"
   ]
  },
  {
   "cell_type": "code",
   "execution_count": null,
   "id": "1f2de772-62f4-4cf2-807e-7263d17d83d6",
   "metadata": {},
   "outputs": [],
   "source": []
  }
 ],
 "metadata": {
  "kernelspec": {
   "display_name": "Python 3 (ipykernel)",
   "language": "python",
   "name": "python3"
  },
  "language_info": {
   "codemirror_mode": {
    "name": "ipython",
    "version": 3
   },
   "file_extension": ".py",
   "mimetype": "text/x-python",
   "name": "python",
   "nbconvert_exporter": "python",
   "pygments_lexer": "ipython3",
   "version": "3.12.7"
  }
 },
 "nbformat": 4,
 "nbformat_minor": 5
}
