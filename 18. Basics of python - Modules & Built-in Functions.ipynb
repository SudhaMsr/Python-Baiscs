{
 "cells": [
  {
   "cell_type": "markdown",
   "id": "4a6ea7d0-27a0-42e4-9f3b-51de6cd22a73",
   "metadata": {},
   "source": [
    "####"
   ]
  },
  {
   "cell_type": "markdown",
   "id": "265ce51f",
   "metadata": {},
   "source": [
    "\n",
    "---\n",
    "\n",
    "# **Python Modules and Built-in Functions**\n",
    "\n",
    "## 🔹 What is a Module?\n",
    "\n",
    "A **module** is simply a **file containing Python code** — functions, classes, or variables — that you can reuse in your programs.\n",
    "Think of a module as a **toolbox**: instead of writing code from scratch, you can just “import” it and use the tools inside.\n",
    "\n",
    "---\n",
    "\n",
    "## 🔹 Types of Modules in Python\n",
    "\n",
    "Python modules are mainly of two types:\n",
    "\n",
    "### **1. Built-in Modules**\n",
    "\n",
    "* Python comes with a **rich standard library** (pre-installed modules).\n",
    "* These modules save time because they contain ready-made functions.\n",
    "\n",
    "**Examples of built-in modules:**\n",
    "\n",
    "* `math` → Mathematical functions like `sqrt()`, `factorial()`.\n",
    "* `os` → Interacting with the operating system (files, directories).\n",
    "* `sys` → System-specific functions and parameters.\n",
    "* `datetime` → Working with dates and times.\n",
    "* `random` → Generating random numbers.\n",
    "\n",
    "✅ **Example:**"
   ]
  },
  {
   "cell_type": "code",
   "execution_count": 1,
   "id": "0e706087-a89c-48ad-9b19-6c9c978576f4",
   "metadata": {},
   "outputs": [
    {
     "name": "stdout",
     "output_type": "stream",
     "text": [
      "5.0\n",
      "120\n"
     ]
    }
   ],
   "source": [
    "import math\n",
    "print(math.sqrt(25))     # 5.0\n",
    "print(math.factorial(5)) # 120"
   ]
  },
  {
   "cell_type": "markdown",
   "id": "e1fcf27e-9d58-4bba-9fb7-2cd6761f31b7",
   "metadata": {},
   "source": [
    "### **2. User-defined Modules**\n",
    "\n",
    "* You can create your own module (a `.py` file) with functions and classes.\n",
    "* Later, import it into another Python program.\n",
    "\n",
    "✅ **Example:**\n",
    "File → `mymath.py`\n"
   ]
  },
  {
   "cell_type": "code",
   "execution_count": 2,
   "id": "eb75f78d-bd4c-4384-b44d-5c1d2928e538",
   "metadata": {},
   "outputs": [],
   "source": [
    "def add(a, b):\n",
    "    return a + b\n",
    "\n",
    "def multiply(a, b):\n",
    "    return a * b"
   ]
  },
  {
   "cell_type": "markdown",
   "id": "1d227917-0256-424d-949a-08566983ac7a",
   "metadata": {},
   "source": [
    "Using the module in another file:\n",
    "\n",
    "```python\n",
    "import mymath\n",
    "\n",
    "print(mymath.add(10, 5))       # 15\n",
    "print(mymath.multiply(10, 5))  # 50\n",
    "```\n"
   ]
  },
  {
   "cell_type": "markdown",
   "id": "bfa8e3a5-468f-4b0e-adc1-267c02286f68",
   "metadata": {},
   "source": [
    "\n",
    "\n",
    "### **3. External Modules (Installed with pip)**\n",
    "\n",
    "Apart from built-in modules, Python has a huge collection of external libraries that you can install and use.\n",
    "\n",
    "Some popular external modules are:\n",
    "\n",
    "* **NumPy** → Numerical computing and arrays.\n",
    "* **Pandas** → Data analysis and manipulation.\n",
    "* **Matplotlib** → Data visualization.\n",
    "* **SciPy** → Scientific computing.\n",
    "* **Scikit-learn** → Machine learning.\n",
    "\n",
    "✅ Example with NumPy:"
   ]
  },
  {
   "cell_type": "code",
   "execution_count": 4,
   "id": "ac0d6c25-e056-4686-94d3-712c7ccb0d0b",
   "metadata": {},
   "outputs": [
    {
     "name": "stdout",
     "output_type": "stream",
     "text": [
      "2.5\n"
     ]
    }
   ],
   "source": [
    "import numpy as np\n",
    "arr = np.array([1, 2, 3, 4])\n",
    "print(arr.mean())   # 2.5"
   ]
  },
  {
   "cell_type": "markdown",
   "id": "fa8405a8",
   "metadata": {},
   "source": [
    "\n",
    "## 🔹 Python Built-in Functions\n",
    "\n",
    "Apart from modules, Python also comes with **built-in functions**.\n",
    "These functions are always available — you don’t need to import anything to use them.\n",
    "\n",
    "Some of the most commonly used built-in functions are:\n",
    "\n",
    "| Function  | Description                            | Example                          |\n",
    "| --------- | -------------------------------------- | -------------------------------- |\n",
    "| `print()` | Displays output                        | `print(\"Hello\")` → Hello         |\n",
    "| `len()`   | Returns length of an object            | `len(\"Python\")` → 6              |\n",
    "| `type()`  | Returns the type of an object          | `type(10)` → `<class 'int'>`     |\n",
    "| `sum()`   | Returns sum of elements in an iterable | `sum([1,2,3])` → 6               |\n",
    "| `max()`   | Returns the largest item               | `max([3,8,1])` → 8               |\n",
    "| `min()`   | Returns the smallest item              | `min([3,8,1])` → 1               |\n",
    "| `input()` | Takes user input                       | `name = input(\"Enter name: \")`   |\n",
    "| `range()` | Generates sequence of numbers          | `list(range(5))` → `[0,1,2,3,4]` |\n",
    "| `abs()`   | Returns absolute value                 | `abs(-10)` → 10                  |\n",
    "| `round()` | Rounds a number                        | `round(3.14159, 2)` → 3.14       |\n",
    "\n",
    "✅ Example:"
   ]
  },
  {
   "cell_type": "code",
   "execution_count": 5,
   "id": "f8b8c64d-9569-48a7-8e97-70afb6bec7ac",
   "metadata": {},
   "outputs": [
    {
     "name": "stdout",
     "output_type": "stream",
     "text": [
      "3\n",
      "60\n",
      "30\n"
     ]
    }
   ],
   "source": [
    "numbers = [10, 20, 30]\n",
    "\n",
    "print(len(numbers))   # 3\n",
    "print(sum(numbers))   # 60\n",
    "print(max(numbers))   # 30"
   ]
  },
  {
   "cell_type": "markdown",
   "id": "e19f111d-cca2-4db4-a62d-c692ea80e257",
   "metadata": {},
   "source": [
    "---\n",
    "\n",
    "## 🔹 Quick Recap\n",
    "\n",
    "* A **module** is a Python file that contains reusable code (functions, classes).\n",
    "* **Built-in modules** → Come with Python (`math`, `os`, `random`).\n",
    "* **User-defined modules** → You can create your own (`mymath.py`).\n",
    "* **External modules** → Install via `pip` (`numpy`, `pandas`).\n",
    "* **Built-in functions** → Always available (`len()`, `sum()`, `print()`).\n",
    "\n",
    "💡 **Tip:** Always explore the **Python Standard Library** — it already has solutions for most tasks.\n",
    "\n",
    "---\n"
   ]
  },
  {
   "cell_type": "markdown",
   "id": "f7d4bf9e-32a5-4725-948b-3f68dab3888a",
   "metadata": {},
   "source": [
    "####"
   ]
  }
 ],
 "metadata": {
  "kernelspec": {
   "display_name": "Python 3 (ipykernel)",
   "language": "python",
   "name": "python3"
  },
  "language_info": {
   "codemirror_mode": {
    "name": "ipython",
    "version": 3
   },
   "file_extension": ".py",
   "mimetype": "text/x-python",
   "name": "python",
   "nbconvert_exporter": "python",
   "pygments_lexer": "ipython3",
   "version": "3.12.7"
  }
 },
 "nbformat": 4,
 "nbformat_minor": 5
}
