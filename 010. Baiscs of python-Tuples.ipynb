{
 "cells": [
  {
   "cell_type": "markdown",
   "id": "3816f910",
   "metadata": {},
   "source": [
    "\n",
    "# **Tuples in Python**\n",
    "\n",
    "A **Tuple** in Python is an **ordered, immutable collection** of items.\n",
    "\n",
    "* Defined using **parentheses `( )`**.\n",
    "* Can store **different data types** (numbers, strings, lists, etc.).\n",
    "* Tuples can **contain duplicate values**.\n",
    "\n",
    "\n",
    "## ✅ **Characteristics of Tuples**\n",
    "\n",
    "* **Ordered** → Items have an index (like lists).\n",
    "* **Immutable** → Cannot be changed once created.\n",
    "* **Heterogeneous** → Can contain different data types.\n",
    "* **Allow duplicates**.\n",
    "* **Faster than lists** (since immutable).\n"
   ]
  },
  {
   "cell_type": "markdown",
   "id": "5500f7af-4fd1-4052-bf36-a7bb59071e21",
   "metadata": {},
   "source": [
    "#####\n"
   ]
  },
  {
   "cell_type": "markdown",
   "id": "9891a622",
   "metadata": {},
   "source": [
    "### Creating a Tuple"
   ]
  },
  {
   "cell_type": "code",
   "execution_count": 1,
   "id": "e27e0227",
   "metadata": {
    "scrolled": true
   },
   "outputs": [],
   "source": [
    "# Creating tuples\n",
    "fruits = (\"apple\", \"banana\", \"cherry\")\n",
    "numbers = (1, 2, 3, 4, 5)\n",
    "mixed = (1, \"hello\", 3.14, True)"
   ]
  },
  {
   "cell_type": "code",
   "execution_count": 2,
   "id": "a012c11e-bf86-4a20-a762-dc1a80793142",
   "metadata": {},
   "outputs": [
    {
     "name": "stdout",
     "output_type": "stream",
     "text": [
      "10\n",
      "20\n",
      "(20, 30)\n"
     ]
    }
   ],
   "source": [
    "t = (10, 20, 30, 20)\n",
    "print(t[0])   # 10\n",
    "print(t[-1])  # 20\n",
    "print(t[1:3]) # (20, 30)"
   ]
  },
  {
   "cell_type": "markdown",
   "id": "174037b1",
   "metadata": {},
   "source": [
    "### Type "
   ]
  },
  {
   "cell_type": "code",
   "execution_count": 3,
   "id": "c28c396c",
   "metadata": {},
   "outputs": [
    {
     "name": "stdout",
     "output_type": "stream",
     "text": [
      "<class 'tuple'>\n"
     ]
    }
   ],
   "source": [
    "print(type(t))"
   ]
  },
  {
   "cell_type": "markdown",
   "id": "abd4be51",
   "metadata": {},
   "source": [
    "### Count- How many times an element occur in the tuple"
   ]
  },
  {
   "cell_type": "code",
   "execution_count": 4,
   "id": "1c7062fa",
   "metadata": {},
   "outputs": [
    {
     "data": {
      "text/plain": [
       "2"
      ]
     },
     "execution_count": 4,
     "metadata": {},
     "output_type": "execute_result"
    }
   ],
   "source": [
    "t1=(1,2,3,4,5,6,1)   #How many times 1 occur in the tuple\n",
    "t1.count(1)"
   ]
  },
  {
   "cell_type": "markdown",
   "id": "c1c93f70",
   "metadata": {},
   "source": [
    "### Index "
   ]
  },
  {
   "cell_type": "code",
   "execution_count": 5,
   "id": "c77b70da",
   "metadata": {},
   "outputs": [
    {
     "data": {
      "text/plain": [
       "1"
      ]
     },
     "execution_count": 5,
     "metadata": {},
     "output_type": "execute_result"
    }
   ],
   "source": [
    "t1.index(2)         #2 is in first place as indexing starts from 0"
   ]
  },
  {
   "cell_type": "markdown",
   "id": "6e0bc0c1",
   "metadata": {},
   "source": [
    "### Contatenation- Adding "
   ]
  },
  {
   "cell_type": "code",
   "execution_count": 6,
   "id": "09fabc5f",
   "metadata": {},
   "outputs": [
    {
     "data": {
      "text/plain": [
       "(1, 2, 3, 4, 5, 6, 5, 9, 1, 100, 200)"
      ]
     },
     "execution_count": 6,
     "metadata": {},
     "output_type": "execute_result"
    }
   ],
   "source": [
    "t3=(1,2,3,4,5,6,5,9,1)\n",
    "t3 +(100,200)"
   ]
  },
  {
   "cell_type": "markdown",
   "id": "a850ab1d",
   "metadata": {},
   "source": [
    "### Length "
   ]
  },
  {
   "cell_type": "code",
   "execution_count": 7,
   "id": "20a56475",
   "metadata": {},
   "outputs": [
    {
     "data": {
      "text/plain": [
       "9"
      ]
     },
     "execution_count": 7,
     "metadata": {},
     "output_type": "execute_result"
    }
   ],
   "source": [
    "# CONCATENATION - adding\n",
    "t3=(1,2,3,4,5,6,5,9,1)\n",
    "len(t3)"
   ]
  },
  {
   "cell_type": "markdown",
   "id": "9618650f",
   "metadata": {},
   "source": [
    "### Accessing tuple "
   ]
  },
  {
   "cell_type": "code",
   "execution_count": 8,
   "id": "61f1c331",
   "metadata": {},
   "outputs": [
    {
     "name": "stdout",
     "output_type": "stream",
     "text": [
      "3\n"
     ]
    }
   ],
   "source": [
    "t3=(1,2,3,4,5,6,5,9,1)\n",
    "print(t3[2])"
   ]
  },
  {
   "cell_type": "code",
   "execution_count": 9,
   "id": "26c3bc21",
   "metadata": {},
   "outputs": [
    {
     "name": "stdout",
     "output_type": "stream",
     "text": [
      "9\n"
     ]
    }
   ],
   "source": [
    "print(t3[-2])"
   ]
  },
  {
   "cell_type": "markdown",
   "id": "386a9828",
   "metadata": {},
   "source": [
    "### Range of Indexing "
   ]
  },
  {
   "cell_type": "code",
   "execution_count": 10,
   "id": "275b64ac",
   "metadata": {},
   "outputs": [
    {
     "name": "stdout",
     "output_type": "stream",
     "text": [
      "(3, 4, 5, 6)\n"
     ]
    }
   ],
   "source": [
    "print(t3[2:6])      #Last element will not be included"
   ]
  },
  {
   "cell_type": "markdown",
   "id": "a16640c9",
   "metadata": {},
   "source": [
    "### Checking whether the item is existed in list or not "
   ]
  },
  {
   "cell_type": "code",
   "execution_count": 11,
   "id": "6f076482",
   "metadata": {},
   "outputs": [
    {
     "name": "stdout",
     "output_type": "stream",
     "text": [
      "Yes 5 is present in t3\n"
     ]
    }
   ],
   "source": [
    "t3=(1,2,3,4,5,6,5,9,1)\n",
    "if 5 in t3:\n",
    "    print(\"Yes 5 is present in t3\")"
   ]
  },
  {
   "cell_type": "markdown",
   "id": "8662e0dd-c3aa-4371-a1c4-56ba5f411f29",
   "metadata": {},
   "source": [
    "\n",
    "## ✅ **Single Element Tuple**\n",
    "\n",
    "To create a tuple with **one item**, add a trailing comma `,`.\n"
   ]
  },
  {
   "cell_type": "code",
   "execution_count": 12,
   "id": "6579c1ca-7599-4722-a49b-494eff975b41",
   "metadata": {},
   "outputs": [
    {
     "name": "stdout",
     "output_type": "stream",
     "text": [
      "<class 'tuple'>\n",
      "<class 'int'>\n"
     ]
    }
   ],
   "source": [
    "t1 = (5,)  \n",
    "print(type(t1))  # <class 'tuple'>\n",
    "\n",
    "t2 = (5)        \n",
    "print(type(t2))  # <class 'int'>"
   ]
  },
  {
   "cell_type": "markdown",
   "id": "ce404ec1-699c-4e5e-ac1b-bb1e974c1871",
   "metadata": {},
   "source": [
    "## ✅ **Tuple Operations**"
   ]
  },
  {
   "cell_type": "code",
   "execution_count": 13,
   "id": "b5af44c2-3b97-471b-ae20-cd8968205f4a",
   "metadata": {},
   "outputs": [
    {
     "name": "stdout",
     "output_type": "stream",
     "text": [
      "(1, 2, 3, 4, 5)\n",
      "(1, 2, 3, 1, 2, 3)\n",
      "True\n",
      "3\n"
     ]
    }
   ],
   "source": [
    "a = (1, 2, 3)\n",
    "b = (4, 5)\n",
    "\n",
    "print(a + b)     # Concatenation → (1, 2, 3, 4, 5)\n",
    "print(a * 2)     # Repetition → (1, 2, 3, 1, 2, 3)\n",
    "print(2 in a)    # Membership → True\n",
    "print(len(a))    # Length → 3"
   ]
  },
  {
   "cell_type": "markdown",
   "id": "322c8324-1aa8-4d88-aacc-12465be4b22e",
   "metadata": {},
   "source": [
    "## ✅ **Tuple Methods**\n",
    "\n",
    "Tuples have **limited methods** (since immutable)."
   ]
  },
  {
   "cell_type": "code",
   "execution_count": 14,
   "id": "711f4852-e3b1-4a35-a78b-4a3ac6bae96c",
   "metadata": {},
   "outputs": [
    {
     "name": "stdout",
     "output_type": "stream",
     "text": [
      "2\n",
      "2\n"
     ]
    }
   ],
   "source": [
    "nums = (10, 20, 30, 20, 40)\n",
    "\n",
    "print(nums.count(20))   # 2\n",
    "print(nums.index(30))   # 2"
   ]
  },
  {
   "cell_type": "markdown",
   "id": "92b66b37",
   "metadata": {},
   "source": [
    "### Convert Tuple into list "
   ]
  },
  {
   "cell_type": "code",
   "execution_count": 14,
   "id": "fe435a62",
   "metadata": {},
   "outputs": [
    {
     "name": "stdout",
     "output_type": "stream",
     "text": [
      "(1, 2, 3, 4, 5, 6, 5, 9, 1)\n",
      "[1, 2, 3, 4, 5, 6, 5, 9, 1]\n"
     ]
    }
   ],
   "source": [
    "t3=(1,2,3,4,5,6,5,9,1)\n",
    "t4=list(t3)\n",
    "t3=tuple(t4)\n",
    "print(t3)\n",
    "print(t4)"
   ]
  },
  {
   "cell_type": "markdown",
   "id": "82f08102",
   "metadata": {},
   "source": [
    "### Append -Tuple has no attribute of append, so first we need to convert tuple into list and then add elements"
   ]
  },
  {
   "cell_type": "code",
   "execution_count": 19,
   "id": "8f4867e7",
   "metadata": {},
   "outputs": [
    {
     "name": "stdout",
     "output_type": "stream",
     "text": [
      "[1, 2, 3, 4, 5, 6, 5, 9, 1, 0]\n"
     ]
    }
   ],
   "source": [
    "t3=(1,2,3,4,5,6,5,9,1)\n",
    "t4=list(t3)\n",
    "t4.append(0) \n",
    "print(t4)"
   ]
  },
  {
   "cell_type": "markdown",
   "id": "f0efedfd",
   "metadata": {},
   "source": [
    "### Delete "
   ]
  },
  {
   "cell_type": "code",
   "execution_count": 15,
   "id": "2118d92c",
   "metadata": {},
   "outputs": [
    {
     "ename": "NameError",
     "evalue": "name 't3' is not defined",
     "output_type": "error",
     "traceback": [
      "\u001b[1;31m---------------------------------------------------------------------------\u001b[0m",
      "\u001b[1;31mNameError\u001b[0m                                 Traceback (most recent call last)",
      "Cell \u001b[1;32mIn[15], line 3\u001b[0m\n\u001b[0;32m      1\u001b[0m t3\u001b[38;5;241m=\u001b[39m(\u001b[38;5;241m1\u001b[39m,\u001b[38;5;241m2\u001b[39m,\u001b[38;5;241m3\u001b[39m,\u001b[38;5;241m4\u001b[39m,\u001b[38;5;241m5\u001b[39m,\u001b[38;5;241m6\u001b[39m,\u001b[38;5;241m5\u001b[39m,\u001b[38;5;241m9\u001b[39m,\u001b[38;5;241m1\u001b[39m)\n\u001b[0;32m      2\u001b[0m \u001b[38;5;28;01mdel\u001b[39;00m t3   \u001b[38;5;66;03m#this will through that there is no t3\u001b[39;00m\n\u001b[1;32m----> 3\u001b[0m \u001b[38;5;28mprint\u001b[39m(t3)\n",
      "\u001b[1;31mNameError\u001b[0m: name 't3' is not defined"
     ]
    }
   ],
   "source": [
    "t3=(1,2,3,4,5,6,5,9,1)\n",
    "del t3   #this will through that there is no t3\n",
    "print(t3)"
   ]
  },
  {
   "cell_type": "markdown",
   "id": "99740565-a88a-4170-a7c2-6b8ec76d4040",
   "metadata": {},
   "source": [
    "## ✅ **Nested Tuples**\n"
   ]
  },
  {
   "cell_type": "code",
   "execution_count": 16,
   "id": "4baa2da1-e0ae-48bf-b00a-01dfe733378b",
   "metadata": {},
   "outputs": [
    {
     "name": "stdout",
     "output_type": "stream",
     "text": [
      "(3, 4)\n",
      "3\n"
     ]
    }
   ],
   "source": [
    "nested = ((1, 2), (3, 4), (5, 6))\n",
    "print(nested[1])    # (3, 4)\n",
    "print(nested[1][0]) # 3"
   ]
  },
  {
   "cell_type": "markdown",
   "id": "8281e7b8",
   "metadata": {},
   "source": [
    "## ✅ **Tuple Packing and Unpacking**\n"
   ]
  },
  {
   "cell_type": "code",
   "execution_count": 17,
   "id": "6aed471e",
   "metadata": {},
   "outputs": [
    {
     "name": "stdout",
     "output_type": "stream",
     "text": [
      "Alice\n",
      "25\n",
      "Engineer\n"
     ]
    }
   ],
   "source": [
    "# Packing\n",
    "person = (\"Alice\", 25, \"Engineer\")\n",
    "\n",
    "# Unpacking\n",
    "name, age, job = person\n",
    "print(name)  # Alice\n",
    "print(age)   # 25\n",
    "print(job)   # Engineer"
   ]
  },
  {
   "cell_type": "markdown",
   "id": "5e4f6690-005d-4f1d-a103-f96a2aea585c",
   "metadata": {},
   "source": [
    "\n",
    "## ✅ **Why Tuples Instead of Lists?**\n",
    "\n",
    "* **Immutability** → Prevents accidental changes.\n",
    "* **Performance** → Tuples are faster than lists.\n",
    "* **Hashable** → Tuples can be used as **dictionary keys** (lists cannot)."
   ]
  },
  {
   "cell_type": "code",
   "execution_count": 18,
   "id": "876dccc0-0f09-4732-b7ae-9994973fd802",
   "metadata": {},
   "outputs": [
    {
     "name": "stdout",
     "output_type": "stream",
     "text": [
      "point A\n"
     ]
    }
   ],
   "source": [
    "my_dict = {(\"x\", 1): \"point A\", (\"y\", 2): \"point B\"}\n",
    "print(my_dict[(\"x\", 1)])  # point A"
   ]
  },
  {
   "cell_type": "markdown",
   "id": "9c16cc2e",
   "metadata": {},
   "source": [
    "### By using *- Asterisk"
   ]
  },
  {
   "cell_type": "code",
   "execution_count": 23,
   "id": "1348a22f",
   "metadata": {},
   "outputs": [
    {
     "name": "stdout",
     "output_type": "stream",
     "text": [
      "apple\n",
      "banana\n",
      "['cherry', 'strawberry', 'raspberry']\n"
     ]
    }
   ],
   "source": [
    "fruits = (\"apple\", \"banana\", \"cherry\", \"strawberry\", \"raspberry\")\n",
    "(green, yellow, *red) = fruits\n",
    "print(green)\n",
    "print(yellow)\n",
    "print(red)"
   ]
  },
  {
   "cell_type": "markdown",
   "id": "36cbf09c",
   "metadata": {},
   "source": [
    "### Loop through Tuple "
   ]
  },
  {
   "cell_type": "code",
   "execution_count": 24,
   "id": "e4ce1471",
   "metadata": {},
   "outputs": [
    {
     "name": "stdout",
     "output_type": "stream",
     "text": [
      "apple\n",
      "banana\n",
      "cherry\n"
     ]
    }
   ],
   "source": [
    "t5= (\"apple\", \"banana\", \"cherry\")\n",
    "for x in t5:\n",
    "  print(x)"
   ]
  },
  {
   "cell_type": "markdown",
   "id": "d2363488-d97c-4b7b-9d0f-22e079fca8dc",
   "metadata": {},
   "source": [
    "---\n",
    "\n",
    "## 📌 **Quick Recap**\n",
    "\n",
    "* Tuples are **ordered but immutable**.\n",
    "* Allow indexing, slicing, and nesting.\n",
    "* Limited methods: **count()** and **index()**.\n",
    "* Useful for **fixed collections of items** and when **speed & safety** are important.\n",
    "\n",
    "---"
   ]
  },
  {
   "cell_type": "markdown",
   "id": "1149f328-229b-47ad-9536-97318db838aa",
   "metadata": {},
   "source": [
    "###"
   ]
  }
 ],
 "metadata": {
  "kernelspec": {
   "display_name": "Python 3 (ipykernel)",
   "language": "python",
   "name": "python3"
  },
  "language_info": {
   "codemirror_mode": {
    "name": "ipython",
    "version": 3
   },
   "file_extension": ".py",
   "mimetype": "text/x-python",
   "name": "python",
   "nbconvert_exporter": "python",
   "pygments_lexer": "ipython3",
   "version": "3.12.7"
  }
 },
 "nbformat": 4,
 "nbformat_minor": 5
}
