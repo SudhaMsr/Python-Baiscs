{
 "cells": [
  {
   "cell_type": "markdown",
   "id": "833ff8c5-7bd4-4c1f-bbf6-295fbd8dfda8",
   "metadata": {},
   "source": [
    "\n",
    "####"
   ]
  },
  {
   "cell_type": "markdown",
   "id": "dcf18be8-5baf-40c2-b23a-c1af2ced5688",
   "metadata": {},
   "source": [
    "---\n",
    "### Summary of Python Operators:\n",
    "\n",
    "* **Arithmetic Operators**:\n",
    "\n",
    "  * `+` Adds two numbers.\n",
    "  * `-` Subtracts one number from another.\n",
    "  * `*` Multiplies two numbers.\n",
    "  * `/` Divides one number by another (float result).\n",
    "  * `%` Returns the remainder after division.\n",
    "  * `//` Floor division — divides and returns the integer quotient.\n",
    "  * `**` Raises a number to the power of another number.\n",
    "\n",
    "* **Assignment Operators**:\n",
    "\n",
    "  * `=` Assigns a value to a variable.\n",
    "  * `+=` Adds and assigns value (e.g., `x += 5` means `x = x + 5`).\n",
    "  * `-=` Subtracts and assigns value.\n",
    "\n",
    "* **Comparison Operators**:\n",
    "\n",
    "  * `==` Checks if two values are equal.\n",
    "  * `>` Checks if left value is greater than right.\n",
    "  * `>=` Checks if left value is greater or equal to right.\n",
    "  * `<` Checks if left value is less than right.\n",
    "  * `!=` Checks if two values are not equal.\n",
    "\n",
    "* **Logical Operators**:\n",
    "\n",
    "  * `and` Returns True if both conditions are true.\n",
    "  * `or` Returns True if at least one condition is true.\n",
    "  * `not` Negates a condition (True becomes False and vice versa).\n",
    "\n",
    "* **Identity Operators**:\n",
    "\n",
    "  * `is` Returns True if two variables refer to the same object.\n",
    "  * `is not` Returns True if two variables do not refer to the same object.\n",
    "\n",
    "* **Bitwise Operators**:\n",
    "\n",
    "  * `&` Bitwise AND.\n",
    "  * `|` Bitwise OR.\n",
    "  * `^` Bitwise XOR (exclusive OR).\n",
    "  * `~` Bitwise NOT (inverts bits).\n",
    "  * `<<` Left shift bits.\n",
    "  * `>>` Right shift bits.\n",
    "\n",
    "* **Membership Operators**:\n",
    "\n",
    "  * `in` Returns True if a value is found in a sequence.\n",
    "  * `not in` Returns True if a value is not found in a sequence.\n",
    "\n",
    "---\n"
   ]
  },
  {
   "cell_type": "code",
   "execution_count": 2,
   "id": "ba9294be-02e2-4a3b-9969-8cfa9be5e232",
   "metadata": {},
   "outputs": [
    {
     "name": "stdout",
     "output_type": "stream",
     "text": [
      "15\n",
      "**************************************************\n",
      "10\n",
      "**************************************************\n",
      "18\n",
      "**************************************************\n"
     ]
    }
   ],
   "source": [
    "#Arithemetic operators:\n",
    "print(10 + 5)\n",
    "print('*'*50)\n",
    "\n",
    "print(20-10)\n",
    "print('*'*50)\n",
    "\n",
    "print(2*9)\n",
    "print('*'*50)"
   ]
  },
  {
   "cell_type": "code",
   "execution_count": 3,
   "id": "a176bf82-ac8e-4497-bc5c-d88a4b63b3ff",
   "metadata": {},
   "outputs": [
    {
     "name": "stdout",
     "output_type": "stream",
     "text": [
      "6\n",
      "**************************************************\n",
      "8\n",
      "********************\n",
      "1\n"
     ]
    }
   ],
   "source": [
    "#Assignment operators:\n",
    "a = 6\n",
    "print(a)\n",
    "print('*'*50)\n",
    "b = 5\n",
    "b += 3\n",
    "print(b)\n",
    "print('*'*20)\n",
    "c = 5\n",
    "c -= 4\n",
    "print(c)"
   ]
  },
  {
   "cell_type": "code",
   "execution_count": 4,
   "id": "28f21157-c051-4c90-85da-f997da0d51f7",
   "metadata": {},
   "outputs": [
    {
     "name": "stdout",
     "output_type": "stream",
     "text": [
      "False\n",
      "**************************************************\n",
      "True\n"
     ]
    }
   ],
   "source": [
    "#Comparision operators:\n",
    "a = 5\n",
    "b = 3\n",
    "print(a == b)\n",
    "# returns False because 5 is not equal to 3\n",
    "print('*'*50)\n",
    "c = 5\n",
    "d = 5\n",
    "print(c == d)\n",
    "# returns True because 5 is equal to 5\n"
   ]
  },
  {
   "cell_type": "code",
   "execution_count": 5,
   "id": "18ca038b-6e8a-408f-99c7-32c9e875522a",
   "metadata": {},
   "outputs": [
    {
     "name": "stdout",
     "output_type": "stream",
     "text": [
      "True\n",
      "**************************************************\n",
      "True\n",
      "**************************************************\n",
      "False\n"
     ]
    }
   ],
   "source": [
    "#Logical operators:\n",
    "x = 5             #and gate\n",
    "print(x > 3 and x < 10)\n",
    "# returns True because 5 is greater than 3 AND 5 is less than 10 \n",
    "print('*'*50)\n",
    "a = 5             #Or gate\n",
    "print(a > 3 or a < 4)\n",
    "# returns True because one of the conditions are true (5 is greater than 3, but 5 is not less than 4)\n",
    "print('*'*50)\n",
    "b = 5\n",
    "print(not(b > 3 and b < 10))\n",
    "# returns False because not is used to reverse the result"
   ]
  },
  {
   "cell_type": "code",
   "execution_count": 6,
   "id": "3ad3975b-748a-4185-a255-a7f26ea0b073",
   "metadata": {},
   "outputs": [
    {
     "name": "stdout",
     "output_type": "stream",
     "text": [
      "True\n",
      "False\n",
      "True\n",
      "**************************************************\n",
      "False\n",
      "True\n",
      "False\n"
     ]
    }
   ],
   "source": [
    "#Identity operators:\n",
    "a = [\"apple\", \"banana\"]\n",
    "b = [\"apple\", \"banana\"]               #Is operator\n",
    "c = a\n",
    "print(a is c)\n",
    "# returns True because c is the same object as a\n",
    "print(a is b)\n",
    "# returns False because a is not the same object as b, even if they have the same content\n",
    "print(a == b)\n",
    "# to demonstrate the difference betweeen \"is\" and \"==\": this comparison returns True because a is equal to b\n",
    "print('*'*50)\n",
    "x = [\"apple\", \"banana\"]\n",
    "y = [\"apple\", \"banana\"]\n",
    "z = x\n",
    "print(x is not z)\n",
    "# returns False because z is the same object as x\n",
    "print(x is not y)\n",
    "# returns True because x is not the same object as y, even if they have the same content\n",
    "print(x != y)\n",
    "# to demonstrate the difference betweeen \"is not\" and \"!=\": this comparison returns False because x is equal to y"
   ]
  },
  {
   "cell_type": "code",
   "execution_count": 7,
   "id": "54736b30-c242-4e68-9b93-a30e8cef6b69",
   "metadata": {},
   "outputs": [
    {
     "name": "stdout",
     "output_type": "stream",
     "text": [
      "True\n",
      "**************************************************\n",
      "True\n"
     ]
    }
   ],
   "source": [
    "# Membership operators:\n",
    "x = [\"apple\", \"banana\"]\n",
    "print(\"banana\" in x)\n",
    "print('*'*50)\n",
    "x = [\"apple\", \"banana\"]\n",
    "print(\"cherry\" not in x)"
   ]
  },
  {
   "cell_type": "markdown",
   "id": "7445c78d-3286-4059-9325-ecf16d4a0ae7",
   "metadata": {},
   "source": [
    "###"
   ]
  }
 ],
 "metadata": {
  "kernelspec": {
   "display_name": "Python 3 (ipykernel)",
   "language": "python",
   "name": "python3"
  },
  "language_info": {
   "codemirror_mode": {
    "name": "ipython",
    "version": 3
   },
   "file_extension": ".py",
   "mimetype": "text/x-python",
   "name": "python",
   "nbconvert_exporter": "python",
   "pygments_lexer": "ipython3",
   "version": "3.12.7"
  }
 },
 "nbformat": 4,
 "nbformat_minor": 5
}
