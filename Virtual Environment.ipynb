{
 "cells": [
  {
   "cell_type": "markdown",
   "id": "fbecb408-7cb4-4bfc-b04b-cfcb3cfae992",
   "metadata": {},
   "source": [
    "###"
   ]
  },
  {
   "cell_type": "markdown",
   "id": "24dadae1-c7ee-4f5b-b939-dc634a4340a2",
   "metadata": {},
   "source": [
    "# 🌍 Beginner’s Guide to Virtual Environments in Python (with venv & Pipenv)\n",
    "\n",
    "When you build Python projects, you’ll often need **different versions of libraries** for different projects.\n",
    "👉 Example:\n",
    "\n",
    "* Project A needs `Django 3.2`\n",
    "* Project B needs `Django 5.0`\n",
    "\n",
    "If you install both globally, they’ll **conflict**.\n",
    "The solution? **Virtual environments** ✅\n",
    "\n",
    "---\n",
    "\n",
    "## 🧐 What is a Virtual Environment?\n",
    "\n",
    "A **virtual environment** is like a **separate mini-Python world** just for your project.\n",
    "\n",
    "* Each project gets its own Python + libraries.\n",
    "* No conflicts between projects.\n",
    "* Keeps your system Python clean.\n",
    "\n",
    "👉 Think of it as **different boxes 📦** — each box holds the tools for one project only.\n",
    "\n",
    "---\n",
    "\n",
    "# 🔧 Method 1: Using `venv` (built-in)\n",
    "\n",
    "### Step 1: Create an environment"
   ]
  },
  {
   "cell_type": "markdown",
   "id": "6f2b6d44-7a4c-47ba-a158-79f7fd4ec280",
   "metadata": {},
   "source": [
    "```bash\n",
    "python -m venv myenv\n",
    "```"
   ]
  },
  {
   "cell_type": "markdown",
   "id": "84116c25-821e-4a97-9671-9942d8678dcf",
   "metadata": {},
   "source": [
    "👉 This makes a folder `myenv/` with its own Python setup.\n"
   ]
  },
  {
   "cell_type": "markdown",
   "id": "6e0df394-8e24-4ce2-b815-22bda0577413",
   "metadata": {},
   "source": [
    "\n",
    "\n",
    "### Step 2: Activate the environment\n",
    "\n",
    "* **Windows**:\n",
    "\n",
    "  ```bash\n",
    "  myenv\\Scripts\\activate\n",
    "  ```\n",
    "* **Mac/Linux**:\n",
    "\n",
    "  ```bash\n",
    "  source myenv/bin/activate\n",
    "  ```\n",
    "\n",
    "✅ You’ll see `(myenv)` in your terminal, meaning it’s active.\n",
    "\n",
    "---\n",
    "\n",
    "### Step 3: Install packages inside it\n",
    "\n",
    "```bash\n",
    "pip install numpy pandas\n",
    "```\n",
    "\n",
    "👉 These are installed **only inside `myenv`**, not globally.\n",
    "\n",
    "---\n",
    "\n",
    "### Step 4: Deactivate\n",
    "\n",
    "```bash\n",
    "deactivate\n",
    "```\n",
    "\n",
    "👉 This takes you back to global Python.\n",
    "\n",
    "---\n",
    "\n",
    "### Step 5: Save requirements\n",
    "\n",
    "```bash\n",
    "pip freeze > requirements.txt\n",
    "```\n",
    "\n",
    "Recreate the same environment anywhere:\n",
    "\n",
    "```bash\n",
    "pip install -r requirements.txt\n",
    "```\n",
    "\n",
    "---\n",
    "\n",
    "# 🔧 Method 2: Using Pipenv (modern tool 🚀)\n",
    "\n",
    "While `venv` works fine, managing environments + requirements can feel manual.\n",
    "That’s where **Pipenv** comes in.\n",
    "\n",
    "👉 Pipenv = `pip` + `venv` + automatic dependency management.\n",
    "\n",
    "---\n",
    "\n",
    "### Install Pipenv\n",
    "\n",
    "```bash\n",
    "pip install pipenv\n",
    "```\n",
    "\n",
    "---\n",
    "\n",
    "### Create a virtual environment + install package\n",
    "\n",
    "```bash\n",
    "pipenv install numpy\n",
    "```\n",
    "\n",
    "✅ This does two things at once:\n",
    "\n",
    "1. Creates a virtual environment for your project.\n",
    "2. Installs `numpy` inside it."
   ]
  },
  {
   "cell_type": "markdown",
   "id": "90f38aa4-42b2-4f68-b3d1-322b9a7273be",
   "metadata": {},
   "source": [
    "---\n",
    "\n",
    "### Activate environment\n",
    "\n",
    "```bash\n",
    "pipenv shell\n",
    "```\n",
    "\n",
    "👉 Now you’re inside Pipenv’s virtual environment.\n",
    "\n",
    "---\n",
    "\n",
    "### Save dependencies\n",
    "\n",
    "Pipenv automatically creates a file called **`Pipfile`** (like `requirements.txt`, but smarter).\n",
    "It also makes a **`Pipfile.lock`** that records exact versions for reproducibility.\n",
    "\n",
    "---"
   ]
  },
  {
   "cell_type": "markdown",
   "id": "72eaecab-7f8a-4559-aac6-013db2ecb181",
   "metadata": {},
   "source": [
    "### Install all dependencies from Pipfile\n",
    "\n",
    "```bash\n",
    "pipenv install\n",
    "```"
   ]
  },
  {
   "cell_type": "markdown",
   "id": "bf503c28-e794-4f79-9d00-d63689c3260c",
   "metadata": {},
   "source": [
    "---\n",
    "\n",
    "## 💡 venv vs Pipenv\n",
    "\n",
    "| Feature                       | venv                        | Pipenv                                |\n",
    "| ----------------------------- | --------------------------- | ------------------------------------- |\n",
    "| Built-in to Python            | ✅ Yes                       | ❌ Needs installation                  |\n",
    "| Creates isolated environments | ✅                           | ✅                                     |\n",
    "| Installs packages             | With `pip`                  | Built-in (`pipenv install`)           |\n",
    "| Manages dependencies          | Manual (`requirements.txt`) | Automatic (`Pipfile`, `Pipfile.lock`) |\n",
    "| Beginner-friendly             | Simple but manual           | Easier long-term                      |\n",
    "\n",
    "---"
   ]
  },
  {
   "cell_type": "markdown",
   "id": "54af786e-5f3e-41a2-90cd-8233e105337a",
   "metadata": {},
   "source": [
    "---\n",
    "\n",
    "## 🎯 Final Thoughts\n",
    "\n",
    "* **Use `venv`** if you want something simple (it’s built-in and lightweight).\n",
    "* **Use Pipenv** if you want an easier way to manage dependencies + virtual environments in one step.\n",
    "\n",
    "👉 Best practice: **always** use a virtual environment for every Python project.\n",
    "\n",
    "---\n"
   ]
  },
  {
   "cell_type": "markdown",
   "id": "b358f605-c6fe-47c9-8bbc-799e615eeb64",
   "metadata": {},
   "source": [
    "###"
   ]
  }
 ],
 "metadata": {
  "kernelspec": {
   "display_name": "Python 3 (ipykernel)",
   "language": "python",
   "name": "python3"
  },
  "language_info": {
   "codemirror_mode": {
    "name": "ipython",
    "version": 3
   },
   "file_extension": ".py",
   "mimetype": "text/x-python",
   "name": "python",
   "nbconvert_exporter": "python",
   "pygments_lexer": "ipython3",
   "version": "3.12.7"
  }
 },
 "nbformat": 4,
 "nbformat_minor": 5
}
