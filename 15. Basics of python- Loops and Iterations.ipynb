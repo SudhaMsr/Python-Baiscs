{
 "cells": [
  {
   "cell_type": "markdown",
   "id": "9084aa52",
   "metadata": {},
   "source": [
    "###"
   ]
  },
  {
   "cell_type": "markdown",
   "id": "c19bc0fd-b8db-4458-beaf-d1bb34a3d76b",
   "metadata": {},
   "source": [
    "\n",
    "# **Loops and Iterations in Python**\n",
    "\n",
    "Loops are used when you want to **repeat a block of code multiple times**. Python supports two main types of loops:\n",
    "\n",
    "1. **`for` loop** → Used to iterate over sequences like lists, tuples, strings, or ranges.\n",
    "2. **`while` loop** → Repeats as long as a given condition is True.\n",
    "\n",
    "---\n"
   ]
  },
  {
   "cell_type": "markdown",
   "id": "5c1c1913",
   "metadata": {},
   "source": [
    "## 🔹 **1. The `for` Loop**\n",
    "\n",
    "The `for` loop iterates over a **sequence of items**."
   ]
  },
  {
   "cell_type": "code",
   "execution_count": 1,
   "id": "d830d7df",
   "metadata": {},
   "outputs": [
    {
     "name": "stdout",
     "output_type": "stream",
     "text": [
      "apple\n",
      "banana\n",
      "cherry\n"
     ]
    }
   ],
   "source": [
    "# Iterating over a list\n",
    "fruits = [\"apple\", \"banana\", \"cherry\"]\n",
    "for fruit in fruits:\n",
    "    print(fruit)"
   ]
  },
  {
   "cell_type": "code",
   "execution_count": 2,
   "id": "8ffbc9f8-1779-4981-a934-c8b83c16acee",
   "metadata": {},
   "outputs": [
    {
     "name": "stdout",
     "output_type": "stream",
     "text": [
      "0\n",
      "1\n",
      "2\n",
      "3\n",
      "4\n"
     ]
    }
   ],
   "source": [
    "# Using range()\n",
    "for i in range(5):\n",
    "    print(i)  # Prints 0 1 2 3 4"
   ]
  },
  {
   "cell_type": "markdown",
   "id": "67614c23-e9ae-4fc9-9b5e-83c90259f90b",
   "metadata": {},
   "source": [
    "## 🔹 **2. The `while` Loop**\n",
    "\n",
    "The `while` loop executes as long as a **condition is True**.\n"
   ]
  },
  {
   "cell_type": "code",
   "execution_count": 3,
   "id": "47deafec",
   "metadata": {},
   "outputs": [
    {
     "name": "stdout",
     "output_type": "stream",
     "text": [
      "0\n",
      "1\n",
      "2\n",
      "3\n",
      "4\n"
     ]
    }
   ],
   "source": [
    "i = 0\n",
    "while i < 5:\n",
    "    print(i)\n",
    "    i += 1"
   ]
  },
  {
   "cell_type": "code",
   "execution_count": 5,
   "id": "933f29cf",
   "metadata": {},
   "outputs": [
    {
     "name": "stdout",
     "output_type": "stream",
     "text": [
      "(1, 20)\n",
      "(5, 30)\n",
      "(4, 60)\n"
     ]
    }
   ],
   "source": [
    "d1={1:20,5:30,4:60}\n",
    "for i in d1.items():\n",
    "    print(i)"
   ]
  },
  {
   "cell_type": "markdown",
   "id": "25c0de18",
   "metadata": {},
   "source": [
    "## 🔹 **3. Nested Loops**\n",
    "\n",
    "You can have loops **inside other loops** for more complex iterations."
   ]
  },
  {
   "cell_type": "code",
   "execution_count": 4,
   "id": "7eb3a753",
   "metadata": {},
   "outputs": [
    {
     "name": "stdout",
     "output_type": "stream",
     "text": [
      "0 0\n",
      "0 1\n",
      "1 0\n",
      "1 1\n",
      "2 0\n",
      "2 1\n"
     ]
    }
   ],
   "source": [
    "for i in range(3):\n",
    "    for j in range(2):\n",
    "        print(i, j)"
   ]
  },
  {
   "cell_type": "markdown",
   "id": "56c52b4a-edf9-497b-b21f-aac5a4a49863",
   "metadata": {},
   "source": [
    "---\n",
    "\n",
    "# **Jump Statements in Python**\n",
    "\n",
    "Jump statements **change the normal flow of loops**. Python provides three main jump statements:\n",
    "\n",
    "---"
   ]
  },
  {
   "cell_type": "markdown",
   "id": "80c32411-db2c-472b-9736-aeee5598da82",
   "metadata": {},
   "source": [
    "## 🔹 **1. `break`**\n",
    "\n",
    "Exits the loop **immediately**, no matter the loop condition."
   ]
  },
  {
   "cell_type": "code",
   "execution_count": 5,
   "id": "644e6a94-25c8-4852-a387-411aa7189e19",
   "metadata": {},
   "outputs": [
    {
     "name": "stdout",
     "output_type": "stream",
     "text": [
      "0\n",
      "1\n",
      "2\n",
      "3\n",
      "4\n"
     ]
    }
   ],
   "source": [
    "for i in range(10):\n",
    "    if i == 5:\n",
    "        break\n",
    "    print(i)"
   ]
  },
  {
   "cell_type": "markdown",
   "id": "a0f428b2-ac43-4d53-ab54-def440de0756",
   "metadata": {},
   "source": [
    "\n",
    "---\n",
    "\n",
    "## 🔹 **2. `continue`**\n",
    "\n",
    "Skips the **current iteration** and continues with the next one."
   ]
  },
  {
   "cell_type": "code",
   "execution_count": 7,
   "id": "44467cff-d733-420d-97ca-37b1ba6ab5b3",
   "metadata": {},
   "outputs": [
    {
     "name": "stdout",
     "output_type": "stream",
     "text": [
      "0\n",
      "1\n",
      "3\n",
      "4\n"
     ]
    }
   ],
   "source": [
    "for i in range(5):\n",
    "    if i == 2:\n",
    "        continue\n",
    "    print(i)"
   ]
  },
  {
   "cell_type": "markdown",
   "id": "da469984-d4bd-4a31-81f4-eaebd4aaf155",
   "metadata": {},
   "source": [
    "---\n",
    "\n",
    "## 🔹 **3. `pass`**\n",
    "\n",
    "Does **nothing**. Used as a **placeholder** when a statement is syntactically required but you don’t want any action yet."
   ]
  },
  {
   "cell_type": "code",
   "execution_count": 9,
   "id": "d3623fd5-41b6-4828-adfe-5d72efcd7e11",
   "metadata": {},
   "outputs": [],
   "source": [
    "x = 10\n",
    "if x > 0:\n",
    "    pass  # Implement later"
   ]
  },
  {
   "cell_type": "markdown",
   "id": "cde32c5b-77f8-456f-9b06-fae3390c545c",
   "metadata": {},
   "source": [
    "---\n",
    "\n",
    "## 📌 **Quick Recap**\n",
    "\n",
    "* **`for` loop** → Iterates over sequences.\n",
    "* **`while` loop** → Runs until a condition becomes False.\n",
    "* **Nested loops** → Loops inside loops.\n",
    "* **`break`** → Exit the loop immediately.\n",
    "* **`continue`** → Skip current iteration.\n",
    "* **`pass`** → Placeholder; does nothing."
   ]
  },
  {
   "cell_type": "markdown",
   "id": "0fc8b518-9480-40fa-8430-95ed887d92d2",
   "metadata": {},
   "source": [
    "---\n",
    "\n",
    "💡 **Tip for Beginners:**\n",
    "\n",
    "* Use **`for` loops** when you know the number of iterations.\n",
    "* Use **`while` loops** when the number of iterations depends on a condition.\n",
    "* Use **jump statements** to control loops effectively.\n",
    "\n",
    "---"
   ]
  },
  {
   "cell_type": "markdown",
   "id": "5c5eb766-b201-4457-959a-5bb3f4a05300",
   "metadata": {},
   "source": [
    "####"
   ]
  }
 ],
 "metadata": {
  "kernelspec": {
   "display_name": "Python 3 (ipykernel)",
   "language": "python",
   "name": "python3"
  },
  "language_info": {
   "codemirror_mode": {
    "name": "ipython",
    "version": 3
   },
   "file_extension": ".py",
   "mimetype": "text/x-python",
   "name": "python",
   "nbconvert_exporter": "python",
   "pygments_lexer": "ipython3",
   "version": "3.12.7"
  }
 },
 "nbformat": 4,
 "nbformat_minor": 5
}
