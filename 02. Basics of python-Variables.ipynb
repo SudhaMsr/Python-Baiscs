{
 "cells": [
  {
   "cell_type": "markdown",
   "id": "ad8415c6",
   "metadata": {},
   "source": [
    "# Variables:\n",
    "* Variables stores the data values\n",
    "1. Creating a variable\n",
    "2. Casting\n",
    "3. Type of variable\n",
    "4. Quotes-\" \",' '\n",
    "5. Case sensitive\n",
    "6. Variable names\n",
    "7. Assigning multiple values\n",
    "8. Output variables\n",
    "9. Global variable"
   ]
  },
  {
   "cell_type": "markdown",
   "id": "51ed9579",
   "metadata": {},
   "source": [
    "# Creating variable:\n",
    "* Assigning Values "
   ]
  },
  {
   "cell_type": "code",
   "execution_count": 1,
   "id": "64cc5da4",
   "metadata": {},
   "outputs": [
    {
     "name": "stdout",
     "output_type": "stream",
     "text": [
      "5\n",
      "Alaric\n",
      "2.6\n"
     ]
    }
   ],
   "source": [
    "a= 5          #a is a type of int\n",
    "b= \"Alaric\"     #b is a type of string\n",
    "c= 2.6        #c is a type of float\n",
    "print(a)\n",
    "print(b)\n",
    "print(c)"
   ]
  },
  {
   "cell_type": "markdown",
   "id": "9802b4d6",
   "metadata": {},
   "source": [
    "# Casting:\n",
    "*  To convert the variable data type into another data type in order to the operation required."
   ]
  },
  {
   "cell_type": "code",
   "execution_count": 2,
   "id": "4d58df03",
   "metadata": {},
   "outputs": [
    {
     "name": "stdout",
     "output_type": "stream",
     "text": [
      "5\n",
      "5\n",
      "5.0\n"
     ]
    }
   ],
   "source": [
    "a= str(5)      #a will be '5'\n",
    "b= int(5)      #b will be 5\n",
    "c= float(5)    #c will be 5.0 \n",
    "print(a)\n",
    "print(b)\n",
    "print(c)"
   ]
  },
  {
   "cell_type": "markdown",
   "id": "ea3a1f5b",
   "metadata": {},
   "source": [
    "# Type of variable:\n",
    "* To get the type of variable use   *type()*   function"
   ]
  },
  {
   "cell_type": "code",
   "execution_count": 3,
   "id": "4c25bfa9",
   "metadata": {},
   "outputs": [
    {
     "name": "stdout",
     "output_type": "stream",
     "text": [
      "<class 'int'>\n",
      "<class 'str'>\n",
      "<class 'float'>\n"
     ]
    }
   ],
   "source": [
    "a= 5          #a is a type of int\n",
    "b= \"Alaric\"     #b is a type of string\n",
    "c= 2.6        #c is a type of string\n",
    "print(type(a))\n",
    "print(type(b))\n",
    "print(type(c))"
   ]
  },
  {
   "cell_type": "markdown",
   "id": "0f739bc7",
   "metadata": {},
   "source": [
    "# Quotes- \" \", ' '\n",
    "* String variables can be declared either by using single or double quotes."
   ]
  },
  {
   "cell_type": "code",
   "execution_count": 3,
   "id": "8da6f717",
   "metadata": {},
   "outputs": [
    {
     "name": "stdout",
     "output_type": "stream",
     "text": [
      "Hello\n",
      "Alaric!\n"
     ]
    }
   ],
   "source": [
    "a=\"Hello\"\n",
    "b='Alaric!'\n",
    "print(a)\n",
    "print(b)"
   ]
  },
  {
   "cell_type": "markdown",
   "id": "139fc782",
   "metadata": {},
   "source": [
    "# Case sensitive:\n",
    "* Program that is differentiating between capital and lower-case letters."
   ]
  },
  {
   "cell_type": "code",
   "execution_count": 4,
   "id": "9cd28e8a",
   "metadata": {},
   "outputs": [
    {
     "name": "stdout",
     "output_type": "stream",
     "text": [
      " Hello\n",
      " Alaric\n"
     ]
    }
   ],
   "source": [
    "a = \" Hello\"\n",
    "A = \" Alaric\"\n",
    "print(a)\n",
    "print(A)"
   ]
  },
  {
   "cell_type": "markdown",
   "id": "64c8a931",
   "metadata": {},
   "source": [
    "# Variable names:\n",
    "* Valid variable names\n",
    "* Variable names should start with letter, either upper case or lower case or with under score(_)\n",
    "* Variable names should not start with numbers.\n",
    "* Variables should contain only letters,numbers and under score. No other special charachters are included.\n",
    "* Variable names are case sensitive- RAM,Ram,ram are different"
   ]
  },
  {
   "cell_type": "code",
   "execution_count": 5,
   "id": "098969b6",
   "metadata": {},
   "outputs": [],
   "source": [
    "# Valid variable names \n",
    "myvar = \"Alaric\"\n",
    "my_var = \"Alaric\"\n",
    "_my_var = \"Alaric\"\n",
    "myVar = \"Alaric\"\n",
    "MYVAR = \"Alaric\"\n",
    "myvar2 = \"Alaric\""
   ]
  },
  {
   "cell_type": "code",
   "execution_count": 11,
   "id": "ba4e9847",
   "metadata": {},
   "outputs": [
    {
     "data": {
      "image/jpeg": "[encoded data removed]",
      "text/plain": [
       "<IPython.core.display.Image object>"
      ]
     },
     "execution_count": 11,
     "metadata": {},
     "output_type": "execute_result"
    }
   ],
   "source": [
    "from IPython.display import Image\n",
    "Image(\"Desktop\\invalid-variable name.jpg\")"
   ]
  },
  {
   "cell_type": "markdown",
   "id": "d985c828",
   "metadata": {},
   "source": [
    "## Multiple variable names:\n",
    "1. Camel case\n",
    "2. Pascal case\n",
    "3. Snake case"
   ]
  },
  {
   "cell_type": "code",
   "execution_count": 6,
   "id": "9f4e6358",
   "metadata": {},
   "outputs": [
    {
     "name": "stdout",
     "output_type": "stream",
     "text": [
      "Alaric\n"
     ]
    }
   ],
   "source": [
    "#Camel case\n",
    "myVariableName = \"Alaric\"\n",
    "print(myVariableName)"
   ]
  },
  {
   "cell_type": "code",
   "execution_count": 7,
   "id": "781fc9b8",
   "metadata": {},
   "outputs": [
    {
     "name": "stdout",
     "output_type": "stream",
     "text": [
      "Alaric\n"
     ]
    }
   ],
   "source": [
    "#Pascal case\n",
    "MyVariableName = \"Alaric\"\n",
    "print(MyVariableName)"
   ]
  },
  {
   "cell_type": "code",
   "execution_count": 8,
   "id": "22ecb9d9",
   "metadata": {},
   "outputs": [
    {
     "name": "stdout",
     "output_type": "stream",
     "text": [
      "Alaric\n"
     ]
    }
   ],
   "source": [
    "#Snake case\n",
    "my_variable_name = \"Alaric\"\n",
    "print(my_variable_name)"
   ]
  },
  {
   "cell_type": "markdown",
   "id": "ee981b54",
   "metadata": {},
   "source": [
    "# Assigning multiple values:\n",
    "\n",
    "## Multiple values to multiple variables:-"
   ]
  },
  {
   "cell_type": "code",
   "execution_count": 9,
   "id": "e494a998",
   "metadata": {},
   "outputs": [
    {
     "name": "stdout",
     "output_type": "stream",
     "text": [
      "Orange\n",
      "mango\n",
      "apple\n"
     ]
    }
   ],
   "source": [
    "a,b,c=\"Orange\",\"mango\",\"apple\"\n",
    "print(a)\n",
    "print(b)\n",
    "print(c)"
   ]
  },
  {
   "cell_type": "markdown",
   "id": "b7663bfb",
   "metadata": {},
   "source": [
    "## One value to multiple variables:-"
   ]
  },
  {
   "cell_type": "code",
   "execution_count": 10,
   "id": "3c095f7b",
   "metadata": {},
   "outputs": [
    {
     "name": "stdout",
     "output_type": "stream",
     "text": [
      "apple\n",
      "apple\n",
      "apple\n"
     ]
    }
   ],
   "source": [
    "a=b=c=\"apple\"\n",
    "print(a)\n",
    "print(b)\n",
    "print(c)"
   ]
  },
  {
   "cell_type": "markdown",
   "id": "d34aa8d2",
   "metadata": {},
   "source": [
    "## Unpacking collection:-"
   ]
  },
  {
   "cell_type": "code",
   "execution_count": 11,
   "id": "c26d517c",
   "metadata": {},
   "outputs": [
    {
     "name": "stdout",
     "output_type": "stream",
     "text": [
      "apple\n",
      "mango\n",
      "cherry\n",
      "orange\n"
     ]
    }
   ],
   "source": [
    "fruits=[\"apple\",\"mango\",\"cherry\",\"orange\"]\n",
    "a,b,c,d=fruits\n",
    "print(a)\n",
    "print(b)\n",
    "print(c)\n",
    "print(d)"
   ]
  },
  {
   "cell_type": "markdown",
   "id": "88d7f3a4",
   "metadata": {},
   "source": [
    "# Output variables:\n",
    "* In python print is defined as output variable"
   ]
  },
  {
   "cell_type": "code",
   "execution_count": 12,
   "id": "d037f13a",
   "metadata": {},
   "outputs": [
    {
     "name": "stdout",
     "output_type": "stream",
     "text": [
      "Human AI\n"
     ]
    }
   ],
   "source": [
    "a= \"AI\"\n",
    "print(\"Human\" + \" \"+a)"
   ]
  },
  {
   "cell_type": "code",
   "execution_count": 13,
   "id": "4b9ac65e",
   "metadata": {},
   "outputs": [
    {
     "name": "stdout",
     "output_type": "stream",
     "text": [
      "HumanAI\n"
     ]
    }
   ],
   "source": [
    "a= \"Human\"\n",
    "b= \"AI\"\n",
    "c= a+b\n",
    "print(c)"
   ]
  },
  {
   "cell_type": "code",
   "execution_count": 14,
   "id": "38e0703b",
   "metadata": {},
   "outputs": [
    {
     "name": "stdout",
     "output_type": "stream",
     "text": [
      "Human AI\n"
     ]
    }
   ],
   "source": [
    "c= a+\" \" +b\n",
    "print(c)"
   ]
  },
  {
   "cell_type": "markdown",
   "id": "b1ce3df8",
   "metadata": {},
   "source": [
    "# Global variables:\n",
    "* Variables that are created outside of the function."
   ]
  },
  {
   "cell_type": "code",
   "execution_count": 15,
   "id": "81a5bad9",
   "metadata": {},
   "outputs": [
    {
     "name": "stdout",
     "output_type": "stream",
     "text": [
      "Human AI\n"
     ]
    }
   ],
   "source": [
    "x = \"AI\"\n",
    "\n",
    "def myfunc():\n",
    "  print(\"Human \" + x)\n",
    "\n",
    "myfunc()"
   ]
  },
  {
   "cell_type": "code",
   "execution_count": 16,
   "id": "45b5730a",
   "metadata": {},
   "outputs": [
    {
     "name": "stdout",
     "output_type": "stream",
     "text": [
      "Human Being\n",
      "HumanAI\n"
     ]
    }
   ],
   "source": [
    "# Variable inside the function\n",
    "x = \"AI\"\n",
    "\n",
    "def myfunc():\n",
    "  x = \"Being\"\n",
    "  print(\"Human \" + x)\n",
    "\n",
    "myfunc()\n",
    "\n",
    "print(\"Human\" + x)"
   ]
  },
  {
   "cell_type": "markdown",
   "id": "aae9481c",
   "metadata": {},
   "source": [
    "# Operators in python:\n",
    "1. Arithmetic Operators- +,-,*,/, etc\n",
    "2. Assignment Operators- =,+=,-= \n",
    "3. Comparision Opertors- ==,>,>=,<,!=\n",
    "4. Logical Operators- and,or,not\n",
    "5. Identical Operators- is ,not is\n",
    "6. Bitwise Operators-| ,&, XOR,NOR,NOT\n",
    "7. Membershio Operators- in, not in"
   ]
  },
  {
   "cell_type": "code",
   "execution_count": 18,
   "id": "97f17fc5",
   "metadata": {},
   "outputs": [
    {
     "name": "stdout",
     "output_type": "stream",
     "text": [
      "15\n",
      "**************************************************\n",
      "10\n",
      "**************************************************\n",
      "18\n",
      "**************************************************\n"
     ]
    }
   ],
   "source": [
    "#Arithemetic operators:\n",
    "print(10 + 5)\n",
    "print('*'*50)\n",
    "\n",
    "print(20-10)\n",
    "print('*'*50)\n",
    "\n",
    "print(2*9)\n",
    "print('*'*50)"
   ]
  },
  {
   "cell_type": "code",
   "execution_count": 19,
   "id": "40401f04",
   "metadata": {},
   "outputs": [
    {
     "name": "stdout",
     "output_type": "stream",
     "text": [
      "6\n",
      "**************************************************\n",
      "8\n",
      "********************\n",
      "1\n"
     ]
    }
   ],
   "source": [
    "#Assignment operators:\n",
    "a = 6\n",
    "print(a)\n",
    "print('*'*50)\n",
    "b = 5\n",
    "b += 3\n",
    "print(b)\n",
    "print('*'*20)\n",
    "c = 5\n",
    "c -= 4\n",
    "print(c)"
   ]
  },
  {
   "cell_type": "code",
   "execution_count": 20,
   "id": "998a0f07",
   "metadata": {},
   "outputs": [
    {
     "name": "stdout",
     "output_type": "stream",
     "text": [
      "False\n",
      "**************************************************\n",
      "True\n"
     ]
    }
   ],
   "source": [
    "#Comparision operators:\n",
    "a = 5\n",
    "b = 3\n",
    "print(a == b)\n",
    "# returns False because 5 is not equal to 3\n",
    "print('*'*50)\n",
    "c = 5\n",
    "d = 5\n",
    "print(c == d)\n",
    "# returns True because 5 is equal to 5\n"
   ]
  },
  {
   "cell_type": "code",
   "execution_count": 21,
   "id": "bdb698dc",
   "metadata": {},
   "outputs": [
    {
     "name": "stdout",
     "output_type": "stream",
     "text": [
      "True\n",
      "**************************************************\n",
      "True\n",
      "**************************************************\n",
      "False\n"
     ]
    }
   ],
   "source": [
    "#Logical operators:\n",
    "x = 5             #and gate\n",
    "print(x > 3 and x < 10)\n",
    "# returns True because 5 is greater than 3 AND 5 is less than 10 \n",
    "print('*'*50)\n",
    "a = 5             #Or gate\n",
    "print(a > 3 or a < 4)\n",
    "# returns True because one of the conditions are true (5 is greater than 3, but 5 is not less than 4)\n",
    "print('*'*50)\n",
    "b = 5\n",
    "print(not(b > 3 and b < 10))\n",
    "# returns False because not is used to reverse the result"
   ]
  },
  {
   "cell_type": "code",
   "execution_count": 22,
   "id": "4a823e63",
   "metadata": {},
   "outputs": [
    {
     "name": "stdout",
     "output_type": "stream",
     "text": [
      "True\n",
      "False\n",
      "True\n",
      "**************************************************\n",
      "False\n",
      "True\n",
      "False\n"
     ]
    }
   ],
   "source": [
    "#Identity operators:\n",
    "a = [\"apple\", \"banana\"]\n",
    "b = [\"apple\", \"banana\"]               #Is operator\n",
    "c = a\n",
    "print(a is c)\n",
    "# returns True because c is the same object as a\n",
    "print(a is b)\n",
    "# returns False because a is not the same object as b, even if they have the same content\n",
    "print(a == b)\n",
    "# to demonstrate the difference betweeen \"is\" and \"==\": this comparison returns True because a is equal to b\n",
    "print('*'*50)\n",
    "x = [\"apple\", \"banana\"]\n",
    "y = [\"apple\", \"banana\"]\n",
    "z = x\n",
    "print(x is not z)\n",
    "# returns False because z is the same object as x\n",
    "print(x is not y)\n",
    "# returns True because x is not the same object as y, even if they have the same content\n",
    "print(x != y)\n",
    "# to demonstrate the difference betweeen \"is not\" and \"!=\": this comparison returns False because x is equal to y"
   ]
  },
  {
   "cell_type": "code",
   "execution_count": 23,
   "id": "19f9e0db",
   "metadata": {},
   "outputs": [
    {
     "name": "stdout",
     "output_type": "stream",
     "text": [
      "True\n",
      "**************************************************\n",
      "True\n"
     ]
    }
   ],
   "source": [
    "# Membership operators:\n",
    "x = [\"apple\", \"banana\"]\n",
    "print(\"banana\" in x)\n",
    "print('*'*50)\n",
    "x = [\"apple\", \"banana\"]\n",
    "print(\"cherry\" not in x)"
   ]
  }
 ],
 "metadata": {
  "kernelspec": {
   "display_name": "Python 3 (ipykernel)",
   "language": "python",
   "name": "python3"
  },
  "language_info": {
   "codemirror_mode": {
    "name": "ipython",
    "version": 3
   },
   "file_extension": ".py",
   "mimetype": "text/x-python",
   "name": "python",
   "nbconvert_exporter": "python",
   "pygments_lexer": "ipython3",
   "version": "3.12.7"
  }
 },
 "nbformat": 4,
 "nbformat_minor": 5
}
