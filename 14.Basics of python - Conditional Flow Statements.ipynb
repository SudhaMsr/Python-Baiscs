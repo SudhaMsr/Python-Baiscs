{
 "cells": [
  {
   "cell_type": "markdown",
   "id": "4d9135f8",
   "metadata": {},
   "source": [
    "\n",
    "---\n",
    "\n",
    "# **Decision Making Statements in Python**\n",
    "\n",
    "Decision making statements allow your program to **execute certain blocks of code only if specific conditions are met**.\n",
    "\n",
    "---\n",
    "\n",
    "## **1. Conditional Statements**\n",
    "\n",
    "Conditional statements in Python help you **make decisions based on certain conditions**. The most common ones are:\n",
    "\n",
    "* `if` → Executes a block of code if the condition is True.\n",
    "* `elif` → Stands for “else if”; checks another condition if the previous `if` was False.\n",
    "* `else` → Executes a block of code if all previous conditions are False."
   ]
  },
  {
   "cell_type": "code",
   "execution_count": 1,
   "id": "967d39b7-8d2e-4300-9e7b-31509d10059b",
   "metadata": {},
   "outputs": [
    {
     "name": "stdout",
     "output_type": "stream",
     "text": [
      "x is positive\n"
     ]
    }
   ],
   "source": [
    "\n",
    "x = 10\n",
    "\n",
    "if x > 0:\n",
    "    print(\"x is positive\")\n",
    "elif x == 0:\n",
    "    print(\"x is zero\")\n",
    "else:\n",
    "    print(\"x is negative\")"
   ]
  },
  {
   "cell_type": "markdown",
   "id": "7e2c600e-9b51-4187-9150-8cfedc0f18d0",
   "metadata": {},
   "source": [
    "\n",
    "## **2. Logical Conditions (Comparison Operators)**\n",
    "\n",
    "To make decisions, Python uses **logical conditions** to compare values:\n",
    "\n",
    "| **Operator** | **Description**       | **Example** |\n",
    "| ------------ | --------------------- | ----------- |\n",
    "| `==`         | Equals                | `x == 5`    |\n",
    "| `!=`         | Not Equals            | `x != 5`    |\n",
    "| `<`          | Less than             | `x < 10`    |\n",
    "| `>`          | Greater than          | `x > 10`    |\n",
    "| `<=`         | Less than or equal    | `x <= 10`   |\n",
    "| `>=`         | Greater than or equal | `x >= 10`   |\n",
    "\n",
    "---"
   ]
  },
  {
   "cell_type": "code",
   "execution_count": 1,
   "id": "9aabe6fc",
   "metadata": {},
   "outputs": [
    {
     "name": "stdout",
     "output_type": "stream",
     "text": [
      "enter the age of the person:18\n",
      "you are eligible to vote\n"
     ]
    }
   ],
   "source": [
    "age=int(input(\"enter the age of the person:\"))\n",
    "if age>=18:\n",
    "    print(\"you are eligible to vote\")\n",
    "else:\n",
    "    print(\"you are not eligible\")"
   ]
  },
  {
   "cell_type": "code",
   "execution_count": 2,
   "id": "a94a681c",
   "metadata": {},
   "outputs": [
    {
     "name": "stdout",
     "output_type": "stream",
     "text": [
      "enter the age of the person:5\n",
      "you are kid\n"
     ]
    }
   ],
   "source": [
    "age=int(input(\"enter the age of the person:\"))\n",
    "if age>=18:\n",
    "    print(\"you are eligible to vote\")\n",
    "elif age==5:\n",
    "    print(\"you are kid\")\n",
    "elif age==12:\n",
    "    print(\"you still have another 6 years to reach 18\")\n",
    "elif age==17:\n",
    "    print(\"you still have another 1 years to reach 18\")\n",
    "elif age==18:\n",
    "    print(\"hey!,you are eligible to vote\") \n",
    "else:\n",
    "    print(\"sorry!, please provide proper input\")"
   ]
  },
  {
   "cell_type": "code",
   "execution_count": 7,
   "id": "8e73784d",
   "metadata": {},
   "outputs": [
    {
     "name": "stdout",
     "output_type": "stream",
     "text": [
      "you are not eligible\n"
     ]
    }
   ],
   "source": [
    "def validate_age():\n",
    "    age = int(input(\"enter the age of the person:\"))\n",
    "if age>=18:\n",
    "    print(\"you are eligible to vote\")\n",
    "else:\n",
    "    print(\"you are not eligible\")"
   ]
  },
  {
   "cell_type": "code",
   "execution_count": 6,
   "id": "e30a205a",
   "metadata": {},
   "outputs": [
    {
     "name": "stdout",
     "output_type": "stream",
     "text": [
      "enter the age of the person:18\n"
     ]
    }
   ],
   "source": [
    "validate_age()"
   ]
  },
  {
   "cell_type": "markdown",
   "id": "a8a45b52",
   "metadata": {},
   "source": [
    "### You can out if and else in the same line "
   ]
  },
  {
   "cell_type": "code",
   "execution_count": 11,
   "id": "41614b6c",
   "metadata": {},
   "outputs": [
    {
     "name": "stdout",
     "output_type": "stream",
     "text": [
      "a is greater than b\n"
     ]
    }
   ],
   "source": [
    "a=100\n",
    "b=15\n",
    "if a > b: print(\"a is greater than b\")"
   ]
  },
  {
   "cell_type": "code",
   "execution_count": 12,
   "id": "36cc1c97",
   "metadata": {},
   "outputs": [
    {
     "name": "stdout",
     "output_type": "stream",
     "text": [
      "B\n"
     ]
    }
   ],
   "source": [
    "a = 2\n",
    "b = 330\n",
    "print(\"A\") if a > b else print(\"B\")"
   ]
  },
  {
   "cell_type": "markdown",
   "id": "6fc42904-288e-4e60-a3e6-20958b7f56be",
   "metadata": {},
   "source": [
    "## **3. Logical Operators**\n",
    "\n",
    "You can combine multiple conditions using **logical operators**:\n",
    "\n",
    "| Operator | Description                                | Example            |\n",
    "| -------- | ------------------------------------------ | ------------------ |\n",
    "| `and`    | True if **both** conditions are True       | `x > 0 and x < 10` |\n",
    "| `or`     | True if **at least one** condition is True | `x < 0 or x > 5`   |\n",
    "| `not`    | Reverses the result                        | `not(x > 0)`       |\n"
   ]
  },
  {
   "cell_type": "code",
   "execution_count": 4,
   "id": "98a7b1d1-e6f1-454e-8e3b-1ca04a82b929",
   "metadata": {},
   "outputs": [
    {
     "name": "stdout",
     "output_type": "stream",
     "text": [
      "x is either odd or negative\n"
     ]
    }
   ],
   "source": [
    "x = 7\n",
    "\n",
    "if x > 0 and x % 2 == 0:\n",
    "    print(\"x is positive and even\")\n",
    "else:\n",
    "    print(\"x is either odd or negative\")"
   ]
  },
  {
   "cell_type": "markdown",
   "id": "2a800ea2-3f2f-41d3-91a0-bb9d7cd22868",
   "metadata": {},
   "source": [
    "## **4. Nested Conditions**\n",
    "\n",
    "You can **nest if statements inside other if statements** for more complex decisions."
   ]
  },
  {
   "cell_type": "code",
   "execution_count": 5,
   "id": "c6b5f965-94fe-4c4f-8940-f815aa2290a6",
   "metadata": {},
   "outputs": [
    {
     "name": "stdout",
     "output_type": "stream",
     "text": [
      "x is positive and even\n"
     ]
    }
   ],
   "source": [
    "x = 12\n",
    "\n",
    "if x > 0:\n",
    "    if x % 2 == 0:\n",
    "        print(\"x is positive and even\")\n",
    "    else:\n",
    "        print(\"x is positive and odd\")\n",
    "else:\n",
    "    print(\"x is negative or zero\")"
   ]
  },
  {
   "cell_type": "markdown",
   "id": "35c4a788-5f76-410a-b815-c9bf593213e1",
   "metadata": {},
   "source": [
    "---\n",
    "\n",
    "## 📌 **Quick Recap**\n",
    "\n",
    "* **`if`** → Executes code if condition is True\n",
    "* **`elif`** → Checks another condition if previous `if` was False\n",
    "* **`else`** → Executes code if all conditions are False\n",
    "* **Comparison operators** (`==`, `!=`, `<`, `>`, `<=`, `>=`) → Used to form logical conditions\n",
    "* **Logical operators** (`and`, `or`, `not`) → Combine multiple conditions\n",
    "\n",
    "---"
   ]
  },
  {
   "cell_type": "markdown",
   "id": "2824295a-7b9a-4616-a5bb-f53b7d58051f",
   "metadata": {},
   "source": [
    "###"
   ]
  }
 ],
 "metadata": {
  "kernelspec": {
   "display_name": "Python 3 (ipykernel)",
   "language": "python",
   "name": "python3"
  },
  "language_info": {
   "codemirror_mode": {
    "name": "ipython",
    "version": 3
   },
   "file_extension": ".py",
   "mimetype": "text/x-python",
   "name": "python",
   "nbconvert_exporter": "python",
   "pygments_lexer": "ipython3",
   "version": "3.12.7"
  }
 },
 "nbformat": 4,
 "nbformat_minor": 5
}
