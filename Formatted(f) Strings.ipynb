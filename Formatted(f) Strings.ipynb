{
 "cells": [
  {
   "cell_type": "markdown",
   "id": "4e11d394-02e9-4998-8ca5-04904ca47cfa",
   "metadata": {},
   "source": [
    "###"
   ]
  },
  {
   "cell_type": "markdown",
   "id": "16db885e-9712-4ca7-ac3d-4c4bd06a80d0",
   "metadata": {},
   "source": [
    "\n",
    "---\n",
    "\n",
    "# Understanding Formatted Strings in Python: A Detailed Guide\n",
    "\n",
    "Python provides multiple ways to format strings, allowing developers to inject variables, control output style, and create readable and maintainable code. In this blog, we’ll explore the evolution of string formatting in Python, including **old-style formatting**, **`str.format()`**, and the modern **f-strings**.\n",
    "\n",
    "---\n",
    "\n",
    "## 1. **Why String Formatting Matters**\n",
    "\n",
    "String formatting is essential because it lets you:\n",
    "\n",
    "* Insert variables into strings cleanly.\n",
    "* Control number precision, alignment, and padding.\n",
    "* Generate dynamic messages, logs, reports, or outputs.\n",
    "\n",
    "Without formatting, you might end up with clunky concatenation like:"
   ]
  },
  {
   "cell_type": "code",
   "execution_count": 1,
   "id": "dc7e270c-6744-49b8-a5c4-c1db08870d41",
   "metadata": {},
   "outputs": [
    {
     "name": "stdout",
     "output_type": "stream",
     "text": [
      "Hello Sudha, you are 25 years old.\n"
     ]
    }
   ],
   "source": [
    "name = \"Sudha\"\n",
    "age = 25\n",
    "print(\"Hello \" + name + \", you are \" + str(age) + \" years old.\")"
   ]
  },
  {
   "cell_type": "markdown",
   "id": "36db6c89-d63d-4ad9-947a-3078cd0427d6",
   "metadata": {},
   "source": [
    "Messy and error-prone, right? Formatting solves this elegantly.\n",
    "\n",
    "---\n",
    "\n",
    "## 2. **Old-Style Formatting (`%` Operator)**\n",
    "\n",
    "This is the legacy method from Python 2, but it still works:\n",
    "\n",
    "\n"
   ]
  },
  {
   "cell_type": "code",
   "execution_count": 2,
   "id": "05da0413-4264-4d8b-ba26-ddf344892339",
   "metadata": {},
   "outputs": [
    {
     "name": "stdout",
     "output_type": "stream",
     "text": [
      "Hello Sudha, you are 25 years old.\n"
     ]
    }
   ],
   "source": [
    "name = \"Sudha\"\n",
    "age = 25\n",
    "print(\"Hello %s, you are %d years old.\" % (name, age))"
   ]
  },
  {
   "cell_type": "markdown",
   "id": "84b62f61-d6ae-4f46-98aa-a686e524320b",
   "metadata": {},
   "source": [
    "**Explanation:**\n",
    "\n",
    "* `%s` → string\n",
    "* `%d` → integer\n",
    "* `%f` → floating-point\n",
    "* You can also control precision: `%.2f` → 2 decimal places\n",
    "\n",
    "**Example with float precision:**\n"
   ]
  },
  {
   "cell_type": "code",
   "execution_count": 3,
   "id": "c9106286-a7b1-492e-bd3c-9c6993427212",
   "metadata": {},
   "outputs": [
    {
     "name": "stdout",
     "output_type": "stream",
     "text": [
      "Pi is 3.14\n"
     ]
    }
   ],
   "source": [
    "\n",
    "pi = 3.14159\n",
    "print(\"Pi is %.2f\" % pi)  # Pi is 3.14"
   ]
  },
  {
   "cell_type": "markdown",
   "id": "cc34a92d-62b5-4542-9dcc-374cf2bba5af",
   "metadata": {},
   "source": [
    "**Pros:** Simple for small strings\n",
    "**Cons:** Hard to read and maintain with many variables\n",
    "\n",
    "---\n",
    "\n",
    "## 3. **`str.format()` Method**\n",
    "\n",
    "Introduced in Python 3, it’s more readable and flexible:"
   ]
  },
  {
   "cell_type": "code",
   "execution_count": 4,
   "id": "acbdbe96-c5b7-447a-8c1d-201e7d2429f6",
   "metadata": {},
   "outputs": [
    {
     "name": "stdout",
     "output_type": "stream",
     "text": [
      "Hello Sudha, you are 25 years old.\n"
     ]
    }
   ],
   "source": [
    "name = \"Sudha\"\n",
    "age = 25\n",
    "print(\"Hello {}, you are {} years old.\".format(name, age))"
   ]
  },
  {
   "cell_type": "markdown",
   "id": "146c0a00-f634-47ea-b73d-105b999917ef",
   "metadata": {},
   "source": [
    "\n",
    "### Named placeholders"
   ]
  },
  {
   "cell_type": "code",
   "execution_count": 5,
   "id": "73903d69-de16-4e86-a6cd-5c3da6dba014",
   "metadata": {},
   "outputs": [
    {
     "name": "stdout",
     "output_type": "stream",
     "text": [
      "Hello Sudha, you are 25 years old.\n"
     ]
    }
   ],
   "source": [
    "print(\"Hello {n}, you are {a} years old.\".format(n=name, a=age))"
   ]
  },
  {
   "cell_type": "markdown",
   "id": "79a3e21d-adc0-45b4-92ec-ad4ffaa4da8e",
   "metadata": {},
   "source": [
    "### Formatting numbers"
   ]
  },
  {
   "cell_type": "code",
   "execution_count": 6,
   "id": "db4656bb-e540-4b84-8b74-f897164fd424",
   "metadata": {},
   "outputs": [
    {
     "name": "stdout",
     "output_type": "stream",
     "text": [
      "Pi is 3.14\n"
     ]
    }
   ],
   "source": [
    "pi = 3.14159\n",
    "print(\"Pi is {:.2f}\".format(pi))  # Pi is 3.14"
   ]
  },
  {
   "cell_type": "markdown",
   "id": "6e53aab0-d78c-406d-a0fc-d782238dc64f",
   "metadata": {},
   "source": [
    "### Alignment and padding"
   ]
  },
  {
   "cell_type": "code",
   "execution_count": 7,
   "id": "b587a96b-7881-45c0-8d76-13d6e5b07e5a",
   "metadata": {},
   "outputs": [
    {
     "name": "stdout",
     "output_type": "stream",
     "text": [
      "Left       |   Center   |      Right\n"
     ]
    }
   ],
   "source": [
    "print(\"{:<10} | {:^10} | {:>10}\".format(\"Left\", \"Center\", \"Right\"))"
   ]
  },
  {
   "cell_type": "markdown",
   "id": "29c1f4e8-4fa6-40de-b674-c05c284b959d",
   "metadata": {},
   "source": [
    "* `<` → left-align\n",
    "* `^` → center-align\n",
    "* `>` → right-align\n",
    "\n",
    "**Pros:** Flexible, readable, supports advanced formatting\n",
    "**Cons:** Slightly verbose\n",
    "\n",
    "---"
   ]
  },
  {
   "cell_type": "markdown",
   "id": "692de7fc-2950-469b-8a04-968a77f6e3cb",
   "metadata": {},
   "source": [
    "## 4. **F-Strings (Formatted String Literals)**\n",
    "\n",
    "Introduced in **Python 3.6**, f-strings are the modern, most readable way to format strings:\n"
   ]
  },
  {
   "cell_type": "code",
   "execution_count": 8,
   "id": "507d7ff4-5e7c-46a7-9439-a70ffb475f5e",
   "metadata": {},
   "outputs": [
    {
     "name": "stdout",
     "output_type": "stream",
     "text": [
      "Hello Sudha, you are 25 years old.\n"
     ]
    }
   ],
   "source": [
    "name = \"Sudha\"\n",
    "age = 25\n",
    "print(f\"Hello {name}, you are {age} years old.\")"
   ]
  },
  {
   "cell_type": "markdown",
   "id": "b4e629ba-7e11-4314-a021-2a18dd9cad2b",
   "metadata": {},
   "source": [
    "**Key Features:**\n",
    "\n",
    "1. **Inline expressions**:"
   ]
  },
  {
   "cell_type": "code",
   "execution_count": 9,
   "id": "c59dfe12-abc4-4381-8577-cd9482e990a8",
   "metadata": {},
   "outputs": [
    {
     "name": "stdout",
     "output_type": "stream",
     "text": [
      "Sum of 5 and 10 is 15\n"
     ]
    }
   ],
   "source": [
    "a = 5\n",
    "b = 10\n",
    "print(f\"Sum of {a} and {b} is {a + b}\")  # Sum of 5 and 10 is 15"
   ]
  },
  {
   "cell_type": "markdown",
   "id": "a7bdb131-e336-43ca-bc4b-71be54d44e17",
   "metadata": {},
   "source": [
    "2. **Number formatting**:"
   ]
  },
  {
   "cell_type": "code",
   "execution_count": 10,
   "id": "4a5d0833-c0ad-40cc-a4b5-8f596e514110",
   "metadata": {},
   "outputs": [
    {
     "name": "stdout",
     "output_type": "stream",
     "text": [
      "Pi rounded: 3.14\n"
     ]
    }
   ],
   "source": [
    "pi = 3.14159\n",
    "print(f\"Pi rounded: {pi:.2f}\")  # Pi rounded: 3.14"
   ]
  },
  {
   "cell_type": "markdown",
   "id": "17de54cb-5d03-4dbb-8548-d0b32c32e976",
   "metadata": {},
   "source": [
    "3. **Alignment and padding**:\n"
   ]
  },
  {
   "cell_type": "code",
   "execution_count": 11,
   "id": "485e6151-397a-40e8-9f31-3bfd2310c3b8",
   "metadata": {},
   "outputs": [
    {
     "name": "stdout",
     "output_type": "stream",
     "text": [
      "1     |  10   |   100\n",
      "2     |  20   |   200\n",
      "3     |  30   |   300\n"
     ]
    }
   ],
   "source": [
    "for x in range(1, 4):\n",
    "    print(f\"{x:<5} | {x*10:^5} | {x*100:>5}\")"
   ]
  },
  {
   "cell_type": "markdown",
   "id": "3d12d816-0a6c-4256-a821-750c774300c3",
   "metadata": {},
   "source": [
    "\n",
    "4. **Calling functions inside f-strings**:"
   ]
  },
  {
   "cell_type": "code",
   "execution_count": 12,
   "id": "92c5f598-991c-4f00-a819-d96f26e6551b",
   "metadata": {},
   "outputs": [
    {
     "name": "stdout",
     "output_type": "stream",
     "text": [
      "Hello Sudha! Welcome to Python!\n"
     ]
    }
   ],
   "source": [
    "def greet(name):\n",
    "    return f\"Hello {name}!\"\n",
    "\n",
    "print(f\"{greet('Sudha')} Welcome to Python!\")"
   ]
  },
  {
   "cell_type": "markdown",
   "id": "3ba0b660-743e-4a22-a082-cf3d946b8d34",
   "metadata": {},
   "source": [
    "**Pros:**\n",
    "\n",
    "* Most readable and concise\n",
    "* Supports expressions and function calls\n",
    "* Highly versatile\n",
    "\n",
    "---"
   ]
  },
  {
   "cell_type": "markdown",
   "id": "8157c6d8-cfdd-4de5-aaf0-c524d527af60",
   "metadata": {},
   "source": [
    "\n",
    "## 5. **Comparison of Methods**\n",
    "\n",
    "| Feature                   | `%` Formatting | `str.format()` | f-Strings |\n",
    "| ------------------------- | -------------- | -------------- | --------- |\n",
    "| Python version            | 2 & 3          | 3+             | 3.6+      |\n",
    "| Readability               | Low            | Medium         | High      |\n",
    "| Expressions inside string | ❌              | ❌              | ✅         |\n",
    "| Alignment & padding       | Limited        | ✅              | ✅         |\n",
    "| Performance               | Low            | Medium         | High      |\n",
    "\n",
    "---\n",
    "\n",
    "## 6. **Tips for Using Formatted Strings**\n",
    "\n",
    "1. Prefer **f-strings** for Python 3.6+ for simplicity and speed.\n",
    "2. Use **`str.format()`** if you need Python 3.5 compatibility.\n",
    "3. Reserve `%` formatting only for legacy code.\n",
    "4. Use alignment and precision specifiers for neat output in reports or tables.\n",
    "5. Always avoid concatenation with `+` when formatting variables—it’s less readable.\n",
    "\n",
    "---"
   ]
  },
  {
   "cell_type": "markdown",
   "id": "fed0d4a4-d8ae-49d5-8b27-1f5dae7a270d",
   "metadata": {},
   "source": [
    "## 7. **Advanced f-String Tricks**\n",
    "\n",
    "* **Dictionary lookup**:"
   ]
  },
  {
   "cell_type": "code",
   "execution_count": 13,
   "id": "e9bf4714-9870-4d37-a482-cf61733870b0",
   "metadata": {},
   "outputs": [
    {
     "name": "stdout",
     "output_type": "stream",
     "text": [
      "Sudha is 25 years old.\n"
     ]
    }
   ],
   "source": [
    "person = {\"name\": \"Sudha\", \"age\": 25}\n",
    "print(f\"{person['name']} is {person['age']} years old.\")"
   ]
  },
  {
   "cell_type": "markdown",
   "id": "fcf68620-fdea-47c4-a9be-b0eda68abc30",
   "metadata": {},
   "source": [
    "* **Expressions and calculations**:"
   ]
  },
  {
   "cell_type": "code",
   "execution_count": 15,
   "id": "24d1b8d7-a6c4-49bf-b21a-bd73af94c4b2",
   "metadata": {},
   "outputs": [
    {
     "name": "stdout",
     "output_type": "stream",
     "text": [
      "5 multiplied by 3 is 15\n"
     ]
    }
   ],
   "source": [
    "x, y = 5, 3\n",
    "print(f\"{x} multiplied by {y} is {x*y}\")"
   ]
  },
  {
   "cell_type": "markdown",
   "id": "cb4f1eb2-4dbc-466a-924c-c1311480783f",
   "metadata": {},
   "source": [
    "* **Date formatting**:\n"
   ]
  },
  {
   "cell_type": "code",
   "execution_count": 16,
   "id": "ec0217af-ff04-4f93-8b16-27c6de8038ab",
   "metadata": {},
   "outputs": [
    {
     "name": "stdout",
     "output_type": "stream",
     "text": [
      "Current time: 2025-08-25 21:42:12\n"
     ]
    }
   ],
   "source": [
    "from datetime import datetime\n",
    "now = datetime.now()\n",
    "print(f\"Current time: {now:%Y-%m-%d %H:%M:%S}\")"
   ]
  },
  {
   "cell_type": "markdown",
   "id": "e52a2466-cf12-41b1-bebf-1b13bb57b89c",
   "metadata": {},
   "source": [
    "---\n",
    "\n",
    "### ✅ Conclusion\n",
    "\n",
    "Formatted strings are **more than just convenience**—they improve readability, maintainability, and flexibility of your Python code. While Python gives multiple ways to format strings, **f-strings** are the modern, efficient, and expressive choice for most use cases.\n",
    "\n",
    "---\n"
   ]
  },
  {
   "cell_type": "markdown",
   "id": "19b7636b-78e7-42d4-a42c-ac483e5c2b30",
   "metadata": {},
   "source": [
    "###"
   ]
  }
 ],
 "metadata": {
  "kernelspec": {
   "display_name": "Python 3 (ipykernel)",
   "language": "python",
   "name": "python3"
  },
  "language_info": {
   "codemirror_mode": {
    "name": "ipython",
    "version": 3
   },
   "file_extension": ".py",
   "mimetype": "text/x-python",
   "name": "python",
   "nbconvert_exporter": "python",
   "pygments_lexer": "ipython3",
   "version": "3.12.7"
  }
 },
 "nbformat": 4,
 "nbformat_minor": 5
}
