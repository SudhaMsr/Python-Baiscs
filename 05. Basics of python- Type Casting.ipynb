{
 "cells": [
  {
   "cell_type": "markdown",
   "id": "4462c233-8b15-4a95-9491-cfe0bde915f6",
   "metadata": {},
   "source": [
    "###"
   ]
  },
  {
   "cell_type": "markdown",
   "id": "b7f6731c",
   "metadata": {},
   "source": [
    "\n",
    "# **Type Casting in Python**\n",
    "\n",
    "Type casting means **converting one data type into another**. In Python, this is useful when you want to perform operations between different types (for example, combining a string with a number, or converting decimals into integers).\n",
    "\n",
    "Python provides two types of type casting:\n",
    "\n",
    "---\n",
    "\n",
    "## ✅ **1. Implicit Type Casting (Type Conversion)**\n",
    "\n",
    "* Done **automatically by Python**.\n",
    "* The interpreter converts a smaller data type into a larger one to avoid data loss.\n",
    "* Example: When adding an integer and a float, Python automatically converts the integer into a float.\n",
    "\n",
    "👉 In short: **Python upgrades the data type itself when needed.**\n",
    "\n",
    "---\n",
    "\n",
    "## ✅ **2. Explicit Type Casting (Type Conversion)**\n",
    "\n",
    "* Done **manually by the programmer** using built-in functions.\n",
    "* Useful when you need to force a variable into a different type.\n",
    "\n",
    "### Common Functions Used in Explicit Casting:\n",
    "\n",
    "* `int()` → Converts to integer.\n",
    "* `float()` → Converts to floating-point number.\n",
    "* `str()` → Converts to string.\n",
    "* `bool()` → Converts to Boolean (True/False).\n",
    "* `list()` → Converts into a list.\n",
    "* `tuple()` → Converts into a tuple.\n",
    "* `set()` → Converts into a set.\n",
    "\n",
    "👉 In short: **You decide what type you want the value to be.**\n",
    "\n",
    "---\n",
    "\n",
    "## 📌 **Why Type Casting is Important?**\n",
    "\n",
    "* To make sure operations work correctly (e.g., adding numbers vs concatenating text).\n",
    "* To match the data type required by a function or library.\n",
    "* To control how data is stored and displayed.\n",
    "\n",
    "---\n",
    "\n",
    "### ⚡ Example in Real Life (without code):\n",
    "\n",
    "Imagine you have a **number written as text** (`\"100\"`) and you want to **add 50 to it**.\n",
    "\n",
    "* If you keep it as text → Python will treat it like a word, not a number.\n",
    "* If you cast it into an integer → Python understands it’s a number, so the addition works.\n",
    "\n",
    "---\n",
    "\n",
    "👉 So, **implicit casting = Python decides automatically**,\n",
    "while **explicit casting = you tell Python what to do**.\n",
    "\n",
    "\n"
   ]
  },
  {
   "cell_type": "markdown",
   "id": "f8612ed8-79f6-45c7-bd6a-5946e0e3d044",
   "metadata": {},
   "source": [
    "###"
   ]
  },
  {
   "cell_type": "code",
   "execution_count": 1,
   "id": "55a30c58",
   "metadata": {},
   "outputs": [
    {
     "name": "stdout",
     "output_type": "stream",
     "text": [
      "<class 'float'>\n",
      "<class 'int'>\n",
      "<class 'complex'>\n"
     ]
    }
   ],
   "source": [
    "a = 1      #int\n",
    "b = 2.9    #float\n",
    "c = 5j     #complex\n",
    "\n",
    "#conversion of int to float\n",
    "x = float(a)\n",
    "\n",
    "#conversion of float to int\n",
    "y = int(b)\n",
    "\n",
    "#conversion of int to complex\n",
    "z = complex(a)\n",
    "\n",
    "print(type(x))\n",
    "print(type(y))\n",
    "print(type(z))"
   ]
  },
  {
   "cell_type": "markdown",
   "id": "fcd54c71",
   "metadata": {},
   "source": [
    "## Integers:- "
   ]
  },
  {
   "cell_type": "code",
   "execution_count": 2,
   "id": "9799adfb",
   "metadata": {},
   "outputs": [
    {
     "name": "stdout",
     "output_type": "stream",
     "text": [
      "5\n",
      "5\n",
      "5\n"
     ]
    }
   ],
   "source": [
    "a = int(5)\n",
    "b = int(5.6)\n",
    "c = int(\"5\")\n",
    "print(a)\n",
    "print(b)\n",
    "print(c)"
   ]
  },
  {
   "cell_type": "code",
   "execution_count": 5,
   "id": "143f0138",
   "metadata": {},
   "outputs": [
    {
     "name": "stdout",
     "output_type": "stream",
     "text": [
      "value of i: 10\n",
      "type of i is: <class 'int'>\n",
      "value of f: 10.0\n",
      "type of f is: <class 'float'>\n"
     ]
    }
   ],
   "source": [
    "#type casting... converting one data type to another data type\n",
    "i=10\n",
    "f=float(i)\n",
    "print(\"value of i:\",i)\n",
    "print(\"type of i is:\",type(i))\n",
    "print(\"value of f:\",f)\n",
    "print(\"type of f is:\",type(f))"
   ]
  },
  {
   "cell_type": "code",
   "execution_count": 8,
   "id": "108d66af",
   "metadata": {},
   "outputs": [
    {
     "data": {
      "text/plain": [
       "2"
      ]
     },
     "execution_count": 8,
     "metadata": {},
     "output_type": "execute_result"
    }
   ],
   "source": [
    "int(2.9)"
   ]
  },
  {
   "cell_type": "markdown",
   "id": "da93da4d",
   "metadata": {},
   "source": [
    "## Float:- "
   ]
  },
  {
   "cell_type": "code",
   "execution_count": 3,
   "id": "21875693",
   "metadata": {},
   "outputs": [
    {
     "name": "stdout",
     "output_type": "stream",
     "text": [
      "5.0\n",
      "5.6\n",
      "57.0\n",
      "5.4\n"
     ]
    }
   ],
   "source": [
    "a = float(5)\n",
    "b = float(5.6)\n",
    "c = float(\"57\")\n",
    "d = float(\"5.4\")\n",
    "print(a)\n",
    "print(b)\n",
    "print(c)\n",
    "print(d)"
   ]
  },
  {
   "cell_type": "code",
   "execution_count": 6,
   "id": "5c5d7f70",
   "metadata": {},
   "outputs": [
    {
     "name": "stdout",
     "output_type": "stream",
     "text": [
      "value of f: 10.5\n",
      "type of f is: <class 'float'>\n",
      "value of i: 10\n",
      "type of i is: <class 'int'>\n"
     ]
    }
   ],
   "source": [
    "f=10.5\n",
    "i=int(f)\n",
    "print(\"value of f:\",f)\n",
    "print(\"type of f is:\",type(f))\n",
    "print(\"value of i:\",i)\n",
    "print(\"type of i is:\",type(i))"
   ]
  },
  {
   "cell_type": "code",
   "execution_count": 7,
   "id": "d7912be8",
   "metadata": {},
   "outputs": [
    {
     "data": {
      "text/plain": [
       "2.0"
      ]
     },
     "execution_count": 7,
     "metadata": {},
     "output_type": "execute_result"
    }
   ],
   "source": [
    "float(2)"
   ]
  },
  {
   "cell_type": "markdown",
   "id": "0f2901e8",
   "metadata": {},
   "source": [
    "## Strings:- "
   ]
  },
  {
   "cell_type": "code",
   "execution_count": 4,
   "id": "a0533535",
   "metadata": {},
   "outputs": [
    {
     "name": "stdout",
     "output_type": "stream",
     "text": [
      "5\n",
      "5.2\n",
      "Alaric\n"
     ]
    }
   ],
   "source": [
    "a = str(5)\n",
    "b = str(5.2)\n",
    "c = str(\"Alaric\")\n",
    "print(a)\n",
    "print(b)\n",
    "print(c)"
   ]
  },
  {
   "cell_type": "code",
   "execution_count": 9,
   "id": "a54ba0bf",
   "metadata": {},
   "outputs": [
    {
     "data": {
      "text/plain": [
       "'2.9'"
      ]
     },
     "execution_count": 9,
     "metadata": {},
     "output_type": "execute_result"
    }
   ],
   "source": [
    "str(2.9)"
   ]
  }
 ],
 "metadata": {
  "kernelspec": {
   "display_name": "Python 3 (ipykernel)",
   "language": "python",
   "name": "python3"
  },
  "language_info": {
   "codemirror_mode": {
    "name": "ipython",
    "version": 3
   },
   "file_extension": ".py",
   "mimetype": "text/x-python",
   "name": "python",
   "nbconvert_exporter": "python",
   "pygments_lexer": "ipython3",
   "version": "3.12.7"
  }
 },
 "nbformat": 4,
 "nbformat_minor": 5
}
