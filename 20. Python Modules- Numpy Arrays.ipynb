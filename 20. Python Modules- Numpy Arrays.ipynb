{
 "cells": [
  {
   "cell_type": "markdown",
   "id": "c67957e5",
   "metadata": {},
   "source": [
    "# Numpy\n",
    "* NumPy is a Python library.\n",
    "* NumPy is used for working with arrays.\n",
    "* NumPy is short for \"Numerical Python\" and it is represented as np\n",
    "\n",
    "## Importing Numpy"
   ]
  },
  {
   "cell_type": "code",
   "execution_count": 1,
   "id": "a810e0a3",
   "metadata": {},
   "outputs": [],
   "source": [
    "import numpy as np"
   ]
  },
  {
   "cell_type": "markdown",
   "id": "c5304668",
   "metadata": {},
   "source": [
    "## Numpy Version"
   ]
  },
  {
   "cell_type": "code",
   "execution_count": 2,
   "id": "204c3af8",
   "metadata": {},
   "outputs": [
    {
     "name": "stdout",
     "output_type": "stream",
     "text": [
      "1.19.5\n"
     ]
    }
   ],
   "source": [
    "print(np.__version__)"
   ]
  },
  {
   "cell_type": "markdown",
   "id": "9eeee49e",
   "metadata": {},
   "source": [
    "## Creating Numpy array \n",
    "#### Using list"
   ]
  },
  {
   "cell_type": "code",
   "execution_count": 3,
   "id": "ca76fdcd",
   "metadata": {},
   "outputs": [
    {
     "name": "stdout",
     "output_type": "stream",
     "text": [
      "<class 'numpy.ndarray'>\n",
      "[5 6 7 8 9]\n"
     ]
    }
   ],
   "source": [
    "arr1=np.array([5,6,7,8,9])\n",
    "print(type(arr1))\n",
    "print(arr1)"
   ]
  },
  {
   "cell_type": "markdown",
   "id": "bb50f9bc",
   "metadata": {},
   "source": [
    " #### Using tuple"
   ]
  },
  {
   "cell_type": "code",
   "execution_count": 4,
   "id": "5282fcf1",
   "metadata": {},
   "outputs": [
    {
     "name": "stdout",
     "output_type": "stream",
     "text": [
      "[1 2 3 4 5]\n",
      "<class 'numpy.ndarray'>\n"
     ]
    }
   ],
   "source": [
    "import numpy as np\n",
    "arr = np.array((1, 2, 3, 4, 5))\n",
    "print(arr)\n",
    "print(type(arr))"
   ]
  },
  {
   "cell_type": "markdown",
   "id": "b609e017",
   "metadata": {},
   "source": [
    "#### Using set "
   ]
  },
  {
   "cell_type": "code",
   "execution_count": 5,
   "id": "c217c2a5",
   "metadata": {},
   "outputs": [
    {
     "name": "stdout",
     "output_type": "stream",
     "text": [
      "{1, 2, 3, 4, 5, 6}\n",
      "<class 'numpy.ndarray'>\n"
     ]
    }
   ],
   "source": [
    "s1={1,2,3,4,5,6}\n",
    "arr3=np.array(s1)\n",
    "print(arr3)\n",
    "print(type(arr3))"
   ]
  },
  {
   "cell_type": "markdown",
   "id": "0321f0b2",
   "metadata": {},
   "source": [
    "## Creating an array using arange"
   ]
  },
  {
   "cell_type": "code",
   "execution_count": 6,
   "id": "674b1025",
   "metadata": {},
   "outputs": [
    {
     "name": "stdout",
     "output_type": "stream",
     "text": [
      "[0 1 2 3 4 5 6 7 8 9]\n"
     ]
    }
   ],
   "source": [
    "#create array using arange\n",
    "arr4=np.arange(10)\n",
    "print(arr4)"
   ]
  },
  {
   "cell_type": "code",
   "execution_count": 7,
   "id": "b618cbfd",
   "metadata": {},
   "outputs": [
    {
     "name": "stdout",
     "output_type": "stream",
     "text": [
      "[2 3 4 5 6 7 8 9]\n"
     ]
    }
   ],
   "source": [
    "arr4=np.arange(2,10)\n",
    "print(arr4)"
   ]
  },
  {
   "cell_type": "code",
   "execution_count": 8,
   "id": "7bf0d611",
   "metadata": {},
   "outputs": [
    {
     "name": "stdout",
     "output_type": "stream",
     "text": [
      "[0 2 4 6 8]\n"
     ]
    }
   ],
   "source": [
    "arr4=np.arange(0,10,2) #start point-end point-step-size\n",
    "print(arr4)"
   ]
  },
  {
   "cell_type": "markdown",
   "id": "77188fc3",
   "metadata": {},
   "source": [
    "## Creating array using linspace"
   ]
  },
  {
   "cell_type": "code",
   "execution_count": 9,
   "id": "c362d056",
   "metadata": {},
   "outputs": [
    {
     "name": "stdout",
     "output_type": "stream",
     "text": [
      "[0.]\n"
     ]
    }
   ],
   "source": [
    "#crate 1-darray using linspace function\n",
    "arr4= np.linspace(0,5,1)\n",
    "print(arr4)"
   ]
  },
  {
   "cell_type": "code",
   "execution_count": 10,
   "id": "84e565b1",
   "metadata": {},
   "outputs": [
    {
     "name": "stdout",
     "output_type": "stream",
     "text": [
      "[0.         0.26315789 0.52631579 0.78947368 1.05263158 1.31578947\n",
      " 1.57894737 1.84210526 2.10526316 2.36842105 2.63157895 2.89473684\n",
      " 3.15789474 3.42105263 3.68421053 3.94736842 4.21052632 4.47368421\n",
      " 4.73684211 5.        ]\n"
     ]
    }
   ],
   "source": [
    "arr4= np.linspace(0,5,20)\n",
    "print(arr4)"
   ]
  },
  {
   "cell_type": "code",
   "execution_count": 11,
   "id": "3f6d5266",
   "metadata": {},
   "outputs": [
    {
     "name": "stdout",
     "output_type": "stream",
     "text": [
      "[0.         0.26315789 0.52631579 0.78947368 1.05263158 1.31578947\n",
      " 1.57894737 1.84210526 2.10526316 2.36842105 2.63157895 2.89473684\n",
      " 3.15789474 3.42105263 3.68421053 3.94736842 4.21052632 4.47368421\n",
      " 4.73684211 5.        ]\n",
      "array dimension: 1\n",
      "array shape: (20,)\n",
      "dat type of array: float64\n"
     ]
    }
   ],
   "source": [
    "arr4= np.linspace(0,5,20)\n",
    "print(arr4)\n",
    "print(\"array dimension:\",arr4.ndim)\n",
    "print(\"array shape:\",arr4.shape)\n",
    "print(\"dat type of array:\",arr4.dtype)"
   ]
  },
  {
   "cell_type": "markdown",
   "id": "9758a98d",
   "metadata": {},
   "source": [
    "## Dimensions in arrays\n",
    "#### Zero-Dimensions"
   ]
  },
  {
   "cell_type": "code",
   "execution_count": 12,
   "id": "81094745",
   "metadata": {},
   "outputs": [
    {
     "name": "stdout",
     "output_type": "stream",
     "text": [
      "56\n",
      "<class 'numpy.ndarray'>\n"
     ]
    }
   ],
   "source": [
    "arr4=np.array(56)\n",
    "print(arr4)\n",
    "print(type(arr4))"
   ]
  },
  {
   "cell_type": "markdown",
   "id": "22cfaef8",
   "metadata": {},
   "source": [
    "#### One-Dimensions"
   ]
  },
  {
   "cell_type": "code",
   "execution_count": 13,
   "id": "16845c07",
   "metadata": {},
   "outputs": [
    {
     "name": "stdout",
     "output_type": "stream",
     "text": [
      "[1 2 3 4 5]\n"
     ]
    }
   ],
   "source": [
    "arr5=np.array([1,2,3,4,5])\n",
    "print(arr5)"
   ]
  },
  {
   "cell_type": "markdown",
   "id": "153d8d09",
   "metadata": {},
   "source": [
    "#### Two-Dimensions"
   ]
  },
  {
   "cell_type": "code",
   "execution_count": 14,
   "id": "b353adb9",
   "metadata": {},
   "outputs": [
    {
     "name": "stdout",
     "output_type": "stream",
     "text": [
      "[[1 2 3 4]\n",
      " [5 6 7 8]]\n"
     ]
    }
   ],
   "source": [
    "arr6=np.array([[1,2,3,4],[5,6,7,8]])\n",
    "print(arr6)"
   ]
  },
  {
   "cell_type": "markdown",
   "id": "2cf58c44",
   "metadata": {},
   "source": [
    "#### Three-Dimensions"
   ]
  },
  {
   "cell_type": "code",
   "execution_count": 15,
   "id": "6e192d2c",
   "metadata": {},
   "outputs": [
    {
     "name": "stdout",
     "output_type": "stream",
     "text": [
      "[[ 1  2  3  4]\n",
      " [ 5  6  7  8]\n",
      " [ 9 10 11 12]]\n"
     ]
    }
   ],
   "source": [
    "arr7=np.array([[1,2,3,4],[5,6,7,8],[9,10,11,12]])\n",
    "print(arr7)"
   ]
  },
  {
   "cell_type": "code",
   "execution_count": 16,
   "id": "91bfc18c",
   "metadata": {},
   "outputs": [
    {
     "name": "stdout",
     "output_type": "stream",
     "text": [
      "[[ 1  2  3  4]\n",
      " [ 5  6  7  8]\n",
      " [ 9 10 11 12]\n",
      " [ 0  1  2  3]]\n"
     ]
    }
   ],
   "source": [
    "arr8=np.array([[1,2,3,4],[5,6,7,8],[9,10,11,12],[0,1,2,3]])\n",
    "print(arr8)"
   ]
  },
  {
   "cell_type": "markdown",
   "id": "2ac7ca15",
   "metadata": {},
   "source": [
    "## Check the number of dimensions"
   ]
  },
  {
   "cell_type": "code",
   "execution_count": 17,
   "id": "18c62190",
   "metadata": {},
   "outputs": [
    {
     "name": "stdout",
     "output_type": "stream",
     "text": [
      "0\n",
      "1\n",
      "2\n",
      "2\n",
      "3\n"
     ]
    }
   ],
   "source": [
    "arr4=np.array(56)\n",
    "arr5=np.array([1,2,3,4,5])\n",
    "arr6=np.array([[1,2,3,4],[5,6,7,8]])\n",
    "arr7=np.array([[1,2,3,4],[5,6,7,8],[9,10,11,12]])\n",
    "arr8=np.array([[[1, 2, 3], [4, 5, 6]], [[1, 2, 3], [4, 5, 6]]])\n",
    "print(arr4.ndim)\n",
    "print(arr5.ndim)\n",
    "print(arr6.ndim)\n",
    "print(arr7.ndim)\n",
    "print(arr8.ndim)"
   ]
  },
  {
   "cell_type": "markdown",
   "id": "1e5ee8c6",
   "metadata": {},
   "source": [
    "### Array with 5 dimensions"
   ]
  },
  {
   "cell_type": "code",
   "execution_count": 18,
   "id": "6b9fc1fa",
   "metadata": {},
   "outputs": [
    {
     "name": "stdout",
     "output_type": "stream",
     "text": [
      "[[[[[1 2 3 4]]]]]\n",
      "number of dimensions : 5\n"
     ]
    }
   ],
   "source": [
    "arr = np.array([1, 2, 3, 4], ndmin=5)\n",
    "print(arr)\n",
    "print('number of dimensions :', arr.ndim)"
   ]
  },
  {
   "cell_type": "markdown",
   "id": "f7cec1bf",
   "metadata": {},
   "source": [
    "## Array indexing"
   ]
  },
  {
   "cell_type": "code",
   "execution_count": 19,
   "id": "26924ec8",
   "metadata": {},
   "outputs": [
    {
     "name": "stdout",
     "output_type": "stream",
     "text": [
      "1\n"
     ]
    }
   ],
   "source": [
    "arr5=np.array([1,2,3,4,5])\n",
    "print(arr5[0])"
   ]
  },
  {
   "cell_type": "code",
   "execution_count": 20,
   "id": "d103ef95",
   "metadata": {},
   "outputs": [
    {
     "name": "stdout",
     "output_type": "stream",
     "text": [
      "5\n"
     ]
    }
   ],
   "source": [
    "print(arr5[-1])"
   ]
  },
  {
   "cell_type": "code",
   "execution_count": 21,
   "id": "443b8348",
   "metadata": {},
   "outputs": [
    {
     "name": "stdout",
     "output_type": "stream",
     "text": [
      "[1 2 3 4 5]\n"
     ]
    }
   ],
   "source": [
    "print(arr5[0:])"
   ]
  },
  {
   "cell_type": "code",
   "execution_count": 22,
   "id": "69fd2e9e",
   "metadata": {},
   "outputs": [
    {
     "name": "stdout",
     "output_type": "stream",
     "text": [
      "[1 2 3 4 5]\n"
     ]
    }
   ],
   "source": [
    "print(arr5[:])"
   ]
  },
  {
   "cell_type": "code",
   "execution_count": 23,
   "id": "58322d6b",
   "metadata": {},
   "outputs": [
    {
     "name": "stdout",
     "output_type": "stream",
     "text": [
      "[2 3]\n"
     ]
    }
   ],
   "source": [
    "print(arr5[1:3])"
   ]
  },
  {
   "cell_type": "code",
   "execution_count": 24,
   "id": "dd3ea9e1",
   "metadata": {},
   "outputs": [
    {
     "name": "stdout",
     "output_type": "stream",
     "text": [
      "[7]\n"
     ]
    }
   ],
   "source": [
    "print(arr5[1]+arr5[[4]])          #2+5=7"
   ]
  },
  {
   "cell_type": "markdown",
   "id": "15d70d92",
   "metadata": {},
   "source": [
    "## Accessing 2-D array"
   ]
  },
  {
   "cell_type": "code",
   "execution_count": 25,
   "id": "6763df03",
   "metadata": {},
   "outputs": [
    {
     "name": "stdout",
     "output_type": "stream",
     "text": [
      "Second element in the first row: 2\n"
     ]
    }
   ],
   "source": [
    "arr6=np.array([[1,2,3,4],[5,6,7,8]])\n",
    "print(\"Second element in the first row:\" ,arr6[0,1])"
   ]
  },
  {
   "cell_type": "code",
   "execution_count": 26,
   "id": "d35c8dd9",
   "metadata": {},
   "outputs": [
    {
     "name": "stdout",
     "output_type": "stream",
     "text": [
      "3rd element in the second row: 8\n"
     ]
    }
   ],
   "source": [
    "print(\"3rd element in the second row:\" ,arr6[1,3])"
   ]
  },
  {
   "cell_type": "markdown",
   "id": "1f945ef5",
   "metadata": {},
   "source": [
    "## Accessing 3-D array"
   ]
  },
  {
   "cell_type": "code",
   "execution_count": 27,
   "id": "5af19eb6",
   "metadata": {},
   "outputs": [
    {
     "name": "stdout",
     "output_type": "stream",
     "text": [
      "6\n"
     ]
    }
   ],
   "source": [
    "arr = np.array([[[1, 2, 3], [4, 5, 6]], [[7, 8, 9], [10, 11, 12]]])\n",
    "print(arr[0, 1, 2])"
   ]
  },
  {
   "cell_type": "markdown",
   "id": "1807c35c",
   "metadata": {},
   "source": [
    "* And this is why:\n",
    "\n",
    "The first number represents the first dimension, which contains two arrays:\n",
    "[[1, 2, 3], [4, 5, 6]]\n",
    "and:\n",
    "[[7, 8, 9], [10, 11, 12]]\n",
    "Since we selected 0, we are left with the first array:\n",
    "[[1, 2, 3], [4, 5, 6]]\n",
    "\n",
    "The second number represents the second dimension, which also contains two arrays:\n",
    "[1, 2, 3]\n",
    "and:\n",
    "[4, 5, 6]\n",
    "Since we selected 1, we are left with the second array:\n",
    "[4, 5, 6]\n",
    "\n",
    "The third number represents the third dimension, which contains three values:\n",
    "4\n",
    "5\n",
    "6\n",
    "Since we selected 2, we end up with the third value:\n",
    "6"
   ]
  },
  {
   "cell_type": "markdown",
   "id": "79a1cddd",
   "metadata": {},
   "source": [
    "## Numpy array slicing\n",
    "* Slicing in python means taking elements from one given index to another given index.\n",
    "* We pass slice instead of index like this: [start:end].\n",
    "* We can also define the step, like this: [start:end:step]."
   ]
  },
  {
   "cell_type": "code",
   "execution_count": 28,
   "id": "eb42df7c",
   "metadata": {},
   "outputs": [
    {
     "name": "stdout",
     "output_type": "stream",
     "text": [
      "[2 3 4 5]\n"
     ]
    }
   ],
   "source": [
    "arr = np.array([1, 2, 3, 4, 5, 6, 7])\n",
    "print(arr[1:5])"
   ]
  },
  {
   "cell_type": "code",
   "execution_count": 29,
   "id": "872c8943",
   "metadata": {},
   "outputs": [
    {
     "name": "stdout",
     "output_type": "stream",
     "text": [
      "[2 4]\n"
     ]
    }
   ],
   "source": [
    "arr = np.array([1, 2, 3, 4, 5, 6, 7])\n",
    "print(arr[1:5:2])"
   ]
  },
  {
   "cell_type": "code",
   "execution_count": 30,
   "id": "abce46e4",
   "metadata": {},
   "outputs": [
    {
     "name": "stdout",
     "output_type": "stream",
     "text": [
      "[5 6 7]\n"
     ]
    }
   ],
   "source": [
    "print(arr[4:])"
   ]
  },
  {
   "cell_type": "code",
   "execution_count": 31,
   "id": "547b05a1",
   "metadata": {},
   "outputs": [
    {
     "name": "stdout",
     "output_type": "stream",
     "text": [
      "[1 3 5 7]\n"
     ]
    }
   ],
   "source": [
    "print(arr[::2])"
   ]
  },
  {
   "cell_type": "markdown",
   "id": "5caf47d1",
   "metadata": {},
   "source": [
    "## Slicing 2-D array"
   ]
  },
  {
   "cell_type": "code",
   "execution_count": 32,
   "id": "bdb58fef",
   "metadata": {},
   "outputs": [
    {
     "name": "stdout",
     "output_type": "stream",
     "text": [
      "[7 8 9]\n"
     ]
    }
   ],
   "source": [
    "arr = np.array([[1, 2, 3, 4, 5], [6, 7, 8, 9, 10]])\n",
    "print(arr[1, 1:4])"
   ]
  },
  {
   "cell_type": "code",
   "execution_count": 33,
   "id": "193f7f36",
   "metadata": {},
   "outputs": [
    {
     "name": "stdout",
     "output_type": "stream",
     "text": [
      "[3 4]\n"
     ]
    }
   ],
   "source": [
    "print(arr[0,2:4])"
   ]
  },
  {
   "cell_type": "code",
   "execution_count": 34,
   "id": "928a4da7",
   "metadata": {},
   "outputs": [
    {
     "name": "stdout",
     "output_type": "stream",
     "text": [
      "[3 8]\n"
     ]
    }
   ],
   "source": [
    "print(arr[0:2, 2])"
   ]
  },
  {
   "cell_type": "code",
   "execution_count": 35,
   "id": "91b324e6",
   "metadata": {},
   "outputs": [
    {
     "name": "stdout",
     "output_type": "stream",
     "text": [
      "[[2 3 4]\n",
      " [7 8 9]]\n"
     ]
    }
   ],
   "source": [
    "print(arr[0:2, 1:4])"
   ]
  },
  {
   "cell_type": "markdown",
   "id": "be8f8452",
   "metadata": {},
   "source": [
    "# Data types in Numpy\n",
    "Below is a list of all data types in NumPy and the characters used to represent them.\n",
    "\n",
    "* i - integer\n",
    "* b - boolean\n",
    "* u - unsigned integer\n",
    "* f - float\n",
    "* c - complex float\n",
    "* m - timedelta\n",
    "* M - datetime\n",
    "* O - object\n",
    "* S - string\n",
    "* U - unicode string\n",
    "* V - fixed chunk of memory for other type ( void )"
   ]
  },
  {
   "cell_type": "markdown",
   "id": "154f9962",
   "metadata": {},
   "source": [
    "### Checking the type of array"
   ]
  },
  {
   "cell_type": "code",
   "execution_count": 36,
   "id": "ed581426",
   "metadata": {},
   "outputs": [
    {
     "name": "stdout",
     "output_type": "stream",
     "text": [
      "int32\n"
     ]
    }
   ],
   "source": [
    "arr = np.array([1, 2, 3, 4])\n",
    "print(arr.dtype)"
   ]
  },
  {
   "cell_type": "code",
   "execution_count": 37,
   "id": "1eec5980",
   "metadata": {},
   "outputs": [
    {
     "name": "stdout",
     "output_type": "stream",
     "text": [
      "<U6\n"
     ]
    }
   ],
   "source": [
    "arr = np.array(['apple', 'banana', 'cherry'])\n",
    "print(arr.dtype)"
   ]
  },
  {
   "cell_type": "code",
   "execution_count": 38,
   "id": "0936cf19",
   "metadata": {},
   "outputs": [
    {
     "name": "stdout",
     "output_type": "stream",
     "text": [
      "[b'1' b'2' b'3' b'4']\n",
      "|S1\n"
     ]
    }
   ],
   "source": [
    "arr = np.array([1, 2, 3, 4], dtype='S')\n",
    "print(arr)\n",
    "print(arr.dtype)"
   ]
  },
  {
   "cell_type": "markdown",
   "id": "c6c25ddc",
   "metadata": {},
   "source": [
    "## Copy vs View"
   ]
  },
  {
   "cell_type": "code",
   "execution_count": 39,
   "id": "5bde750e",
   "metadata": {},
   "outputs": [
    {
     "name": "stdout",
     "output_type": "stream",
     "text": [
      "[42  2  3  4  5]\n",
      "[1 2 3 4 5]\n"
     ]
    }
   ],
   "source": [
    "arr = np.array([1, 2, 3, 4, 5])          ##copy\n",
    "x = arr.copy()\n",
    "arr[0] = 42\n",
    "print(arr)\n",
    "print(x)"
   ]
  },
  {
   "cell_type": "code",
   "execution_count": 40,
   "id": "9ad0e038",
   "metadata": {},
   "outputs": [
    {
     "name": "stdout",
     "output_type": "stream",
     "text": [
      "[42  2  3  4  5]\n",
      "[42  2  3  4  5]\n"
     ]
    }
   ],
   "source": [
    "arr = np.array([1, 2, 3, 4, 5])                  ##view\n",
    "x = arr.view()\n",
    "arr[0] = 42\n",
    "print(arr)\n",
    "print(x)"
   ]
  },
  {
   "cell_type": "markdown",
   "id": "dc4fd79e",
   "metadata": {},
   "source": [
    "## Shape of an array"
   ]
  },
  {
   "cell_type": "code",
   "execution_count": 41,
   "id": "3c85cc0b",
   "metadata": {},
   "outputs": [
    {
     "name": "stdout",
     "output_type": "stream",
     "text": [
      "(2, 4)\n"
     ]
    }
   ],
   "source": [
    "arr = np.array([[1, 2, 3, 4], [5, 6, 7, 8]])\n",
    "print(arr.shape)"
   ]
  },
  {
   "cell_type": "code",
   "execution_count": 42,
   "id": "15009ea2",
   "metadata": {},
   "outputs": [
    {
     "name": "stdout",
     "output_type": "stream",
     "text": [
      "[[[[[1 2 3 4]]]]]\n",
      "shape of array : (1, 1, 1, 1, 4)\n"
     ]
    }
   ],
   "source": [
    "arr = np.array([1, 2, 3, 4], ndmin=5)\n",
    "\n",
    "print(arr)\n",
    "print('shape of array :', arr.shape)"
   ]
  },
  {
   "cell_type": "markdown",
   "id": "cf3d819c",
   "metadata": {},
   "source": [
    "## Reshaping of an array"
   ]
  },
  {
   "cell_type": "code",
   "execution_count": 43,
   "id": "9a1fd6db",
   "metadata": {},
   "outputs": [
    {
     "name": "stdout",
     "output_type": "stream",
     "text": [
      "[[[ 1  2]\n",
      "  [ 3  4]\n",
      "  [ 5  6]]\n",
      "\n",
      " [[ 7  8]\n",
      "  [ 9 10]\n",
      "  [11 12]]]\n"
     ]
    }
   ],
   "source": [
    "arr = np.array([1, 2, 3, 4, 5, 6, 7, 8, 9, 10, 11, 12])\n",
    "newarr = arr.reshape(2, 3, 2)\n",
    "\n",
    "print(newarr)"
   ]
  },
  {
   "cell_type": "code",
   "execution_count": 44,
   "id": "97b12ae2",
   "metadata": {},
   "outputs": [
    {
     "name": "stdout",
     "output_type": "stream",
     "text": [
      "[1 2 3 4 5 6 7 8]\n"
     ]
    }
   ],
   "source": [
    "arr = np.array([1, 2, 3, 4, 5, 6, 7, 8])\n",
    "print(arr.reshape(2, 4).base)"
   ]
  },
  {
   "cell_type": "code",
   "execution_count": 45,
   "id": "87c3bc49",
   "metadata": {},
   "outputs": [
    {
     "name": "stdout",
     "output_type": "stream",
     "text": [
      "[[ 1  2  3]\n",
      " [ 4  5  6]\n",
      " [ 7  8  9]\n",
      " [10 11 12]]\n"
     ]
    }
   ],
   "source": [
    "# 1-D to 2-D conversion\n",
    "\n",
    "arr = np.array([1, 2, 3, 4, 5, 6, 7, 8, 9, 10, 11, 12])\n",
    "newarr = arr.reshape(4, 3)\n",
    "print(newarr)"
   ]
  },
  {
   "cell_type": "code",
   "execution_count": 46,
   "id": "19bc326d",
   "metadata": {},
   "outputs": [
    {
     "name": "stdout",
     "output_type": "stream",
     "text": [
      "[[[ 1  2]\n",
      "  [ 3  4]\n",
      "  [ 5  6]]\n",
      "\n",
      " [[ 7  8]\n",
      "  [ 9 10]\n",
      "  [11 12]]]\n"
     ]
    }
   ],
   "source": [
    "## 1-D to 3-D conversion\n",
    "arr = np.array([1, 2, 3, 4, 5, 6, 7, 8, 9, 10, 11, 12])\n",
    "newarr = arr.reshape(2, 3, 2)\n",
    "print(newarr)"
   ]
  },
  {
   "cell_type": "markdown",
   "id": "a3ac1533",
   "metadata": {},
   "source": [
    "## Flattering array\n",
    "* Flattening array means converting a multidimensional array into a 1D array."
   ]
  },
  {
   "cell_type": "code",
   "execution_count": 47,
   "id": "bd4f2533",
   "metadata": {},
   "outputs": [
    {
     "name": "stdout",
     "output_type": "stream",
     "text": [
      "[1 2 3 4 5 6]\n"
     ]
    }
   ],
   "source": [
    "arr = np.array([[1, 2, 3], [4, 5, 6]])\n",
    "newarr = arr.reshape(-1)\n",
    "print(newarr)"
   ]
  },
  {
   "cell_type": "markdown",
   "id": "68f01099",
   "metadata": {},
   "source": [
    "## Iterating array\n",
    "* Iterating means going through elements one by one."
   ]
  },
  {
   "cell_type": "code",
   "execution_count": 48,
   "id": "da5181de",
   "metadata": {},
   "outputs": [
    {
     "name": "stdout",
     "output_type": "stream",
     "text": [
      "1\n",
      "2\n",
      "3\n"
     ]
    }
   ],
   "source": [
    "arr = np.array([1, 2, 3])\n",
    "for x in arr:                                       ##iterating 1-D array\n",
    "  print(x)"
   ]
  },
  {
   "cell_type": "code",
   "execution_count": 49,
   "id": "5c0b1181",
   "metadata": {},
   "outputs": [
    {
     "name": "stdout",
     "output_type": "stream",
     "text": [
      "[1 2 3]\n",
      "[4 5 6]\n"
     ]
    }
   ],
   "source": [
    "arr = np.array([[1, 2, 3], [4, 5, 6]])\n",
    "for x in arr:                                  ##iterating 2-D array\n",
    "  print(x)"
   ]
  },
  {
   "cell_type": "code",
   "execution_count": 50,
   "id": "9aebe7ab",
   "metadata": {},
   "outputs": [
    {
     "name": "stdout",
     "output_type": "stream",
     "text": [
      "[[1 2 3]\n",
      " [4 5 6]]\n",
      "[[ 7  8  9]\n",
      " [10 11 12]]\n"
     ]
    }
   ],
   "source": [
    "arr = np.array([[[1, 2, 3], [4, 5, 6]], [[7, 8, 9], [10, 11, 12]]])\n",
    "for x in arr:                                        ### iterating 3-D array\n",
    "  print(x)"
   ]
  },
  {
   "cell_type": "markdown",
   "id": "7896ef1a",
   "metadata": {},
   "source": [
    "## Array join"
   ]
  },
  {
   "cell_type": "code",
   "execution_count": 51,
   "id": "c57e1436",
   "metadata": {},
   "outputs": [
    {
     "name": "stdout",
     "output_type": "stream",
     "text": [
      "[1 2 3 4 5 6]\n"
     ]
    }
   ],
   "source": [
    "arr1 = np.array([1, 2, 3])                                 ## 1-D array\n",
    "arr2 = np.array([4, 5, 6])\n",
    "arr = np.concatenate((arr1, arr2))\n",
    "print(arr)"
   ]
  },
  {
   "cell_type": "code",
   "execution_count": 52,
   "id": "66cad3a2",
   "metadata": {},
   "outputs": [
    {
     "name": "stdout",
     "output_type": "stream",
     "text": [
      "[[1 2 5 6]\n",
      " [3 4 7 8]]\n"
     ]
    }
   ],
   "source": [
    "arr1 = np.array([[1, 2], [3, 4]])                                ##2-D array\n",
    "arr2 = np.array([[5, 6], [7, 8]])\n",
    "arr = np.concatenate((arr1, arr2), axis=1)\n",
    "print(arr)"
   ]
  },
  {
   "cell_type": "code",
   "execution_count": 53,
   "id": "20bd87ac",
   "metadata": {},
   "outputs": [
    {
     "name": "stdout",
     "output_type": "stream",
     "text": [
      "[[1 4]\n",
      " [2 5]\n",
      " [3 6]]\n"
     ]
    }
   ],
   "source": [
    "arr1 = np.array([1, 2, 3])                            ###Array join using stack\n",
    "arr2 = np.array([4, 5, 6])\n",
    "arr = np.stack((arr1, arr2), axis=1)\n",
    "print(arr)"
   ]
  },
  {
   "cell_type": "code",
   "execution_count": 54,
   "id": "0e457e59",
   "metadata": {},
   "outputs": [
    {
     "name": "stdout",
     "output_type": "stream",
     "text": [
      "[1 2 3 4 5 6]\n"
     ]
    }
   ],
   "source": [
    "arr1 = np.array([1, 2, 3])                            ## Stacking along rows\n",
    "arr2 = np.array([4, 5, 6])\n",
    "arr = np.hstack((arr1, arr2))\n",
    "print(arr)"
   ]
  },
  {
   "cell_type": "code",
   "execution_count": 55,
   "id": "4f76b6d8",
   "metadata": {},
   "outputs": [
    {
     "name": "stdout",
     "output_type": "stream",
     "text": [
      "[[1 2 3]\n",
      " [4 5 6]]\n"
     ]
    }
   ],
   "source": [
    "arr1 = np.array([1, 2, 3])                      ### stacking along column \n",
    "arr2 = np.array([4, 5, 6])\n",
    "arr = np.vstack((arr1, arr2))\n",
    "print(arr)"
   ]
  },
  {
   "cell_type": "code",
   "execution_count": 56,
   "id": "6433d69f",
   "metadata": {},
   "outputs": [
    {
     "name": "stdout",
     "output_type": "stream",
     "text": [
      "[[[1 4]\n",
      "  [2 5]\n",
      "  [3 6]]]\n"
     ]
    }
   ],
   "source": [
    "arr1 = np.array([1, 2, 3])                             ##stacking along height(depth)\n",
    "arr2 = np.array([4, 5, 6])\n",
    "arr = np.dstack((arr1, arr2))\n",
    "print(arr)"
   ]
  },
  {
   "cell_type": "markdown",
   "id": "e0c6d3b5",
   "metadata": {},
   "source": [
    "## Splitting array\n",
    "#### 1-D"
   ]
  },
  {
   "cell_type": "code",
   "execution_count": 57,
   "id": "4ac82ec2",
   "metadata": {},
   "outputs": [
    {
     "name": "stdout",
     "output_type": "stream",
     "text": [
      "[array([1, 2]), array([3, 4]), array([5, 6])]\n"
     ]
    }
   ],
   "source": [
    "arr = np.array([1, 2, 3, 4, 5, 6])\n",
    "newarr = np.array_split(arr, 3)                             ##into 3 parts\n",
    "print(newarr)"
   ]
  },
  {
   "cell_type": "code",
   "execution_count": 58,
   "id": "d47bcb2f",
   "metadata": {},
   "outputs": [
    {
     "name": "stdout",
     "output_type": "stream",
     "text": [
      "[array([1, 2]), array([3, 4]), array([5]), array([6])]\n"
     ]
    }
   ],
   "source": [
    "arr = np.array([1, 2, 3, 4, 5, 6])\n",
    "newarr = np.array_split(arr, 4)                            ##into 4 parts\n",
    "print(newarr)"
   ]
  },
  {
   "cell_type": "markdown",
   "id": "b73f5632",
   "metadata": {},
   "source": [
    "### Splitting 2-D"
   ]
  },
  {
   "cell_type": "code",
   "execution_count": 59,
   "id": "7c65af8d",
   "metadata": {},
   "outputs": [
    {
     "name": "stdout",
     "output_type": "stream",
     "text": [
      "[array([[1, 2],\n",
      "       [3, 4]]), array([[5, 6],\n",
      "       [7, 8]]), array([[ 9, 10],\n",
      "       [11, 12]])]\n"
     ]
    }
   ],
   "source": [
    "arr = np.array([[1, 2], [3, 4], [5, 6], [7, 8], [9, 10], [11, 12]])\n",
    "newarr = np.array_split(arr, 3)\n",
    "print(newarr)"
   ]
  },
  {
   "cell_type": "markdown",
   "id": "e5917324",
   "metadata": {},
   "source": [
    "## Searching arrays"
   ]
  },
  {
   "cell_type": "code",
   "execution_count": 60,
   "id": "5cdc185c",
   "metadata": {},
   "outputs": [
    {
     "name": "stdout",
     "output_type": "stream",
     "text": [
      "(array([3, 5, 6], dtype=int64),)\n"
     ]
    }
   ],
   "source": [
    "arr = np.array([1, 2, 3, 4, 5, 4, 4])\n",
    "x = np.where(arr == 4)\n",
    "print(x)                                     ##Which means that the value 4 is present at index 3, 5, and 6."
   ]
  },
  {
   "cell_type": "code",
   "execution_count": 61,
   "id": "b55e1c40",
   "metadata": {},
   "outputs": [
    {
     "name": "stdout",
     "output_type": "stream",
     "text": [
      "1\n"
     ]
    }
   ],
   "source": [
    "arr = np.array([6, 7, 8, 9])\n",
    "x = np.searchsorted(arr, 7)\n",
    "print(x)"
   ]
  },
  {
   "cell_type": "markdown",
   "id": "584bc5f0",
   "metadata": {},
   "source": [
    "## Sorting arrays"
   ]
  },
  {
   "cell_type": "code",
   "execution_count": 62,
   "id": "e998bcd7",
   "metadata": {},
   "outputs": [
    {
     "name": "stdout",
     "output_type": "stream",
     "text": [
      "[0 1 2 3]\n"
     ]
    }
   ],
   "source": [
    "arr = np.array([3, 2, 0, 1])\n",
    "print(np.sort(arr))"
   ]
  },
  {
   "cell_type": "code",
   "execution_count": 63,
   "id": "eeb552a5",
   "metadata": {},
   "outputs": [
    {
     "name": "stdout",
     "output_type": "stream",
     "text": [
      "[False  True  True]\n"
     ]
    }
   ],
   "source": [
    "arr = np.array([True, False, True])\n",
    "print(np.sort(arr))"
   ]
  },
  {
   "cell_type": "code",
   "execution_count": 64,
   "id": "5e55bb89",
   "metadata": {},
   "outputs": [
    {
     "name": "stdout",
     "output_type": "stream",
     "text": [
      "[[2 3 4]\n",
      " [0 1 5]]\n"
     ]
    }
   ],
   "source": [
    "arr = np.array([[3, 2, 4], [5, 0, 1]])\n",
    "print(np.sort(arr))"
   ]
  },
  {
   "cell_type": "markdown",
   "id": "b4394d9a",
   "metadata": {},
   "source": [
    "## Filtering array"
   ]
  },
  {
   "cell_type": "code",
   "execution_count": 65,
   "id": "e29237db",
   "metadata": {},
   "outputs": [
    {
     "name": "stdout",
     "output_type": "stream",
     "text": [
      "[False, False, True, True]\n",
      "[43 44]\n"
     ]
    }
   ],
   "source": [
    "arr = np.array([41, 42, 43, 44])\n",
    "\n",
    "# Create an empty list\n",
    "filter_arr = []\n",
    "\n",
    "# go through each element in arr\n",
    "for element in arr:\n",
    "  # if the element is higher than 42, set the value to True, otherwise False:\n",
    "  if element > 42:\n",
    "    filter_arr.append(True)\n",
    "  else:\n",
    "    filter_arr.append(False)\n",
    "\n",
    "newarr = arr[filter_arr]\n",
    "\n",
    "print(filter_arr)\n",
    "print(newarr)"
   ]
  },
  {
   "cell_type": "markdown",
   "id": "0e45af53",
   "metadata": {},
   "source": [
    "# Numpy Random"
   ]
  },
  {
   "cell_type": "code",
   "execution_count": 66,
   "id": "f9fde196",
   "metadata": {},
   "outputs": [
    {
     "name": "stdout",
     "output_type": "stream",
     "text": [
      "[0.55327255 0.4039502  0.99277934 0.55851562 0.23558472]\n"
     ]
    }
   ],
   "source": [
    "#creating random array\n",
    "arr5=np.random.rand(5)              ##it will chnage the values for every run\n",
    "print(arr5)"
   ]
  },
  {
   "cell_type": "code",
   "execution_count": 67,
   "id": "8ccd8309",
   "metadata": {},
   "outputs": [
    {
     "name": "stdout",
     "output_type": "stream",
     "text": [
      "0\n"
     ]
    }
   ],
   "source": [
    "#create random array of integers\n",
    "arr6=np.random.randint(0,5)      #we will get different value because of processors we used.\n",
    "print(arr6)"
   ]
  },
  {
   "cell_type": "code",
   "execution_count": 68,
   "id": "8dfb102f",
   "metadata": {},
   "outputs": [
    {
     "name": "stdout",
     "output_type": "stream",
     "text": [
      "[27  0 38 39 10 46 44 15 21 14]\n"
     ]
    }
   ],
   "source": [
    "arr6=np.random.randint(0,50,10)    #random nmbers---(start,stop,stepsize)\n",
    "print(arr6)"
   ]
  },
  {
   "cell_type": "code",
   "execution_count": 70,
   "id": "6488e4e6",
   "metadata": {},
   "outputs": [
    {
     "name": "stdout",
     "output_type": "stream",
     "text": [
      "[19 22 18 39 41 34  1 29 28 12]\n"
     ]
    },
    {
     "name": "stderr",
     "output_type": "stream",
     "text": [
      "<ipython-input-70-f7974e666c9c>:2: DeprecationWarning: This function is deprecated. Please call randint(0, 50 + 1) instead\n",
      "  arr6=np.random.random_integers(0,50,10)    #random nmbers\n"
     ]
    }
   ],
   "source": [
    "#create random array of  integers using random_integers()\n",
    "arr6=np.random.random_integers(0,50,10)    #random nmbers\n",
    "print(arr6)\n",
    "\n",
    "### We will get warning while using random_integers() is due to out dated version  "
   ]
  },
  {
   "cell_type": "code",
   "execution_count": 71,
   "id": "1a27386a",
   "metadata": {},
   "outputs": [
    {
     "name": "stdout",
     "output_type": "stream",
     "text": [
      "[ 3  9 41 34  0 46 19 29 26 47 34 18 27 47 33  8  8  5 35 20]\n"
     ]
    }
   ],
   "source": [
    "import warnings  #we will not get warning\n",
    "warnings.filterwarnings('ignore')\n",
    "arr7= np.random.random_integers(0,50,20)\n",
    "print(arr7)\n",
    "#by importing warnings we can avoid the warnings"
   ]
  },
  {
   "cell_type": "code",
   "execution_count": 72,
   "id": "c22051b2",
   "metadata": {},
   "outputs": [
    {
     "name": "stdout",
     "output_type": "stream",
     "text": [
      "[ 0.68675532 -0.56059328  1.23547593 -0.0195842  -0.11417774  0.7754684\n",
      " -1.17890374  0.02709373  0.47857927  0.50099385  0.22800971 -0.16308735\n",
      " -0.50674995 -0.45509013  0.93982166  0.37683579  0.3703049  -1.21672364\n",
      "  1.17594032  0.43741154  0.10921867  1.07833042  1.00119024 -0.44890445\n",
      " -1.12375433 -0.49266403 -0.01246146 -0.40921675  0.95891629  0.38020253\n",
      "  1.52111344  1.71725085 -0.23786346  0.38265597  0.58446586 -1.0200663\n",
      " -0.56742646 -0.44115181  1.42129042  0.95888239 -2.02553661  0.19256912\n",
      " -1.8319775  -0.51102095  1.27682772 -0.77062405 -1.92653036 -0.16507538\n",
      "  0.07114665 -0.27287638]\n"
     ]
    }
   ],
   "source": [
    "#create array of normally distributes\n",
    "arr8=np.random.randn(50)\n",
    "print(arr8)"
   ]
  }
 ],
 "metadata": {
  "kernelspec": {
   "display_name": "Python 3 (ipykernel)",
   "language": "python",
   "name": "python3"
  },
  "language_info": {
   "codemirror_mode": {
    "name": "ipython",
    "version": 3
   },
   "file_extension": ".py",
   "mimetype": "text/x-python",
   "name": "python",
   "nbconvert_exporter": "python",
   "pygments_lexer": "ipython3",
   "version": "3.12.7"
  }
 },
 "nbformat": 4,
 "nbformat_minor": 5
}
