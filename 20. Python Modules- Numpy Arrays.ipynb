{
 "cells": [
  {
   "cell_type": "markdown",
   "id": "0fbb8273-ce8c-4050-a42c-7ee1a03413bf",
   "metadata": {},
   "source": [
    "####"
   ]
  },
  {
   "cell_type": "markdown",
   "id": "c67957e5",
   "metadata": {},
   "source": [
    "# 🐍 NumPy Tutorial – Mastering Arrays in Python\n",
    "\n",
    "## 1. What is a NumPy Array?\n",
    "\n",
    "NumPy is a Python library. NumPy (Numerical Python) is the **fundamental package for scientific computing in Python**. Its main feature is the **`ndarray` (n-dimensional array)**, a powerful object that allows you to store and manipulate **large datasets efficiently**.\n",
    "\n",
    "🔹 Why use NumPy arrays instead of Python lists?\n",
    "\n",
    "* Lists are flexible but **slow** for mathematical operations.\n",
    "* NumPy arrays are **faster, more memory-efficient**, and support **vectorized operations** (performing operations on entire arrays without loops).\n",
    "* Essential for **data science, AI, ML, and image processing**.\n"
   ]
  },
  {
   "cell_type": "markdown",
   "id": "ab548dba-6f58-4bd8-96ba-96c01411e263",
   "metadata": {},
   "source": [
    "# 📘 NumPy Tutorial Roadmap\n",
    "\n",
    "Let’s now go step by step through the essential topics:\n",
    "\n",
    "---\n",
    "\n",
    "## 2. NumPy HOME\n",
    "\n",
    "Think of this as the **landing page** for NumPy. It tells us NumPy is:\n",
    "\n",
    "* Open-source\n",
    "* Used for numerical data\n",
    "* Supports arrays, matrices, random numbers, and linear algebra\n",
    "\n",
    "---\n",
    "\n",
    "## 3. NumPy Intro\n",
    "\n",
    "* NumPy was created in 2005 by Travis Oliphant.\n",
    "* Built on **C and Fortran**, making it **super fast**.\n",
    "* Used in data science libraries like Pandas, TensorFlow, and SciPy."
   ]
  },
  {
   "cell_type": "markdown",
   "id": "bef1d6ba-9b85-43be-9f29-b7b404bfc327",
   "metadata": {},
   "source": [
    "## 4. NumPy Getting Started\n",
    "\n",
    "To install NumPy:\n",
    "\n",
    "```bash\n",
    "pip install numpy\n",
    "```\n",
    "\n",
    "To use it:\n"
   ]
  },
  {
   "cell_type": "code",
   "execution_count": 1,
   "id": "9d7f71d8-1340-458f-b1f9-149d043c7659",
   "metadata": {},
   "outputs": [],
   "source": [
    "#pip install numpy"
   ]
  },
  {
   "cell_type": "code",
   "execution_count": 2,
   "id": "a810e0a3",
   "metadata": {},
   "outputs": [],
   "source": [
    "import numpy as np"
   ]
  },
  {
   "cell_type": "markdown",
   "id": "c5304668",
   "metadata": {},
   "source": [
    "## Numpy Version"
   ]
  },
  {
   "cell_type": "code",
   "execution_count": 3,
   "id": "204c3af8",
   "metadata": {},
   "outputs": [
    {
     "name": "stdout",
     "output_type": "stream",
     "text": [
      "1.26.3\n"
     ]
    }
   ],
   "source": [
    "print(np.__version__)"
   ]
  },
  {
   "cell_type": "code",
   "execution_count": 4,
   "id": "6ccf4d38-5b51-4e70-8760-c98b1e2b8205",
   "metadata": {},
   "outputs": [
    {
     "name": "stdout",
     "output_type": "stream",
     "text": [
      "[1, 2, 3, 4, 5]\n",
      "[1 2 3 4 5]\n",
      "[ 2  4  6  8 10]\n"
     ]
    }
   ],
   "source": [
    "## example\n",
    "\n",
    "# Python list\n",
    "list1 = [1, 2, 3, 4, 5]\n",
    "\n",
    "# NumPy array\n",
    "arr = np.array([1, 2, 3, 4, 5])\n",
    "\n",
    "print(list1)   # [1, 2, 3, 4, 5]\n",
    "print(arr)     # [1 2 3 4 5]\n",
    "\n",
    "# Array operations\n",
    "print(arr * 2)  # [ 2  4  6  8 10]\n"
   ]
  },
  {
   "cell_type": "markdown",
   "id": "c0a44d96-735d-4abe-bb09-012d1da95f9b",
   "metadata": {},
   "source": [
    "#### 👉 Notice how multiplying the list by 2 just repeats it, but multiplying the array by 2 scales all elements."
   ]
  },
  {
   "cell_type": "markdown",
   "id": "afabf473-d5f4-4234-92a1-09e0b518f257",
   "metadata": {},
   "source": [
    "## Why NumPy arrays are better than Python lists with a performance example."
   ]
  },
  {
   "cell_type": "code",
   "execution_count": 5,
   "id": "f6c3e0b9-6e88-4047-99bb-922bd4e02167",
   "metadata": {},
   "outputs": [
    {
     "name": "stdout",
     "output_type": "stream",
     "text": [
      "Python list time: 0.6635754108428955\n",
      "NumPy array time: 0.01495361328125\n"
     ]
    }
   ],
   "source": [
    "import numpy as np\n",
    "import time\n",
    "\n",
    "# Python list\n",
    "list1 = list(range(1, 1000000))\n",
    "start = time.time()\n",
    "list_sum = [x*2 for x in list1]\n",
    "print(\"Python list time:\", time.time() - start)\n",
    "\n",
    "# NumPy array\n",
    "arr = np.arange(1, 1000000)\n",
    "start = time.time()\n",
    "arr_sum = arr * 2\n",
    "print(\"NumPy array time:\", time.time() - start)\n"
   ]
  },
  {
   "cell_type": "code",
   "execution_count": null,
   "id": "3df233e5-c2f0-4ba1-be99-dee02ef541c3",
   "metadata": {},
   "outputs": [],
   "source": []
  },
  {
   "cell_type": "markdown",
   "id": "9eeee49e",
   "metadata": {},
   "source": [
    "## 5. NumPy Creating Arrays\n",
    "#### Using list"
   ]
  },
  {
   "cell_type": "code",
   "execution_count": 6,
   "id": "ca76fdcd",
   "metadata": {},
   "outputs": [
    {
     "name": "stdout",
     "output_type": "stream",
     "text": [
      "<class 'numpy.ndarray'>\n",
      "[5 6 7 8 9]\n"
     ]
    }
   ],
   "source": [
    "arr1=np.array([5,6,7,8,9])\n",
    "print(type(arr1))\n",
    "print(arr1)"
   ]
  },
  {
   "cell_type": "markdown",
   "id": "bb50f9bc",
   "metadata": {},
   "source": [
    " #### Using tuple"
   ]
  },
  {
   "cell_type": "code",
   "execution_count": 7,
   "id": "5282fcf1",
   "metadata": {},
   "outputs": [
    {
     "name": "stdout",
     "output_type": "stream",
     "text": [
      "[1 2 3 4 5]\n",
      "<class 'numpy.ndarray'>\n"
     ]
    }
   ],
   "source": [
    "import numpy as np\n",
    "arr = np.array((1, 2, 3, 4, 5))\n",
    "print(arr)\n",
    "print(type(arr))"
   ]
  },
  {
   "cell_type": "markdown",
   "id": "b609e017",
   "metadata": {},
   "source": [
    "#### Using set "
   ]
  },
  {
   "cell_type": "code",
   "execution_count": 8,
   "id": "c217c2a5",
   "metadata": {},
   "outputs": [
    {
     "name": "stdout",
     "output_type": "stream",
     "text": [
      "{1, 2, 3, 4, 5, 6}\n",
      "<class 'numpy.ndarray'>\n"
     ]
    }
   ],
   "source": [
    "s1={1,2,3,4,5,6}\n",
    "arr3=np.array(s1)\n",
    "print(arr3)\n",
    "print(type(arr3))"
   ]
  },
  {
   "cell_type": "markdown",
   "id": "0321f0b2",
   "metadata": {},
   "source": [
    "## Creating an array using arange"
   ]
  },
  {
   "cell_type": "code",
   "execution_count": 9,
   "id": "674b1025",
   "metadata": {},
   "outputs": [
    {
     "name": "stdout",
     "output_type": "stream",
     "text": [
      "[0 1 2 3 4 5 6 7 8 9]\n"
     ]
    }
   ],
   "source": [
    "#create array using arange\n",
    "arr4=np.arange(10)\n",
    "print(arr4)"
   ]
  },
  {
   "cell_type": "code",
   "execution_count": 10,
   "id": "b618cbfd",
   "metadata": {},
   "outputs": [
    {
     "name": "stdout",
     "output_type": "stream",
     "text": [
      "[2 3 4 5 6 7 8 9]\n"
     ]
    }
   ],
   "source": [
    "arr4=np.arange(2,10)\n",
    "print(arr4)"
   ]
  },
  {
   "cell_type": "code",
   "execution_count": 11,
   "id": "7bf0d611",
   "metadata": {},
   "outputs": [
    {
     "name": "stdout",
     "output_type": "stream",
     "text": [
      "[0 2 4 6 8]\n"
     ]
    }
   ],
   "source": [
    "arr4=np.arange(0,10,2) #start point-end point-step-size\n",
    "print(arr4)"
   ]
  },
  {
   "cell_type": "markdown",
   "id": "77188fc3",
   "metadata": {},
   "source": [
    "## Creating array using linspace"
   ]
  },
  {
   "cell_type": "code",
   "execution_count": 12,
   "id": "c362d056",
   "metadata": {},
   "outputs": [
    {
     "name": "stdout",
     "output_type": "stream",
     "text": [
      "[0.]\n"
     ]
    }
   ],
   "source": [
    "#crate 1-darray using linspace function\n",
    "arr4= np.linspace(0,5,1)\n",
    "print(arr4)"
   ]
  },
  {
   "cell_type": "code",
   "execution_count": 13,
   "id": "84e565b1",
   "metadata": {},
   "outputs": [
    {
     "name": "stdout",
     "output_type": "stream",
     "text": [
      "[0.         0.26315789 0.52631579 0.78947368 1.05263158 1.31578947\n",
      " 1.57894737 1.84210526 2.10526316 2.36842105 2.63157895 2.89473684\n",
      " 3.15789474 3.42105263 3.68421053 3.94736842 4.21052632 4.47368421\n",
      " 4.73684211 5.        ]\n"
     ]
    }
   ],
   "source": [
    "arr4= np.linspace(0,5,20)\n",
    "print(arr4)"
   ]
  },
  {
   "cell_type": "code",
   "execution_count": 14,
   "id": "3f6d5266",
   "metadata": {},
   "outputs": [
    {
     "name": "stdout",
     "output_type": "stream",
     "text": [
      "[0.         0.26315789 0.52631579 0.78947368 1.05263158 1.31578947\n",
      " 1.57894737 1.84210526 2.10526316 2.36842105 2.63157895 2.89473684\n",
      " 3.15789474 3.42105263 3.68421053 3.94736842 4.21052632 4.47368421\n",
      " 4.73684211 5.        ]\n",
      "array dimension: 1\n",
      "array shape: (20,)\n",
      "dat type of array: float64\n"
     ]
    }
   ],
   "source": [
    "arr4= np.linspace(0,5,20)\n",
    "print(arr4)\n",
    "print(\"array dimension:\",arr4.ndim)\n",
    "print(\"array shape:\",arr4.shape)\n",
    "print(\"dat type of array:\",arr4.dtype)"
   ]
  },
  {
   "cell_type": "markdown",
   "id": "bf706815-433e-44b2-8e03-8c09515e0f49",
   "metadata": {},
   "source": [
    "### Other ways to create arrays:"
   ]
  },
  {
   "cell_type": "code",
   "execution_count": 15,
   "id": "f12f4202-9d8e-42a4-861a-e78e15af086e",
   "metadata": {},
   "outputs": [],
   "source": [
    "# From a Python list\n",
    "arr1 = np.array([1, 2, 3])"
   ]
  },
  {
   "cell_type": "code",
   "execution_count": 16,
   "id": "fbe93f4d-1341-40c5-8f23-3697e0f0eae9",
   "metadata": {},
   "outputs": [
    {
     "data": {
      "text/plain": [
       "array([[0., 0., 0.],\n",
       "       [0., 0., 0.]])"
      ]
     },
     "execution_count": 16,
     "metadata": {},
     "output_type": "execute_result"
    }
   ],
   "source": [
    "# Zeros and ones\n",
    "arr2 = np.zeros((2, 3))    # 2x3 array of zeros\n",
    "arr2"
   ]
  },
  {
   "cell_type": "code",
   "execution_count": 17,
   "id": "c36c1fa4-8276-4f07-bc02-2b7c18edcdcf",
   "metadata": {},
   "outputs": [
    {
     "data": {
      "text/plain": [
       "array([[1., 1.],\n",
       "       [1., 1.]])"
      ]
     },
     "execution_count": 17,
     "metadata": {},
     "output_type": "execute_result"
    }
   ],
   "source": [
    "arr3 = np.ones((2, 2))     # 2x2 array of ones\n",
    "arr3"
   ]
  },
  {
   "cell_type": "code",
   "execution_count": 18,
   "id": "6f323e9d-80f3-4b94-ad5f-ab515e4eaa57",
   "metadata": {},
   "outputs": [
    {
     "name": "stdout",
     "output_type": "stream",
     "text": [
      "[[1. 0. 0.]\n",
      " [0. 1. 0.]\n",
      " [0. 0. 1.]]\n"
     ]
    }
   ],
   "source": [
    "arr6 = np.eye(3) #identity\n",
    "\n",
    "print(arr6)"
   ]
  },
  {
   "cell_type": "markdown",
   "id": "9758a98d",
   "metadata": {},
   "source": [
    "## Dimensions in arrays\n",
    "#### Zero-Dimensions"
   ]
  },
  {
   "cell_type": "code",
   "execution_count": 19,
   "id": "81094745",
   "metadata": {},
   "outputs": [
    {
     "name": "stdout",
     "output_type": "stream",
     "text": [
      "56\n",
      "<class 'numpy.ndarray'>\n"
     ]
    }
   ],
   "source": [
    "arr4=np.array(56)\n",
    "print(arr4)\n",
    "print(type(arr4))"
   ]
  },
  {
   "cell_type": "markdown",
   "id": "22cfaef8",
   "metadata": {},
   "source": [
    "#### One-Dimensions"
   ]
  },
  {
   "cell_type": "code",
   "execution_count": 20,
   "id": "16845c07",
   "metadata": {},
   "outputs": [
    {
     "name": "stdout",
     "output_type": "stream",
     "text": [
      "[1 2 3 4 5]\n"
     ]
    }
   ],
   "source": [
    "arr5=np.array([1,2,3,4,5])\n",
    "print(arr5)"
   ]
  },
  {
   "cell_type": "markdown",
   "id": "153d8d09",
   "metadata": {},
   "source": [
    "#### Two-Dimensions"
   ]
  },
  {
   "cell_type": "code",
   "execution_count": 21,
   "id": "b353adb9",
   "metadata": {},
   "outputs": [
    {
     "name": "stdout",
     "output_type": "stream",
     "text": [
      "[[1 2 3 4]\n",
      " [5 6 7 8]]\n"
     ]
    }
   ],
   "source": [
    "arr6=np.array([[1,2,3,4],[5,6,7,8]])\n",
    "print(arr6)"
   ]
  },
  {
   "cell_type": "markdown",
   "id": "2cf58c44",
   "metadata": {},
   "source": [
    "#### Three-Dimensions"
   ]
  },
  {
   "cell_type": "code",
   "execution_count": 22,
   "id": "6e192d2c",
   "metadata": {},
   "outputs": [
    {
     "name": "stdout",
     "output_type": "stream",
     "text": [
      "[[ 1  2  3  4]\n",
      " [ 5  6  7  8]\n",
      " [ 9 10 11 12]]\n"
     ]
    }
   ],
   "source": [
    "arr7=np.array([[1,2,3,4],[5,6,7,8],[9,10,11,12]])\n",
    "print(arr7)"
   ]
  },
  {
   "cell_type": "code",
   "execution_count": 23,
   "id": "91bfc18c",
   "metadata": {},
   "outputs": [
    {
     "name": "stdout",
     "output_type": "stream",
     "text": [
      "[[ 1  2  3  4]\n",
      " [ 5  6  7  8]\n",
      " [ 9 10 11 12]\n",
      " [ 0  1  2  3]]\n"
     ]
    }
   ],
   "source": [
    "arr8=np.array([[1,2,3,4],[5,6,7,8],[9,10,11,12],[0,1,2,3]])\n",
    "print(arr8)"
   ]
  },
  {
   "cell_type": "markdown",
   "id": "420f8632-3905-4bcf-8a7f-6ac6ca351c0f",
   "metadata": {},
   "source": [
    "## ndarray attributes (commonly used in practice):"
   ]
  },
  {
   "cell_type": "code",
   "execution_count": 24,
   "id": "3b6aca3c-3ca6-4191-a128-e211105427dc",
   "metadata": {},
   "outputs": [
    {
     "name": "stdout",
     "output_type": "stream",
     "text": [
      "2\n",
      "(2, 3)\n",
      "6\n",
      "4\n",
      "24\n"
     ]
    }
   ],
   "source": [
    "arr = np.array([[1,2,3],[4,5,6]])\n",
    "print(arr.ndim)     # Number of dimensions\n",
    "print(arr.shape)    # Shape of array\n",
    "print(arr.size)     # Total number of elements\n",
    "print(arr.itemsize) # Bytes per element\n",
    "print(arr.nbytes)   # Total memory used"
   ]
  },
  {
   "cell_type": "markdown",
   "id": "2ac7ca15",
   "metadata": {},
   "source": [
    "## Check the number of dimensions"
   ]
  },
  {
   "cell_type": "code",
   "execution_count": 25,
   "id": "18c62190",
   "metadata": {},
   "outputs": [
    {
     "name": "stdout",
     "output_type": "stream",
     "text": [
      "0\n",
      "1\n",
      "2\n",
      "2\n",
      "3\n"
     ]
    }
   ],
   "source": [
    "arr4=np.array(56)\n",
    "arr5=np.array([1,2,3,4,5])\n",
    "arr6=np.array([[1,2,3,4],[5,6,7,8]])\n",
    "arr7=np.array([[1,2,3,4],[5,6,7,8],[9,10,11,12]])\n",
    "arr8=np.array([[[1, 2, 3], [4, 5, 6]], [[1, 2, 3], [4, 5, 6]]])\n",
    "print(arr4.ndim)\n",
    "print(arr5.ndim)\n",
    "print(arr6.ndim)\n",
    "print(arr7.ndim)\n",
    "print(arr8.ndim)"
   ]
  },
  {
   "cell_type": "markdown",
   "id": "1e5ee8c6",
   "metadata": {},
   "source": [
    "### Array with 5 dimensions"
   ]
  },
  {
   "cell_type": "code",
   "execution_count": 26,
   "id": "6b9fc1fa",
   "metadata": {},
   "outputs": [
    {
     "name": "stdout",
     "output_type": "stream",
     "text": [
      "[[[[[1 2 3 4]]]]]\n",
      "number of dimensions : 5\n"
     ]
    }
   ],
   "source": [
    "arr = np.array([1, 2, 3, 4], ndmin=5)\n",
    "print(arr)\n",
    "print('number of dimensions :', arr.ndim)"
   ]
  },
  {
   "cell_type": "markdown",
   "id": "f7cec1bf",
   "metadata": {},
   "source": [
    "## 6. NumPy Array Indexing"
   ]
  },
  {
   "cell_type": "code",
   "execution_count": 27,
   "id": "26924ec8",
   "metadata": {},
   "outputs": [
    {
     "name": "stdout",
     "output_type": "stream",
     "text": [
      "1\n"
     ]
    }
   ],
   "source": [
    "arr5=np.array([1,2,3,4,5])\n",
    "print(arr5[0])"
   ]
  },
  {
   "cell_type": "code",
   "execution_count": 28,
   "id": "d103ef95",
   "metadata": {},
   "outputs": [
    {
     "name": "stdout",
     "output_type": "stream",
     "text": [
      "5\n"
     ]
    }
   ],
   "source": [
    "print(arr5[-1])"
   ]
  },
  {
   "cell_type": "code",
   "execution_count": 29,
   "id": "443b8348",
   "metadata": {},
   "outputs": [
    {
     "name": "stdout",
     "output_type": "stream",
     "text": [
      "[1 2 3 4 5]\n"
     ]
    }
   ],
   "source": [
    "print(arr5[0:])"
   ]
  },
  {
   "cell_type": "code",
   "execution_count": 30,
   "id": "69fd2e9e",
   "metadata": {},
   "outputs": [
    {
     "name": "stdout",
     "output_type": "stream",
     "text": [
      "[1 2 3 4 5]\n"
     ]
    }
   ],
   "source": [
    "print(arr5[:])"
   ]
  },
  {
   "cell_type": "code",
   "execution_count": 31,
   "id": "58322d6b",
   "metadata": {},
   "outputs": [
    {
     "name": "stdout",
     "output_type": "stream",
     "text": [
      "[2 3]\n"
     ]
    }
   ],
   "source": [
    "print(arr5[1:3])"
   ]
  },
  {
   "cell_type": "code",
   "execution_count": 32,
   "id": "dd3ea9e1",
   "metadata": {},
   "outputs": [
    {
     "name": "stdout",
     "output_type": "stream",
     "text": [
      "[7]\n"
     ]
    }
   ],
   "source": [
    "print(arr5[1]+arr5[[4]])          #2+5=7"
   ]
  },
  {
   "cell_type": "code",
   "execution_count": 33,
   "id": "ad2d0823-be7e-4db5-9d9b-811157d7f1c8",
   "metadata": {},
   "outputs": [
    {
     "name": "stdout",
     "output_type": "stream",
     "text": [
      "10\n",
      "40\n"
     ]
    }
   ],
   "source": [
    "arr = np.array([10, 20, 30, 40])\n",
    "print(arr[0])   # 10\n",
    "print(arr[-1])  # 40"
   ]
  },
  {
   "cell_type": "markdown",
   "id": "15d70d92",
   "metadata": {},
   "source": [
    "## Accessing 2-D array"
   ]
  },
  {
   "cell_type": "code",
   "execution_count": 34,
   "id": "6763df03",
   "metadata": {},
   "outputs": [
    {
     "name": "stdout",
     "output_type": "stream",
     "text": [
      "Second element in the first row: 2\n"
     ]
    }
   ],
   "source": [
    "arr6=np.array([[1,2,3,4],[5,6,7,8]])\n",
    "print(\"Second element in the first row:\" ,arr6[0,1])"
   ]
  },
  {
   "cell_type": "code",
   "execution_count": 35,
   "id": "d35c8dd9",
   "metadata": {},
   "outputs": [
    {
     "name": "stdout",
     "output_type": "stream",
     "text": [
      "3rd element in the second row: 8\n"
     ]
    }
   ],
   "source": [
    "print(\"3rd element in the second row:\" ,arr6[1,3])"
   ]
  },
  {
   "cell_type": "markdown",
   "id": "1f945ef5",
   "metadata": {},
   "source": [
    "## Accessing 3-D array"
   ]
  },
  {
   "cell_type": "code",
   "execution_count": 36,
   "id": "5af19eb6",
   "metadata": {},
   "outputs": [
    {
     "name": "stdout",
     "output_type": "stream",
     "text": [
      "6\n"
     ]
    }
   ],
   "source": [
    "arr = np.array([[[1, 2, 3], [4, 5, 6]], [[7, 8, 9], [10, 11, 12]]])\n",
    "print(arr[0, 1, 2])"
   ]
  },
  {
   "cell_type": "markdown",
   "id": "1807c35c",
   "metadata": {},
   "source": [
    "* And this is why:\n",
    "\n",
    "The first number represents the first dimension, which contains two arrays:\n",
    "[[1, 2, 3], [4, 5, 6]]\n",
    "and:\n",
    "[[7, 8, 9], [10, 11, 12]]\n",
    "Since we selected 0, we are left with the first array:\n",
    "[[1, 2, 3], [4, 5, 6]]\n",
    "\n",
    "The second number represents the second dimension, which also contains two arrays:\n",
    "[1, 2, 3]\n",
    "and:\n",
    "[4, 5, 6]\n",
    "Since we selected 1, we are left with the second array:\n",
    "[4, 5, 6]\n",
    "\n",
    "The third number represents the third dimension, which contains three values:\n",
    "4\n",
    "5\n",
    "6\n",
    "Since we selected 2, we end up with the third value:\n",
    "6"
   ]
  },
  {
   "cell_type": "markdown",
   "id": "79a1cddd",
   "metadata": {},
   "source": [
    "## 7. NumPy Array Slicing\n",
    "\n",
    "* Slicing in python means taking elements from one given index to another given index.\n",
    "* We pass slice instead of index like this: [start:end].\n",
    "* We can also define the step, like this: [start:end:step]."
   ]
  },
  {
   "cell_type": "code",
   "execution_count": 37,
   "id": "eb42df7c",
   "metadata": {},
   "outputs": [
    {
     "name": "stdout",
     "output_type": "stream",
     "text": [
      "[2 3 4 5]\n"
     ]
    }
   ],
   "source": [
    "arr = np.array([1, 2, 3, 4, 5, 6, 7])\n",
    "print(arr[1:5])"
   ]
  },
  {
   "cell_type": "code",
   "execution_count": 38,
   "id": "872c8943",
   "metadata": {},
   "outputs": [
    {
     "name": "stdout",
     "output_type": "stream",
     "text": [
      "[2 4]\n"
     ]
    }
   ],
   "source": [
    "arr = np.array([1, 2, 3, 4, 5, 6, 7])\n",
    "print(arr[1:5:2])"
   ]
  },
  {
   "cell_type": "code",
   "execution_count": 39,
   "id": "abce46e4",
   "metadata": {},
   "outputs": [
    {
     "name": "stdout",
     "output_type": "stream",
     "text": [
      "[5 6 7]\n"
     ]
    }
   ],
   "source": [
    "print(arr[4:])"
   ]
  },
  {
   "cell_type": "code",
   "execution_count": 40,
   "id": "547b05a1",
   "metadata": {},
   "outputs": [
    {
     "name": "stdout",
     "output_type": "stream",
     "text": [
      "[1 3 5 7]\n"
     ]
    }
   ],
   "source": [
    "print(arr[::2])"
   ]
  },
  {
   "cell_type": "code",
   "execution_count": 41,
   "id": "b85c9890-74bb-4be1-bd9b-437507828511",
   "metadata": {},
   "outputs": [
    {
     "name": "stdout",
     "output_type": "stream",
     "text": [
      "[20 30 40]\n",
      "[10 20 30]\n",
      "[10 30 50]\n"
     ]
    }
   ],
   "source": [
    "arr = np.array([10, 20, 30, 40, 50])\n",
    "print(arr[1:4])    # [20 30 40]\n",
    "print(arr[:3])     # [10 20 30]\n",
    "print(arr[::2])    # [10 30 50]"
   ]
  },
  {
   "cell_type": "markdown",
   "id": "5caf47d1",
   "metadata": {},
   "source": [
    "## Slicing 2-D array"
   ]
  },
  {
   "cell_type": "code",
   "execution_count": 42,
   "id": "bdb58fef",
   "metadata": {},
   "outputs": [
    {
     "name": "stdout",
     "output_type": "stream",
     "text": [
      "[7 8 9]\n"
     ]
    }
   ],
   "source": [
    "arr = np.array([[1, 2, 3, 4, 5], [6, 7, 8, 9, 10]])\n",
    "print(arr[1, 1:4])"
   ]
  },
  {
   "cell_type": "code",
   "execution_count": 43,
   "id": "193f7f36",
   "metadata": {},
   "outputs": [
    {
     "name": "stdout",
     "output_type": "stream",
     "text": [
      "[3 4]\n"
     ]
    }
   ],
   "source": [
    "print(arr[0,2:4])"
   ]
  },
  {
   "cell_type": "code",
   "execution_count": 44,
   "id": "928a4da7",
   "metadata": {},
   "outputs": [
    {
     "name": "stdout",
     "output_type": "stream",
     "text": [
      "[3 8]\n"
     ]
    }
   ],
   "source": [
    "print(arr[0:2, 2])"
   ]
  },
  {
   "cell_type": "code",
   "execution_count": 45,
   "id": "91b324e6",
   "metadata": {},
   "outputs": [
    {
     "name": "stdout",
     "output_type": "stream",
     "text": [
      "[[2 3 4]\n",
      " [7 8 9]]\n"
     ]
    }
   ],
   "source": [
    "print(arr[0:2, 1:4])"
   ]
  },
  {
   "cell_type": "markdown",
   "id": "be8f8452",
   "metadata": {},
   "source": [
    "## 8. NumPy Data Types\n",
    "Below is a list of all data types in NumPy and the characters used to represent them.\n",
    "\n",
    "* i - integer\n",
    "* b - boolean\n",
    "* u - unsigned integer\n",
    "* f - float\n",
    "* c - complex float\n",
    "* m - timedelta\n",
    "* M - datetime\n",
    "* O - object\n",
    "* S - string\n",
    "* U - unicode string\n",
    "* V - fixed chunk of memory for other type ( void )"
   ]
  },
  {
   "cell_type": "markdown",
   "id": "154f9962",
   "metadata": {},
   "source": [
    "### Checking the type of array"
   ]
  },
  {
   "cell_type": "code",
   "execution_count": 46,
   "id": "ed581426",
   "metadata": {},
   "outputs": [
    {
     "name": "stdout",
     "output_type": "stream",
     "text": [
      "int32\n"
     ]
    }
   ],
   "source": [
    "arr = np.array([1, 2, 3, 4])\n",
    "print(arr.dtype)"
   ]
  },
  {
   "cell_type": "code",
   "execution_count": 47,
   "id": "1eec5980",
   "metadata": {},
   "outputs": [
    {
     "name": "stdout",
     "output_type": "stream",
     "text": [
      "<U6\n"
     ]
    }
   ],
   "source": [
    "arr = np.array(['apple', 'banana', 'cherry'])\n",
    "print(arr.dtype)"
   ]
  },
  {
   "cell_type": "code",
   "execution_count": 48,
   "id": "0936cf19",
   "metadata": {},
   "outputs": [
    {
     "name": "stdout",
     "output_type": "stream",
     "text": [
      "[b'1' b'2' b'3' b'4']\n",
      "|S1\n"
     ]
    }
   ],
   "source": [
    "arr = np.array([1, 2, 3, 4], dtype='S')  ##assigning the type\n",
    "print(arr)\n",
    "print(arr.dtype)"
   ]
  },
  {
   "cell_type": "code",
   "execution_count": 49,
   "id": "43b1c973-0935-42c1-963b-1dfb9478cc72",
   "metadata": {},
   "outputs": [
    {
     "name": "stdout",
     "output_type": "stream",
     "text": [
      "float64\n"
     ]
    }
   ],
   "source": [
    "arr = np.array([1, 2, 3], dtype='float')\n",
    "print(arr.dtype)   # float64"
   ]
  },
  {
   "cell_type": "markdown",
   "id": "0126e4ff-089c-422d-bfa1-71d90ee2f0bc",
   "metadata": {},
   "source": [
    "#### -  NumPy supports many types: `int32`, `float64`, `complex`, `bool`, etc.\n"
   ]
  },
  {
   "cell_type": "code",
   "execution_count": 50,
   "id": "6f7802da-8713-42d2-bdf1-782e8f1069ad",
   "metadata": {},
   "outputs": [
    {
     "name": "stdout",
     "output_type": "stream",
     "text": [
      "[1 2 3]\n"
     ]
    }
   ],
   "source": [
    "arr = np.array([1.2, 2.3, 3.7])\n",
    "print(arr.astype(int))"
   ]
  },
  {
   "cell_type": "markdown",
   "id": "4a9e974f-4eba-4cd3-a18d-6b1f2bef6341",
   "metadata": {},
   "source": [
    "### What happens:\n",
    "\n",
    "1. `arr` is initially of type `float64`.\n",
    "2. `arr.astype(int)` creates a **new array** of integers.\n",
    "3. Each element is **truncated toward zero**, so:\n",
    "\n",
    "   * 1.2 → 1\n",
    "   * 2.3 → 2\n",
    "   * 3.4 → 3\n"
   ]
  },
  {
   "cell_type": "markdown",
   "id": "babfc75b-763a-4117-bfd5-7fbb6705cb95",
   "metadata": {},
   "source": [
    "#### It **does not round**. If you want rounding before conversion, you should use `np.round()` first:"
   ]
  },
  {
   "cell_type": "code",
   "execution_count": 51,
   "id": "3e522e80-543b-4eeb-9641-0b3ae3b2e892",
   "metadata": {},
   "outputs": [
    {
     "data": {
      "text/plain": [
       "array([1, 2, 4])"
      ]
     },
     "execution_count": 51,
     "metadata": {},
     "output_type": "execute_result"
    }
   ],
   "source": [
    "np.round(arr).astype(int)  # [1 2 3] for this example, but [1.5, 2.7] would round properly"
   ]
  },
  {
   "cell_type": "code",
   "execution_count": null,
   "id": "8e1beacc-15f7-4517-99a7-791431b7ab5b",
   "metadata": {},
   "outputs": [],
   "source": []
  },
  {
   "cell_type": "markdown",
   "id": "c6c25ddc",
   "metadata": {},
   "source": [
    "## 9. NumPy Copy vs View"
   ]
  },
  {
   "cell_type": "code",
   "execution_count": 52,
   "id": "5bde750e",
   "metadata": {},
   "outputs": [
    {
     "name": "stdout",
     "output_type": "stream",
     "text": [
      "[42  2  3  4  5]\n",
      "[1 2 3 4 5]\n"
     ]
    }
   ],
   "source": [
    "arr = np.array([1, 2, 3, 4, 5])          ##copy\n",
    "x = arr.copy()\n",
    "arr[0] = 42\n",
    "print(arr)\n",
    "print(x)"
   ]
  },
  {
   "cell_type": "code",
   "execution_count": 53,
   "id": "9ad0e038",
   "metadata": {},
   "outputs": [
    {
     "name": "stdout",
     "output_type": "stream",
     "text": [
      "[42  2  3  4  5]\n",
      "[42  2  3  4  5]\n"
     ]
    }
   ],
   "source": [
    "arr = np.array([1, 2, 3, 4, 5])                  ##view\n",
    "x = arr.view()\n",
    "arr[0] = 42\n",
    "print(arr)\n",
    "print(x)"
   ]
  },
  {
   "cell_type": "code",
   "execution_count": 54,
   "id": "f83fc6c0-7063-4a44-87ba-e95bc7a1f6dd",
   "metadata": {},
   "outputs": [
    {
     "name": "stdout",
     "output_type": "stream",
     "text": [
      "[1 2 3]\n",
      "[99  2  3]\n"
     ]
    }
   ],
   "source": [
    "arr = np.array([1, 2, 3])\n",
    "copy_arr = arr.copy()\n",
    "view_arr = arr.view()\n",
    "\n",
    "arr[0] = 99\n",
    "\n",
    "print(copy_arr)   # [1 2 3] (not affected)\n",
    "print(view_arr)   # [99 2 3] (affected)"
   ]
  },
  {
   "cell_type": "markdown",
   "id": "dc4fd79e",
   "metadata": {},
   "source": [
    "## 10. NumPy Array Shape"
   ]
  },
  {
   "cell_type": "code",
   "execution_count": 55,
   "id": "3c85cc0b",
   "metadata": {},
   "outputs": [
    {
     "name": "stdout",
     "output_type": "stream",
     "text": [
      "(2, 4)\n"
     ]
    }
   ],
   "source": [
    "arr = np.array([[1, 2, 3, 4], [5, 6, 7, 8]])\n",
    "print(arr.shape)"
   ]
  },
  {
   "cell_type": "code",
   "execution_count": 56,
   "id": "15009ea2",
   "metadata": {},
   "outputs": [
    {
     "name": "stdout",
     "output_type": "stream",
     "text": [
      "[[[[[1 2 3 4]]]]]\n",
      "shape of array : (1, 1, 1, 1, 4)\n"
     ]
    }
   ],
   "source": [
    "arr = np.array([1, 2, 3, 4], ndmin=5)\n",
    "\n",
    "print(arr)\n",
    "print('shape of array :', arr.shape)"
   ]
  },
  {
   "cell_type": "code",
   "execution_count": 57,
   "id": "e55211b7-9680-4406-83dd-255eda7a2123",
   "metadata": {},
   "outputs": [
    {
     "name": "stdout",
     "output_type": "stream",
     "text": [
      "(2, 3)\n"
     ]
    }
   ],
   "source": [
    "arr = np.array([[1, 2, 3], [4, 5, 6]])\n",
    "print(arr.shape)   # (2, 3)"
   ]
  },
  {
   "cell_type": "markdown",
   "id": "cf3d819c",
   "metadata": {},
   "source": [
    "## 11. NumPy Array Reshape"
   ]
  },
  {
   "cell_type": "code",
   "execution_count": 58,
   "id": "9a1fd6db",
   "metadata": {},
   "outputs": [
    {
     "name": "stdout",
     "output_type": "stream",
     "text": [
      "[[[ 1  2]\n",
      "  [ 3  4]\n",
      "  [ 5  6]]\n",
      "\n",
      " [[ 7  8]\n",
      "  [ 9 10]\n",
      "  [11 12]]]\n"
     ]
    }
   ],
   "source": [
    "arr = np.array([1, 2, 3, 4, 5, 6, 7, 8, 9, 10, 11, 12])\n",
    "newarr = arr.reshape(2, 3, 2)\n",
    "\n",
    "print(newarr)"
   ]
  },
  {
   "cell_type": "code",
   "execution_count": 59,
   "id": "97b12ae2",
   "metadata": {},
   "outputs": [
    {
     "name": "stdout",
     "output_type": "stream",
     "text": [
      "[1 2 3 4 5 6 7 8]\n"
     ]
    }
   ],
   "source": [
    "arr = np.array([1, 2, 3, 4, 5, 6, 7, 8])\n",
    "print(arr.reshape(2, 4).base)"
   ]
  },
  {
   "cell_type": "code",
   "execution_count": 60,
   "id": "87c3bc49",
   "metadata": {},
   "outputs": [
    {
     "name": "stdout",
     "output_type": "stream",
     "text": [
      "[[ 1  2  3]\n",
      " [ 4  5  6]\n",
      " [ 7  8  9]\n",
      " [10 11 12]]\n"
     ]
    }
   ],
   "source": [
    "# 1-D to 2-D conversion\n",
    "\n",
    "arr = np.array([1, 2, 3, 4, 5, 6, 7, 8, 9, 10, 11, 12])\n",
    "newarr = arr.reshape(4, 3)\n",
    "print(newarr)"
   ]
  },
  {
   "cell_type": "code",
   "execution_count": 61,
   "id": "19bc326d",
   "metadata": {},
   "outputs": [
    {
     "name": "stdout",
     "output_type": "stream",
     "text": [
      "[[[ 1  2]\n",
      "  [ 3  4]\n",
      "  [ 5  6]]\n",
      "\n",
      " [[ 7  8]\n",
      "  [ 9 10]\n",
      "  [11 12]]]\n"
     ]
    }
   ],
   "source": [
    "## 1-D to 3-D conversion\n",
    "arr = np.array([1, 2, 3, 4, 5, 6, 7, 8, 9, 10, 11, 12])\n",
    "newarr = arr.reshape(2, 3, 2)\n",
    "print(newarr)"
   ]
  },
  {
   "cell_type": "code",
   "execution_count": 62,
   "id": "adab6172-432c-4bd8-a220-9d7cac193373",
   "metadata": {},
   "outputs": [
    {
     "name": "stdout",
     "output_type": "stream",
     "text": [
      "[[1 2 3]\n",
      " [4 5 6]]\n"
     ]
    }
   ],
   "source": [
    "arr = np.array([1, 2, 3, 4, 5, 6])\n",
    "reshaped = arr.reshape(2, 3)\n",
    "print(reshaped)\n",
    "# [[1 2 3]\n",
    "#  [4 5 6]]"
   ]
  },
  {
   "cell_type": "markdown",
   "id": "b9b0f84e-760c-4a77-84eb-8cf45d507fa3",
   "metadata": {},
   "source": [
    "### Transpose and Axis operations:"
   ]
  },
  {
   "cell_type": "code",
   "execution_count": 63,
   "id": "5561d3b8-83d6-4139-8356-564ae8ad3d8c",
   "metadata": {},
   "outputs": [
    {
     "name": "stdout",
     "output_type": "stream",
     "text": [
      "[[1 4]\n",
      " [2 5]\n",
      " [3 6]]\n",
      "[5 7 9]\n",
      "[ 6 15]\n"
     ]
    }
   ],
   "source": [
    "\n",
    "arr = np.array([[1,2,3],[4,5,6]])\n",
    "print(arr.T)  # Transpose\n",
    "\n",
    "# Sum along rows and columns\n",
    "print(arr.sum(axis=0))  # column-wise sum\n",
    "print(arr.sum(axis=1))  # row-wise sum"
   ]
  },
  {
   "cell_type": "markdown",
   "id": "a3ac1533",
   "metadata": {},
   "source": [
    "## Flattering array\n",
    "* Flattening array means converting a multidimensional array into a 1D array."
   ]
  },
  {
   "cell_type": "code",
   "execution_count": 64,
   "id": "bd4f2533",
   "metadata": {},
   "outputs": [
    {
     "name": "stdout",
     "output_type": "stream",
     "text": [
      "[1 2 3 4 5 6]\n"
     ]
    }
   ],
   "source": [
    "arr = np.array([[1, 2, 3], [4, 5, 6]])\n",
    "newarr = arr.reshape(-1)\n",
    "print(newarr)"
   ]
  },
  {
   "cell_type": "markdown",
   "id": "68f01099",
   "metadata": {},
   "source": [
    "## 12. NumPy Array Iterating\n",
    "* Iterating means going through elements one by one."
   ]
  },
  {
   "cell_type": "code",
   "execution_count": 65,
   "id": "da5181de",
   "metadata": {},
   "outputs": [
    {
     "name": "stdout",
     "output_type": "stream",
     "text": [
      "1\n",
      "2\n",
      "3\n"
     ]
    }
   ],
   "source": [
    "arr = np.array([1, 2, 3])\n",
    "for x in arr:                                       ##iterating 1-D array\n",
    "  print(x)"
   ]
  },
  {
   "cell_type": "code",
   "execution_count": 66,
   "id": "5c0b1181",
   "metadata": {},
   "outputs": [
    {
     "name": "stdout",
     "output_type": "stream",
     "text": [
      "[1 2 3]\n",
      "[4 5 6]\n"
     ]
    }
   ],
   "source": [
    "arr = np.array([[1, 2, 3], [4, 5, 6]])\n",
    "for x in arr:                                  ##iterating 2-D array\n",
    "  print(x)"
   ]
  },
  {
   "cell_type": "code",
   "execution_count": 67,
   "id": "ca86da85-17fc-4d3e-b104-aaa88653c314",
   "metadata": {},
   "outputs": [
    {
     "name": "stdout",
     "output_type": "stream",
     "text": [
      "1\n",
      "2\n",
      "3\n",
      "4\n"
     ]
    }
   ],
   "source": [
    "arr = np.array([[1, 2], [3, 4]])\n",
    "\n",
    "for x in arr:\n",
    "    for y in x:\n",
    "        print(y)"
   ]
  },
  {
   "cell_type": "code",
   "execution_count": 68,
   "id": "9aebe7ab",
   "metadata": {},
   "outputs": [
    {
     "name": "stdout",
     "output_type": "stream",
     "text": [
      "[[1 2 3]\n",
      " [4 5 6]]\n",
      "[[ 7  8  9]\n",
      " [10 11 12]]\n"
     ]
    }
   ],
   "source": [
    "arr = np.array([[[1, 2, 3], [4, 5, 6]], [[7, 8, 9], [10, 11, 12]]])\n",
    "for x in arr:                                        ### iterating 3-D array\n",
    "  print(x)"
   ]
  },
  {
   "cell_type": "markdown",
   "id": "130d4f76-ef5c-4688-8407-8977becebd53",
   "metadata": {},
   "source": [
    "### Vectorized Operations (to contrast with loops):\n"
   ]
  },
  {
   "cell_type": "code",
   "execution_count": 69,
   "id": "669aaadd-e129-47e4-b997-bceb0b4ccd5a",
   "metadata": {},
   "outputs": [
    {
     "name": "stdout",
     "output_type": "stream",
     "text": [
      "[5 7 9]\n",
      "[ 4 10 18]\n",
      "[1 4 9]\n"
     ]
    }
   ],
   "source": [
    "\n",
    "arr1 = np.array([1,2,3])\n",
    "arr2 = np.array([4,5,6])\n",
    "\n",
    "print(arr1 + arr2)   # [5 7 9]\n",
    "print(arr1 * arr2)   # [ 4 10 18]\n",
    "print(arr1 ** 2)     # [1 4 9]"
   ]
  },
  {
   "cell_type": "markdown",
   "id": "7896ef1a",
   "metadata": {},
   "source": [
    "## 13. NumPy Array Join"
   ]
  },
  {
   "cell_type": "code",
   "execution_count": 70,
   "id": "c57e1436",
   "metadata": {},
   "outputs": [
    {
     "name": "stdout",
     "output_type": "stream",
     "text": [
      "[1 2 3 4 5 6]\n"
     ]
    }
   ],
   "source": [
    "arr1 = np.array([1, 2, 3])                                 ## 1-D array\n",
    "arr2 = np.array([4, 5, 6])\n",
    "arr = np.concatenate((arr1, arr2))\n",
    "print(arr)"
   ]
  },
  {
   "cell_type": "code",
   "execution_count": 71,
   "id": "04e5fd1e-d3df-4d47-b516-40878f68549b",
   "metadata": {},
   "outputs": [
    {
     "name": "stdout",
     "output_type": "stream",
     "text": [
      "[1 2 3 4]\n"
     ]
    }
   ],
   "source": [
    "a = np.array([1, 2])\n",
    "b = np.array([3, 4])\n",
    "\n",
    "joined = np.concatenate((a, b))\n",
    "print(joined)   # [1 2 3 4]"
   ]
  },
  {
   "cell_type": "code",
   "execution_count": 72,
   "id": "66cad3a2",
   "metadata": {},
   "outputs": [
    {
     "name": "stdout",
     "output_type": "stream",
     "text": [
      "[[1 2 5 6]\n",
      " [3 4 7 8]]\n"
     ]
    }
   ],
   "source": [
    "arr1 = np.array([[1, 2], [3, 4]])                                ##2-D array\n",
    "arr2 = np.array([[5, 6], [7, 8]])\n",
    "arr = np.concatenate((arr1, arr2), axis=1)\n",
    "print(arr)"
   ]
  },
  {
   "cell_type": "code",
   "execution_count": 73,
   "id": "20bd87ac",
   "metadata": {},
   "outputs": [
    {
     "name": "stdout",
     "output_type": "stream",
     "text": [
      "[[1 4]\n",
      " [2 5]\n",
      " [3 6]]\n"
     ]
    }
   ],
   "source": [
    "arr1 = np.array([1, 2, 3])                            ###Array join using stack\n",
    "arr2 = np.array([4, 5, 6])\n",
    "arr = np.stack((arr1, arr2), axis=1)\n",
    "print(arr)"
   ]
  },
  {
   "cell_type": "code",
   "execution_count": 74,
   "id": "0e457e59",
   "metadata": {},
   "outputs": [
    {
     "name": "stdout",
     "output_type": "stream",
     "text": [
      "[1 2 3 4 5 6]\n"
     ]
    }
   ],
   "source": [
    "arr1 = np.array([1, 2, 3])                            ## Stacking along rows\n",
    "arr2 = np.array([4, 5, 6])\n",
    "arr = np.hstack((arr1, arr2))\n",
    "print(arr)"
   ]
  },
  {
   "cell_type": "code",
   "execution_count": 75,
   "id": "4f76b6d8",
   "metadata": {},
   "outputs": [
    {
     "name": "stdout",
     "output_type": "stream",
     "text": [
      "[[1 2 3]\n",
      " [4 5 6]]\n"
     ]
    }
   ],
   "source": [
    "arr1 = np.array([1, 2, 3])                      ### stacking along column \n",
    "arr2 = np.array([4, 5, 6])\n",
    "arr = np.vstack((arr1, arr2))\n",
    "print(arr)"
   ]
  },
  {
   "cell_type": "code",
   "execution_count": 76,
   "id": "6433d69f",
   "metadata": {},
   "outputs": [
    {
     "name": "stdout",
     "output_type": "stream",
     "text": [
      "[[[1 4]\n",
      "  [2 5]\n",
      "  [3 6]]]\n"
     ]
    }
   ],
   "source": [
    "arr1 = np.array([1, 2, 3])                             ##stacking along height(depth)\n",
    "arr2 = np.array([4, 5, 6])\n",
    "arr = np.dstack((arr1, arr2))\n",
    "print(arr)"
   ]
  },
  {
   "cell_type": "markdown",
   "id": "e0c6d3b5",
   "metadata": {},
   "source": [
    "## 14. NumPy Array Split\n",
    "#### 1-D"
   ]
  },
  {
   "cell_type": "code",
   "execution_count": 77,
   "id": "4ac82ec2",
   "metadata": {},
   "outputs": [
    {
     "name": "stdout",
     "output_type": "stream",
     "text": [
      "[array([1, 2]), array([3, 4]), array([5, 6])]\n"
     ]
    }
   ],
   "source": [
    "arr = np.array([1, 2, 3, 4, 5, 6])\n",
    "newarr = np.array_split(arr, 3)                             ##into 3 parts\n",
    "print(newarr)"
   ]
  },
  {
   "cell_type": "code",
   "execution_count": 78,
   "id": "d47bcb2f",
   "metadata": {},
   "outputs": [
    {
     "name": "stdout",
     "output_type": "stream",
     "text": [
      "[array([1, 2]), array([3, 4]), array([5]), array([6])]\n"
     ]
    }
   ],
   "source": [
    "arr = np.array([1, 2, 3, 4, 5, 6])\n",
    "newarr = np.array_split(arr, 4)                            ##into 4 parts\n",
    "print(newarr)"
   ]
  },
  {
   "cell_type": "markdown",
   "id": "b73f5632",
   "metadata": {},
   "source": [
    "### Splitting 2-D"
   ]
  },
  {
   "cell_type": "code",
   "execution_count": 79,
   "id": "7c65af8d",
   "metadata": {},
   "outputs": [
    {
     "name": "stdout",
     "output_type": "stream",
     "text": [
      "[array([[1, 2],\n",
      "       [3, 4]]), array([[5, 6],\n",
      "       [7, 8]]), array([[ 9, 10],\n",
      "       [11, 12]])]\n"
     ]
    }
   ],
   "source": [
    "arr = np.array([[1, 2], [3, 4], [5, 6], [7, 8], [9, 10], [11, 12]])\n",
    "newarr = np.array_split(arr, 3)\n",
    "print(newarr)"
   ]
  },
  {
   "cell_type": "markdown",
   "id": "e5917324",
   "metadata": {},
   "source": [
    "## 15. NumPy Array Search"
   ]
  },
  {
   "cell_type": "code",
   "execution_count": 80,
   "id": "5cdc185c",
   "metadata": {},
   "outputs": [
    {
     "name": "stdout",
     "output_type": "stream",
     "text": [
      "(array([3, 5, 6], dtype=int64),)\n"
     ]
    }
   ],
   "source": [
    "arr = np.array([1, 2, 3, 4, 5, 4, 4])\n",
    "x = np.where(arr == 4)\n",
    "print(x)                                     ##Which means that the value 4 is present at index 3, 5, and 6."
   ]
  },
  {
   "cell_type": "code",
   "execution_count": 81,
   "id": "e31063c1-2d6f-4d05-8d1d-d22255163f3a",
   "metadata": {},
   "outputs": [
    {
     "name": "stdout",
     "output_type": "stream",
     "text": [
      "(array([1, 4, 5], dtype=int64),)\n"
     ]
    }
   ],
   "source": [
    "arr = np.array([1, 2, 3, 4, 2, 2])\n",
    "result = np.where(arr == 2)\n",
    "print(result)   # (array([1, 4, 5]),)"
   ]
  },
  {
   "cell_type": "code",
   "execution_count": 82,
   "id": "b55e1c40",
   "metadata": {},
   "outputs": [
    {
     "name": "stdout",
     "output_type": "stream",
     "text": [
      "1\n"
     ]
    }
   ],
   "source": [
    "arr = np.array([6, 7, 8, 9])\n",
    "x = np.searchsorted(arr, 7)\n",
    "print(x)"
   ]
  },
  {
   "cell_type": "markdown",
   "id": "0bf4c01b-7e26-4c0e-b043-605e36d24a8d",
   "metadata": {},
   "source": [
    "### Boolean Indexing (super useful in ML/data science):"
   ]
  },
  {
   "cell_type": "code",
   "execution_count": 83,
   "id": "bee4e2d0-f672-4642-8f64-3c7419f64a8e",
   "metadata": {},
   "outputs": [
    {
     "name": "stdout",
     "output_type": "stream",
     "text": [
      "[30 40 50]\n"
     ]
    }
   ],
   "source": [
    "arr = np.array([10, 20, 30, 40, 50])\n",
    "print(arr[arr > 25])   # [30 40 50]\n"
   ]
  },
  {
   "cell_type": "markdown",
   "id": "584bc5f0",
   "metadata": {},
   "source": [
    "## 16. NumPy Array Sort"
   ]
  },
  {
   "cell_type": "code",
   "execution_count": 84,
   "id": "e998bcd7",
   "metadata": {},
   "outputs": [
    {
     "name": "stdout",
     "output_type": "stream",
     "text": [
      "[0 1 2 3]\n"
     ]
    }
   ],
   "source": [
    "arr = np.array([3, 2, 0, 1])\n",
    "print(np.sort(arr))"
   ]
  },
  {
   "cell_type": "code",
   "execution_count": 85,
   "id": "a4c82dc1-cd6d-4faf-8e2e-179eb0c2c519",
   "metadata": {},
   "outputs": [
    {
     "name": "stdout",
     "output_type": "stream",
     "text": [
      "[1 1 3 4 5]\n"
     ]
    }
   ],
   "source": [
    "arr = np.array([3, 1, 4, 1, 5])\n",
    "print(np.sort(arr))   # [1 1 3 4 5]"
   ]
  },
  {
   "cell_type": "code",
   "execution_count": 86,
   "id": "eeb552a5",
   "metadata": {},
   "outputs": [
    {
     "name": "stdout",
     "output_type": "stream",
     "text": [
      "[False  True  True]\n"
     ]
    }
   ],
   "source": [
    "arr = np.array([True, False, True])\n",
    "print(np.sort(arr))"
   ]
  },
  {
   "cell_type": "code",
   "execution_count": 87,
   "id": "5e55bb89",
   "metadata": {},
   "outputs": [
    {
     "name": "stdout",
     "output_type": "stream",
     "text": [
      "[[2 3 4]\n",
      " [0 1 5]]\n"
     ]
    }
   ],
   "source": [
    "arr = np.array([[3, 2, 4], [5, 0, 1]])\n",
    "print(np.sort(arr))"
   ]
  },
  {
   "cell_type": "markdown",
   "id": "b4394d9a",
   "metadata": {},
   "source": [
    "## 17. NumPy Array Filter"
   ]
  },
  {
   "cell_type": "code",
   "execution_count": 88,
   "id": "8f06bfa4-9158-4065-8a03-f1e04a843fc3",
   "metadata": {},
   "outputs": [
    {
     "name": "stdout",
     "output_type": "stream",
     "text": [
      "[20 25]\n"
     ]
    }
   ],
   "source": [
    "arr = np.array([10, 15, 20, 25])\n",
    "filter_arr = arr > 15\n",
    "print(arr[filter_arr])   # [20 25]"
   ]
  },
  {
   "cell_type": "code",
   "execution_count": 89,
   "id": "e29237db",
   "metadata": {},
   "outputs": [
    {
     "name": "stdout",
     "output_type": "stream",
     "text": [
      "[False, False, True, True]\n",
      "[43 44]\n"
     ]
    }
   ],
   "source": [
    "arr = np.array([41, 42, 43, 44])\n",
    "\n",
    "# Create an empty list\n",
    "filter_arr = []\n",
    "\n",
    "# go through each element in arr\n",
    "for element in arr:\n",
    "  # if the element is higher than 42, set the value to True, otherwise False:\n",
    "  if element > 42:\n",
    "    filter_arr.append(True)\n",
    "  else:\n",
    "    filter_arr.append(False)\n",
    "\n",
    "newarr = arr[filter_arr]\n",
    "\n",
    "print(filter_arr)\n",
    "print(newarr)"
   ]
  },
  {
   "cell_type": "markdown",
   "id": "1e896a36-2096-45ef-9d3d-b9c6e48b70f2",
   "metadata": {},
   "source": [
    "\n",
    "---\n",
    "\n",
    "✨ **Summary of gaps to fill:**\n",
    "\n",
    "1. Why NumPy (performance demo) – *at the start*\n",
    "2. Array attributes (`shape`, `size`, `nbytes`) – *after dimensions*\n",
    "3. Type conversion (`astype`) – *after data types*\n",
    "4. Transpose & axis operations – *after reshape*\n",
    "5. Vectorized operations – *after iterating*\n",
    "6. Boolean indexing – *after searching*\n",
    "\n",
    "---\n",
    "\n"
   ]
  },
  {
   "cell_type": "markdown",
   "id": "9abfedb1-335c-45f3-beb5-daaaf583b408",
   "metadata": {},
   "source": [
    "####"
   ]
  },
  {
   "cell_type": "markdown",
   "id": "191fc5ad-3fe0-4891-ad62-3dad10a18f3b",
   "metadata": {},
   "source": [
    "\n",
    "# NumPy Array vs Python Array: What’s the Difference?\n",
    "\n",
    "When working with numbers in Python, you’ll often see **NumPy arrays** and **Python arrays**. They might look similar, but they serve **different purposes**. Let’s explore the differences in a simple way.\n",
    "\n",
    "---\n",
    "\n",
    "## 1. Python’s Built-in `array` Module\n",
    "\n",
    "Python’s standard library has an **`array`** module. Think of it as a **thin wrapper around C arrays**: lightweight and efficient, but basic.\n",
    "\n",
    "### Key Features:\n",
    "\n",
    "* Stores **only one data type** (all integers, or all floats, etc.)\n",
    "* **More memory-efficient** than lists\n",
    "* Provides **basic operations** only\n",
    "* Ideal for **simple numeric storage** when advanced math isn’t needed"
   ]
  },
  {
   "cell_type": "markdown",
   "id": "e2834420-2b49-4962-a618-958becbcfc02",
   "metadata": {},
   "source": [
    "\n",
    "## 2. NumPy Arrays (`numpy.ndarray`)\n",
    "\n",
    "**NumPy** is a third-party library that provides **powerful multi-dimensional arrays** (`ndarray`). These arrays are the backbone of **data science and scientific computing** in Python.\n",
    "\n",
    "### Key Features:\n",
    "\n",
    "* Supports **multi-dimensional arrays** (1D, 2D, 3D…)\n",
    "* Optimized for **fast mathematical operations**\n",
    "* Rich functionality: linear algebra, statistics, random numbers, broadcasting\n",
    "* Widely used in **machine learning, AI, and data analysis**\n",
    "\n"
   ]
  },
  {
   "cell_type": "markdown",
   "id": "6c927196-67d7-4b1a-af3d-8690b40b7b47",
   "metadata": {},
   "source": [
    "---\n",
    "\n",
    "## 3. Quick Comparison: Python Array vs NumPy Array\n",
    "\n",
    "| Feature            | Python `array`         | NumPy `ndarray`                                          |\n",
    "| ------------------ | ---------------------- | -------------------------------------------------------- |\n",
    "| **Module**         | `array` (standard)     | `numpy` (external)                                       |\n",
    "| **Dimensionality** | 1D only                | Multi-dimensional (1D, 2D, …)                            |\n",
    "| **Data Types**     | Single type            | Homogeneous (with advanced types)                        |\n",
    "| **Operations**     | Basic                  | Rich (linear algebra, stats, broadcasting)               |\n",
    "| **Speed**          | Faster than list       | Highly optimized, much faster                            |\n",
    "| **Use Case**       | Simple numeric storage | Data science, ML, image processing, scientific computing |\n",
    "\n",
    "---\n",
    "\n",
    "## 4. Which One Should You Use?\n",
    "\n",
    "* Use **Python’s `array`** for **lightweight, simple 1D numeric storage**.\n",
    "* Use **NumPy arrays** for **anything involving data analysis, ML, or numerical computations**.\n",
    "\n",
    "💡 In practice, **NumPy arrays are the go-to choice** in almost all scientific and AI applications.\n"
   ]
  },
  {
   "cell_type": "markdown",
   "id": "3e9010a4-ccf3-4b05-8975-9b621a7875fd",
   "metadata": {},
   "source": [
    "---\n",
    "\n",
    "✅ **Summary:**\n",
    "\n",
    "* **Python `array`** = simple, 1D, lightweight numeric container\n",
    "* **NumPy `ndarray`** = powerful, multi-dimensional, optimized for scientific computing\n",
    "\n",
    "---"
   ]
  },
  {
   "cell_type": "markdown",
   "id": "1c30072f-f257-41f3-97a3-cee8ee745b00",
   "metadata": {},
   "source": [
    "##"
   ]
  }
 ],
 "metadata": {
  "kernelspec": {
   "display_name": "Python 3 (ipykernel)",
   "language": "python",
   "name": "python3"
  },
  "language_info": {
   "codemirror_mode": {
    "name": "ipython",
    "version": 3
   },
   "file_extension": ".py",
   "mimetype": "text/x-python",
   "name": "python",
   "nbconvert_exporter": "python",
   "pygments_lexer": "ipython3",
   "version": "3.12.7"
  }
 },
 "nbformat": 4,
 "nbformat_minor": 5
}
