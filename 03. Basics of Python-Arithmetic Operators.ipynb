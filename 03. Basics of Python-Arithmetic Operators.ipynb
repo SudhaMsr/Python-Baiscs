{
 "cells": [
  {
   "cell_type": "markdown",
   "metadata": {},
   "source": [
    "# Arithmetic Operations in Python\n"
   ]
  },
  {
   "cell_type": "code",
   "execution_count": null,
   "metadata": {},
   "outputs": [],
   "source": [
    "\n",
    "# Defining two variables\n",
    "\n",
    "x = 10  # Assigning the value 10 to variable x\n",
    "y = 3   # Assigning the value 3 to variable y"
   ]
  },
  {
   "cell_type": "code",
   "execution_count": 4,
   "metadata": {},
   "outputs": [
    {
     "name": "stdout",
     "output_type": "stream",
     "text": [
      "Addition: 13\n"
     ]
    }
   ],
   "source": [
    "# 1. Addition (+)\n",
    "result_add = x + y\n",
    "# The + operator adds the values of x and y.\n",
    "# Here, 10 + 3 = 13\n",
    "print(\"Addition:\", result_add)  # Output: 13"
   ]
  },
  {
   "cell_type": "code",
   "execution_count": 5,
   "metadata": {},
   "outputs": [
    {
     "name": "stdout",
     "output_type": "stream",
     "text": [
      "Subtraction: 7\n"
     ]
    }
   ],
   "source": [
    "# 2. Subtraction (-)\n",
    "result_sub = x - y\n",
    "# The - operator subtracts y from x.\n",
    "# Here, 10 - 3 = 7\n",
    "print(\"Subtraction:\", result_sub)  # Output: 7"
   ]
  },
  {
   "cell_type": "markdown",
   "metadata": {},
   "source": []
  },
  {
   "cell_type": "code",
   "execution_count": 6,
   "metadata": {},
   "outputs": [
    {
     "name": "stdout",
     "output_type": "stream",
     "text": [
      "Multiplication: 30\n"
     ]
    }
   ],
   "source": [
    "# 3. Multiplication (*)\n",
    "result_mul = x * y\n",
    "# The * operator multiplies the values of x and y.\n",
    "# Here, 10 * 3 = 30\n",
    "print(\"Multiplication:\", result_mul)  # Output: 30"
   ]
  },
  {
   "cell_type": "code",
   "execution_count": 7,
   "metadata": {},
   "outputs": [
    {
     "name": "stdout",
     "output_type": "stream",
     "text": [
      "Division: 3.3333333333333335\n"
     ]
    }
   ],
   "source": [
    "# 4. Division (/)\n",
    "result_div = x / y\n",
    "# The / operator divides x by y and returns the result as a float.\n",
    "# Here, 10 / 3 = 3.3333... (a floating-point number)\n",
    "print(\"Division:\", result_div)  # Output: 3.333..."
   ]
  },
  {
   "cell_type": "code",
   "execution_count": 8,
   "metadata": {},
   "outputs": [
    {
     "name": "stdout",
     "output_type": "stream",
     "text": [
      "Modulo: 1\n"
     ]
    }
   ],
   "source": [
    "# 5. Modulo (%)\n",
    "result_mod = x % y\n",
    "# The % operator returns the remainder of the division of x by y.\n",
    "# Here, 10 divided by 3 gives a quotient of 3 and a remainder of 1.\n",
    "# So, 10 % 3 = 1\n",
    "print(\"Modulo:\", result_mod)  # Output: 1"
   ]
  },
  {
   "cell_type": "code",
   "execution_count": 9,
   "metadata": {},
   "outputs": [
    {
     "name": "stdout",
     "output_type": "stream",
     "text": [
      "Floor Division: 3\n"
     ]
    }
   ],
   "source": [
    "# 6. Floor Division (//)\n",
    "result_floor = x // y\n",
    "# The // operator divides x by y and returns the quotient as an integer (without the decimal part).\n",
    "# This is also known as integer division.\n",
    "# Here, 10 // 3 = 3 (quotient of the division without the remainder)\n",
    "print(\"Floor Division:\", result_floor)  # Output: 3"
   ]
  },
  {
   "cell_type": "code",
   "execution_count": 10,
   "metadata": {},
   "outputs": [
    {
     "name": "stdout",
     "output_type": "stream",
     "text": [
      "Exponentiation: 1000\n"
     ]
    }
   ],
   "source": [
    "# 7. Exponentiation (**)\n",
    "result_exp = x ** y\n",
    "# The ** operator raises x to the power of y.\n",
    "# Here, 10 raised to the power of 3 (10^3) = 1000\n",
    "print(\"Exponentiation:\", result_exp)  # Output: 1000"
   ]
  },
  {
   "cell_type": "markdown",
   "metadata": {},
   "source": [
    "### Summary of Operators:\n",
    "\n",
    "- **Addition (`+`)**: Adds two numbers.\n",
    "- **Subtraction (`-`)**: Subtracts one number from another.\n",
    "- **Multiplication (`*`)**: Multiplies two numbers.\n",
    "- **Division (`/`)**: Divides one number by another, returning a float.\n",
    "- **Modulo (`%`)**: Returns the remainder of a division.\n",
    "- **Floor Division (`//`)**: Divides and returns the integer quotient (without the remainder).\n",
    "- **Exponentiation (`**`)**: Raises a number to the power of another number."
   ]
  },
  {
   "cell_type": "markdown",
   "metadata": {},
   "source": []
  }
 ],
 "metadata": {
  "kernelspec": {
   "display_name": "Python 3 (ipykernel)",
   "language": "python",
   "name": "python3"
  },
  "language_info": {
   "codemirror_mode": {
    "name": "ipython",
    "version": 3
   },
   "file_extension": ".py",
   "mimetype": "text/x-python",
   "name": "python",
   "nbconvert_exporter": "python",
   "pygments_lexer": "ipython3",
   "version": "3.12.7"
  }
 },
 "nbformat": 4,
 "nbformat_minor": 4
}
