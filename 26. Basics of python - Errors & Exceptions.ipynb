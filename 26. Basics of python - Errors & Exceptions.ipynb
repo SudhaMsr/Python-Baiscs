{
 "cells": [
  {
   "cell_type": "markdown",
   "id": "275c5b2d-0c7f-400a-927d-e20bf06b2b7c",
   "metadata": {},
   "source": [
    "##"
   ]
  },
  {
   "cell_type": "markdown",
   "id": "c3eb4a76-8688-4ef1-ad1b-4e6a38b2c3fd",
   "metadata": {},
   "source": [
    "---\n",
    "\n",
    "# 🐍 Python Errors & Exceptions – A Complete Beginner’s Guide\n",
    "\n",
    "When you write Python code, things don’t always go smoothly. Sometimes:\n",
    "\n",
    "* You forget a colon,\n",
    "* Try dividing by zero,\n",
    "* Or use a variable that doesn’t exist.\n",
    "\n",
    "Python handles such issues using **Errors** and **Exceptions**. In this guide, we’ll explore all the important concepts you need to know.\n",
    "\n",
    "---\n",
    "\n",
    "## 1️⃣ Python Errors\n",
    "\n",
    "There are two main types of errors in Python:\n",
    "\n",
    "1. **Syntax Errors** – Mistakes in the code structure.\n",
    "2. **Exceptions** – Errors that happen while the program is running.\n",
    "\n",
    "---\n",
    "\n",
    "## 2️⃣ Python – Syntax Errors\n",
    "\n",
    "A **syntax error** means Python cannot even understand your code.\n",
    "\n",
    "👉 Example:"
   ]
  },
  {
   "cell_type": "code",
   "execution_count": 1,
   "id": "09b30402-278d-4b48-a2aa-640239607e51",
   "metadata": {},
   "outputs": [
    {
     "ename": "SyntaxError",
     "evalue": "incomplete input (2368924815.py, line 1)",
     "output_type": "error",
     "traceback": [
      "\u001b[1;36m  Cell \u001b[1;32mIn[1], line 1\u001b[1;36m\u001b[0m\n\u001b[1;33m    print(\"Hello World\"   # missing closing parenthesis\u001b[0m\n\u001b[1;37m                                                       ^\u001b[0m\n\u001b[1;31mSyntaxError\u001b[0m\u001b[1;31m:\u001b[0m incomplete input\n"
     ]
    }
   ],
   "source": [
    "print(\"Hello World\"   # missing closing parenthesis"
   ]
  },
  {
   "cell_type": "markdown",
   "id": "c3b9846f-404d-45ff-a682-3a682033e0ea",
   "metadata": {},
   "source": [
    "You must fix syntax errors before running the program."
   ]
  },
  {
   "cell_type": "markdown",
   "id": "5a5c10bf-206e-443e-86f7-5723018a2db7",
   "metadata": {},
   "source": [
    "\n",
    "## 3️⃣ Python – Exceptions\n",
    "\n",
    "An **exception** occurs when Python understands the code but encounters a problem while running it.\n",
    "\n",
    "👉 Example:"
   ]
  },
  {
   "cell_type": "code",
   "execution_count": null,
   "id": "7f04448e-f874-4275-a50c-0fc6770cba9d",
   "metadata": {},
   "outputs": [],
   "source": [
    "x = 10 / 0"
   ]
  },
  {
   "cell_type": "markdown",
   "id": "7beb4115-a3d6-4251-ac39-ef5cb6f70473",
   "metadata": {},
   "source": [
    "Unlike syntax errors, exceptions can be **handled** using special blocks."
   ]
  },
  {
   "cell_type": "markdown",
   "id": "693fc597-2166-4274-a510-0c7dd4910d1d",
   "metadata": {},
   "source": [
    "---\n",
    "\n",
    "## 4️⃣ Python – try-except Block\n",
    "\n",
    "The **`try-except`** block lets you handle exceptions gracefully.\n"
   ]
  },
  {
   "cell_type": "code",
   "execution_count": null,
   "id": "49a48be5-00d7-4479-939e-5548e262a3b9",
   "metadata": {},
   "outputs": [],
   "source": [
    "try:\n",
    "    x = int(\"abc\")  # invalid conversion\n",
    "except ValueError:\n",
    "    print(\"Oops! That was not a number.\")"
   ]
  },
  {
   "cell_type": "markdown",
   "id": "871f14bb-a3e5-494c-9977-fff8110ae8ce",
   "metadata": {},
   "source": [
    "## 5️⃣ Python – try-finally Block\n",
    "\n",
    "The **`finally`** block always runs — whether there was an error or not.\n",
    "\n",
    "👉 Example:"
   ]
  },
  {
   "cell_type": "code",
   "execution_count": null,
   "id": "72e300bb-544e-4c55-a555-b896d609627f",
   "metadata": {},
   "outputs": [],
   "source": [
    "try:\n",
    "    file = open(\"sample.txt\", \"r\")\n",
    "    content = file.read()\n",
    "except FileNotFoundError:\n",
    "    print(\"File not found!\")\n",
    "finally:\n",
    "    print(\"Closing file...\")"
   ]
  },
  {
   "cell_type": "markdown",
   "id": "3912e8e9-0bfb-4f7a-847a-10214860c5bc",
   "metadata": {},
   "source": [
    "## 6️⃣ Python – Raising Exceptions\n",
    "\n",
    "You can manually **raise** an error using `raise`.\n"
   ]
  },
  {
   "cell_type": "code",
   "execution_count": null,
   "id": "65c8450f-c532-48d8-b4fa-46cb225ea6b8",
   "metadata": {},
   "outputs": [],
   "source": [
    "def check_age(age):\n",
    "    if age < 0:\n",
    "        raise ValueError(\"Age cannot be negative!\")\n",
    "    return age\n",
    "\n",
    "print(check_age(25))   # works\n",
    "#print(check_age(-5))   # raises error"
   ]
  },
  {
   "cell_type": "markdown",
   "id": "efb72c39-a7e2-49a1-816d-12d307cdd59d",
   "metadata": {},
   "source": [
    "## 7️⃣ Python – Exception Chaining\n",
    "\n",
    "When one exception causes another, Python shows them as **chained exceptions**."
   ]
  },
  {
   "cell_type": "code",
   "execution_count": null,
   "id": "65357e7c-5afe-4e59-a922-91239184e5c7",
   "metadata": {},
   "outputs": [],
   "source": [
    "try:\n",
    "    try:\n",
    "        1 / 0\n",
    "    except ZeroDivisionError as e:\n",
    "        raise ValueError(\"Invalid math!\") from e\n",
    "except ValueError as err:\n",
    "    print(\"Error:\", err)\n"
   ]
  },
  {
   "cell_type": "markdown",
   "id": "a5f0c103-51b2-4384-9d4a-3b4d262dc7de",
   "metadata": {},
   "source": [
    "## 8️⃣ Python – Nested try Block\n",
    "\n",
    "You can put a `try` block **inside another `try` block**."
   ]
  },
  {
   "cell_type": "code",
   "execution_count": null,
   "id": "2d630218-63b5-41c9-8046-42d0f586c82a",
   "metadata": {},
   "outputs": [],
   "source": [
    "try:\n",
    "    try:\n",
    "        x = int(\"abc\")\n",
    "    except ValueError:\n",
    "        print(\"Inner block caught error\")\n",
    "except:\n",
    "    print(\"Outer block caught error\")\n"
   ]
  },
  {
   "cell_type": "markdown",
   "id": "ceaaa632-461b-4ba1-b120-f34fe60065ea",
   "metadata": {},
   "source": [
    "## 9️⃣ Python – User-defined Exception\n",
    "\n",
    "You can create your own exceptions by inheriting from `Exception`."
   ]
  },
  {
   "cell_type": "code",
   "execution_count": null,
   "id": "de4a3a3e-c671-4052-b118-dd843a85d420",
   "metadata": {},
   "outputs": [],
   "source": [
    "class NegativeNumberError(Exception):\n",
    "    pass\n",
    "\n",
    "def square_root(x):\n",
    "    if x < 0:\n",
    "        raise NegativeNumberError(\"Cannot take square root of negative number\")\n",
    "    return x ** 0.5\n",
    "\n",
    "print(square_root(9))   # 3.0\n",
    "print(square_root(-4))  # raises error"
   ]
  },
  {
   "cell_type": "markdown",
   "id": "1f477b9d-bb2a-4c95-9b9f-24039a8a25e4",
   "metadata": {},
   "source": [
    "## 🔟 Python – Logging\n",
    "\n",
    "Instead of just printing errors, you can **log them** for debugging."
   ]
  },
  {
   "cell_type": "code",
   "execution_count": null,
   "id": "b299fb52-7c3f-4aed-ba28-2da7e2491a7b",
   "metadata": {},
   "outputs": [],
   "source": [
    "import logging\n",
    "\n",
    "logging.basicConfig(level=logging.ERROR)\n",
    "\n",
    "try:\n",
    "    x = 10 / 0\n",
    "except ZeroDivisionError:\n",
    "    logging.error(\"Division by zero error occurred\")"
   ]
  },
  {
   "cell_type": "markdown",
   "id": "ca85ccb7-cc23-48c0-9937-536cafc70367",
   "metadata": {},
   "source": [
    "## 1️⃣1️⃣ Python – Assertions\n",
    "\n",
    "**Assertions** are used to test conditions that must be true."
   ]
  },
  {
   "cell_type": "code",
   "execution_count": null,
   "id": "aac29bdd-c0b0-45c6-beed-324ee279effb",
   "metadata": {},
   "outputs": [],
   "source": [
    "x = 10\n",
    "assert x > 0   # passes\n",
    "assert x < 0   # raises error"
   ]
  },
  {
   "cell_type": "markdown",
   "id": "ba5ebcaa-c24d-43ca-bdd0-d8b99548ae7e",
   "metadata": {},
   "source": [
    "## 1️⃣2️⃣ Python – Warnings\n",
    "\n",
    "Warnings are **less serious than errors**. They don’t stop the program but alert you.\n"
   ]
  },
  {
   "cell_type": "code",
   "execution_count": null,
   "id": "ed4d2d7e-3df5-4a13-be75-357a5c5b77c5",
   "metadata": {},
   "outputs": [],
   "source": [
    "import warnings\n",
    "\n",
    "warnings.warn(\"This is a warning!\")"
   ]
  },
  {
   "cell_type": "markdown",
   "id": "3ef46a41-13dd-4301-b862-61ff16b3723f",
   "metadata": {},
   "source": [
    "---\n",
    "\n",
    "## 1️⃣3️⃣ Python – Built-in Exceptions\n",
    "\n",
    "Python has many built-in exceptions. Some common ones:\n",
    "\n",
    "* `ValueError` → Wrong type of value\n",
    "* `TypeError` → Wrong type of object\n",
    "* `ZeroDivisionError` → Dividing by zero\n",
    "* `FileNotFoundError` → File doesn’t exist\n",
    "* `KeyError` → Missing dictionary key\n",
    "* `IndexError` → Invalid list index\n",
    "\n",
    "👉 Full list: [Python built-in exceptions](https://docs.python.org/3/library/exceptions.html)"
   ]
  },
  {
   "cell_type": "markdown",
   "id": "2a089e63-8d7d-4a0e-bade-eca929fd3c1b",
   "metadata": {},
   "source": [
    "---\n",
    "\n",
    "## 🎯 Final Thoughts\n",
    "\n",
    "* **Syntax Errors** → Must be fixed before running.\n",
    "* **Exceptions** → Can be handled with `try-except`.\n",
    "* Use **`finally`** for cleanup, **`raise`** for custom errors.\n",
    "* Create **user-defined exceptions** for your own rules.\n",
    "* Use **logging, assertions, and warnings** to make programs reliable.\n",
    "\n",
    "Mastering exceptions will make your Python code **robust, safe, and professional**. 🚀\n",
    "\n",
    "---"
   ]
  },
  {
   "cell_type": "markdown",
   "id": "810d23e7-af1d-4af0-94b2-6843ee868a16",
   "metadata": {},
   "source": [
    "###"
   ]
  }
 ],
 "metadata": {
  "kernelspec": {
   "display_name": "Python 3 (ipykernel)",
   "language": "python",
   "name": "python3"
  },
  "language_info": {
   "codemirror_mode": {
    "name": "ipython",
    "version": 3
   },
   "file_extension": ".py",
   "mimetype": "text/x-python",
   "name": "python",
   "nbconvert_exporter": "python",
   "pygments_lexer": "ipython3",
   "version": "3.12.7"
  }
 },
 "nbformat": 4,
 "nbformat_minor": 5
}
