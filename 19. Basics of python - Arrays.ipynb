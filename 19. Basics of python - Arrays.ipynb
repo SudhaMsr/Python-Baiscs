{
 "cells": [
  {
   "cell_type": "markdown",
   "id": "c1b35d98-deff-4730-9acd-d3b9e8cd9ee7",
   "metadata": {},
   "source": [
    "####"
   ]
  },
  {
   "cell_type": "markdown",
   "id": "1387ecd7",
   "metadata": {},
   "source": [
    "\n",
    "# 🔢 Python Arrays: A Beginner-Friendly Guide\n",
    "\n",
    "Arrays are one of the most fundamental data structures in programming. In Python, we usually work with **lists** as arrays (or use the `array` module for numeric efficiency). They allow us to store multiple items in a single variable and perform operations like traversal, insertion, deletion, searching, and updating.\n",
    "\n",
    "---\n",
    "\n",
    "## ✅ Creating an Array in Python\n"
   ]
  },
  {
   "cell_type": "code",
   "execution_count": 1,
   "id": "c64c3077",
   "metadata": {},
   "outputs": [],
   "source": [
    "import array as arr  \n",
    "\n",
    "# integer array\n",
    "numbers = arr.array('i', [10, 20, 30, 40, 50])\n",
    "\n",
    "# using list (most common in Python)\n",
    "numbers_list = [10, 20, 30, 40, 50]"
   ]
  },
  {
   "cell_type": "markdown",
   "id": "934bfa46",
   "metadata": {},
   "source": [
    "## 🎯 Accessing Array Elements\n",
    "\n",
    "We can access elements using **indexing**. Remember, Python arrays are **zero-indexed**."
   ]
  },
  {
   "cell_type": "code",
   "execution_count": 2,
   "id": "ad4b1785",
   "metadata": {},
   "outputs": [
    {
     "name": "stdout",
     "output_type": "stream",
     "text": [
      "10\n",
      "30\n",
      "50\n"
     ]
    }
   ],
   "source": [
    "print(numbers[0])   # First element → 10\n",
    "print(numbers[2])   # Third element → 30\n",
    "print(numbers[-1])  # Last element → 50"
   ]
  },
  {
   "cell_type": "markdown",
   "id": "9279adf0",
   "metadata": {},
   "source": [
    "## 📏 Finding the Length of an Array"
   ]
  },
  {
   "cell_type": "code",
   "execution_count": 3,
   "id": "39776ba3",
   "metadata": {},
   "outputs": [
    {
     "name": "stdout",
     "output_type": "stream",
     "text": [
      "5\n"
     ]
    }
   ],
   "source": [
    "print(len(numbers))   # Output: 5"
   ]
  },
  {
   "cell_type": "markdown",
   "id": "41b99d35-8ef4-4fc2-bcb2-6882972de94d",
   "metadata": {},
   "source": [
    "## 🔁 Looping Through an Array\n",
    "\n",
    "### Using `for` loop:"
   ]
  },
  {
   "cell_type": "code",
   "execution_count": 4,
   "id": "98825f91-d777-4896-8dfd-d2e9aa7cc99d",
   "metadata": {},
   "outputs": [
    {
     "name": "stdout",
     "output_type": "stream",
     "text": [
      "10\n",
      "20\n",
      "30\n",
      "40\n",
      "50\n"
     ]
    }
   ],
   "source": [
    "for num in numbers:\n",
    "    print(num)"
   ]
  },
  {
   "cell_type": "markdown",
   "id": "6d4da6f4-7ca3-47e6-91c6-b46e92b4f069",
   "metadata": {},
   "source": [
    "### Using index-based loop:"
   ]
  },
  {
   "cell_type": "code",
   "execution_count": 5,
   "id": "a102c93b-aad2-4471-9734-674b89aecdab",
   "metadata": {},
   "outputs": [
    {
     "name": "stdout",
     "output_type": "stream",
     "text": [
      "10\n",
      "20\n",
      "30\n",
      "40\n",
      "50\n"
     ]
    }
   ],
   "source": [
    "for i in range(len(numbers)):\n",
    "    print(numbers[i])"
   ]
  },
  {
   "cell_type": "markdown",
   "id": "7812f359",
   "metadata": {},
   "source": [
    "\n",
    "## ⚙️ Common Array Operations\n",
    "\n",
    "### 1. Traversal\n",
    "\n",
    "Visiting each element in the array:"
   ]
  },
  {
   "cell_type": "code",
   "execution_count": 6,
   "id": "3bcd1477",
   "metadata": {},
   "outputs": [
    {
     "name": "stdout",
     "output_type": "stream",
     "text": [
      "10 20 30 40 50 "
     ]
    }
   ],
   "source": [
    "for item in numbers:\n",
    "    print(item, end=\" \")"
   ]
  },
  {
   "cell_type": "markdown",
   "id": "fc42a8a2",
   "metadata": {},
   "source": [
    "### 2. Insertion\n",
    "\n",
    "Adding elements at the end or at a specific index."
   ]
  },
  {
   "cell_type": "code",
   "execution_count": 7,
   "id": "62a831a7",
   "metadata": {},
   "outputs": [
    {
     "name": "stdout",
     "output_type": "stream",
     "text": [
      "array('i', [10, 20, 25, 30, 40, 50, 60])\n"
     ]
    }
   ],
   "source": [
    "numbers.append(60)        # Insert at end\n",
    "numbers.insert(2, 25)     # Insert at index 2\n",
    "print(numbers)"
   ]
  },
  {
   "cell_type": "markdown",
   "id": "86659682",
   "metadata": {},
   "source": [
    "### 3. Deletion\n",
    "Removing elements by value or index."
   ]
  },
  {
   "cell_type": "code",
   "execution_count": 8,
   "id": "6df020a6",
   "metadata": {},
   "outputs": [
    {
     "name": "stdout",
     "output_type": "stream",
     "text": [
      "array('i', [25, 30, 50, 60])\n"
     ]
    }
   ],
   "source": [
    "numbers.remove(40)   # Remove element 40\n",
    "numbers.pop(1)       # Remove element at index 1\n",
    "del numbers[0]       # Delete first element\n",
    "print(numbers)"
   ]
  },
  {
   "cell_type": "markdown",
   "id": "2371c3b1-ef64-4ee6-9dd3-f2a6a11fb9f5",
   "metadata": {},
   "source": [
    "### 4. Searching\n",
    "\n",
    "Finding if an element exists in the array."
   ]
  },
  {
   "cell_type": "code",
   "execution_count": 9,
   "id": "a6be94f4",
   "metadata": {},
   "outputs": [
    {
     "name": "stdout",
     "output_type": "stream",
     "text": [
      "Found 30\n",
      "1\n"
     ]
    }
   ],
   "source": [
    "if 30 in numbers:\n",
    "    print(\"Found 30\")\n",
    "    \n",
    "print(numbers.index(30))   # Returns index of 30"
   ]
  },
  {
   "cell_type": "markdown",
   "id": "678d4ace-4da3-42e3-9cab-cc068b6472d9",
   "metadata": {},
   "source": [
    "### 5. Updating\n",
    "\n",
    "Changing the value of an existing element.\n"
   ]
  },
  {
   "cell_type": "code",
   "execution_count": 10,
   "id": "63c385ce-855a-4d34-90fc-b8e174b13780",
   "metadata": {},
   "outputs": [
    {
     "name": "stdout",
     "output_type": "stream",
     "text": [
      "array('i', [25, 100, 50, 60])\n"
     ]
    }
   ],
   "source": [
    "numbers[1] = 100\n",
    "print(numbers)   # Updated array"
   ]
  },
  {
   "cell_type": "markdown",
   "id": "bac7f7e5-425c-4702-b5ce-be340b1d8ace",
   "metadata": {},
   "source": [
    "---\n",
    "\n",
    "## 🚀 Summary\n",
    "\n",
    "* Arrays store multiple items in a single variable.\n",
    "* You can access elements using indexing.\n",
    "* Python provides flexible operations: **traversal, insertion, deletion, searching, updating**.\n",
    "* Lists are more powerful, but the `array` module is useful for **numeric efficiency**.\n",
    "\n",
    "---"
   ]
  },
  {
   "cell_type": "markdown",
   "id": "cdf4fdc7-798c-42fa-8251-9f432a6fdc01",
   "metadata": {},
   "source": [
    "####"
   ]
  }
 ],
 "metadata": {
  "kernelspec": {
   "display_name": "Python 3 (ipykernel)",
   "language": "python",
   "name": "python3"
  },
  "language_info": {
   "codemirror_mode": {
    "name": "ipython",
    "version": 3
   },
   "file_extension": ".py",
   "mimetype": "text/x-python",
   "name": "python",
   "nbconvert_exporter": "python",
   "pygments_lexer": "ipython3",
   "version": "3.12.7"
  }
 },
 "nbformat": 4,
 "nbformat_minor": 5
}
