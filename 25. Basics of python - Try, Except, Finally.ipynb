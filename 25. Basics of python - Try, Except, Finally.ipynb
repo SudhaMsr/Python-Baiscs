{
 "cells": [
  {
   "cell_type": "markdown",
   "id": "e95c0185-b697-4a1c-9ea3-16e0853085fb",
   "metadata": {},
   "source": [
    "##"
   ]
  },
  {
   "cell_type": "markdown",
   "id": "70b2425b-2a53-41e4-b20e-0da916533284",
   "metadata": {},
   "source": [
    "---\n",
    "\n",
    "# 🛠️ Error Handling in Python: `try`, `except`, `else`, `finally`, and `raise`\n",
    "\n",
    "When writing Python programs, sometimes things go wrong:\n",
    "\n",
    "* You might divide by zero,\n",
    "* Open a file that doesn’t exist,\n",
    "* Or get the wrong type of input from a user.\n",
    "\n",
    "Instead of your program **crashing**, Python gives you tools to **handle errors gracefully**.\n",
    "These tools are the keywords: **`try`, `except`, `else`, `finally`, and `raise`**.\n",
    "\n",
    "---\n",
    "\n",
    "## 🔹 What is Exception Handling?\n",
    "\n",
    "An **exception** is an error that happens while your program is running.\n",
    "Python lets you *catch* these errors and decide what to do next instead of stopping suddenly.\n",
    "\n",
    "---\n",
    "\n",
    "## 🧩 The `try` and `except` Block\n",
    "\n",
    "The basic structure looks like this:\n",
    "\n",
    "\n",
    "```python\n",
    "try:\n",
    "    # code that may cause an error\n",
    "except:\n",
    "    # code to run if there is an error\n",
    "```\n",
    "👉 Example: Divide by zero error"
   ]
  },
  {
   "cell_type": "code",
   "execution_count": 1,
   "id": "b90bb3a5-8fe9-46c7-9d5f-3b33bf0bc59c",
   "metadata": {},
   "outputs": [
    {
     "name": "stdout",
     "output_type": "stream",
     "text": [
      "Oops! You tried to divide by zero.\n"
     ]
    }
   ],
   "source": [
    "try:\n",
    "    result = 10 / 0\n",
    "except:\n",
    "    print(\"Oops! You tried to divide by zero.\")"
   ]
  },
  {
   "cell_type": "markdown",
   "id": "d26187ad-dd2e-4441-9ea0-5b1dd20715fe",
   "metadata": {},
   "source": [
    "Without `try` and `except`, this would crash the program."
   ]
  },
  {
   "cell_type": "markdown",
   "id": "ce905bdb-5351-4678-a942-12dc1146bc2d",
   "metadata": {},
   "source": [
    "---\n",
    "\n",
    "## 🎯 Catching Specific Exceptions\n",
    "\n",
    "You can catch specific types of errors."
   ]
  },
  {
   "cell_type": "code",
   "execution_count": 2,
   "id": "12976d2e-17f1-4460-b011-160c1dd29ea7",
   "metadata": {},
   "outputs": [
    {
     "name": "stdout",
     "output_type": "stream",
     "text": [
      "That was not a number!\n"
     ]
    }
   ],
   "source": [
    "try:\n",
    "    num = int(\"abc\")  # invalid conversion\n",
    "except ValueError:\n",
    "    print(\"That was not a number!\")"
   ]
  },
  {
   "cell_type": "markdown",
   "id": "711e7ee9-a408-40e7-91a7-59050e46f303",
   "metadata": {},
   "source": [
    "## 🔹 The `else` Block\n",
    "\n",
    "The `else` part runs **only if no error happens**."
   ]
  },
  {
   "cell_type": "code",
   "execution_count": 3,
   "id": "c77dd83c-a6a8-4f92-b237-416e05b8caa2",
   "metadata": {},
   "outputs": [
    {
     "name": "stdout",
     "output_type": "stream",
     "text": [
      "Conversion successful: 10\n"
     ]
    }
   ],
   "source": [
    "try:\n",
    "    num = int(\"10\")\n",
    "except ValueError:\n",
    "    print(\"Conversion failed\")\n",
    "else:\n",
    "    print(\"Conversion successful:\", num)"
   ]
  },
  {
   "cell_type": "markdown",
   "id": "cb5ece7b-2eb3-453c-b350-1196faaf9373",
   "metadata": {},
   "source": [
    "## 🔹 The `finally` Block\n",
    "\n",
    "The `finally` block runs **no matter what** — whether there’s an error or not.\n",
    "It’s often used for cleanup (like closing files or releasing resources)."
   ]
  },
  {
   "cell_type": "code",
   "execution_count": 4,
   "id": "2e4b92d2-cec0-4ea2-a22c-a712af0a4ed9",
   "metadata": {},
   "outputs": [
    {
     "name": "stdout",
     "output_type": "stream",
     "text": [
      "File not found!\n",
      "Closing file (if it was opened).\n"
     ]
    }
   ],
   "source": [
    "try:\n",
    "    file = open(\"example.txt\", \"r\")\n",
    "    content = file.read()\n",
    "except FileNotFoundError:\n",
    "    print(\"File not found!\")\n",
    "finally:\n",
    "    print(\"Closing file (if it was opened).\")\n"
   ]
  },
  {
   "cell_type": "markdown",
   "id": "b334f3d3-092b-47cf-a601-d4399f83a6d1",
   "metadata": {},
   "source": [
    "## 🔹 The `raise` Keyword\n",
    "\n",
    "Sometimes you want to **manually trigger an error**. That’s what `raise` is for.\n",
    "\n",
    "👉 Example: Raise an error if input is negative"
   ]
  },
  {
   "cell_type": "code",
   "execution_count": 5,
   "id": "21fc9504-ba94-4b26-8d04-43c22c3ebf53",
   "metadata": {},
   "outputs": [
    {
     "name": "stdout",
     "output_type": "stream",
     "text": [
      "Age is valid: 25\n"
     ]
    }
   ],
   "source": [
    "def check_age(age):\n",
    "    if age < 0:\n",
    "        raise ValueError(\"Age cannot be negative!\")\n",
    "    else:\n",
    "        print(\"Age is valid:\", age)\n",
    "\n",
    "check_age(25)   # works fine\n",
    "#check_age(-5)   # raises error\n"
   ]
  },
  {
   "cell_type": "markdown",
   "id": "f34f956d-fc64-46b0-b76d-d8fd8e43b87c",
   "metadata": {},
   "source": [
    "## 🔗 Putting It All Together\n",
    "\n",
    "Here’s an example using **all keywords**:"
   ]
  },
  {
   "cell_type": "code",
   "execution_count": 6,
   "id": "5169284a-c981-473f-ae04-b5ba75c024f4",
   "metadata": {},
   "outputs": [
    {
     "name": "stdin",
     "output_type": "stream",
     "text": [
      "Enter a number:  10\n"
     ]
    },
    {
     "name": "stdout",
     "output_type": "stream",
     "text": [
      "Great! You entered: 10\n",
      "Program finished.\n"
     ]
    }
   ],
   "source": [
    "try:\n",
    "    num = int(input(\"Enter a number: \"))\n",
    "    if num < 0:\n",
    "        raise ValueError(\"Negative number not allowed!\")\n",
    "except ValueError as e:\n",
    "    print(\"Error:\", e)\n",
    "else:\n",
    "    print(\"Great! You entered:\", num)\n",
    "finally:\n",
    "    print(\"Program finished.\")"
   ]
  },
  {
   "cell_type": "markdown",
   "id": "299a2374-9413-48fd-a0f3-fe1a65046eaf",
   "metadata": {},
   "source": [
    "---\n",
    "\n",
    "## 🎯 Final Thoughts\n",
    "\n",
    "* `try` → put risky code here\n",
    "* `except` → handle the error if it happens\n",
    "* `else` → runs if no error happens\n",
    "* `finally` → runs no matter what (good for cleanup)\n",
    "* `raise` → create your own errors when needed\n",
    "\n",
    "Learning these will make your programs **more reliable and user-friendly**.\n",
    "\n",
    "---\n",
    "\n",
    "👉 Next step: Try writing a small program that asks a user for their age, checks if it’s a valid number, and gracefully handles any mistakes.\n",
    "\n",
    "---"
   ]
  },
  {
   "cell_type": "markdown",
   "id": "be6df6bb-fe85-4be2-a2d5-74ed32e02b3f",
   "metadata": {},
   "source": [
    "####"
   ]
  }
 ],
 "metadata": {
  "kernelspec": {
   "display_name": "Python 3 (ipykernel)",
   "language": "python",
   "name": "python3"
  },
  "language_info": {
   "codemirror_mode": {
    "name": "ipython",
    "version": 3
   },
   "file_extension": ".py",
   "mimetype": "text/x-python",
   "name": "python",
   "nbconvert_exporter": "python",
   "pygments_lexer": "ipython3",
   "version": "3.12.7"
  }
 },
 "nbformat": 4,
 "nbformat_minor": 5
}
