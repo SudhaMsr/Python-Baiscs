{
 "cells": [
  {
   "cell_type": "markdown",
   "id": "e1838aa5-0778-4469-84b3-924c6f7c7f1c",
   "metadata": {},
   "source": [
    "###"
   ]
  },
  {
   "cell_type": "markdown",
   "id": "f09a3265-578b-412e-98f4-4c1d4ddeec3d",
   "metadata": {},
   "source": [
    "---\n",
    "\n",
    "# 📂 Python File Handling – A Complete Beginner’s Guide\n",
    "\n",
    "Working with files is one of the most common tasks in programming.\n",
    "Python makes it simple to **create, read, write, rename, and delete files**.\n",
    "In this guide, we’ll explore everything you need to know about file handling in Python.\n",
    "\n",
    "---\n",
    "\n",
    "## 1️⃣ Python – File Handling Basics\n",
    "\n",
    "To work with files, Python provides the **`open()`** function:"
   ]
  },
  {
   "cell_type": "markdown",
   "id": "1277ee65-7bed-4df8-bc26-f0bc2760d1ec",
   "metadata": {},
   "source": [
    "```python\n",
    "file = open(\"filename.txt\", \"mode\")\n",
    "```"
   ]
  },
  {
   "cell_type": "markdown",
   "id": "781f0639-cdb8-4734-8acc-86d7ceead04e",
   "metadata": {},
   "source": [
    "* `\"filename.txt\"` → name of the file\n",
    "* `\"mode\"` → tells Python what to do with the file\n",
    "\n",
    "### File modes:\n",
    "\n",
    "* `\"r\"` → read (default, error if file doesn’t exist)\n",
    "* `\"w\"` → write (creates new file, overwrites if exists)\n",
    "* `\"a\"` → append (adds new content at the end)\n",
    "* `\"x\"` → create (error if file exists)\n",
    "* `\"b\"` → binary mode (images, audio, etc.)\n",
    "\n",
    "👉 Always **close the file** after using:\n",
    "\n",
    "```python\n",
    "file.close()\n",
    "```\n",
    "\n",
    "✅ Better: Use **with** statement (auto closes file):"
   ]
  },
  {
   "cell_type": "markdown",
   "id": "91ccb2cf-3e5b-4dab-909d-c6dd45ae5d29",
   "metadata": {},
   "source": [
    "\n",
    "\n",
    "```python\n",
    "with open(\"test.txt\", \"r\") as file:\n",
    "    content = file.read()\n",
    "```\n",
    "\n",
    "---\n",
    "\n",
    "## 2️⃣ Python – Write to File\n",
    "\n",
    "```python\n",
    "with open(\"example.txt\", \"w\") as f:\n",
    "    f.write(\"Hello, Python!\\n\")\n",
    "    f.write(\"This is file handling.\")\n",
    "```\n",
    "\n",
    "✅ Creates `example.txt` with the text inside.\n",
    "\n",
    "👉 Append new content:\n",
    "\n",
    "```python\n",
    "with open(\"example.txt\", \"a\") as f:\n",
    "    f.write(\"\\nNew line added!\")\n",
    "```\n",
    "\n",
    "---\n",
    "\n",
    "## 3️⃣ Python – Read Files\n",
    "\n",
    "* **Read entire file**:\n",
    "\n",
    "```python\n",
    "with open(\"example.txt\", \"r\") as f:\n",
    "    print(f.read())\n",
    "```\n",
    "\n",
    "* **Read line by line**:\n",
    "\n",
    "```python\n",
    "with open(\"example.txt\", \"r\") as f:\n",
    "    for line in f:\n",
    "        print(line.strip())\n",
    "```\n",
    "\n",
    "* **Read first N characters**:\n",
    "\n",
    "```python\n",
    "with open(\"example.txt\", \"r\") as f:\n",
    "    print(f.read(10))   # first 10 chars\n",
    "```\n",
    "\n",
    "---\n",
    "\n",
    "## 4️⃣ Python – Renaming and Deleting Files\n",
    "\n",
    "Use the **`os` module** for file operations.\n",
    "\n",
    "```python\n",
    "import os\n",
    "\n",
    "# Rename file\n",
    "os.rename(\"example.txt\", \"new_example.txt\")\n",
    "\n",
    "# Delete file\n",
    "os.remove(\"new_example.txt\")\n",
    "```\n",
    "\n",
    "👉 Always check if file exists before deleting:\n",
    "\n",
    "```python\n",
    "if os.path.exists(\"new_example.txt\"):\n",
    "    os.remove(\"new_example.txt\")\n",
    "else:\n",
    "    print(\"File not found!\")\n",
    "```\n",
    "\n",
    "---\n",
    "\n",
    "## 5️⃣ Python – Directories\n",
    "\n",
    "Directories (folders) can also be managed with `os`.\n",
    "\n",
    "```python\n",
    "import os\n",
    "\n",
    "# Create directory\n",
    "os.mkdir(\"myfolder\")\n",
    "\n",
    "# List files in directory\n",
    "print(os.listdir(\".\"))   # current directory\n",
    "\n",
    "# Remove empty directory\n",
    "os.rmdir(\"myfolder\")\n"
   ]
  },
  {
   "cell_type": "markdown",
   "id": "07874ae5-db76-4799-9b20-88a10e749e77",
   "metadata": {},
   "source": [
    "## 6️⃣ Python – File Methods\n",
    "\n",
    "Some useful file object methods:"
   ]
  },
  {
   "cell_type": "code",
   "execution_count": 1,
   "id": "725702ca-8fe8-4be8-ad21-94a6a2010e2c",
   "metadata": {},
   "outputs": [
    {
     "ename": "FileNotFoundError",
     "evalue": "[Errno 2] No such file or directory: 'example.txt'",
     "output_type": "error",
     "traceback": [
      "\u001b[1;31m---------------------------------------------------------------------------\u001b[0m",
      "\u001b[1;31mFileNotFoundError\u001b[0m                         Traceback (most recent call last)",
      "Cell \u001b[1;32mIn[1], line 1\u001b[0m\n\u001b[1;32m----> 1\u001b[0m f \u001b[38;5;241m=\u001b[39m \u001b[38;5;28mopen\u001b[39m(\u001b[38;5;124m\"\u001b[39m\u001b[38;5;124mexample.txt\u001b[39m\u001b[38;5;124m\"\u001b[39m, \u001b[38;5;124m\"\u001b[39m\u001b[38;5;124mr\u001b[39m\u001b[38;5;124m\"\u001b[39m)\n\u001b[0;32m      2\u001b[0m \u001b[38;5;28mprint\u001b[39m(f\u001b[38;5;241m.\u001b[39mreadable())   \u001b[38;5;66;03m# True if readable\u001b[39;00m\n\u001b[0;32m      3\u001b[0m \u001b[38;5;28mprint\u001b[39m(f\u001b[38;5;241m.\u001b[39mwritable())   \u001b[38;5;66;03m# False if not writable\u001b[39;00m\n",
      "File \u001b[1;32m~\\anaconda3\\Lib\\site-packages\\IPython\\core\\interactiveshell.py:324\u001b[0m, in \u001b[0;36m_modified_open\u001b[1;34m(file, *args, **kwargs)\u001b[0m\n\u001b[0;32m    317\u001b[0m \u001b[38;5;28;01mif\u001b[39;00m file \u001b[38;5;129;01min\u001b[39;00m {\u001b[38;5;241m0\u001b[39m, \u001b[38;5;241m1\u001b[39m, \u001b[38;5;241m2\u001b[39m}:\n\u001b[0;32m    318\u001b[0m     \u001b[38;5;28;01mraise\u001b[39;00m \u001b[38;5;167;01mValueError\u001b[39;00m(\n\u001b[0;32m    319\u001b[0m         \u001b[38;5;124mf\u001b[39m\u001b[38;5;124m\"\u001b[39m\u001b[38;5;124mIPython won\u001b[39m\u001b[38;5;124m'\u001b[39m\u001b[38;5;124mt let you open fd=\u001b[39m\u001b[38;5;132;01m{\u001b[39;00mfile\u001b[38;5;132;01m}\u001b[39;00m\u001b[38;5;124m by default \u001b[39m\u001b[38;5;124m\"\u001b[39m\n\u001b[0;32m    320\u001b[0m         \u001b[38;5;124m\"\u001b[39m\u001b[38;5;124mas it is likely to crash IPython. If you know what you are doing, \u001b[39m\u001b[38;5;124m\"\u001b[39m\n\u001b[0;32m    321\u001b[0m         \u001b[38;5;124m\"\u001b[39m\u001b[38;5;124myou can use builtins\u001b[39m\u001b[38;5;124m'\u001b[39m\u001b[38;5;124m open.\u001b[39m\u001b[38;5;124m\"\u001b[39m\n\u001b[0;32m    322\u001b[0m     )\n\u001b[1;32m--> 324\u001b[0m \u001b[38;5;28;01mreturn\u001b[39;00m io_open(file, \u001b[38;5;241m*\u001b[39margs, \u001b[38;5;241m*\u001b[39m\u001b[38;5;241m*\u001b[39mkwargs)\n",
      "\u001b[1;31mFileNotFoundError\u001b[0m: [Errno 2] No such file or directory: 'example.txt'"
     ]
    }
   ],
   "source": [
    "f = open(\"example.txt\", \"r\")\n",
    "print(f.readable())   # True if readable\n",
    "print(f.writable())   # False if not writable\n",
    "print(f.name)         # File name\n",
    "print(f.mode)         # Mode used\n",
    "print(f.closed)       # False until closed\n",
    "f.close()"
   ]
  },
  {
   "cell_type": "markdown",
   "id": "55d3bd3d-cd5c-4bf6-9824-9efd38b3e044",
   "metadata": {},
   "source": [
    "## 7️⃣ Python – OS File/Directory Methods\n",
    "\n",
    "`os` module has many handy methods:"
   ]
  },
  {
   "cell_type": "code",
   "execution_count": null,
   "id": "ee782a32-5b1b-4a8b-bfa0-cb2325f9b06b",
   "metadata": {},
   "outputs": [],
   "source": [
    "import os\n",
    "\n",
    "print(os.getcwd())       # Get current working directory\n",
    "os.chdir(\"..\")           # Change directory\n",
    "print(os.listdir(\".\"))   # List items\n",
    "os.mkdir(\"testdir\")      # Make new directory\n",
    "os.rmdir(\"testdir\")      # Remove directory"
   ]
  },
  {
   "cell_type": "markdown",
   "id": "23737267-b7f8-4f12-bd47-aee4a83688df",
   "metadata": {},
   "source": [
    "## 8️⃣ Python – OS Path Methods\n",
    "\n",
    "`os.path` helps in handling file paths:"
   ]
  },
  {
   "cell_type": "code",
   "execution_count": null,
   "id": "cf38b6c0-32b6-4e27-87ff-e10f212bd1d1",
   "metadata": {},
   "outputs": [],
   "source": [
    "import os\n",
    "\n",
    "print(os.path.exists(\"example.txt\"))   # Check if file exists\n",
    "print(os.path.isfile(\"example.txt\"))   # Check if it’s a file\n",
    "print(os.path.isdir(\".\"))              # Check if it’s a directory\n",
    "print(os.path.abspath(\"example.txt\"))  # Absolute path\n",
    "print(os.path.splitext(\"example.txt\")) # ('example', '.txt')"
   ]
  },
  {
   "cell_type": "markdown",
   "id": "d7abeeab-5e92-4ce2-8234-8c3f00cd1795",
   "metadata": {},
   "source": [
    "---\n",
    "\n",
    "## 🎯 Final Thoughts\n",
    "\n",
    "* Use **`open()`** to work with files (read, write, append).\n",
    "* Use **`os`** and **`os.path`** for advanced operations like renaming, deleting, and directory handling.\n",
    "* Always use `with open()` for safe file handling.\n",
    "\n",
    "👉 Mastering file handling lets you build powerful programs like **loggers, text analyzers, file cleaners, or data pipelines**.\n",
    "\n",
    "---"
   ]
  },
  {
   "cell_type": "markdown",
   "id": "c412aee8-7ffe-4cb9-8ffd-f92c7d94892f",
   "metadata": {},
   "source": [
    "##"
   ]
  }
 ],
 "metadata": {
  "kernelspec": {
   "display_name": "Python 3 (ipykernel)",
   "language": "python",
   "name": "python3"
  },
  "language_info": {
   "codemirror_mode": {
    "name": "ipython",
    "version": 3
   },
   "file_extension": ".py",
   "mimetype": "text/x-python",
   "name": "python",
   "nbconvert_exporter": "python",
   "pygments_lexer": "ipython3",
   "version": "3.12.7"
  }
 },
 "nbformat": 4,
 "nbformat_minor": 5
}
