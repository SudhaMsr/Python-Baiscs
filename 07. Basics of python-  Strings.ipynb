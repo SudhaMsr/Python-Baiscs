{
 "cells": [
  {
   "cell_type": "markdown",
   "id": "de7c98b4-d920-427c-acc4-2ab973283eca",
   "metadata": {},
   "source": [
    "##"
   ]
  },
  {
   "cell_type": "markdown",
   "id": "9a603f00",
   "metadata": {},
   "source": [
    "\n",
    "\n",
    "# **Strings in Python**\n",
    "\n",
    "A **string** is a sequence of characters enclosed within \\*\\*single quotes `' '`, double quotes `\" \"`, or triple quotes `''' '''` / `\"\"\" \"\"\"`.\n",
    "\n",
    "Strings are one of the most widely used data types in Python because they represent **textual data** such as words, sentences, or entire documents.\n",
    "\n",
    "---\n",
    "\n",
    "## ✅ **Characteristics of Strings**\n",
    "\n",
    "* Strings are **ordered** → each character has a position (index starts at 0).\n",
    "* Strings are **immutable** → once created, they cannot be changed. Any modification creates a new string.\n",
    "* Strings can span multiple lines using **triple quotes**.\n",
    "* Strings support **indexing** and **slicing**.\n",
    "\n",
    "---\n",
    "\n",
    "## ✅ **Creating Strings**\n",
    "\n",
    "* **Single quotes:** `'Hello'`\n",
    "* **Double quotes:** `\"Python\"`\n",
    "* **Triple quotes:** `'''This is a multi-line string'''`\n",
    "\n",
    "\n"
   ]
  },
  {
   "cell_type": "markdown",
   "id": "2487039f-6a3a-46a1-92b6-4b67a76de6f7",
   "metadata": {},
   "source": [
    "##### "
   ]
  },
  {
   "cell_type": "code",
   "execution_count": 1,
   "id": "814edea0",
   "metadata": {},
   "outputs": [
    {
     "name": "stdout",
     "output_type": "stream",
     "text": [
      "Hello, Alaric!\n",
      "Hello, Alaric!\n"
     ]
    }
   ],
   "source": [
    "print(\"Hello, Alaric!\")\n",
    "print('Hello, Alaric!')"
   ]
  },
  {
   "cell_type": "markdown",
   "id": "d09490c9",
   "metadata": {},
   "source": [
    "## Assigning a string to variable"
   ]
  },
  {
   "cell_type": "code",
   "execution_count": 2,
   "id": "24ed9bb9",
   "metadata": {},
   "outputs": [
    {
     "name": "stdout",
     "output_type": "stream",
     "text": [
      "Hello, Alaric!\n"
     ]
    }
   ],
   "source": [
    "a = \"Hello, Alaric!\"\n",
    "print(a)"
   ]
  },
  {
   "cell_type": "markdown",
   "id": "36b2f909",
   "metadata": {},
   "source": [
    "## Multiline strings "
   ]
  },
  {
   "cell_type": "code",
   "execution_count": 3,
   "id": "6820c65a",
   "metadata": {},
   "outputs": [
    {
     "name": "stdout",
     "output_type": "stream",
     "text": [
      "Hi Everyone!\n",
      "I'm Alaric from India\n",
      "bye..:)\n"
     ]
    }
   ],
   "source": [
    "a = \"\"\"Hi Everyone!\n",
    "I'm Alaric from India\n",
    "bye..:)\"\"\"\n",
    "print(a)"
   ]
  },
  {
   "cell_type": "markdown",
   "id": "9477a596",
   "metadata": {},
   "source": [
    "## String declaration"
   ]
  },
  {
   "cell_type": "code",
   "execution_count": 4,
   "id": "886471b7",
   "metadata": {},
   "outputs": [
    {
     "name": "stdout",
     "output_type": "stream",
     "text": [
      "Hello, Alaric!\n",
      "<class 'str'>\n",
      "14\n"
     ]
    }
   ],
   "source": [
    "str=\"Hello, Alaric!\"\n",
    "print(str)\n",
    "print(type(str))        #Type of data\n",
    "print(len(str))         #Length of string (spaces are also included)"
   ]
  },
  {
   "cell_type": "markdown",
   "id": "208146da",
   "metadata": {},
   "source": [
    "\n",
    "---\n",
    "\n",
    "## ✅ **Accessing Strings**\n",
    "\n",
    "* **Indexing** → Access single characters using their position.\n",
    "* **Slicing** → Extract parts of the string using `[start:end]`.\n",
    "* Negative indexing allows access from the end (e.g., `-1` is the last character).\n",
    "\n",
    "---\n"
   ]
  },
  {
   "cell_type": "code",
   "execution_count": 4,
   "id": "074cebce",
   "metadata": {},
   "outputs": [
    {
     "name": "stdout",
     "output_type": "stream",
     "text": [
      "P\n",
      "n\n",
      "Pyth\n"
     ]
    }
   ],
   "source": [
    "word = \"Python\"\n",
    "print(word[0])     # P (first character)\n",
    "print(word[-1])    # n (last character)\n",
    "print(word[0:4])   # Pyth (slicing)\n"
   ]
  },
  {
   "cell_type": "code",
   "execution_count": 5,
   "id": "33eadbb8",
   "metadata": {},
   "outputs": [
    {
     "name": "stdout",
     "output_type": "stream",
     "text": [
      "Pto\n"
     ]
    }
   ],
   "source": [
    "print(word[0:5:2]) ## start : stop : step size"
   ]
  },
  {
   "cell_type": "code",
   "execution_count": 6,
   "id": "2dc9e759",
   "metadata": {},
   "outputs": [
    {
     "name": "stdout",
     "output_type": "stream",
     "text": [
      "Python\n",
      "Python\n"
     ]
    }
   ],
   "source": [
    "# adavanced slicing techniques\n",
    "print(word[:7])\n",
    "print(word[0:7])  ##both giv same results"
   ]
  },
  {
   "cell_type": "code",
   "execution_count": 12,
   "id": "b5640b30-9058-417d-9203-260ad064786e",
   "metadata": {},
   "outputs": [
    {
     "data": {
      "text/plain": [
       "1"
      ]
     },
     "execution_count": 12,
     "metadata": {},
     "output_type": "execute_result"
    }
   ],
   "source": [
    "word.count('P')"
   ]
  },
  {
   "cell_type": "markdown",
   "id": "4c2b3780",
   "metadata": {},
   "source": [
    "\n",
    "## ✅ **Common String Operations**\n",
    "\n",
    "* Concatenation (`+`) → `\"Hello\" + \" World\"` → `\"Hello World\"`\n",
    "* Repetition (`*`) → `\"Hi\" * 3` → `\"HiHiHi\"`\n",
    "* Membership (`in`, `not in`) → `\"Py\" in \"Python\"` → `True`\n",
    "* Length (`len()`) → `len(\"Python\")` → `6`\n",
    "\n",
    "---"
   ]
  },
  {
   "cell_type": "code",
   "execution_count": 1,
   "id": "fe14c454",
   "metadata": {},
   "outputs": [
    {
     "data": {
      "text/plain": [
       "6"
      ]
     },
     "execution_count": 1,
     "metadata": {},
     "output_type": "execute_result"
    }
   ],
   "source": [
    "a= (\"alaric\")\n",
    "len(a)"
   ]
  },
  {
   "cell_type": "markdown",
   "id": "9311a745",
   "metadata": {},
   "source": [
    "### 2. string.endswith(ric) -This function tells you whether the function is ending with \"ric\" or not. Since alaric ends wirh ric"
   ]
  },
  {
   "cell_type": "code",
   "execution_count": 2,
   "id": "9d4955c7",
   "metadata": {},
   "outputs": [
    {
     "data": {
      "text/plain": [
       "True"
      ]
     },
     "execution_count": 2,
     "metadata": {},
     "output_type": "execute_result"
    }
   ],
   "source": [
    "a.endswith(\"ric\")"
   ]
  },
  {
   "cell_type": "markdown",
   "id": "8e526e14",
   "metadata": {},
   "source": [
    "### 3. string.capitalize()- It capitalizes the first letter of string. "
   ]
  },
  {
   "cell_type": "code",
   "execution_count": 18,
   "id": "8ed5eb76",
   "metadata": {},
   "outputs": [
    {
     "data": {
      "text/plain": [
       "'Alaric'"
      ]
     },
     "execution_count": 18,
     "metadata": {},
     "output_type": "execute_result"
    }
   ],
   "source": [
    "a.capitalize()"
   ]
  },
  {
   "cell_type": "markdown",
   "id": "261ff001",
   "metadata": {},
   "source": [
    "### 6. string.find(word)- This fuction finds the word & returns the index of word "
   ]
  },
  {
   "cell_type": "code",
   "execution_count": 21,
   "id": "898bb94e",
   "metadata": {},
   "outputs": [
    {
     "data": {
      "text/plain": [
       "0"
      ]
     },
     "execution_count": 21,
     "metadata": {},
     "output_type": "execute_result"
    }
   ],
   "source": [
    "a.find(a)"
   ]
  },
  {
   "cell_type": "markdown",
   "id": "022b5433",
   "metadata": {},
   "source": [
    "### 7. string.relace(old word,new word) "
   ]
  },
  {
   "cell_type": "code",
   "execution_count": 30,
   "id": "48f712a7",
   "metadata": {},
   "outputs": [
    {
     "data": {
      "text/plain": [
       "'cherry'"
      ]
     },
     "execution_count": 30,
     "metadata": {},
     "output_type": "execute_result"
    }
   ],
   "source": [
    "a=\"banana\"\n",
    "a.replace(\"banana\",\"cherry\")"
   ]
  },
  {
   "cell_type": "markdown",
   "id": "889152fe",
   "metadata": {},
   "source": [
    "### 8. Escape sequence characters: "
   ]
  },
  {
   "cell_type": "markdown",
   "id": "2fce7883",
   "metadata": {},
   "source": [
    "*  \\n- New line\n",
    "*  \\t- tab\n",
    "*  \\- single quote\n",
    "*  \\\\- double quote"
   ]
  },
  {
   "cell_type": "markdown",
   "id": "735a0ee0-ea87-4b12-bf9f-79ed12f55602",
   "metadata": {},
   "source": [
    "####"
   ]
  },
  {
   "cell_type": "markdown",
   "id": "547da783-ca82-4b23-bcba-06c56fd8c321",
   "metadata": {},
   "source": [
    "\n",
    "\n",
    "## ✅ **Important String Methods**\n",
    "\n",
    "Here’s a breakdown of commonly used string methods:\n",
    "\n",
    "### 1. **Case Conversion**\n",
    "\n",
    "* `upper()` → Converts to uppercase.\n",
    "* `lower()` → Converts to lowercase.\n",
    "* `title()` → Capitalizes each word.\n",
    "* `capitalize()` → Capitalizes first character only.\n",
    "* `swapcase()` → Swaps case (upper ↔ lower).\n",
    "\n"
   ]
  },
  {
   "cell_type": "code",
   "execution_count": 13,
   "id": "7026696e-85fe-4f38-9f95-3752f803ec2d",
   "metadata": {},
   "outputs": [
    {
     "name": "stdout",
     "output_type": "stream",
     "text": [
      "HELLO PYTHON\n",
      "hello python\n",
      "Hello Python\n",
      "Hello python\n",
      "HELLO PYTHON\n"
     ]
    }
   ],
   "source": [
    "text = \"hello python\"\n",
    "print(text.upper())     # HELLO PYTHON\n",
    "print(text.lower())     # hello python\n",
    "print(text.title())     # Hello Python\n",
    "print(text.capitalize())# Hello python\n",
    "print(text.swapcase())  # HELLO PYTHON → hello python"
   ]
  },
  {
   "cell_type": "markdown",
   "id": "ed9b0ff5-d8c1-4e10-8525-352604a9c824",
   "metadata": {},
   "source": [
    "###"
   ]
  },
  {
   "cell_type": "markdown",
   "id": "c87abdcb-2838-42eb-a506-321af2a0699f",
   "metadata": {},
   "source": [
    "### 2. **Searching & Checking**\n",
    "\n",
    "* `find(sub)` → Returns index of first occurrence (-1 if not found).\n",
    "* `index(sub)` → Same as `find()`, but raises error if not found.\n",
    "* `startswith(prefix)` → Checks if string starts with given text.\n",
    "* `endswith(suffix)` → Checks if string ends with given text.\n",
    "* `count(sub)` → Counts occurrences of a substring.\n",
    "\n",
    "\n"
   ]
  },
  {
   "cell_type": "code",
   "execution_count": 15,
   "id": "c25f108a-ffb2-4836-ba65-f3b196b2737c",
   "metadata": {},
   "outputs": [
    {
     "name": "stdout",
     "output_type": "stream",
     "text": [
      "7\n",
      "10\n",
      "True\n",
      "True\n",
      "2\n"
     ]
    }
   ],
   "source": [
    "msg = \"Python is powerful\"\n",
    "\n",
    "print(msg.find(\"is\"))       # 7\n",
    "print(msg.index(\"power\"))   # 10\n",
    "print(msg.startswith(\"Py\")) # True\n",
    "print(msg.endswith(\"ful\"))  # True\n",
    "print(msg.count(\"o\"))       # 3\n"
   ]
  },
  {
   "cell_type": "markdown",
   "id": "a26d45b0-deb2-4325-ba41-909725cfa63b",
   "metadata": {},
   "source": [
    "####"
   ]
  },
  {
   "cell_type": "markdown",
   "id": "aa0b3a2a-4b31-4377-a3a0-dfa21bd3126c",
   "metadata": {},
   "source": [
    "### 3. **Validation Methods** (return True/False)\n",
    "\n",
    "* `isalnum()` → Checks if all characters are alphanumeric.\n",
    "* `isalpha()` → Checks if all characters are alphabetic.\n",
    "* `isdigit()` → Checks if string has only digits.\n",
    "* `isspace()` → Checks if string has only whitespace.\n",
    "* `istitle()` → Checks if each word starts with an uppercase letter.\n",
    "* `isupper()` → Checks if all characters are uppercase.\n",
    "* `islower()` → Checks if all characters are lowercase.\n",
    "\n",
    "\n"
   ]
  },
  {
   "cell_type": "code",
   "execution_count": 16,
   "id": "a8e97acf-ca8d-43bd-bab9-30a7d1c27127",
   "metadata": {},
   "outputs": [
    {
     "name": "stdout",
     "output_type": "stream",
     "text": [
      "True\n",
      "False\n",
      "True\n",
      "True\n",
      "True\n",
      "True\n",
      "True\n"
     ]
    }
   ],
   "source": [
    "name = \"Python3\"\n",
    "\n",
    "print(name.isalnum())   # True (letters + digits)\n",
    "print(name.isalpha())   # False (because of digit 3)\n",
    "print(\"123\".isdigit())  # True\n",
    "print(\"   \".isspace())  # True\n",
    "print(\"Python\".istitle()) # True\n",
    "print(\"PYTHON\".isupper()) # True\n",
    "print(\"python\".islower()) # True\n"
   ]
  },
  {
   "cell_type": "markdown",
   "id": "965d1b8b-e97b-4847-aaf7-da3de7e282bb",
   "metadata": {},
   "source": [
    "####"
   ]
  },
  {
   "cell_type": "markdown",
   "id": "30a2c82b-355b-4fb8-820a-1ba55529279e",
   "metadata": {},
   "source": [
    "### 4. **Modifying Strings**\n",
    "\n",
    "* `replace(old, new)` → Replaces substring with another.\n",
    "* `strip()` → Removes leading and trailing spaces.\n",
    "* `lstrip()` → Removes spaces from the left.\n",
    "* `rstrip()` → Removes spaces from the right.\n",
    "* `join(iterable)` → Joins elements of an iterable into a string.\n",
    "* `split(sep)` → Splits string into a list of words.\n",
    "* `partition(sep)` → Splits into 3 parts: before, separator, after.\n",
    "\n"
   ]
  },
  {
   "cell_type": "code",
   "execution_count": 17,
   "id": "22b05229-5a1e-46da-923f-cc5db52db57e",
   "metadata": {},
   "outputs": [
    {
     "name": "stdout",
     "output_type": "stream",
     "text": [
      "I love Python programming\n",
      "   I like Python programming   \n",
      "['I', 'love', 'Python', 'programming']\n",
      "Python-is-fun\n",
      "('   I love ', 'Python', ' programming   ')\n"
     ]
    }
   ],
   "source": [
    "sentence = \"   I love Python programming   \"\n",
    "\n",
    "print(sentence.strip())        # Removes spaces at both ends\n",
    "print(sentence.replace(\"love\", \"like\")) # Replaces word\n",
    "print(sentence.split())        # ['I', 'love', 'Python', 'programming']\n",
    "print(\"-\".join([\"Python\", \"is\", \"fun\"])) # Python-is-fun\n",
    "print(sentence.partition(\"Python\"))\n",
    "# ('   I love ', 'Python', ' programming   ')\n"
   ]
  },
  {
   "cell_type": "markdown",
   "id": "c164bd57-660b-4292-abac-667b5cce8d46",
   "metadata": {},
   "source": [
    "####"
   ]
  },
  {
   "cell_type": "markdown",
   "id": "fea488a8-5721-480e-ae36-e480413afb31",
   "metadata": {},
   "source": [
    "### 5. **Formatting Strings**\n",
    "\n",
    "* `format()` → Formats string with placeholders `{}`.\n",
    "* f-strings (`f\"Hello {name}\"`) → Newer and faster way to format.\n",
    "\n",
    "---\n",
    "\n"
   ]
  },
  {
   "cell_type": "code",
   "execution_count": 18,
   "id": "453566cf-c26f-41d8-b20c-d6084c74ccea",
   "metadata": {},
   "outputs": [
    {
     "name": "stdout",
     "output_type": "stream",
     "text": [
      "My name is Sudha and I am 25 years old.\n",
      "My name is Sudha and I am 25 years old.\n"
     ]
    }
   ],
   "source": [
    "# Using format()\n",
    "name = \"Sudha\"\n",
    "age = 25\n",
    "print(\"My name is {} and I am {} years old.\".format(name, age))\n",
    "\n",
    "# Using f-strings (Python 3.6+)\n",
    "print(f\"My name is {name} and I am {age} years old.\")\n"
   ]
  },
  {
   "cell_type": "markdown",
   "id": "acfa0d0f-6463-46aa-8fa3-31b7fb3c64c1",
   "metadata": {},
   "source": [
    "#####"
   ]
  },
  {
   "cell_type": "markdown",
   "id": "ecade015-6f99-446e-bbd2-37eb213bfba0",
   "metadata": {},
   "source": [
    "## ✅ **Special String Literals**\n",
    "\n",
    "* **Escape Sequences**: Used with backslash `\\`\n",
    "\n",
    "  * `\\n` → New line\n",
    "  * `\\t` → Tab space\n",
    "  * `\\'` → Single quote\n",
    "  * `\\\"` → Double quote\n",
    "  * `\\\\` → Backslash\n",
    "\n",
    "---"
   ]
  },
  {
   "cell_type": "code",
   "execution_count": 19,
   "id": "ef149c26-df3b-4d51-9433-641036729375",
   "metadata": {},
   "outputs": [
    {
     "name": "stdout",
     "output_type": "stream",
     "text": [
      "Hello\n",
      "World\n",
      "Python\tRocks\n",
      "She said, \"Python is fun!\"\n",
      "C:\\Users\\Admin\n"
     ]
    }
   ],
   "source": [
    "text = \"Hello\\nWorld\"   # New line\n",
    "print(text)\n",
    "\n",
    "text2 = \"Python\\tRocks\" # Tab space\n",
    "print(text2)\n",
    "\n",
    "quote = \"She said, \\\"Python is fun!\\\"\"\n",
    "print(quote)\n",
    "\n",
    "path = \"C:\\\\Users\\\\Admin\"\n",
    "print(path)\n"
   ]
  },
  {
   "cell_type": "markdown",
   "id": "0276e251-1ef7-49d1-a007-9cb64f124cb4",
   "metadata": {},
   "source": [
    "####"
   ]
  },
  {
   "cell_type": "markdown",
   "id": "d2dc3411-2331-4079-82a0-8879c41ffa52",
   "metadata": {},
   "source": [
    "## 📌 **Quick Recap**\n",
    "\n",
    "* Strings are sequences of characters, immutable, and widely used.\n",
    "* They support indexing, slicing, concatenation, and repetition.\n",
    "* Python provides a **rich set of string methods** for searching, formatting, modifying, and validation.\n",
    "* Escape sequences help handle special characters."
   ]
  },
  {
   "cell_type": "code",
   "execution_count": null,
   "id": "af19fd69-2d15-4b50-8bff-0009a4110640",
   "metadata": {},
   "outputs": [],
   "source": []
  }
 ],
 "metadata": {
  "kernelspec": {
   "display_name": "Python 3 (ipykernel)",
   "language": "python",
   "name": "python3"
  },
  "language_info": {
   "codemirror_mode": {
    "name": "ipython",
    "version": 3
   },
   "file_extension": ".py",
   "mimetype": "text/x-python",
   "name": "python",
   "nbconvert_exporter": "python",
   "pygments_lexer": "ipython3",
   "version": "3.12.7"
  }
 },
 "nbformat": 4,
 "nbformat_minor": 5
}
