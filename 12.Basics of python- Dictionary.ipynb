{
 "cells": [
  {
   "cell_type": "markdown",
   "id": "340b36fd",
   "metadata": {},
   "source": [
    "\n",
    "# **Dictionaries in Python**\n",
    "\n",
    "A **Dictionary** in Python is a collection of **key-value pairs**.\n",
    "\n",
    "* Defined using **curly braces `{}`** with the format: `key: value`.\n",
    "* Each **key must be unique and immutable** (e.g., string, number, tuple).\n",
    "* Values can be of **any data type** and can be duplicated.\n",
    "\n",
    "---\n",
    "\n",
    "## ✅ **Characteristics of Dictionaries**\n",
    "\n",
    "* **Unordered (before Python 3.7)**, but from **Python 3.7+**, dictionaries preserve insertion order.\n",
    "* **Mutable** → Can add, update, or remove items.\n",
    "* **Key-value pairs** → Keys are unique, values can repeat.\n",
    "* **Fast lookup** → Keys act like indexes.\n",
    "\n",
    "---\n",
    "\n",
    "## ✅ **Creating Dictionaries**\n"
   ]
  },
  {
   "cell_type": "code",
   "execution_count": 1,
   "id": "a9db65d4",
   "metadata": {},
   "outputs": [
    {
     "name": "stdout",
     "output_type": "stream",
     "text": [
      "{1: 'abc', 2: 'bbc', 3: 'acc', 4: 'acc'}\n"
     ]
    }
   ],
   "source": [
    "dict1={1:\"abc\",2:\"bbc\",3:\"acc\",4:\"acc\"}\n",
    "print(dict1)"
   ]
  },
  {
   "cell_type": "code",
   "execution_count": 2,
   "id": "81180e17-fe1f-4326-8e77-2639bcd99c55",
   "metadata": {},
   "outputs": [
    {
     "name": "stdout",
     "output_type": "stream",
     "text": [
      "Alice\n"
     ]
    }
   ],
   "source": [
    "# Creating a dictionary\n",
    "student = {\n",
    "    \"name\": \"Alice\",\n",
    "    \"age\": 22,\n",
    "    \"course\": \"Data Science\"\n",
    "}\n",
    "print(student[\"name\"])   # Alice"
   ]
  },
  {
   "cell_type": "code",
   "execution_count": 3,
   "id": "6241b9b1-eae3-4fed-8460-462ad5523830",
   "metadata": {},
   "outputs": [],
   "source": [
    "# Using {}\n",
    "person = {\"name\": \"John\", \"age\": 30}\n",
    "\n",
    "# Using dict() constructor\n",
    "person2 = dict(name=\"Emma\", age=25)"
   ]
  },
  {
   "cell_type": "markdown",
   "id": "8ff27210",
   "metadata": {},
   "source": [
    "### Get the data type"
   ]
  },
  {
   "cell_type": "code",
   "execution_count": 4,
   "id": "79f37395",
   "metadata": {},
   "outputs": [
    {
     "data": {
      "text/plain": [
       "dict"
      ]
     },
     "execution_count": 4,
     "metadata": {},
     "output_type": "execute_result"
    }
   ],
   "source": [
    "type(dict1)"
   ]
  },
  {
   "cell_type": "code",
   "execution_count": 5,
   "id": "9b894492",
   "metadata": {},
   "outputs": [
    {
     "name": "stdout",
     "output_type": "stream",
     "text": [
      "<class 'dict'>\n"
     ]
    }
   ],
   "source": [
    "print(type(dict1))"
   ]
  },
  {
   "cell_type": "markdown",
   "id": "86447bdd",
   "metadata": {},
   "source": [
    "### Replacing with new value "
   ]
  },
  {
   "cell_type": "code",
   "execution_count": 6,
   "id": "887ba71c",
   "metadata": {},
   "outputs": [
    {
     "name": "stdout",
     "output_type": "stream",
     "text": [
      "{1: 'hello', 2: 'bbc', 3: 'acc', 4: 'acc'}\n"
     ]
    }
   ],
   "source": [
    "dict1[1]=\"hello\"\n",
    "print(dict1)"
   ]
  },
  {
   "cell_type": "markdown",
   "id": "77a043cb",
   "metadata": {},
   "source": [
    "### Help\n",
    "* Usefull to minimize errors as it provides user interface "
   ]
  },
  {
   "cell_type": "code",
   "execution_count": 7,
   "id": "a52ef0d5",
   "metadata": {},
   "outputs": [
    {
     "name": "stdout",
     "output_type": "stream",
     "text": [
      "{1: 50, 2: 100, 3: 150, 40: 500, 5: 60, 6: 430, 7: 90}\n",
      "Help on dict object:\n",
      "\n",
      "class dict(object)\n",
      " |  dict() -> new empty dictionary\n",
      " |  dict(mapping) -> new dictionary initialized from a mapping object's\n",
      " |      (key, value) pairs\n",
      " |  dict(iterable) -> new dictionary initialized as if via:\n",
      " |      d = {}\n",
      " |      for k, v in iterable:\n",
      " |          d[k] = v\n",
      " |  dict(**kwargs) -> new dictionary initialized with the name=value pairs\n",
      " |      in the keyword argument list.  For example:  dict(one=1, two=2)\n",
      " |\n",
      " |  Built-in subclasses:\n",
      " |      StgDict\n",
      " |\n",
      " |  Methods defined here:\n",
      " |\n",
      " |  __contains__(self, key, /)\n",
      " |      True if the dictionary has the specified key, else False.\n",
      " |\n",
      " |  __delitem__(self, key, /)\n",
      " |      Delete self[key].\n",
      " |\n",
      " |  __eq__(self, value, /)\n",
      " |      Return self==value.\n",
      " |\n",
      " |  __ge__(self, value, /)\n",
      " |      Return self>=value.\n",
      " |\n",
      " |  __getattribute__(self, name, /)\n",
      " |      Return getattr(self, name).\n",
      " |\n",
      " |  __getitem__(self, key, /)\n",
      " |      Return self[key].\n",
      " |\n",
      " |  __gt__(self, value, /)\n",
      " |      Return self>value.\n",
      " |\n",
      " |  __init__(self, /, *args, **kwargs)\n",
      " |      Initialize self.  See help(type(self)) for accurate signature.\n",
      " |\n",
      " |  __ior__(self, value, /)\n",
      " |      Return self|=value.\n",
      " |\n",
      " |  __iter__(self, /)\n",
      " |      Implement iter(self).\n",
      " |\n",
      " |  __le__(self, value, /)\n",
      " |      Return self<=value.\n",
      " |\n",
      " |  __len__(self, /)\n",
      " |      Return len(self).\n",
      " |\n",
      " |  __lt__(self, value, /)\n",
      " |      Return self<value.\n",
      " |\n",
      " |  __ne__(self, value, /)\n",
      " |      Return self!=value.\n",
      " |\n",
      " |  __or__(self, value, /)\n",
      " |      Return self|value.\n",
      " |\n",
      " |  __repr__(self, /)\n",
      " |      Return repr(self).\n",
      " |\n",
      " |  __reversed__(self, /)\n",
      " |      Return a reverse iterator over the dict keys.\n",
      " |\n",
      " |  __ror__(self, value, /)\n",
      " |      Return value|self.\n",
      " |\n",
      " |  __setitem__(self, key, value, /)\n",
      " |      Set self[key] to value.\n",
      " |\n",
      " |  __sizeof__(...)\n",
      " |      D.__sizeof__() -> size of D in memory, in bytes\n",
      " |\n",
      " |  clear(...)\n",
      " |      D.clear() -> None.  Remove all items from D.\n",
      " |\n",
      " |  copy(...)\n",
      " |      D.copy() -> a shallow copy of D\n",
      " |\n",
      " |  get(self, key, default=None, /)\n",
      " |      Return the value for key if key is in the dictionary, else default.\n",
      " |\n",
      " |  items(...)\n",
      " |      D.items() -> a set-like object providing a view on D's items\n",
      " |\n",
      " |  keys(...)\n",
      " |      D.keys() -> a set-like object providing a view on D's keys\n",
      " |\n",
      " |  pop(...)\n",
      " |      D.pop(k[,d]) -> v, remove specified key and return the corresponding value.\n",
      " |\n",
      " |      If the key is not found, return the default if given; otherwise,\n",
      " |      raise a KeyError.\n",
      " |\n",
      " |  popitem(self, /)\n",
      " |      Remove and return a (key, value) pair as a 2-tuple.\n",
      " |\n",
      " |      Pairs are returned in LIFO (last-in, first-out) order.\n",
      " |      Raises KeyError if the dict is empty.\n",
      " |\n",
      " |  setdefault(self, key, default=None, /)\n",
      " |      Insert key with a value of default if key is not in the dictionary.\n",
      " |\n",
      " |      Return the value for key if key is in the dictionary, else default.\n",
      " |\n",
      " |  update(...)\n",
      " |      D.update([E, ]**F) -> None.  Update D from dict/iterable E and F.\n",
      " |      If E is present and has a .keys() method, then does:  for k in E: D[k] = E[k]\n",
      " |      If E is present and lacks a .keys() method, then does:  for k, v in E: D[k] = v\n",
      " |      In either case, this is followed by: for k in F:  D[k] = F[k]\n",
      " |\n",
      " |  values(...)\n",
      " |      D.values() -> an object providing a view on D's values\n",
      " |\n",
      " |  ----------------------------------------------------------------------\n",
      " |  Class methods defined here:\n",
      " |\n",
      " |  __class_getitem__(...)\n",
      " |      See PEP 585\n",
      " |\n",
      " |  fromkeys(iterable, value=None, /)\n",
      " |      Create a new dictionary with keys from iterable and values set to value.\n",
      " |\n",
      " |  ----------------------------------------------------------------------\n",
      " |  Static methods defined here:\n",
      " |\n",
      " |  __new__(*args, **kwargs)\n",
      " |      Create and return a new object.  See help(type) for accurate signature.\n",
      " |\n",
      " |  ----------------------------------------------------------------------\n",
      " |  Data and other attributes defined here:\n",
      " |\n",
      " |  __hash__ = None\n",
      "\n"
     ]
    }
   ],
   "source": [
    "d1={1:50,2:100,3:150,40:500}\n",
    "d1.update({5:60,6:430,7:90})\n",
    "print(d1)\n",
    "help(d1)"
   ]
  },
  {
   "cell_type": "markdown",
   "id": "231b81a6-e15a-4f37-9db3-5ed459b2227a",
   "metadata": {},
   "source": [
    "## ✅ **Dictionary Methods**"
   ]
  },
  {
   "cell_type": "code",
   "execution_count": 8,
   "id": "7fd1185a",
   "metadata": {},
   "outputs": [
    {
     "name": "stdout",
     "output_type": "stream",
     "text": [
      "dict_keys([1, 2, 3, 40, 5, 6, 7])\n",
      "dict_values([50, 100, 150, 500, 60, 430, 90])\n",
      "dict_items([(1, 50), (2, 100), (3, 150), (40, 500), (5, 60), (6, 430), (7, 90)])\n"
     ]
    }
   ],
   "source": [
    "print(d1.keys())               #keys of dictionary\n",
    "print(d1.values())             #values of dictionary\n",
    "print(d1.items())              #whole dictionary-with values and keys seperated with coma(,)"
   ]
  },
  {
   "cell_type": "markdown",
   "id": "b72f080e-6a7a-4b82-b4a9-451d4793bb6e",
   "metadata": {},
   "source": [
    "## ✅ **Removing Items**\n",
    "         # Empty dictionary"
   ]
  },
  {
   "cell_type": "code",
   "execution_count": 9,
   "id": "6fce7700",
   "metadata": {},
   "outputs": [
    {
     "data": {
      "text/plain": [
       "50"
      ]
     },
     "execution_count": 9,
     "metadata": {},
     "output_type": "execute_result"
    }
   ],
   "source": [
    "d1.pop(1) #Removes the first item in the dictionary"
   ]
  },
  {
   "cell_type": "code",
   "execution_count": 10,
   "id": "d324061b",
   "metadata": {},
   "outputs": [
    {
     "data": {
      "text/plain": [
       "{2: 100, 3: 150, 40: 500, 5: 60, 6: 430, 7: 90}"
      ]
     },
     "execution_count": 10,
     "metadata": {},
     "output_type": "execute_result"
    }
   ],
   "source": [
    "d1          #afer removing the first item in dictionary"
   ]
  },
  {
   "cell_type": "code",
   "execution_count": 11,
   "id": "cc8a8494",
   "metadata": {},
   "outputs": [
    {
     "data": {
      "text/plain": [
       "(7, 90)"
      ]
     },
     "execution_count": 11,
     "metadata": {},
     "output_type": "execute_result"
    }
   ],
   "source": [
    "d1.popitem() #Pop out the last item"
   ]
  },
  {
   "cell_type": "code",
   "execution_count": 12,
   "id": "af8065b6",
   "metadata": {},
   "outputs": [
    {
     "data": {
      "text/plain": [
       "{2: 100, 3: 150, 40: 500, 5: 60, 6: 430}"
      ]
     },
     "execution_count": 12,
     "metadata": {},
     "output_type": "execute_result"
    }
   ],
   "source": [
    "d1"
   ]
  },
  {
   "cell_type": "markdown",
   "id": "de532929",
   "metadata": {},
   "source": [
    "### Length "
   ]
  },
  {
   "cell_type": "code",
   "execution_count": 13,
   "id": "effa2419",
   "metadata": {},
   "outputs": [
    {
     "data": {
      "text/plain": [
       "5"
      ]
     },
     "execution_count": 13,
     "metadata": {},
     "output_type": "execute_result"
    }
   ],
   "source": [
    "len(d1)"
   ]
  },
  {
   "cell_type": "markdown",
   "id": "55e20e21-01db-44c6-811b-d893f9bd8ee3",
   "metadata": {},
   "source": [
    "## ✅ **Adding and Updating Items**"
   ]
  },
  {
   "cell_type": "code",
   "execution_count": 14,
   "id": "66350ee5-1112-4b12-8a0a-1d552bd39372",
   "metadata": {},
   "outputs": [],
   "source": [
    "student[\"grade\"] = \"A\"      # Add new key-value pair\n",
    "student[\"age\"] = 23         # Update value"
   ]
  },
  {
   "cell_type": "code",
   "execution_count": 15,
   "id": "0437a28b-fb4b-4dc1-913d-c572a7beb792",
   "metadata": {},
   "outputs": [
    {
     "name": "stdout",
     "output_type": "stream",
     "text": [
      "dict_keys(['name', 'age'])\n",
      "dict_values(['Alice', 22])\n",
      "dict_items([('name', 'Alice'), ('age', 22)])\n"
     ]
    }
   ],
   "source": [
    "\n",
    "## ✅ **Dictionary Methods**\n",
    "person = {\"name\": \"Alice\", \"age\": 22}\n",
    "\n",
    "print(person.keys())    # dict_keys(['name', 'age'])\n",
    "print(person.values())  # dict_values(['Alice', 22])\n",
    "print(person.items())   # dict_items([('name', 'Alice'), ('age', 22)])"
   ]
  },
  {
   "cell_type": "code",
   "execution_count": 16,
   "id": "4e2c7452-39c3-447f-b387-b4ba995d4814",
   "metadata": {},
   "outputs": [
    {
     "name": "stdout",
     "output_type": "stream",
     "text": [
      "{'name': 'Alice', 'age': 23, 'city': 'London'}\n"
     ]
    }
   ],
   "source": [
    "# Update dictionary\n",
    "person.update({\"age\": 23, \"city\": \"London\"})\n",
    "print(person)"
   ]
  },
  {
   "cell_type": "markdown",
   "id": "1a6cb48f",
   "metadata": {},
   "source": [
    "## ✅ **Accessing Dictionary Items**"
   ]
  },
  {
   "cell_type": "code",
   "execution_count": 17,
   "id": "8df5b71d",
   "metadata": {},
   "outputs": [
    {
     "name": "stdout",
     "output_type": "stream",
     "text": [
      "abc\n"
     ]
    }
   ],
   "source": [
    "dict1={1:\"abc\",2:\"bbc\",3:\"acc\",4:\"acc\"}\n",
    "a=dict1[1]\n",
    "print(a)"
   ]
  },
  {
   "cell_type": "code",
   "execution_count": 18,
   "id": "3a9ddbcc",
   "metadata": {},
   "outputs": [
    {
     "data": {
      "text/plain": [
       "dict_values(['abc', 'bbc', 'acc', 'acc'])"
      ]
     },
     "execution_count": 18,
     "metadata": {},
     "output_type": "execute_result"
    }
   ],
   "source": [
    "dict1.values()"
   ]
  },
  {
   "cell_type": "code",
   "execution_count": 19,
   "id": "23994287",
   "metadata": {},
   "outputs": [
    {
     "data": {
      "text/plain": [
       "dict_keys([1, 2, 3, 4])"
      ]
     },
     "execution_count": 19,
     "metadata": {},
     "output_type": "execute_result"
    }
   ],
   "source": [
    "dict1.keys()"
   ]
  },
  {
   "cell_type": "code",
   "execution_count": 20,
   "id": "c988b80f",
   "metadata": {},
   "outputs": [
    {
     "data": {
      "text/plain": [
       "dict_items([(1, 'abc'), (2, 'bbc'), (3, 'acc'), (4, 'acc')])"
      ]
     },
     "execution_count": 20,
     "metadata": {},
     "output_type": "execute_result"
    }
   ],
   "source": [
    "dict1.items()"
   ]
  },
  {
   "cell_type": "code",
   "execution_count": 21,
   "id": "69a5373f-6057-42dc-9ec8-6f2f5c611fda",
   "metadata": {},
   "outputs": [
    {
     "name": "stdout",
     "output_type": "stream",
     "text": [
      "22\n",
      "Data Science\n",
      "Not Found\n"
     ]
    }
   ],
   "source": [
    "student = {\"name\": \"Alice\", \"age\": 22, \"course\": \"Data Science\"}\n",
    "\n",
    "print(student[\"age\"])         # 22\n",
    "print(student.get(\"course\"))  # Data Science\n",
    "print(student.get(\"grade\", \"Not Found\"))  # Default value if key missing"
   ]
  },
  {
   "cell_type": "markdown",
   "id": "e82dc7fc",
   "metadata": {},
   "source": [
    "### Clear "
   ]
  },
  {
   "cell_type": "code",
   "execution_count": 22,
   "id": "9f01083e",
   "metadata": {},
   "outputs": [
    {
     "data": {
      "text/plain": [
       "{}"
      ]
     },
     "execution_count": 22,
     "metadata": {},
     "output_type": "execute_result"
    }
   ],
   "source": [
    "dict1.clear()\n",
    "dict1"
   ]
  },
  {
   "cell_type": "markdown",
   "id": "80c954f7",
   "metadata": {},
   "source": [
    "### Delete "
   ]
  },
  {
   "cell_type": "code",
   "execution_count": 23,
   "id": "fb034376",
   "metadata": {},
   "outputs": [],
   "source": [
    "del dict1"
   ]
  },
  {
   "cell_type": "markdown",
   "id": "e7af8317",
   "metadata": {},
   "source": [
    "### Looping Through Dictionary "
   ]
  },
  {
   "cell_type": "code",
   "execution_count": 24,
   "id": "a292ab44",
   "metadata": {},
   "outputs": [
    {
     "name": "stdout",
     "output_type": "stream",
     "text": [
      "1\n",
      "2\n",
      "3\n",
      "4\n"
     ]
    }
   ],
   "source": [
    "dict1={1:\"abc\",2:\"bbc\",3:\"acc\",4:\"acc\"}\n",
    "for x in dict1:\n",
    "    print(x)"
   ]
  },
  {
   "cell_type": "code",
   "execution_count": 25,
   "id": "632d2aef",
   "metadata": {},
   "outputs": [
    {
     "name": "stdout",
     "output_type": "stream",
     "text": [
      "abc\n",
      "bbc\n",
      "acc\n",
      "acc\n"
     ]
    }
   ],
   "source": [
    "for x in dict1:\n",
    "    print(dict1[x])"
   ]
  },
  {
   "cell_type": "markdown",
   "id": "019d239e",
   "metadata": {},
   "source": [
    "### Copy() "
   ]
  },
  {
   "cell_type": "code",
   "execution_count": 26,
   "id": "d78bf18e",
   "metadata": {},
   "outputs": [
    {
     "name": "stdout",
     "output_type": "stream",
     "text": [
      "{'brand': 'Ford', 'model': 'Mustang', 'year': 1964}\n"
     ]
    }
   ],
   "source": [
    "thisdict = {\n",
    "  \"brand\": \"Ford\",\n",
    "  \"model\": \"Mustang\",\n",
    "  \"year\": 1964\n",
    "}\n",
    "mydict = thisdict.copy()\n",
    "print(mydict)"
   ]
  },
  {
   "cell_type": "markdown",
   "id": "89804a4e",
   "metadata": {},
   "source": [
    "## ✅ **Nested Dictionaries**"
   ]
  },
  {
   "cell_type": "code",
   "execution_count": 27,
   "id": "ba8b7727",
   "metadata": {},
   "outputs": [
    {
     "name": "stdout",
     "output_type": "stream",
     "text": [
      "{'child1': {'name': 'Emil', 'year': 2004}, 'child2': {'name': 'Tobias', 'year': 2007}, 'child3': {'name': 'Linus', 'year': 2011}}\n"
     ]
    }
   ],
   "source": [
    "myfamily = {\n",
    "  \"child1\" : {\n",
    "    \"name\" : \"Emil\",\n",
    "    \"year\" : 2004\n",
    "  },\n",
    "  \"child2\" : {\n",
    "    \"name\" : \"Tobias\",\n",
    "    \"year\" : 2007\n",
    "  },\n",
    "  \"child3\" : {\n",
    "    \"name\" : \"Linus\",\n",
    "    \"year\" : 2011\n",
    "  }\n",
    "}\n",
    "\n",
    "print(myfamily)"
   ]
  },
  {
   "cell_type": "code",
   "execution_count": 28,
   "id": "aa1b4bd2-14e0-4227-830a-d76bf2b038ee",
   "metadata": {},
   "outputs": [
    {
     "name": "stdout",
     "output_type": "stream",
     "text": [
      "Alice\n"
     ]
    }
   ],
   "source": [
    "students = {\n",
    "    \"s1\": {\"name\": \"Alice\", \"age\": 22},\n",
    "    \"s2\": {\"name\": \"Bob\", \"age\": 24}\n",
    "}\n",
    "\n",
    "print(students[\"s1\"][\"name\"])  # Alice"
   ]
  },
  {
   "cell_type": "markdown",
   "id": "981e579f-3b0e-40c5-94e8-5464ad72dbe5",
   "metadata": {},
   "source": [
    "## ✅ **Dictionary Comprehension**"
   ]
  },
  {
   "cell_type": "code",
   "execution_count": 29,
   "id": "5f1f7480-a7d7-4ba1-936d-f373ff968f43",
   "metadata": {},
   "outputs": [
    {
     "name": "stdout",
     "output_type": "stream",
     "text": [
      "{0: 0, 1: 1, 2: 4, 3: 9, 4: 16}\n"
     ]
    }
   ],
   "source": [
    "squares = {x: x**2 for x in range(5)}\n",
    "print(squares)  # {0: 0, 1: 1, 2: 4, 3: 9, 4: 16}"
   ]
  },
  {
   "cell_type": "markdown",
   "id": "f54ba0de-2f49-4921-8301-89e8e1db4e8c",
   "metadata": {},
   "source": [
    "---\n",
    "\n",
    "## 📌 **Quick Recap**\n",
    "\n",
    "* Dictionary = **key-value pairs**.\n",
    "* Keys → **unique & immutable**.\n",
    "* Values → **can be any type & duplicates allowed**.\n",
    "* Supports **fast lookups** and **nested structures**.\n",
    "* Very useful in **data storage, APIs, JSON handling, configs, etc.**\n",
    "\n",
    "---"
   ]
  },
  {
   "cell_type": "markdown",
   "id": "7fe892c4-5e59-4302-9e84-09843c64d4c6",
   "metadata": {},
   "source": [
    "####"
   ]
  }
 ],
 "metadata": {
  "kernelspec": {
   "display_name": "Python 3 (ipykernel)",
   "language": "python",
   "name": "python3"
  },
  "language_info": {
   "codemirror_mode": {
    "name": "ipython",
    "version": 3
   },
   "file_extension": ".py",
   "mimetype": "text/x-python",
   "name": "python",
   "nbconvert_exporter": "python",
   "pygments_lexer": "ipython3",
   "version": "3.12.7"
  }
 },
 "nbformat": 4,
 "nbformat_minor": 5
}
