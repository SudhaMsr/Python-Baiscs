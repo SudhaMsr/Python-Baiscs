{
 "cells": [
  {
   "cell_type": "markdown",
   "id": "36ca31de-d3e0-4ba6-9a2a-a22b41b18cac",
   "metadata": {},
   "source": [
    "###"
   ]
  },
  {
   "cell_type": "markdown",
   "id": "23e0e14d-8cb3-4379-b932-26bbc97f520f",
   "metadata": {},
   "source": [
    "\n",
    "\n",
    "# **1. Object-Oriented Programming (OOP)**\n",
    "\n",
    "OOP is a way to structure code using **objects**. Think of it like **real-life objects**:\n",
    "\n",
    "* A **Car** object has properties (color, model) and actions (drive, stop).\n",
    "* OOP lets us model this in code using **classes** (blueprints) and **objects** (instances).\n",
    "\n",
    "**Key Principles:**\n",
    "\n",
    "1. **Encapsulation** – hide internal details, expose only what’s needed.\n",
    "2. **Abstraction** – show only the relevant information.\n",
    "3. **Inheritance** – reuse code from another class.\n",
    "4. **Polymorphism** – objects can take multiple forms.\n",
    "\n",
    "\n",
    "Object-Oriented Programming (OOP) is not just about classes and objects—it’s about designing scalable, maintainable, and efficient programs. Beyond the basics, Python and other OOP languages offer many advanced concepts that make your code more powerful.\n",
    "\n",
    "---\n",
    "\n",
    "# **2. Classes & Objects**\n",
    "\n",
    "* **Class:** Blueprint for objects.\n",
    "* **Object:** Instance of a class."
   ]
  },
  {
   "cell_type": "code",
   "execution_count": 5,
   "id": "99402771-3124-4eda-a3cd-ee64db623071",
   "metadata": {},
   "outputs": [
    {
     "name": "stdout",
     "output_type": "stream",
     "text": [
      "Tesla\n"
     ]
    }
   ],
   "source": [
    "class Car:\n",
    "    def __init__(self, brand, color):\n",
    "        self.brand = brand\n",
    "        self.color = color\n",
    "\n",
    "my_car = Car(\"Tesla\", \"Red\")  # Object\n",
    "print(my_car.brand)  # Tesla"
   ]
  },
  {
   "cell_type": "markdown",
   "id": "00d8a5a4-8658-48cc-afcd-7a081d3baae9",
   "metadata": {},
   "source": [
    "# **3. Class Attributes**\n",
    "\n",
    "Attributes shared by **all instances** of a class."
   ]
  },
  {
   "cell_type": "code",
   "execution_count": 9,
   "id": "007474cf-c4b6-4f89-8e9c-6e1d0c3fd793",
   "metadata": {},
   "outputs": [
    {
     "name": "stdout",
     "output_type": "stream",
     "text": [
      "4 4\n"
     ]
    }
   ],
   "source": [
    "class Car:\n",
    "    wheels = 4  # class attribute\n",
    "    def __init__(self, brand):\n",
    "        self.brand = brand  # instance attribute\n",
    "\n",
    "c1 = Car(\"Tesla\")\n",
    "c2 = Car(\"BMW\")\n",
    "print(c1.wheels, c2.wheels)  # 4 4"
   ]
  },
  {
   "cell_type": "code",
   "execution_count": 24,
   "id": "70b4cc1a-be3c-4c72-81a6-d93c9a94be6f",
   "metadata": {},
   "outputs": [
    {
     "name": "stdout",
     "output_type": "stream",
     "text": [
      "4 Toyota\n",
      "4 Honda\n"
     ]
    }
   ],
   "source": [
    "class Car:\n",
    "    wheels = 4  # Class attribute\n",
    "    def __init__(self, brand):\n",
    "        self.brand = brand  # Instance attribute\n",
    "\n",
    "c1 = Car(\"Toyota\")\n",
    "c2 = Car(\"Honda\")\n",
    "print(c1.wheels, c1.brand)  # 4 Toyota\n",
    "print(c2.wheels, c2.brand)  # 4 Honda\n"
   ]
  },
  {
   "cell_type": "markdown",
   "id": "4e96badc-5d1e-4646-ab38-ff23e2035a5d",
   "metadata": {},
   "source": [
    "\n",
    "* `wheels` is the same for all cars.\n",
    "* `brand` is unique for each car.\n",
    "\n",
    "### Class Attributes vs Instance Attributes\n",
    "\n",
    "Class Attributes: Shared across all instances of the class.\n",
    "\n",
    "Instance Attributes: Unique to each object.\n",
    "\n",
    "---\n",
    "\n",
    "# **4. Class Methods**\n",
    "\n",
    "### Class Methods and Static Methods\n",
    "\n",
    "-     Class Methods: Operate on the class itself, not instances. Use `@classmethod`.\n",
    "\n",
    "-     Static Methods: Utility functions that don’t access instance or class attributes. Use `@staticmethod`.\n",
    "\n",
    "Work with the **class itself**, not instances. Use `@classmethod`.\n"
   ]
  },
  {
   "cell_type": "code",
   "execution_count": 11,
   "id": "41e53648-51ab-42af-8963-52ef6dfb54ac",
   "metadata": {},
   "outputs": [
    {
     "name": "stdout",
     "output_type": "stream",
     "text": [
      "6\n"
     ]
    }
   ],
   "source": [
    "class Car:\n",
    "    wheels = 4\n",
    "    @classmethod\n",
    "    def change_wheels(cls, new_wheels):\n",
    "        cls.wheels = new_wheels\n",
    "\n",
    "Car.change_wheels(6)\n",
    "print(Car.wheels)  # 6"
   ]
  },
  {
   "cell_type": "markdown",
   "id": "4c08087f-280f-4df1-b1a3-92438739bfba",
   "metadata": {},
   "source": [
    "\n",
    "# **5. Static Methods**\n",
    "\n",
    "Do not use class or instance data. Utility methods. Use `@staticmethod`."
   ]
  },
  {
   "cell_type": "code",
   "execution_count": 12,
   "id": "357d7ce6-bd3c-498b-985f-a0dd8f1432f8",
   "metadata": {},
   "outputs": [
    {
     "name": "stdout",
     "output_type": "stream",
     "text": [
      "12\n"
     ]
    }
   ],
   "source": [
    "class Math:\n",
    "    @staticmethod\n",
    "    def add(a, b):\n",
    "        return a + b\n",
    "\n",
    "print(Math.add(5, 7))  # 12"
   ]
  },
  {
   "cell_type": "markdown",
   "id": "4eb6c804-eda7-4c7f-84d8-fd428b0c71f4",
   "metadata": {},
   "source": [
    "# **6. Constructors**\n",
    "\n",
    "`__init__` initializes an object.\n",
    "A constructor is a special method used to initialize objects. In Python, it’s defined as `__init__()`.\n",
    "\n",
    "  - Why used? Automatically sets up initial values for the object attributes."
   ]
  },
  {
   "cell_type": "code",
   "execution_count": 19,
   "id": "575470a2-bdfa-414c-b570-9ea566908ba5",
   "metadata": {},
   "outputs": [
    {
     "name": "stdout",
     "output_type": "stream",
     "text": [
      "Sudha\n"
     ]
    }
   ],
   "source": [
    "class Person:\n",
    "    def __init__(self, name):\n",
    "        self.name = name\n",
    "\n",
    "p = Person(\"Sudha\")\n",
    "print(p.name)  # Sudha"
   ]
  },
  {
   "cell_type": "markdown",
   "id": "9b62d3b2-fd4b-4cd4-b426-4143b5d8bf2e",
   "metadata": {},
   "source": [
    "# **7. Access Modifiers**\n",
    "\n",
    "Control access to class members:\n",
    "\n",
    "* **Public:** `var` – accessible everywhere\n",
    "* **Protected:** `_var` – accessible in class & subclass\n",
    "* **Private:** `__var` – accessible only in class"
   ]
  },
  {
   "cell_type": "code",
   "execution_count": 20,
   "id": "f9bb2b9a-af57-4e6d-affd-899afacf6316",
   "metadata": {},
   "outputs": [],
   "source": [
    "class Test:\n",
    "    def __init__(self):\n",
    "        self.public = 1\n",
    "        self._protected = 2\n",
    "        self.__private = 3"
   ]
  },
  {
   "cell_type": "markdown",
   "id": "5afefbcc-d66d-4b18-994a-59cd8fc72619",
   "metadata": {},
   "source": [
    "\n",
    "\n",
    "# **8. Inheritance**\n",
    "\n",
    "Reuse code from another class."
   ]
  },
  {
   "cell_type": "code",
   "execution_count": 23,
   "id": "4dcbde98-d5fa-49b4-9ab5-52b50d872f14",
   "metadata": {},
   "outputs": [
    {
     "name": "stdout",
     "output_type": "stream",
     "text": [
      "Animal sound\n"
     ]
    }
   ],
   "source": [
    "class Animal:\n",
    "    def speak(self):\n",
    "        print(\"Animal sound\")\n",
    "\n",
    "class Dog(Animal):\n",
    "    pass\n",
    "\n",
    "d = Dog()\n",
    "d.speak()  # Animal sound"
   ]
  },
  {
   "cell_type": "markdown",
   "id": "6c35d5c5-eb1d-4b9f-a1c1-2fa07c06e431",
   "metadata": {},
   "source": [
    "\n",
    "# **9. Polymorphism**\n",
    "\n",
    "Ability to **take many forms**:\n",
    "\n",
    "* **Method Overriding (Runtime)** – Subclass provides a new implementation for a method from the parent class.\n",
    "* **Method Overloading (Compile-time)** – same method, different parameters (Python uses default args instead)\n",
    "Overriding: Subclass provides a new implementation for a method from the parent class. (Python doesn’t support traditional overloading, but can mimic via default arguments.)\n",
    "\n",
    "# **10. Method Overriding**\n"
   ]
  },
  {
   "cell_type": "code",
   "execution_count": 22,
   "id": "c6461f82-6700-4952-93eb-ac3ca368460f",
   "metadata": {},
   "outputs": [
    {
     "name": "stdout",
     "output_type": "stream",
     "text": [
      "Woof!\n"
     ]
    }
   ],
   "source": [
    "class Animal:\n",
    "    def speak(self):\n",
    "        print(\"Animal sound\")\n",
    "\n",
    "class Dog(Animal):\n",
    "    def speak(self):\n",
    "        print(\"Woof!\")\n",
    "\n",
    "d = Dog()\n",
    "d.speak()  # Woof!"
   ]
  },
  {
   "cell_type": "markdown",
   "id": "371833a8-ad79-4640-9c9a-5a8cdd5c22f7",
   "metadata": {},
   "source": [
    "# **11. Method Overloading**\n",
    "\n",
    "Python doesn’t support it directly. Use **default arguments**:"
   ]
  },
  {
   "cell_type": "code",
   "execution_count": 21,
   "id": "c5783838-8203-42c4-9f35-e256df39356f",
   "metadata": {},
   "outputs": [
    {
     "name": "stdout",
     "output_type": "stream",
     "text": [
      "5\n",
      "15\n"
     ]
    }
   ],
   "source": [
    "class Math:\n",
    "    def add(self, a, b=0):\n",
    "        return a + b\n",
    "\n",
    "m = Math()\n",
    "print(m.add(5))      # 5\n",
    "print(m.add(5, 10))  # 15"
   ]
  },
  {
   "cell_type": "markdown",
   "id": "796a04d2-9a71-4cdd-b6da-386b98569244",
   "metadata": {},
   "source": [
    "# **12. Dynamic Binding**\n",
    "\n",
    "Python is **dynamically typed**, meaning variable types are determined at runtime.\n",
    "\n",
    "**Dynamic binding** allows method calls to be resolved at runtime, enabling polymorphism."
   ]
  },
  {
   "cell_type": "code",
   "execution_count": 18,
   "id": "75ce0ebd-44d1-4deb-8ce8-1bef85e1d359",
   "metadata": {},
   "outputs": [
    {
     "name": "stdout",
     "output_type": "stream",
     "text": [
      "Child\n"
     ]
    }
   ],
   "source": [
    "class Parent:\n",
    "    def show(self):\n",
    "        print(\"Parent\")\n",
    "\n",
    "class Child(Parent):\n",
    "    def show(self):\n",
    "        print(\"Child\")\n",
    "\n",
    "obj = Child()\n",
    "obj.show()  # Child"
   ]
  },
  {
   "cell_type": "markdown",
   "id": "2c0a959b-b6c6-42a4-865f-cbb5db6f02b2",
   "metadata": {},
   "source": [
    "# **13. Dynamic Typing**\n",
    "\n",
    "Python variables can **change type dynamically**:\n"
   ]
  },
  {
   "cell_type": "code",
   "execution_count": 17,
   "id": "47292121-aaf8-4f5c-91c6-0a27d07bdfc9",
   "metadata": {},
   "outputs": [],
   "source": [
    "x = 5\n",
    "x = \"Sudha\"  # allowed"
   ]
  },
  {
   "cell_type": "markdown",
   "id": "5aec5bfb-b839-47ec-8d66-c5a92e9a3b6e",
   "metadata": {},
   "source": [
    "# **14. Abstraction**\n",
    "\n",
    "Hide internal details, show only functionality using **abstract classes** (`abc` module):\n"
   ]
  },
  {
   "cell_type": "code",
   "execution_count": 16,
   "id": "6daed281-9c22-46fd-a7a8-aa7edeffeb7d",
   "metadata": {},
   "outputs": [],
   "source": [
    "from abc import ABC, abstractmethod\n",
    "\n",
    "class Shape(ABC):\n",
    "    @abstractmethod\n",
    "    def area(self):\n",
    "        pass\n",
    "\n",
    "class Circle(Shape):\n",
    "    def __init__(self, r):\n",
    "        self.r = r\n",
    "    def area(self):\n",
    "        return 3.14 * self.r ** 2"
   ]
  },
  {
   "cell_type": "markdown",
   "id": "d1b9dcb9-3120-4cca-86c9-fb99c4e1243f",
   "metadata": {},
   "source": [
    "# **15. Encapsulation**\n",
    "\n",
    "Hide data using **private variables** and provide **getters/setters**:"
   ]
  },
  {
   "cell_type": "code",
   "execution_count": 15,
   "id": "8e422772-01d4-468f-8d39-08c3a732625f",
   "metadata": {},
   "outputs": [],
   "source": [
    "class Person:\n",
    "    def __init__(self, age):\n",
    "        self.__age = age\n",
    "    \n",
    "    def get_age(self):\n",
    "        return self.__age\n",
    "    \n",
    "    def set_age(self, age):\n",
    "        self.__age = age"
   ]
  },
  {
   "cell_type": "markdown",
   "id": "e4e69d29-47bf-4cf7-b3f3-3ac0c3d80845",
   "metadata": {},
   "source": [
    "# **16. Interfaces**\n",
    "Interface/Abstract class: Defines a contract with abstract methods that subclasses must implement. Use abc module in Python.\n",
    "\n",
    "Python uses **abstract base classes** to simulate interfaces:\n",
    "\n"
   ]
  },
  {
   "cell_type": "code",
   "execution_count": 13,
   "id": "67f14772-e395-446c-b103-c8243ff5ece2",
   "metadata": {},
   "outputs": [],
   "source": [
    "from abc import ABC, abstractmethod\n",
    "\n",
    "class IAnimal(ABC):\n",
    "    @abstractmethod\n",
    "    def sound(self):\n",
    "        pass"
   ]
  },
  {
   "cell_type": "markdown",
   "id": "cf70b53b-6dd3-4a04-9354-6fab2ac11099",
   "metadata": {},
   "source": [
    "# **17. Packages**\n",
    "\n",
    "Organized collection of modules, e.g., `numpy`, `pandas`.\n",
    "\n",
    "-     Modules: Organize code into reusable files."
   ]
  },
  {
   "cell_type": "code",
   "execution_count": 8,
   "id": "5e219389-2885-4636-ba8f-1fc50256ad45",
   "metadata": {},
   "outputs": [],
   "source": [
    "import os  # os is a package"
   ]
  },
  {
   "cell_type": "markdown",
   "id": "5808125f-19fc-4c83-b9af-24fdbaa38392",
   "metadata": {},
   "source": [
    "# **18. Inner Classes**\n",
    "\n",
    "Class defined inside another class:\n"
   ]
  },
  {
   "cell_type": "code",
   "execution_count": 7,
   "id": "4f266c23-8818-484f-9803-359890e637d6",
   "metadata": {},
   "outputs": [
    {
     "name": "stdout",
     "output_type": "stream",
     "text": [
      "Inner class\n"
     ]
    }
   ],
   "source": [
    "class Outer:\n",
    "    class Inner:\n",
    "        def msg(self):\n",
    "            print(\"Inner class\")\n",
    "\n",
    "obj = Outer.Inner()\n",
    "obj.msg()"
   ]
  },
  {
   "cell_type": "markdown",
   "id": "8a8fad3b-5c45-4718-9d15-788c2fef1cfb",
   "metadata": {},
   "source": [
    "# **19. Anonymous Classes / Objects**\n",
    "-     Anonymous object: Object created without a reference.\n",
    "Python uses `type` for **dynamic classes**:"
   ]
  },
  {
   "cell_type": "code",
   "execution_count": 6,
   "id": "5149cf1b-e517-4ede-a032-f6e35f9fdf0c",
   "metadata": {},
   "outputs": [
    {
     "name": "stdout",
     "output_type": "stream",
     "text": [
      "Hello\n"
     ]
    }
   ],
   "source": [
    "MyClass = type('MyClass', (), {'greet': lambda self: \"Hello\"})\n",
    "obj = MyClass()\n",
    "print(obj.greet())  # Hello"
   ]
  },
  {
   "cell_type": "markdown",
   "id": "531f07e0-1857-4c7f-b77f-40361bcd57ad",
   "metadata": {},
   "source": [
    "\n",
    "# **20. Singleton Class**\n",
    "\n",
    "Ensure **only one instance** exists:"
   ]
  },
  {
   "cell_type": "code",
   "execution_count": 4,
   "id": "6c6c1519-89bf-4043-bbeb-1bfbf0e71336",
   "metadata": {},
   "outputs": [],
   "source": [
    "class Singleton:\n",
    "    _instance = None\n",
    "    def __new__(cls):\n",
    "        if not cls._instance:\n",
    "            cls._instance = super().__new__(cls)\n",
    "        return cls._instance"
   ]
  },
  {
   "cell_type": "markdown",
   "id": "5b04d9c9-b17d-40b7-a295-eb5c8b4fb0c0",
   "metadata": {},
   "source": [
    "# **21. Wrapper Classes**\n",
    "\n",
    "Python treats all types as objects. Example: `int`, `float`, `str`.\n",
    "Python does not have primitive types — everything in Python is already an object. That means all integers, floats, strings, and even functions are objects.\n",
    "\n",
    "\n",
    "Wrapper class: Wraps primitive types as objects (Python uses objects for everything)."
   ]
  },
  {
   "cell_type": "markdown",
   "id": "97c9ecce-0973-4b97-b49a-113bc3653f79",
   "metadata": {},
   "source": [
    "# **22. Enums**\n",
    "\n",
    "Enum: Represents fixed sets of constants.\n",
    "Use **enumerations** to define constants:"
   ]
  },
  {
   "cell_type": "code",
   "execution_count": 3,
   "id": "40ee35ed-f9d0-4609-82f0-678bc0b17b8a",
   "metadata": {},
   "outputs": [],
   "source": [
    "from enum import Enum\n",
    "class Color(Enum):\n",
    "    RED = 1\n",
    "    GREEN = 2\n",
    "    BLUE = 3"
   ]
  },
  {
   "cell_type": "markdown",
   "id": "10e87fc0-3bf7-4527-8edd-d2e90148cfdb",
   "metadata": {},
   "source": [
    "# **23. Reflection**\n",
    "\n",
    "-     Reflection allows inspection of classes, methods, and attributes at runtime.\n",
    "\n",
    "Inspect objects/classes at runtime:\n"
   ]
  },
  {
   "cell_type": "code",
   "execution_count": 2,
   "id": "20ccf57e-a77c-4ee3-8609-c57f89b73ece",
   "metadata": {},
   "outputs": [
    {
     "name": "stdout",
     "output_type": "stream",
     "text": [
      "Sudha\n",
      "25\n"
     ]
    }
   ],
   "source": [
    "class Person:\n",
    "    name = \"Sudha\"\n",
    "    \n",
    "p = Person()\n",
    "print(getattr(p, \"name\"))  # Sudha\n",
    "setattr(p, \"age\", 25)\n",
    "print(p.age)  # 25"
   ]
  },
  {
   "cell_type": "markdown",
   "id": "16f0134a-e524-475a-a371-56a0101fdc8f",
   "metadata": {},
   "source": [
    "\n",
    "---\n",
    "\n",
    "This is a **full, detailed explanation** of all your Python OOP topics with **examples for each**.\n",
    "\n",
    "---"
   ]
  },
  {
   "cell_type": "markdown",
   "id": "cb75bde5-8920-444a-b65e-4aeceef2deb8",
   "metadata": {},
   "source": [
    "\n",
    "\n",
    "# **Python OOP Mind Map (Text-Based)**\n",
    "\n",
    "```\n",
    "Object-Oriented Programming (OOP)\n",
    "│\n",
    "├─ Principles\n",
    "│   ├─ Encapsulation\n",
    "│   ├─ Abstraction\n",
    "│   ├─ Inheritance\n",
    "│   └─ Polymorphism\n",
    "│\n",
    "├─ Classes & Objects\n",
    "│   ├─ Class Attributes (shared across instances)\n",
    "│   ├─ Instance Attributes (unique per object)\n",
    "│   ├─ Constructors (__init__)\n",
    "│   ├─ Class Methods (@classmethod)\n",
    "│   └─ Static Methods (@staticmethod)\n",
    "│\n",
    "├─ Access Modifiers\n",
    "│   ├─ Public (var)\n",
    "│   ├─ Protected (_var)\n",
    "│   └─ Private (__var)\n",
    "│\n",
    "├─ Inheritance\n",
    "│   ├─ Single Inheritance\n",
    "│   ├─ Multiple Inheritance\n",
    "│   └─ Multilevel Inheritance\n",
    "│\n",
    "├─ Polymorphism\n",
    "│   ├─ Method Overriding (Runtime)\n",
    "│   ├─ Method Overloading (Compile-time / default args)\n",
    "│   └─ Operator Overloading\n",
    "│\n",
    "├─ Dynamic Features\n",
    "│   ├─ Dynamic Binding (method resolved at runtime)\n",
    "│   └─ Dynamic Typing (variables can change type)\n",
    "│\n",
    "├─ Abstraction\n",
    "│   ├─ Abstract Classes (abc module)\n",
    "│   └─ Interfaces (via abstract classes)\n",
    "│\n",
    "├─ Encapsulation\n",
    "│   ├─ Private variables\n",
    "│   └─ Getters & Setters\n",
    "│\n",
    "├─ Advanced Class Concepts\n",
    "│   ├─ Inner Classes (class within a class)\n",
    "│   ├─ Anonymous Classes / Objects (type())\n",
    "│   ├─ Singleton Class (single instance)\n",
    "│   ├─ Wrapper Classes (int, float, str objects)\n",
    "│   ├─ Enums (constant sets)\n",
    "│   └─ Reflection (introspection using getattr, setattr, hasattr)\n",
    "│\n",
    "└─ Packages & Modules\n",
    "    ├─ Packages (collections of modules)\n",
    "    └─ Modules (individual Python files)\n",
    "```\n",
    "\n",
    "---\n",
    "\n",
    "✅ This mind map **groups all concepts** logically:\n",
    "\n",
    "* Basics (Classes, Objects, Attributes, Methods)\n",
    "* Access control\n",
    "* Inheritance & Polymorphism\n",
    "* Abstraction & Encapsulation\n",
    "* Advanced topics (Inner Classes, Singleton, Reflection)\n",
    "* Packages & Modules\n",
    "\n",
    "---\n",
    "\n"
   ]
  },
  {
   "cell_type": "markdown",
   "id": "3c416888-1a5e-45d8-8805-4677ae942c5b",
   "metadata": {},
   "source": [
    "##"
   ]
  }
 ],
 "metadata": {
  "kernelspec": {
   "display_name": "Python 3 (ipykernel)",
   "language": "python",
   "name": "python3"
  },
  "language_info": {
   "codemirror_mode": {
    "name": "ipython",
    "version": 3
   },
   "file_extension": ".py",
   "mimetype": "text/x-python",
   "name": "python",
   "nbconvert_exporter": "python",
   "pygments_lexer": "ipython3",
   "version": "3.12.7"
  }
 },
 "nbformat": 4,
 "nbformat_minor": 5
}
