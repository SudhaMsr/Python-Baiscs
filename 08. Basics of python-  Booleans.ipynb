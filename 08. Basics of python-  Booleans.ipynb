{
 "cells": [
  {
   "cell_type": "markdown",
   "id": "ebb64288-f8a6-44cb-a225-03f0b41e502a",
   "metadata": {},
   "source": [
    "####"
   ]
  },
  {
   "cell_type": "markdown",
   "id": "660c06db-0a26-4eb2-bf85-4cffe17c777b",
   "metadata": {},
   "source": [
    "\n",
    "\n",
    "# **Booleans in Python**\n",
    "\n",
    "A **Boolean** represents one of two values:\n",
    "\n",
    "* **True**\n",
    "* **False**\n",
    "\n",
    "Booleans are widely used in **conditions, comparisons, and decision-making** in Python.\n",
    "\n",
    "---\n",
    "\n",
    "## ✅ **Boolean Values**\n",
    "\n",
    "* Written with a capital **T** or **F** (`True`, `False`).\n",
    "* Internally, `True = 1` and `False = 0`.\n",
    "\n",
    "\n",
    "\n"
   ]
  },
  {
   "cell_type": "code",
   "execution_count": 2,
   "id": "c0fc5f3a-3f66-4982-9097-e107fbd2174e",
   "metadata": {},
   "outputs": [
    {
     "name": "stdout",
     "output_type": "stream",
     "text": [
      "True\n",
      "False\n",
      "1\n",
      "0\n"
     ]
    }
   ],
   "source": [
    "print(True)      # True\n",
    "print(False)     # False\n",
    "print(int(True)) # 1\n",
    "print(int(False))# 0"
   ]
  },
  {
   "cell_type": "markdown",
   "id": "f123620e-1337-4a06-ab4e-3a2141206377",
   "metadata": {},
   "source": [
    "---\n",
    "\n",
    "## ✅ **Boolean Expressions**\n",
    "\n",
    "Any expression in Python evaluates to a Boolean value (`True` or `False`).\n",
    "\n",
    "### 🔹 Comparisons\n",
    "\n"
   ]
  },
  {
   "cell_type": "code",
   "execution_count": 4,
   "id": "80be0687-d6b8-4d65-a716-c856cb13a725",
   "metadata": {},
   "outputs": [
    {
     "name": "stdout",
     "output_type": "stream",
     "text": [
      "True\n",
      "False\n",
      "True\n"
     ]
    }
   ],
   "source": [
    "print(5 > 3)    # True\n",
    "print(10 == 5)  # False\n",
    "print(7 != 2)   # True"
   ]
  },
  {
   "cell_type": "markdown",
   "id": "59b9f033-b8dd-4021-8443-96b737e1d59c",
   "metadata": {},
   "source": [
    "### 🔹 Logical Operators\n",
    "\n",
    "* `and` → Returns True if both conditions are true.\n",
    "* `or` → Returns True if at least one condition is true.\n",
    "* `not` → Reverses the result.\n",
    "---\n"
   ]
  },
  {
   "cell_type": "code",
   "execution_count": 6,
   "id": "a69a2064-3546-4e3a-aff0-d5ff576d4559",
   "metadata": {},
   "outputs": [
    {
     "name": "stdout",
     "output_type": "stream",
     "text": [
      "True\n",
      "False\n",
      "False\n"
     ]
    }
   ],
   "source": [
    "x = 5\n",
    "print(x > 3 and x < 10)  # True\n",
    "print(x > 10 or x < 2)   # False\n",
    "print(not(x > 3))        # False"
   ]
  },
  {
   "cell_type": "markdown",
   "id": "71fd9478-0317-4559-a16d-df86bc665e06",
   "metadata": {},
   "source": [
    "\n",
    "## ✅ **Truthy and Falsy Values**\n",
    "\n",
    "In Python, **all values have a Boolean representation**.\n",
    "\n",
    "* **Falsy values** (treated as `False`):\n",
    "\n",
    "  * `0`\n",
    "  * `0.0`\n",
    "  * `\"\"` (empty string)\n",
    "  * `[]` (empty list)\n",
    "  * `()` (empty tuple)\n",
    "  * `{}` (empty dictionary)\n",
    "  * `set()` (empty set)\n",
    "  * `None`\n",
    "* Everything else is considered **Truthy** (evaluates to `True`).\n",
    "\n",
    "\n",
    "---\n"
   ]
  },
  {
   "cell_type": "code",
   "execution_count": 8,
   "id": "fb6911e6-f3cd-492b-bc24-8bcb4e8cc695",
   "metadata": {},
   "outputs": [
    {
     "name": "stdout",
     "output_type": "stream",
     "text": [
      "False\n",
      "False\n",
      "False\n",
      "True\n",
      "True\n"
     ]
    }
   ],
   "source": [
    "print(bool(0))      # False\n",
    "print(bool(\"\"))     # False\n",
    "print(bool([]))     # False\n",
    "print(bool(\"Hi\"))   # True\n",
    "print(bool(123))    # True"
   ]
  },
  {
   "cell_type": "markdown",
   "id": "8c886ee7-e1df-4760-ad40-fb0e11f25d83",
   "metadata": {},
   "source": [
    "\n",
    "## ✅ **Booleans in Control Flow**\n",
    "\n",
    "Booleans are most commonly used in **if statements and loops**.\n",
    "\n",
    "---"
   ]
  },
  {
   "cell_type": "code",
   "execution_count": 9,
   "id": "c4e6c35c-b8e1-42ef-9584-1ceb40a0157f",
   "metadata": {},
   "outputs": [
    {
     "name": "stdout",
     "output_type": "stream",
     "text": [
      "Welcome back!\n"
     ]
    }
   ],
   "source": [
    "is_logged_in = True\n",
    "\n",
    "if is_logged_in:\n",
    "    print(\"Welcome back!\")\n",
    "else:\n",
    "    print(\"Please log in.\")"
   ]
  },
  {
   "cell_type": "markdown",
   "id": "c0012628-09a9-40d0-85ed-f68ee52123f8",
   "metadata": {},
   "source": [
    "\n",
    "\n",
    "## 📌 **Quick Recap**\n",
    "\n",
    "* Booleans have only two values: **True** and **False**.\n",
    "* Used in **comparisons, logical operations, and decision-making**.\n",
    "* Many objects in Python evaluate to Boolean values (truthy or falsy).\n",
    "\n",
    "---"
   ]
  },
  {
   "cell_type": "code",
   "execution_count": null,
   "id": "bf91e0c0-5e28-4fae-bfc0-1f652a8226b4",
   "metadata": {},
   "outputs": [],
   "source": []
  }
 ],
 "metadata": {
  "kernelspec": {
   "display_name": "Python 3 (ipykernel)",
   "language": "python",
   "name": "python3"
  },
  "language_info": {
   "codemirror_mode": {
    "name": "ipython",
    "version": 3
   },
   "file_extension": ".py",
   "mimetype": "text/x-python",
   "name": "python",
   "nbconvert_exporter": "python",
   "pygments_lexer": "ipython3",
   "version": "3.12.7"
  }
 },
 "nbformat": 4,
 "nbformat_minor": 5
}
