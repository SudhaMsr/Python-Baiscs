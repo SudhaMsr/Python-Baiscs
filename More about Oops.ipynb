{
 "cells": [
  {
   "cell_type": "markdown",
   "id": "6d341dd5-c2bc-4079-bd3f-6c02738efa3a",
   "metadata": {},
   "source": [
    "###"
   ]
  },
  {
   "cell_type": "markdown",
   "id": "98aa021c-a899-4e8f-a02f-d88a717771a4",
   "metadata": {},
   "source": [
    "\n",
    "# Deep Dive into OOP in Python: `__init__`, `__str__`, Self, Iterators & More\n",
    "\n",
    "So far, we’ve explored OOP basics and advanced concepts. Now, let’s zoom into some **special methods** and how Python handles **iteration** inside objects.\n",
    "\n",
    "---\n",
    "\n",
    "## 1. The `__init__` Method\n",
    "\n",
    "* **Purpose:** Acts as a **constructor**, called automatically when you create an object.\n",
    "* **Use:** To initialize object properties."
   ]
  },
  {
   "cell_type": "code",
   "execution_count": 1,
   "id": "5e0473ba-4f62-45ab-be0c-c8c0b47256ed",
   "metadata": {},
   "outputs": [
    {
     "name": "stdout",
     "output_type": "stream",
     "text": [
      "Sudha 101\n"
     ]
    }
   ],
   "source": [
    "class Student:\n",
    "    def __init__(self, name, roll):\n",
    "        self.name = name\n",
    "        self.roll = roll\n",
    "\n",
    "s1 = Student(\"Sudha\", 101)\n",
    "print(s1.name, s1.roll)  # Sudha 101"
   ]
  },
  {
   "cell_type": "markdown",
   "id": "f01cc72e-4a33-445d-ad6d-a46376264d88",
   "metadata": {},
   "source": [
    "### 👉 Without `__init__`, we’d have to assign values manually after creating the object."
   ]
  },
  {
   "cell_type": "markdown",
   "id": "bebf7ace-7267-4949-bc6a-6bb192e57381",
   "metadata": {},
   "source": [
    "## 2. The `__str__` Method\n",
    "\n",
    "* Defines what gets printed when you use `print(object)`.\n",
    "* Makes objects **readable** instead of showing memory addresses.\n"
   ]
  },
  {
   "cell_type": "code",
   "execution_count": 2,
   "id": "2186b253-b808-406c-9b49-f2b3d5f9ff66",
   "metadata": {},
   "outputs": [
    {
     "name": "stdout",
     "output_type": "stream",
     "text": [
      "Student(name=Sudha, roll=101)\n"
     ]
    }
   ],
   "source": [
    "class Student:\n",
    "    def __init__(self, name, roll):\n",
    "        self.name = name\n",
    "        self.roll = roll\n",
    "\n",
    "    def __str__(self):\n",
    "        return f\"Student(name={self.name}, roll={self.roll})\"\n",
    "\n",
    "s1 = Student(\"Sudha\", 101)\n",
    "print(s1)  # Student(name=Sudha, roll=101)"
   ]
  },
  {
   "cell_type": "markdown",
   "id": "e3539d71-79bf-4996-ba60-4a147e9f7379",
   "metadata": {},
   "source": [
    "## 3. The `self` Parameter\n",
    "\n",
    "* Refers to the **current object instance**.\n",
    "* Required in all instance methods to access attributes.\n"
   ]
  },
  {
   "cell_type": "code",
   "execution_count": 3,
   "id": "a571bae7-17ec-4868-9da3-c88f0b213541",
   "metadata": {},
   "outputs": [
    {
     "name": "stdout",
     "output_type": "stream",
     "text": [
      "Toyota\n"
     ]
    }
   ],
   "source": [
    "class Car:\n",
    "    def __init__(self, brand):\n",
    "        self.brand = brand  # self binds attribute to object\n",
    "\n",
    "c = Car(\"Toyota\")\n",
    "print(c.brand)  # Toyota"
   ]
  },
  {
   "cell_type": "markdown",
   "id": "62d486e7-d610-4992-9094-1e8216cb6047",
   "metadata": {},
   "source": [
    "## 4. Modifying and Deleting Object Properties\n",
    "\n",
    "* Use **dot notation** to update or delete properties.\n"
   ]
  },
  {
   "cell_type": "code",
   "execution_count": 4,
   "id": "252f6edf-ef9c-4c58-bf7e-41e0388825cc",
   "metadata": {},
   "outputs": [
    {
     "name": "stdout",
     "output_type": "stream",
     "text": [
      "25\n"
     ]
    }
   ],
   "source": [
    "class Person:\n",
    "    def __init__(self, name, age):\n",
    "        self.name = name\n",
    "        self.age = age\n",
    "\n",
    "p1 = Person(\"Sudha\", 24)\n",
    "\n",
    "# Modify property\n",
    "p1.age = 25\n",
    "print(p1.age)  # 25\n",
    "\n",
    "# Delete property\n",
    "del p1.age\n",
    "# print(p1.age)  # ❌ AttributeError"
   ]
  },
  {
   "cell_type": "markdown",
   "id": "de7feb08-1e82-462c-b802-21ec6ad02f94",
   "metadata": {},
   "source": [
    "## 5. Deleting Objects\n",
    "\n",
    "* Use `del object_name` to completely remove an object.\n"
   ]
  },
  {
   "cell_type": "code",
   "execution_count": 5,
   "id": "a0b986ff-6e42-4a8f-be11-1ec1fa221d16",
   "metadata": {},
   "outputs": [],
   "source": [
    "p2 = Person(\"John\", 30)\n",
    "del p2\n",
    "# print(p2)  # ❌ NameError"
   ]
  },
  {
   "cell_type": "markdown",
   "id": "ea51ef6b-c34d-4eff-996a-15525fab6fdb",
   "metadata": {},
   "source": [
    "## 6. Iterators and Iterables\n",
    "\n",
    "* **Iterable:** An object capable of returning elements one by one (e.g., lists, tuples, strings).\n",
    "* **Iterator:** Object with `__iter__()` and `__next__()` methods, used to iterate."
   ]
  },
  {
   "cell_type": "code",
   "execution_count": 6,
   "id": "e3eec1b5-2f00-4a6a-8c57-49ac83d778ec",
   "metadata": {},
   "outputs": [
    {
     "name": "stdout",
     "output_type": "stream",
     "text": [
      "1\n",
      "2\n",
      "3\n"
     ]
    }
   ],
   "source": [
    "my_list = [1, 2, 3]\n",
    "it = iter(my_list)  # get iterator\n",
    "print(next(it))  # 1\n",
    "print(next(it))  # 2\n",
    "print(next(it))  # 3"
   ]
  },
  {
   "cell_type": "markdown",
   "id": "2565d8a7-4909-4e48-92df-ec94fd5146e7",
   "metadata": {},
   "source": [
    "## 7. Looping and Stopping Iteration\n",
    "\n",
    "* `for` loops use iterators under the hood.\n",
    "* Iteration stops when **`StopIteration`** is raised."
   ]
  },
  {
   "cell_type": "code",
   "execution_count": 7,
   "id": "e6d18a45-675c-418d-84d0-694eca1183fe",
   "metadata": {},
   "outputs": [
    {
     "name": "stdout",
     "output_type": "stream",
     "text": [
      "1\n",
      "2\n",
      "3\n"
     ]
    }
   ],
   "source": [
    "class Count:\n",
    "    def __init__(self, start, end):\n",
    "        self.current = start\n",
    "        self.end = end\n",
    "\n",
    "    def __iter__(self):\n",
    "        return self\n",
    "\n",
    "    def __next__(self):\n",
    "        if self.current > self.end:\n",
    "            raise StopIteration\n",
    "        self.current += 1\n",
    "        return self.current - 1\n",
    "\n",
    "nums = Count(1, 3)\n",
    "for n in nums:\n",
    "    print(n)  # 1 2 3"
   ]
  },
  {
   "cell_type": "markdown",
   "id": "b4c317db-ea4a-44be-99e0-8e11a88dcde8",
   "metadata": {},
   "source": [
    "---\n",
    "\n",
    "## ✅ Quick Recap\n",
    "\n",
    "* `__init__`: Constructor for initialization.\n",
    "* `__str__`: User-friendly string representation.\n",
    "* `self`: Represents the object itself.\n",
    "* Modify/delete properties with `obj.attr` and `del obj.attr`.\n",
    "* Delete objects with `del obj`.\n",
    "* Iterables can produce iterators; iterators define iteration rules.\n",
    "* Iteration ends when `StopIteration` is raised.\n",
    "\n",
    "---"
   ]
  },
  {
   "cell_type": "markdown",
   "id": "6d581634-04b8-4508-ab96-e36b79fb9b09",
   "metadata": {},
   "source": [
    "####"
   ]
  }
 ],
 "metadata": {
  "kernelspec": {
   "display_name": "Python 3 (ipykernel)",
   "language": "python",
   "name": "python3"
  },
  "language_info": {
   "codemirror_mode": {
    "name": "ipython",
    "version": 3
   },
   "file_extension": ".py",
   "mimetype": "text/x-python",
   "name": "python",
   "nbconvert_exporter": "python",
   "pygments_lexer": "ipython3",
   "version": "3.12.7"
  }
 },
 "nbformat": 4,
 "nbformat_minor": 5
}
